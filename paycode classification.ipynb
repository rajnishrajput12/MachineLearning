{
 "cells": [
  {
   "cell_type": "code",
   "execution_count": 1,
   "metadata": {
    "collapsed": true
   },
   "outputs": [],
   "source": [
    "import pandas as pd\n",
    "import re\n",
    "from nltk import word_tokenize\n",
    "import string\n",
    "from nltk.stem import PorterStemmer\n",
    "from sklearn.feature_extraction.text import CountVectorizer\n",
    "from sklearn.model_selection import train_test_split\n",
    "from sklearn.linear_model import LogisticRegression\n",
    "from sklearn.naive_bayes import MultinomialNB\n",
    "from sklearn import metrics\n",
    "import pickle "
   ]
  },
  {
   "cell_type": "code",
   "execution_count": 2,
   "metadata": {},
   "outputs": [
    {
     "data": {
      "text/plain": [
       "'C:\\\\Users\\\\kumrajni\\\\AppData\\\\Local\\\\Continuum\\\\anaconda3\\\\Scripts\\\\Jupyter_Learnign\\\\Jupyter_Learnign'"
      ]
     },
     "execution_count": 2,
     "metadata": {},
     "output_type": "execute_result"
    }
   ],
   "source": [
    "import os\n",
    "os.getcwd()"
   ]
  },
  {
   "cell_type": "code",
   "execution_count": 5,
   "metadata": {
    "collapsed": true
   },
   "outputs": [],
   "source": [
    "data = pd.read_csv('Paycd.csv',header=0,encoding = \"ISO-8859-1\")"
   ]
  },
  {
   "cell_type": "code",
   "execution_count": 4,
   "metadata": {
    "scrolled": true
   },
   "outputs": [
    {
     "data": {
      "text/html": [
       "<div>\n",
       "<style>\n",
       "    .dataframe thead tr:only-child th {\n",
       "        text-align: right;\n",
       "    }\n",
       "\n",
       "    .dataframe thead th {\n",
       "        text-align: left;\n",
       "    }\n",
       "\n",
       "    .dataframe tbody tr th {\n",
       "        vertical-align: top;\n",
       "    }\n",
       "</style>\n",
       "<table border=\"1\" class=\"dataframe\">\n",
       "  <thead>\n",
       "    <tr style=\"text-align: right;\">\n",
       "      <th></th>\n",
       "      <th>Paycd</th>\n",
       "      <th>Category</th>\n",
       "      <th>newcol</th>\n",
       "    </tr>\n",
       "  </thead>\n",
       "  <tbody>\n",
       "    <tr>\n",
       "      <th>0</th>\n",
       "      <td>$Bonus</td>\n",
       "      <td>Premium Time</td>\n",
       "      <td>$BonusPremium Time</td>\n",
       "    </tr>\n",
       "    <tr>\n",
       "      <th>1</th>\n",
       "      <td>$Tips</td>\n",
       "      <td>Premium Time</td>\n",
       "      <td>$TipsPremium Time</td>\n",
       "    </tr>\n",
       "    <tr>\n",
       "      <th>2</th>\n",
       "      <td>3rd Shift Diff</td>\n",
       "      <td>Absence</td>\n",
       "      <td>3rd Shift DiffAbsence</td>\n",
       "    </tr>\n",
       "    <tr>\n",
       "      <th>3</th>\n",
       "      <td>CFRA</td>\n",
       "      <td>Premium Time</td>\n",
       "      <td>CFRAPremium Time</td>\n",
       "    </tr>\n",
       "    <tr>\n",
       "      <th>4</th>\n",
       "      <td>Jury</td>\n",
       "      <td>Absence</td>\n",
       "      <td>JuryAbsence</td>\n",
       "    </tr>\n",
       "  </tbody>\n",
       "</table>\n",
       "</div>"
      ],
      "text/plain": [
       "            Paycd      Category                 newcol\n",
       "0          $Bonus  Premium Time     $BonusPremium Time\n",
       "1           $Tips  Premium Time      $TipsPremium Time\n",
       "2  3rd Shift Diff       Absence  3rd Shift DiffAbsence\n",
       "3            CFRA  Premium Time       CFRAPremium Time\n",
       "4            Jury       Absence            JuryAbsence"
      ]
     },
     "execution_count": 4,
     "metadata": {},
     "output_type": "execute_result"
    }
   ],
   "source": [
    "data['newcol'] = data['Paycd']+data['Category']\n",
    "data.head()"
   ]
  },
  {
   "cell_type": "code",
   "execution_count": null,
   "metadata": {
    "collapsed": true
   },
   "outputs": [],
   "source": [
    "data['newco2'] = data['Paycd'].apply(lambda x:x+data['Category'])"
   ]
  },
  {
   "cell_type": "code",
   "execution_count": null,
   "metadata": {
    "collapsed": true
   },
   "outputs": [],
   "source": [
    "data"
   ]
  },
  {
   "cell_type": "code",
   "execution_count": 135,
   "metadata": {},
   "outputs": [
    {
     "name": "stdout",
     "output_type": "stream",
     "text": [
      "5702\n"
     ]
    }
   ],
   "source": [
    "## here i will be trainign data with some value and testiong it with the data set with Others as Category\n",
    "data_test = data[data['Category']=='Other']\n",
    "print(len(data_test))"
   ]
  },
  {
   "cell_type": "code",
   "execution_count": 305,
   "metadata": {},
   "outputs": [
    {
     "name": "stdout",
     "output_type": "stream",
     "text": [
      "12313\n"
     ]
    }
   ],
   "source": [
    "## as there are these category which doesnt make sense so train model execlusing these\n",
    "data_train = data[(data['Category']!='Other') & (data['Category']!='Exclude from Analytics') & (data['Category']!='Uncategorized')]\n",
    "print(len(data_train))"
   ]
  },
  {
   "cell_type": "code",
   "execution_count": 306,
   "metadata": {},
   "outputs": [
    {
     "data": {
      "text/html": [
       "<div>\n",
       "<style>\n",
       "    .dataframe thead tr:only-child th {\n",
       "        text-align: right;\n",
       "    }\n",
       "\n",
       "    .dataframe thead th {\n",
       "        text-align: left;\n",
       "    }\n",
       "\n",
       "    .dataframe tbody tr th {\n",
       "        vertical-align: top;\n",
       "    }\n",
       "</style>\n",
       "<table border=\"1\" class=\"dataframe\">\n",
       "  <thead>\n",
       "    <tr style=\"text-align: right;\">\n",
       "      <th></th>\n",
       "      <th>Paycd</th>\n",
       "      <th>Category</th>\n",
       "    </tr>\n",
       "  </thead>\n",
       "  <tbody>\n",
       "    <tr>\n",
       "      <th>0</th>\n",
       "      <td>$Bonus</td>\n",
       "      <td>Premium Time</td>\n",
       "    </tr>\n",
       "    <tr>\n",
       "      <th>1</th>\n",
       "      <td>$Tips</td>\n",
       "      <td>Premium Time</td>\n",
       "    </tr>\n",
       "    <tr>\n",
       "      <th>2</th>\n",
       "      <td>3rd Shift Diff</td>\n",
       "      <td>Absence</td>\n",
       "    </tr>\n",
       "    <tr>\n",
       "      <th>3</th>\n",
       "      <td>CFRA</td>\n",
       "      <td>Premium Time</td>\n",
       "    </tr>\n",
       "    <tr>\n",
       "      <th>4</th>\n",
       "      <td>Jury</td>\n",
       "      <td>Absence</td>\n",
       "    </tr>\n",
       "  </tbody>\n",
       "</table>\n",
       "</div>"
      ],
      "text/plain": [
       "            Paycd      Category\n",
       "0          $Bonus  Premium Time\n",
       "1           $Tips  Premium Time\n",
       "2  3rd Shift Diff       Absence\n",
       "3            CFRA  Premium Time\n",
       "4            Jury       Absence"
      ]
     },
     "execution_count": 306,
     "metadata": {},
     "output_type": "execute_result"
    }
   ],
   "source": [
    "data_train.head()"
   ]
  },
  {
   "cell_type": "code",
   "execution_count": 307,
   "metadata": {},
   "outputs": [
    {
     "data": {
      "text/plain": [
       "Regular         4692\n",
       "Absence         4552\n",
       "Overtime        1870\n",
       "Premium Time    1199\n",
       "Name: Category, dtype: int64"
      ]
     },
     "execution_count": 307,
     "metadata": {},
     "output_type": "execute_result"
    }
   ],
   "source": [
    "data_train['Category'].value_counts()"
   ]
  },
  {
   "cell_type": "code",
   "execution_count": 308,
   "metadata": {},
   "outputs": [
    {
     "name": "stdout",
     "output_type": "stream",
     "text": [
      "0    4692\n",
      "1    4552\n",
      "2    1870\n",
      "3    1199\n",
      "Name: Category_, dtype: int64\n"
     ]
    },
    {
     "name": "stderr",
     "output_type": "stream",
     "text": [
      "C:\\Users\\kumrajni\\AppData\\Local\\Continuum\\anaconda3\\lib\\site-packages\\ipykernel_launcher.py:2: SettingWithCopyWarning: \n",
      "A value is trying to be set on a copy of a slice from a DataFrame.\n",
      "Try using .loc[row_indexer,col_indexer] = value instead\n",
      "\n",
      "See the caveats in the documentation: http://pandas.pydata.org/pandas-docs/stable/indexing.html#indexing-view-versus-copy\n",
      "  \n"
     ]
    }
   ],
   "source": [
    "## now make a new column and map our labels and then we will drop the original column\n",
    "data_train['Category_'] = data['Category'].map({'Regular':'0','Absence':'1','Overtime':'2','Premium Time':'3'})\n",
    "print(data_train['Category_'].value_counts())"
   ]
  },
  {
   "cell_type": "code",
   "execution_count": 309,
   "metadata": {},
   "outputs": [
    {
     "name": "stderr",
     "output_type": "stream",
     "text": [
      "C:\\Users\\kumrajni\\AppData\\Local\\Continuum\\anaconda3\\lib\\site-packages\\ipykernel_launcher.py:1: SettingWithCopyWarning: \n",
      "A value is trying to be set on a copy of a slice from a DataFrame\n",
      "\n",
      "See the caveats in the documentation: http://pandas.pydata.org/pandas-docs/stable/indexing.html#indexing-view-versus-copy\n",
      "  \"\"\"Entry point for launching an IPython kernel.\n"
     ]
    }
   ],
   "source": [
    "data_train.drop(labels=['Category'],axis=1,inplace=True)"
   ]
  },
  {
   "cell_type": "code",
   "execution_count": 6,
   "metadata": {},
   "outputs": [
    {
     "data": {
      "text/html": [
       "<div>\n",
       "<style>\n",
       "    .dataframe thead tr:only-child th {\n",
       "        text-align: right;\n",
       "    }\n",
       "\n",
       "    .dataframe thead th {\n",
       "        text-align: left;\n",
       "    }\n",
       "\n",
       "    .dataframe tbody tr th {\n",
       "        vertical-align: top;\n",
       "    }\n",
       "</style>\n",
       "<table border=\"1\" class=\"dataframe\">\n",
       "  <thead>\n",
       "    <tr style=\"text-align: right;\">\n",
       "      <th></th>\n",
       "      <th>Paycd</th>\n",
       "      <th>Category</th>\n",
       "    </tr>\n",
       "  </thead>\n",
       "  <tbody>\n",
       "    <tr>\n",
       "      <th>0</th>\n",
       "      <td>$Bonus</td>\n",
       "      <td>Premium Time</td>\n",
       "    </tr>\n",
       "    <tr>\n",
       "      <th>1</th>\n",
       "      <td>$Tips</td>\n",
       "      <td>Premium Time</td>\n",
       "    </tr>\n",
       "    <tr>\n",
       "      <th>2</th>\n",
       "      <td>3rd Shift Diff</td>\n",
       "      <td>Absence</td>\n",
       "    </tr>\n",
       "    <tr>\n",
       "      <th>3</th>\n",
       "      <td>CFRA</td>\n",
       "      <td>Premium Time</td>\n",
       "    </tr>\n",
       "    <tr>\n",
       "      <th>4</th>\n",
       "      <td>Jury</td>\n",
       "      <td>Absence</td>\n",
       "    </tr>\n",
       "  </tbody>\n",
       "</table>\n",
       "</div>"
      ],
      "text/plain": [
       "            Paycd      Category\n",
       "0          $Bonus  Premium Time\n",
       "1           $Tips  Premium Time\n",
       "2  3rd Shift Diff       Absence\n",
       "3            CFRA  Premium Time\n",
       "4            Jury       Absence"
      ]
     },
     "execution_count": 6,
     "metadata": {},
     "output_type": "execute_result"
    }
   ],
   "source": [
    "data.head()"
   ]
  },
  {
   "cell_type": "code",
   "execution_count": 8,
   "metadata": {},
   "outputs": [],
   "source": [
    "X = data['Paycd']\n",
    "y = data['Category']"
   ]
  },
  {
   "cell_type": "code",
   "execution_count": 9,
   "metadata": {},
   "outputs": [
    {
     "name": "stdout",
     "output_type": "stream",
     "text": [
      "(20327,)\n",
      "(20327,)\n",
      "0\n"
     ]
    }
   ],
   "source": [
    "print(X.shape) \n",
    "print(y.shape) \n",
    "print(data['Paycd'].isnull().sum())"
   ]
  },
  {
   "cell_type": "code",
   "execution_count": 17,
   "metadata": {
    "collapsed": true
   },
   "outputs": [],
   "source": [
    "punc = set(string.punctuation)\n",
    "ps = PorterStemmer()\n",
    "def removedollar(text):\n",
    "    no_doll = re.sub(r'\\$','',text)\n",
    "    no_doll = re.sub(r'\\<','',no_doll)\n",
    "    no_doll = re.sub(r'\\>','',no_doll)\n",
    "    tokenized = word_tokenize(no_doll)\n",
    "    no_punc = [word for word in tokenized if not word.lower() in punc]\n",
    "    stemmed = [ps.stem(word) for word in no_punc]\n",
    "    word_alpa = [word for word in stemmed if word.isalpha()]\n",
    "    word_alpa = \" \".join(word_alpa)\n",
    "    return word_alpa"
   ]
  },
  {
   "cell_type": "code",
   "execution_count": 18,
   "metadata": {},
   "outputs": [],
   "source": [
    "data_stem = X.apply(removedollar)"
   ]
  },
  {
   "cell_type": "code",
   "execution_count": 23,
   "metadata": {},
   "outputs": [
    {
     "data": {
      "text/plain": [
       "'FR bank holiday taken No OT is am are I know and the junk word are so touch'"
      ]
     },
     "execution_count": 23,
     "metadata": {},
     "output_type": "execute_result"
    }
   ],
   "source": [
    "data_stem.ix[14]"
   ]
  },
  {
   "cell_type": "code",
   "execution_count": 19,
   "metadata": {},
   "outputs": [
    {
     "data": {
      "text/plain": [
       "0                                                  bonu\n",
       "1                                                   tip\n",
       "2                                            shift diff\n",
       "3                                                  cfra\n",
       "4                                                  juri\n",
       "5                                     short term disabl\n",
       "6                                           all overtim\n",
       "7                                                bereav\n",
       "8                                           worker comp\n",
       "9                                               regular\n",
       "10                                                     \n",
       "11                                               travel\n",
       "12                                         BK hr tkn OT\n",
       "13                                          vestsmb hhw\n",
       "14    FR bank holiday taken No OT is am are I know a...\n",
       "15                                                     \n",
       "16                                             oncal OT\n",
       "17                                                     \n",
       "18                                       suspend No pay\n",
       "19                                                     \n",
       "Name: Paycd, dtype: object"
      ]
     },
     "execution_count": 19,
     "metadata": {},
     "output_type": "execute_result"
    }
   ],
   "source": [
    "data_stem.head(20)\n",
    "## we need to remove '' loke 11 row "
   ]
  },
  {
   "cell_type": "code",
   "execution_count": 317,
   "metadata": {
    "collapsed": true
   },
   "outputs": [],
   "source": [
    "drop_index = data_stem.index[data_stem.values=='']"
   ]
  },
  {
   "cell_type": "code",
   "execution_count": 318,
   "metadata": {
    "collapsed": true
   },
   "outputs": [],
   "source": [
    "data_stem.drop(drop_index,inplace=True)"
   ]
  },
  {
   "cell_type": "code",
   "execution_count": 319,
   "metadata": {},
   "outputs": [
    {
     "name": "stderr",
     "output_type": "stream",
     "text": [
      "C:\\Users\\kumrajni\\AppData\\Local\\Continuum\\anaconda3\\lib\\site-packages\\pandas\\core\\generic.py:2184: SettingWithCopyWarning: \n",
      "A value is trying to be set on a copy of a slice from a DataFrame\n",
      "\n",
      "See the caveats in the documentation: http://pandas.pydata.org/pandas-docs/stable/indexing.html#indexing-view-versus-copy\n",
      "  self._update_inplace(result)\n"
     ]
    }
   ],
   "source": [
    "y.drop(drop_index,inplace=True)"
   ]
  },
  {
   "cell_type": "code",
   "execution_count": 320,
   "metadata": {},
   "outputs": [
    {
     "name": "stdout",
     "output_type": "stream",
     "text": [
      "(10956,)\n",
      "(10956,)\n"
     ]
    }
   ],
   "source": [
    "print(data_stem.shape) \n",
    "print(y.shape) "
   ]
  },
  {
   "cell_type": "code",
   "execution_count": 321,
   "metadata": {
    "collapsed": true
   },
   "outputs": [],
   "source": [
    "CV = CountVectorizer()\n",
    "cv_Dat = CV.fit_transform(data_stem)"
   ]
  },
  {
   "cell_type": "code",
   "execution_count": 322,
   "metadata": {},
   "outputs": [
    {
     "data": {
      "text/plain": [
       "<10956x2912 sparse matrix of type '<class 'numpy.int64'>'\n",
       "\twith 25998 stored elements in Compressed Sparse Row format>"
      ]
     },
     "execution_count": 322,
     "metadata": {},
     "output_type": "execute_result"
    }
   ],
   "source": [
    "cv_Dat"
   ]
  },
  {
   "cell_type": "code",
   "execution_count": 292,
   "metadata": {
    "collapsed": true
   },
   "outputs": [],
   "source": [
    "DTM_paycd = pd.DataFrame(cv_Dat.toarray(),columns=CV.get_feature_names())"
   ]
  },
  {
   "cell_type": "code",
   "execution_count": 293,
   "metadata": {},
   "outputs": [
    {
     "data": {
      "text/html": [
       "<div>\n",
       "<style>\n",
       "    .dataframe thead tr:only-child th {\n",
       "        text-align: right;\n",
       "    }\n",
       "\n",
       "    .dataframe thead th {\n",
       "        text-align: left;\n",
       "    }\n",
       "\n",
       "    .dataframe tbody tr th {\n",
       "        vertical-align: top;\n",
       "    }\n",
       "</style>\n",
       "<table border=\"1\" class=\"dataframe\">\n",
       "  <thead>\n",
       "    <tr style=\"text-align: right;\">\n",
       "      <th></th>\n",
       "      <th>bank</th>\n",
       "      <th>bk</th>\n",
       "      <th>fr</th>\n",
       "      <th>hhw</th>\n",
       "      <th>holiday</th>\n",
       "      <th>hr</th>\n",
       "      <th>no</th>\n",
       "      <th>oncal</th>\n",
       "      <th>ot</th>\n",
       "      <th>taken</th>\n",
       "      <th>tkn</th>\n",
       "      <th>travel</th>\n",
       "      <th>vestsmb</th>\n",
       "    </tr>\n",
       "  </thead>\n",
       "  <tbody>\n",
       "    <tr>\n",
       "      <th>0</th>\n",
       "      <td>0</td>\n",
       "      <td>0</td>\n",
       "      <td>0</td>\n",
       "      <td>0</td>\n",
       "      <td>0</td>\n",
       "      <td>0</td>\n",
       "      <td>0</td>\n",
       "      <td>0</td>\n",
       "      <td>0</td>\n",
       "      <td>0</td>\n",
       "      <td>0</td>\n",
       "      <td>1</td>\n",
       "      <td>0</td>\n",
       "    </tr>\n",
       "    <tr>\n",
       "      <th>1</th>\n",
       "      <td>0</td>\n",
       "      <td>1</td>\n",
       "      <td>0</td>\n",
       "      <td>0</td>\n",
       "      <td>0</td>\n",
       "      <td>1</td>\n",
       "      <td>0</td>\n",
       "      <td>0</td>\n",
       "      <td>1</td>\n",
       "      <td>0</td>\n",
       "      <td>1</td>\n",
       "      <td>0</td>\n",
       "      <td>0</td>\n",
       "    </tr>\n",
       "    <tr>\n",
       "      <th>2</th>\n",
       "      <td>0</td>\n",
       "      <td>0</td>\n",
       "      <td>0</td>\n",
       "      <td>1</td>\n",
       "      <td>0</td>\n",
       "      <td>0</td>\n",
       "      <td>0</td>\n",
       "      <td>0</td>\n",
       "      <td>0</td>\n",
       "      <td>0</td>\n",
       "      <td>0</td>\n",
       "      <td>0</td>\n",
       "      <td>1</td>\n",
       "    </tr>\n",
       "    <tr>\n",
       "      <th>3</th>\n",
       "      <td>1</td>\n",
       "      <td>0</td>\n",
       "      <td>1</td>\n",
       "      <td>0</td>\n",
       "      <td>1</td>\n",
       "      <td>0</td>\n",
       "      <td>1</td>\n",
       "      <td>0</td>\n",
       "      <td>1</td>\n",
       "      <td>1</td>\n",
       "      <td>0</td>\n",
       "      <td>0</td>\n",
       "      <td>0</td>\n",
       "    </tr>\n",
       "    <tr>\n",
       "      <th>4</th>\n",
       "      <td>0</td>\n",
       "      <td>0</td>\n",
       "      <td>0</td>\n",
       "      <td>0</td>\n",
       "      <td>0</td>\n",
       "      <td>0</td>\n",
       "      <td>0</td>\n",
       "      <td>1</td>\n",
       "      <td>1</td>\n",
       "      <td>0</td>\n",
       "      <td>0</td>\n",
       "      <td>0</td>\n",
       "      <td>0</td>\n",
       "    </tr>\n",
       "  </tbody>\n",
       "</table>\n",
       "</div>"
      ],
      "text/plain": [
       "   bank  bk  fr  hhw  holiday  hr  no  oncal  ot  taken  tkn  travel  vestsmb\n",
       "0     0   0   0    0        0   0   0      0   0      0    0       1        0\n",
       "1     0   1   0    0        0   1   0      0   1      0    1       0        0\n",
       "2     0   0   0    1        0   0   0      0   0      0    0       0        1\n",
       "3     1   0   1    0        1   0   1      0   1      1    0       0        0\n",
       "4     0   0   0    0        0   0   0      1   1      0    0       0        0"
      ]
     },
     "execution_count": 293,
     "metadata": {},
     "output_type": "execute_result"
    }
   ],
   "source": [
    "DTM_paycd.head()"
   ]
  },
  {
   "cell_type": "code",
   "execution_count": 338,
   "metadata": {},
   "outputs": [
    {
     "data": {
      "text/plain": [
       "MultinomialNB(alpha=1.0, class_prior=None, fit_prior=True)"
      ]
     },
     "execution_count": 338,
     "metadata": {},
     "output_type": "execute_result"
    }
   ],
   "source": [
    "## naIVE BASE classifier\n",
    "model_logi = MultinomialNB()\n",
    "model_logi.fit(cv_Dat,y)"
   ]
  },
  {
   "cell_type": "code",
   "execution_count": 324,
   "metadata": {},
   "outputs": [
    {
     "data": {
      "text/html": [
       "<div>\n",
       "<style>\n",
       "    .dataframe thead tr:only-child th {\n",
       "        text-align: right;\n",
       "    }\n",
       "\n",
       "    .dataframe thead th {\n",
       "        text-align: left;\n",
       "    }\n",
       "\n",
       "    .dataframe tbody tr th {\n",
       "        vertical-align: top;\n",
       "    }\n",
       "</style>\n",
       "<table border=\"1\" class=\"dataframe\">\n",
       "  <thead>\n",
       "    <tr style=\"text-align: right;\">\n",
       "      <th></th>\n",
       "      <th>Paycd</th>\n",
       "      <th>Category</th>\n",
       "    </tr>\n",
       "  </thead>\n",
       "  <tbody>\n",
       "    <tr>\n",
       "      <th>15</th>\n",
       "      <td>MA5_SHIFT1_RG</td>\n",
       "      <td>Other</td>\n",
       "    </tr>\n",
       "    <tr>\n",
       "      <th>17</th>\n",
       "      <td>RI1_SHIFTWE_RG</td>\n",
       "      <td>Other</td>\n",
       "    </tr>\n",
       "    <tr>\n",
       "      <th>18</th>\n",
       "      <td>Suspended No Pay</td>\n",
       "      <td>Other</td>\n",
       "    </tr>\n",
       "    <tr>\n",
       "      <th>19</th>\n",
       "      <td>WI5_SHIFT3_DT</td>\n",
       "      <td>Other</td>\n",
       "    </tr>\n",
       "    <tr>\n",
       "      <th>22</th>\n",
       "      <td>VESTSMB Shift 2 OT Diff</td>\n",
       "      <td>Other</td>\n",
       "    </tr>\n",
       "  </tbody>\n",
       "</table>\n",
       "</div>"
      ],
      "text/plain": [
       "                      Paycd Category\n",
       "15            MA5_SHIFT1_RG    Other\n",
       "17           RI1_SHIFTWE_RG    Other\n",
       "18         Suspended No Pay    Other\n",
       "19            WI5_SHIFT3_DT    Other\n",
       "22  VESTSMB Shift 2 OT Diff    Other"
      ]
     },
     "execution_count": 324,
     "metadata": {},
     "output_type": "execute_result"
    }
   ],
   "source": [
    "data_test.head()"
   ]
  },
  {
   "cell_type": "code",
   "execution_count": 325,
   "metadata": {
    "collapsed": true
   },
   "outputs": [],
   "source": [
    "X_test = data_test['Paycd']"
   ]
  },
  {
   "cell_type": "code",
   "execution_count": 326,
   "metadata": {
    "collapsed": true
   },
   "outputs": [],
   "source": [
    "test_stem = X_test.apply(removedollar)"
   ]
  },
  {
   "cell_type": "code",
   "execution_count": 328,
   "metadata": {
    "collapsed": true
   },
   "outputs": [],
   "source": [
    "## removing index where we have '' as value\n",
    "test_index_drop = test_stem.index[test_stem.values=='']   ## data_stem.index[data_stem.values=='']\n",
    "test_stem.drop(test_index_drop,inplace=True)"
   ]
  },
  {
   "cell_type": "code",
   "execution_count": 329,
   "metadata": {},
   "outputs": [
    {
     "data": {
      "text/plain": [
       "18           suspend No pay\n",
       "22    vestsmb shift OT diff\n",
       "23          driver demurrag\n",
       "33                  shoptim\n",
       "36               daili rate\n",
       "Name: Paycd, dtype: object"
      ]
     },
     "execution_count": 329,
     "metadata": {},
     "output_type": "execute_result"
    }
   ],
   "source": [
    "test_stem.head()"
   ]
  },
  {
   "cell_type": "code",
   "execution_count": 330,
   "metadata": {
    "collapsed": true
   },
   "outputs": [],
   "source": [
    "test_DTM = CV.transform(test_stem)"
   ]
  },
  {
   "cell_type": "code",
   "execution_count": 333,
   "metadata": {
    "collapsed": true
   },
   "outputs": [],
   "source": [
    "DTM_paycd = pd.DataFrame(test_DTM.toarray(),columns=CV.get_feature_names())"
   ]
  },
  {
   "cell_type": "code",
   "execution_count": 334,
   "metadata": {},
   "outputs": [
    {
     "data": {
      "text/html": [
       "<div>\n",
       "<style>\n",
       "    .dataframe thead tr:only-child th {\n",
       "        text-align: right;\n",
       "    }\n",
       "\n",
       "    .dataframe thead th {\n",
       "        text-align: left;\n",
       "    }\n",
       "\n",
       "    .dataframe tbody tr th {\n",
       "        vertical-align: top;\n",
       "    }\n",
       "</style>\n",
       "<table border=\"1\" class=\"dataframe\">\n",
       "  <thead>\n",
       "    <tr style=\"text-align: right;\">\n",
       "      <th></th>\n",
       "      <th>aa</th>\n",
       "      <th>ab</th>\n",
       "      <th>abay</th>\n",
       "      <th>abb</th>\n",
       "      <th>abc</th>\n",
       "      <th>abctim</th>\n",
       "      <th>abd</th>\n",
       "      <th>abe</th>\n",
       "      <th>abov</th>\n",
       "      <th>absenc</th>\n",
       "      <th>...</th>\n",
       "      <th>zzztrain</th>\n",
       "      <th>zzzunapprov</th>\n",
       "      <th>zzzvacat</th>\n",
       "      <th>zzzyk</th>\n",
       "      <th>zzzzhol</th>\n",
       "      <th>zzzzholiday</th>\n",
       "      <th>zzzznur</th>\n",
       "      <th>zzzzon</th>\n",
       "      <th>zzzzunpaid</th>\n",
       "      <th>zzzzzunpaid</th>\n",
       "    </tr>\n",
       "  </thead>\n",
       "  <tbody>\n",
       "    <tr>\n",
       "      <th>0</th>\n",
       "      <td>0</td>\n",
       "      <td>0</td>\n",
       "      <td>0</td>\n",
       "      <td>0</td>\n",
       "      <td>0</td>\n",
       "      <td>0</td>\n",
       "      <td>0</td>\n",
       "      <td>0</td>\n",
       "      <td>0</td>\n",
       "      <td>0</td>\n",
       "      <td>...</td>\n",
       "      <td>0</td>\n",
       "      <td>0</td>\n",
       "      <td>0</td>\n",
       "      <td>0</td>\n",
       "      <td>0</td>\n",
       "      <td>0</td>\n",
       "      <td>0</td>\n",
       "      <td>0</td>\n",
       "      <td>0</td>\n",
       "      <td>0</td>\n",
       "    </tr>\n",
       "    <tr>\n",
       "      <th>1</th>\n",
       "      <td>0</td>\n",
       "      <td>0</td>\n",
       "      <td>0</td>\n",
       "      <td>0</td>\n",
       "      <td>0</td>\n",
       "      <td>0</td>\n",
       "      <td>0</td>\n",
       "      <td>0</td>\n",
       "      <td>0</td>\n",
       "      <td>0</td>\n",
       "      <td>...</td>\n",
       "      <td>0</td>\n",
       "      <td>0</td>\n",
       "      <td>0</td>\n",
       "      <td>0</td>\n",
       "      <td>0</td>\n",
       "      <td>0</td>\n",
       "      <td>0</td>\n",
       "      <td>0</td>\n",
       "      <td>0</td>\n",
       "      <td>0</td>\n",
       "    </tr>\n",
       "    <tr>\n",
       "      <th>2</th>\n",
       "      <td>0</td>\n",
       "      <td>0</td>\n",
       "      <td>0</td>\n",
       "      <td>0</td>\n",
       "      <td>0</td>\n",
       "      <td>0</td>\n",
       "      <td>0</td>\n",
       "      <td>0</td>\n",
       "      <td>0</td>\n",
       "      <td>0</td>\n",
       "      <td>...</td>\n",
       "      <td>0</td>\n",
       "      <td>0</td>\n",
       "      <td>0</td>\n",
       "      <td>0</td>\n",
       "      <td>0</td>\n",
       "      <td>0</td>\n",
       "      <td>0</td>\n",
       "      <td>0</td>\n",
       "      <td>0</td>\n",
       "      <td>0</td>\n",
       "    </tr>\n",
       "    <tr>\n",
       "      <th>3</th>\n",
       "      <td>0</td>\n",
       "      <td>0</td>\n",
       "      <td>0</td>\n",
       "      <td>0</td>\n",
       "      <td>0</td>\n",
       "      <td>0</td>\n",
       "      <td>0</td>\n",
       "      <td>0</td>\n",
       "      <td>0</td>\n",
       "      <td>0</td>\n",
       "      <td>...</td>\n",
       "      <td>0</td>\n",
       "      <td>0</td>\n",
       "      <td>0</td>\n",
       "      <td>0</td>\n",
       "      <td>0</td>\n",
       "      <td>0</td>\n",
       "      <td>0</td>\n",
       "      <td>0</td>\n",
       "      <td>0</td>\n",
       "      <td>0</td>\n",
       "    </tr>\n",
       "    <tr>\n",
       "      <th>4</th>\n",
       "      <td>0</td>\n",
       "      <td>0</td>\n",
       "      <td>0</td>\n",
       "      <td>0</td>\n",
       "      <td>0</td>\n",
       "      <td>0</td>\n",
       "      <td>0</td>\n",
       "      <td>0</td>\n",
       "      <td>0</td>\n",
       "      <td>0</td>\n",
       "      <td>...</td>\n",
       "      <td>0</td>\n",
       "      <td>0</td>\n",
       "      <td>0</td>\n",
       "      <td>0</td>\n",
       "      <td>0</td>\n",
       "      <td>0</td>\n",
       "      <td>0</td>\n",
       "      <td>0</td>\n",
       "      <td>0</td>\n",
       "      <td>0</td>\n",
       "    </tr>\n",
       "  </tbody>\n",
       "</table>\n",
       "<p>5 rows × 2912 columns</p>\n",
       "</div>"
      ],
      "text/plain": [
       "   aa  ab  abay  abb  abc  abctim  abd  abe  abov  absenc     ...       \\\n",
       "0   0   0     0    0    0       0    0    0     0       0     ...        \n",
       "1   0   0     0    0    0       0    0    0     0       0     ...        \n",
       "2   0   0     0    0    0       0    0    0     0       0     ...        \n",
       "3   0   0     0    0    0       0    0    0     0       0     ...        \n",
       "4   0   0     0    0    0       0    0    0     0       0     ...        \n",
       "\n",
       "   zzztrain  zzzunapprov  zzzvacat  zzzyk  zzzzhol  zzzzholiday  zzzznur  \\\n",
       "0         0            0         0      0        0            0        0   \n",
       "1         0            0         0      0        0            0        0   \n",
       "2         0            0         0      0        0            0        0   \n",
       "3         0            0         0      0        0            0        0   \n",
       "4         0            0         0      0        0            0        0   \n",
       "\n",
       "   zzzzon  zzzzunpaid  zzzzzunpaid  \n",
       "0       0           0            0  \n",
       "1       0           0            0  \n",
       "2       0           0            0  \n",
       "3       0           0            0  \n",
       "4       0           0            0  \n",
       "\n",
       "[5 rows x 2912 columns]"
      ]
     },
     "execution_count": 334,
     "metadata": {},
     "output_type": "execute_result"
    }
   ],
   "source": [
    "DTM_paycd.head()"
   ]
  },
  {
   "cell_type": "code",
   "execution_count": 335,
   "metadata": {
    "collapsed": true
   },
   "outputs": [],
   "source": [
    "y_pred = model_logi.predict(test_DTM)"
   ]
  },
  {
   "cell_type": "code",
   "execution_count": 337,
   "metadata": {},
   "outputs": [
    {
     "data": {
      "text/plain": [
       "array(['1', '3', '0', '1', '0', '1', '2', '1', '0', '0'], dtype='<U1')"
      ]
     },
     "execution_count": 337,
     "metadata": {},
     "output_type": "execute_result"
    }
   ],
   "source": [
    "y_pred[0:10]"
   ]
  },
  {
   "cell_type": "code",
   "execution_count": null,
   "metadata": {
    "collapsed": true
   },
   "outputs": [],
   "source": []
  },
  {
   "cell_type": "code",
   "execution_count": null,
   "metadata": {
    "collapsed": true
   },
   "outputs": [],
   "source": []
  },
  {
   "cell_type": "code",
   "execution_count": 342,
   "metadata": {
    "collapsed": true
   },
   "outputs": [],
   "source": [
    "data_test = pd.read_csv(\"Paycd_test.csv\",header=0,encoding=\"ISO-8859-1\")"
   ]
  },
  {
   "cell_type": "code",
   "execution_count": 345,
   "metadata": {},
   "outputs": [
    {
     "data": {
      "text/html": [
       "<div>\n",
       "<style>\n",
       "    .dataframe thead tr:only-child th {\n",
       "        text-align: right;\n",
       "    }\n",
       "\n",
       "    .dataframe thead th {\n",
       "        text-align: left;\n",
       "    }\n",
       "\n",
       "    .dataframe tbody tr th {\n",
       "        vertical-align: top;\n",
       "    }\n",
       "</style>\n",
       "<table border=\"1\" class=\"dataframe\">\n",
       "  <thead>\n",
       "    <tr style=\"text-align: right;\">\n",
       "      <th></th>\n",
       "      <th>Paycd</th>\n",
       "      <th>Category</th>\n",
       "    </tr>\n",
       "  </thead>\n",
       "  <tbody>\n",
       "    <tr>\n",
       "      <th>0</th>\n",
       "      <td>~DISABLE</td>\n",
       "      <td>Other</td>\n",
       "    </tr>\n",
       "    <tr>\n",
       "      <th>1</th>\n",
       "      <td>~FURLOW</td>\n",
       "      <td>Other</td>\n",
       "    </tr>\n",
       "    <tr>\n",
       "      <th>2</th>\n",
       "      <td>~HALFOCC</td>\n",
       "      <td>Other</td>\n",
       "    </tr>\n",
       "    <tr>\n",
       "      <th>3</th>\n",
       "      <td>~LATE&gt;1H</td>\n",
       "      <td>Other</td>\n",
       "    </tr>\n",
       "    <tr>\n",
       "      <th>4</th>\n",
       "      <td>~MANERLY</td>\n",
       "      <td>Other</td>\n",
       "    </tr>\n",
       "  </tbody>\n",
       "</table>\n",
       "</div>"
      ],
      "text/plain": [
       "      Paycd Category\n",
       "0  ~DISABLE    Other\n",
       "1   ~FURLOW    Other\n",
       "2  ~HALFOCC    Other\n",
       "3  ~LATE>1H    Other\n",
       "4  ~MANERLY    Other"
      ]
     },
     "execution_count": 345,
     "metadata": {},
     "output_type": "execute_result"
    }
   ],
   "source": [
    "data_test.head()"
   ]
  },
  {
   "cell_type": "code",
   "execution_count": 346,
   "metadata": {},
   "outputs": [
    {
     "data": {
      "text/plain": [
       "Absence                   976\n",
       "Other                     954\n",
       "Regular                   671\n",
       "Overtime                  311\n",
       "Exclude from Analytics    294\n",
       "Uncategorized             249\n",
       "Premium Time              223\n",
       "Name: Category, dtype: int64"
      ]
     },
     "execution_count": 346,
     "metadata": {},
     "output_type": "execute_result"
    }
   ],
   "source": [
    "data_test.Category.value_counts()"
   ]
  },
  {
   "cell_type": "code",
   "execution_count": 348,
   "metadata": {
    "collapsed": true
   },
   "outputs": [],
   "source": [
    "data_test = data_test[(data_test['Category']=='Absence') | (data_test['Category']=='Regular') | (data_test['Category']=='Overtime')]"
   ]
  },
  {
   "cell_type": "code",
   "execution_count": 350,
   "metadata": {},
   "outputs": [
    {
     "data": {
      "text/plain": [
       "Absence     976\n",
       "Regular     671\n",
       "Overtime    311\n",
       "Name: Category, dtype: int64"
      ]
     },
     "execution_count": 350,
     "metadata": {},
     "output_type": "execute_result"
    }
   ],
   "source": [
    "data_test.Category.value_counts()"
   ]
  },
  {
   "cell_type": "code",
   "execution_count": 369,
   "metadata": {
    "collapsed": true
   },
   "outputs": [],
   "source": [
    "X_test_wfn = data_test['Paycd']\n",
    "y_test_wfn = data_test['Category'] "
   ]
  },
  {
   "cell_type": "code",
   "execution_count": 370,
   "metadata": {
    "collapsed": true
   },
   "outputs": [],
   "source": [
    "X_test_wfn = X_test_wfn.apply(removedollar)"
   ]
  },
  {
   "cell_type": "code",
   "execution_count": 371,
   "metadata": {},
   "outputs": [
    {
     "name": "stdout",
     "output_type": "stream",
     "text": [
      "1958\n"
     ]
    }
   ],
   "source": [
    "print(len(X_test_wfn))"
   ]
  },
  {
   "cell_type": "code",
   "execution_count": 372,
   "metadata": {
    "collapsed": true
   },
   "outputs": [],
   "source": [
    "##X_test_wfn.head(20)\n",
    "index_drop_wfn = X_test_wfn.index[X_test_wfn.values=='']"
   ]
  },
  {
   "cell_type": "code",
   "execution_count": 373,
   "metadata": {},
   "outputs": [
    {
     "name": "stdout",
     "output_type": "stream",
     "text": [
      "1711\n",
      "1711\n"
     ]
    }
   ],
   "source": [
    "X_test_wfn.drop(index_drop_wfn,inplace=True)\n",
    "y_test_wfn.drop(index_drop_wfn,inplace=True)\n",
    "print(len(X_test_wfn))\n",
    "print(len(y_test_wfn))"
   ]
  },
  {
   "cell_type": "code",
   "execution_count": 386,
   "metadata": {
    "collapsed": true
   },
   "outputs": [],
   "source": [
    "y_test_wfn = y_test_wfn.map({'Regular':'0','Absence':'1','Overtime':'2','Premium Time':'3'})"
   ]
  },
  {
   "cell_type": "code",
   "execution_count": 375,
   "metadata": {},
   "outputs": [
    {
     "data": {
      "text/plain": [
       "9         adj\n",
       "10    callvac\n",
       "11        cat\n",
       "13      griev\n",
       "14      lbreg\n",
       "Name: Paycd, dtype: object"
      ]
     },
     "execution_count": 375,
     "metadata": {},
     "output_type": "execute_result"
    }
   ],
   "source": [
    "X_test_wfn.head()"
   ]
  },
  {
   "cell_type": "code",
   "execution_count": 377,
   "metadata": {
    "collapsed": true
   },
   "outputs": [
    {
     "name": "stdout",
     "output_type": "stream",
     "text": [
      "      aa  ab  abay  abb  abc  abctim  abd  abe  abov  absenc     ...       \\\n",
      "0      0   0     0    0    0       0    0    0     0       0     ...        \n",
      "1      0   0     0    0    0       0    0    0     0       0     ...        \n",
      "2      0   0     0    0    0       0    0    0     0       0     ...        \n",
      "3      0   0     0    0    0       0    0    0     0       0     ...        \n",
      "4      0   0     0    0    0       0    0    0     0       0     ...        \n",
      "5      0   0     0    0    0       0    0    0     0       0     ...        \n",
      "6      0   0     0    0    0       0    0    0     0       0     ...        \n",
      "7      0   0     0    0    0       0    0    0     0       0     ...        \n",
      "8      0   0     0    0    0       0    0    0     0       0     ...        \n",
      "9      0   0     0    0    0       0    0    0     0       0     ...        \n",
      "10     0   0     0    0    0       0    0    0     0       0     ...        \n",
      "11     0   0     0    0    0       0    0    0     0       0     ...        \n",
      "12     0   0     0    0    0       0    0    0     0       0     ...        \n",
      "13     0   0     0    0    0       0    0    0     0       0     ...        \n",
      "14     0   0     0    0    0       0    0    0     0       0     ...        \n",
      "15     0   0     0    0    0       0    0    0     0       0     ...        \n",
      "16     0   0     0    0    0       0    0    0     0       0     ...        \n",
      "17     0   0     0    0    0       0    0    0     0       0     ...        \n",
      "18     0   0     0    0    0       0    0    0     0       0     ...        \n",
      "19     0   0     0    0    0       0    0    0     0       0     ...        \n",
      "20     0   0     0    0    0       0    0    0     0       0     ...        \n",
      "21     0   0     0    0    0       0    0    0     0       0     ...        \n",
      "22     0   0     0    0    0       0    0    0     0       0     ...        \n",
      "23     0   0     0    0    0       0    0    0     0       0     ...        \n",
      "24     0   0     0    0    0       0    0    0     0       0     ...        \n",
      "25     0   0     0    0    0       0    0    0     0       0     ...        \n",
      "26     0   0     0    0    0       0    0    0     0       0     ...        \n",
      "27     0   0     0    0    0       0    0    0     0       0     ...        \n",
      "28     0   0     0    0    0       0    0    0     0       0     ...        \n",
      "29     0   0     0    0    0       0    0    0     0       0     ...        \n",
      "...   ..  ..   ...  ...  ...     ...  ...  ...   ...     ...     ...        \n",
      "1681   0   0     0    0    0       0    0    0     0       0     ...        \n",
      "1682   0   0     0    0    0       0    0    0     0       0     ...        \n",
      "1683   0   0     0    0    0       0    0    0     0       0     ...        \n",
      "1684   0   0     0    0    0       0    0    0     0       0     ...        \n",
      "1685   0   0     0    0    0       0    0    0     0       0     ...        \n",
      "1686   0   0     0    0    0       0    0    0     0       0     ...        \n",
      "1687   0   0     0    0    0       0    0    0     0       0     ...        \n",
      "1688   0   0     0    0    0       0    0    0     0       0     ...        \n",
      "1689   0   0     0    0    0       0    0    0     0       0     ...        \n",
      "1690   0   0     0    0    0       0    0    0     0       0     ...        \n",
      "1691   0   0     0    0    0       0    0    0     0       0     ...        \n",
      "1692   0   0     0    0    0       0    0    0     0       0     ...        \n",
      "1693   0   0     0    0    0       0    0    0     0       0     ...        \n",
      "1694   0   0     0    0    0       0    0    0     0       0     ...        \n",
      "1695   0   0     0    0    0       0    0    0     0       0     ...        \n",
      "1696   0   0     0    0    0       0    0    0     0       0     ...        \n",
      "1697   0   0     0    0    0       0    0    0     0       0     ...        \n",
      "1698   0   0     0    0    0       0    0    0     0       0     ...        \n",
      "1699   0   0     0    0    0       0    0    0     0       0     ...        \n",
      "1700   0   0     0    0    0       0    0    0     0       0     ...        \n",
      "1701   0   0     0    0    0       0    0    0     0       0     ...        \n",
      "1702   0   0     0    0    0       0    0    0     0       0     ...        \n",
      "1703   0   0     0    0    0       0    0    0     0       0     ...        \n",
      "1704   0   0     0    0    0       0    0    0     0       0     ...        \n",
      "1705   0   0     0    0    0       0    0    0     0       0     ...        \n",
      "1706   0   0     0    0    0       0    0    0     0       0     ...        \n",
      "1707   0   0     0    0    0       0    0    0     0       0     ...        \n",
      "1708   0   0     0    0    0       0    0    0     0       0     ...        \n",
      "1709   0   0     0    0    0       0    0    0     0       0     ...        \n",
      "1710   0   0     0    0    0       0    0    0     0       0     ...        \n",
      "\n",
      "      zzztrain  zzzunapprov  zzzvacat  zzzyk  zzzzhol  zzzzholiday  zzzznur  \\\n",
      "0            0            0         0      0        0            0        0   \n",
      "1            0            0         0      0        0            0        0   \n",
      "2            0            0         0      0        0            0        0   \n",
      "3            0            0         0      0        0            0        0   \n",
      "4            0            0         0      0        0            0        0   \n",
      "5            0            0         0      0        0            0        0   \n",
      "6            0            0         0      0        0            0        0   \n",
      "7            0            0         0      0        0            0        0   \n",
      "8            0            0         0      0        0            0        0   \n",
      "9            0            0         0      0        0            0        0   \n",
      "10           0            0         0      0        0            0        0   \n",
      "11           0            0         0      0        0            0        0   \n",
      "12           0            0         0      0        0            0        0   \n",
      "13           0            0         0      0        0            0        0   \n",
      "14           0            0         0      0        0            0        0   \n",
      "15           0            0         0      0        0            0        0   \n",
      "16           0            0         0      0        0            0        0   \n",
      "17           0            0         0      0        0            0        0   \n",
      "18           0            0         0      0        0            0        0   \n",
      "19           0            0         0      0        0            0        0   \n",
      "20           0            0         0      0        0            0        0   \n",
      "21           0            0         0      0        0            0        0   \n",
      "22           0            0         0      0        0            0        0   \n",
      "23           0            0         0      0        0            0        0   \n",
      "24           0            0         0      0        0            0        0   \n",
      "25           0            0         0      0        0            0        0   \n",
      "26           0            0         0      0        0            0        0   \n",
      "27           0            0         0      0        0            0        0   \n",
      "28           0            0         0      0        0            0        0   \n",
      "29           0            0         0      0        0            0        0   \n",
      "...        ...          ...       ...    ...      ...          ...      ...   \n",
      "1681         0            0         1      0        0            0        0   \n",
      "1682         0            0         0      0        0            0        0   \n",
      "1683         0            0         0      0        0            0        0   \n",
      "1684         0            0         0      0        0            0        0   \n",
      "1685         0            0         0      0        0            0        0   \n",
      "1686         0            0         0      0        0            0        0   \n",
      "1687         0            0         0      0        0            0        0   \n",
      "1688         0            0         0      0        0            0        0   \n",
      "1689         0            0         0      0        0            0        0   \n",
      "1690         0            0         0      0        0            0        0   \n",
      "1691         0            0         0      0        0            0        0   \n",
      "1692         0            0         0      0        0            0        0   \n",
      "1693         0            0         0      0        0            0        0   \n",
      "1694         0            0         0      0        0            0        0   \n",
      "1695         0            0         0      0        0            0        0   \n",
      "1696         0            0         0      0        0            0        0   \n",
      "1697         0            0         0      0        0            0        0   \n",
      "1698         0            0         0      0        0            0        0   \n",
      "1699         0            0         0      0        0            0        0   \n",
      "1700         0            0         0      0        0            0        0   \n",
      "1701         0            0         0      0        0            0        0   \n",
      "1702         0            0         0      0        0            0        0   \n",
      "1703         0            0         0      0        0            0        0   \n",
      "1704         0            0         0      0        0            0        0   \n",
      "1705         0            0         0      0        0            0        0   \n",
      "1706         0            0         0      0        0            0        0   \n",
      "1707         0            0         0      0        0            0        0   \n",
      "1708         0            0         0      0        0            0        0   \n",
      "1709         0            0         0      0        0            0        0   \n",
      "1710         0            0         0      0        0            0        0   \n",
      "\n",
      "      zzzzon  zzzzunpaid  zzzzzunpaid  \n",
      "0          0           0            0  \n",
      "1          0           0            0  \n",
      "2          0           0            0  \n",
      "3          0           0            0  \n",
      "4          0           0            0  \n",
      "5          0           0            0  \n",
      "6          0           0            0  \n",
      "7          0           0            0  \n",
      "8          0           0            0  \n",
      "9          0           0            0  \n",
      "10         0           0            0  \n",
      "11         0           0            0  \n",
      "12         0           0            0  \n",
      "13         0           0            0  \n",
      "14         0           0            0  \n",
      "15         0           0            0  \n",
      "16         0           0            0  \n",
      "17         0           0            0  \n",
      "18         0           0            0  \n",
      "19         0           0            0  \n",
      "20         0           0            0  \n",
      "21         0           0            0  \n",
      "22         0           0            0  \n",
      "23         0           0            0  \n",
      "24         0           0            0  \n",
      "25         0           0            0  \n",
      "26         0           0            0  \n",
      "27         0           0            0  \n",
      "28         0           0            0  \n",
      "29         0           0            0  \n",
      "...      ...         ...          ...  \n",
      "1681       0           0            0  \n",
      "1682       0           0            0  \n",
      "1683       0           0            0  \n",
      "1684       0           0            0  \n",
      "1685       0           0            0  \n",
      "1686       0           0            0  \n",
      "1687       0           0            0  \n",
      "1688       0           0            0  \n",
      "1689       0           0            0  \n",
      "1690       0           0            0  \n",
      "1691       0           0            0  \n",
      "1692       0           0            0  \n",
      "1693       0           0            0  \n",
      "1694       0           0            0  \n",
      "1695       0           0            0  \n",
      "1696       0           0            0  \n",
      "1697       0           0            0  \n",
      "1698       0           0            0  \n",
      "1699       0           0            0  \n",
      "1700       0           0            0  \n",
      "1701       0           0            0  \n",
      "1702       0           0            0  \n",
      "1703       0           0            0  \n",
      "1704       0           0            0  \n",
      "1705       0           0            0  \n",
      "1706       0           0            0  \n",
      "1707       0           0            0  \n",
      "1708       0           0            0  \n",
      "1709       0           0            0  \n",
      "1710       0           0            0  \n",
      "\n",
      "[1711 rows x 2912 columns]\n"
     ]
    }
   ],
   "source": [
    "test_DTM_WFN = CV.transform(X_test_wfn)\n",
    "print(pd.DataFrame(test_DTM_WFN.toarray(),columns=CV.get_feature_names()))"
   ]
  },
  {
   "cell_type": "code",
   "execution_count": 378,
   "metadata": {
    "collapsed": true
   },
   "outputs": [],
   "source": [
    "y_pred_wfn = model_logi.predict(test_DTM_WFN)"
   ]
  },
  {
   "cell_type": "code",
   "execution_count": 381,
   "metadata": {},
   "outputs": [
    {
     "data": {
      "text/plain": [
       "array(['1', '1', '1', ..., '2', '1', '1'], dtype='<U1')"
      ]
     },
     "execution_count": 381,
     "metadata": {},
     "output_type": "execute_result"
    }
   ],
   "source": [
    "y_pred_wfn"
   ]
  },
  {
   "cell_type": "code",
   "execution_count": 387,
   "metadata": {},
   "outputs": [
    {
     "data": {
      "text/plain": [
       "0.8462887200467563"
      ]
     },
     "execution_count": 387,
     "metadata": {},
     "output_type": "execute_result"
    }
   ],
   "source": [
    "metrics.accuracy_score(y_test_wfn,y_pred_wfn)"
   ]
  },
  {
   "cell_type": "code",
   "execution_count": 391,
   "metadata": {
    "collapsed": true
   },
   "outputs": [],
   "source": [
    "filename = 'paycdClassifer.pkl'  ## pickle.dump(noun_text,open(filename,'wb'))## writnig the model to the file\n",
    "pickle.dump(model_logi,open(filename,'wb'))"
   ]
  }
 ],
 "metadata": {
  "kernelspec": {
   "display_name": "Python 3",
   "language": "python",
   "name": "python3"
  },
  "language_info": {
   "codemirror_mode": {
    "name": "ipython",
    "version": 3
   },
   "file_extension": ".py",
   "mimetype": "text/x-python",
   "name": "python",
   "nbconvert_exporter": "python",
   "pygments_lexer": "ipython3",
   "version": "3.6.3"
  }
 },
 "nbformat": 4,
 "nbformat_minor": 2
}
