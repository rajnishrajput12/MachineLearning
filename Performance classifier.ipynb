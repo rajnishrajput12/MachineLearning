{
 "cells": [
  {
   "cell_type": "code",
   "execution_count": 1,
   "metadata": {
    "collapsed": true
   },
   "outputs": [],
   "source": [
    "import pandas as pd\n",
    "import datetime\n",
    "import numpy as np\n",
    "%matplotlib inline"
   ]
  },
  {
   "cell_type": "code",
   "execution_count": 5,
   "metadata": {},
   "outputs": [
    {
     "data": {
      "text/plain": [
       "'C:\\\\Users\\\\kumrajni\\\\AppData\\\\Local\\\\Continuum\\\\anaconda3\\\\Scripts\\\\Jupyter_Learnign\\\\Jupyter_Learnign'"
      ]
     },
     "execution_count": 5,
     "metadata": {},
     "output_type": "execute_result"
    }
   ],
   "source": [
    "import os \n",
    "os.getcwd()"
   ]
  },
  {
   "cell_type": "code",
   "execution_count": 6,
   "metadata": {},
   "outputs": [
    {
     "data": {
      "text/html": [
       "<div>\n",
       "<style>\n",
       "    .dataframe thead tr:only-child th {\n",
       "        text-align: right;\n",
       "    }\n",
       "\n",
       "    .dataframe thead th {\n",
       "        text-align: left;\n",
       "    }\n",
       "\n",
       "    .dataframe tbody tr th {\n",
       "        vertical-align: top;\n",
       "    }\n",
       "</style>\n",
       "<table border=\"1\" class=\"dataframe\">\n",
       "  <thead>\n",
       "    <tr style=\"text-align: right;\">\n",
       "      <th></th>\n",
       "      <th>PERS_OBJ_ID</th>\n",
       "      <th>RTNG_RANK</th>\n",
       "      <th>RTNG_NM</th>\n",
       "      <th>FULL_TM_PART_TM_CD</th>\n",
       "      <th>REG_TEMP_CD</th>\n",
       "      <th>PAY_RT_TYPE_CD</th>\n",
       "      <th>COMPA_RT</th>\n",
       "      <th>GNDR_CD</th>\n",
       "      <th>MARTL_STUS_CD</th>\n",
       "      <th>HGHST_EDUC</th>\n",
       "      <th>AGE_BAND</th>\n",
       "      <th>TENURE_BAND</th>\n",
       "      <th>YEAR</th>\n",
       "    </tr>\n",
       "  </thead>\n",
       "  <tbody>\n",
       "    <tr>\n",
       "      <th>0</th>\n",
       "      <td>G3W7429BR944X2QS</td>\n",
       "      <td>0</td>\n",
       "      <td>Outstanding</td>\n",
       "      <td>F</td>\n",
       "      <td>R</td>\n",
       "      <td>1</td>\n",
       "      <td>0.00</td>\n",
       "      <td>F</td>\n",
       "      <td>M</td>\n",
       "      <td>A</td>\n",
       "      <td>Over 64 Years</td>\n",
       "      <td>5-10 Years</td>\n",
       "      <td>2015</td>\n",
       "    </tr>\n",
       "    <tr>\n",
       "      <th>1</th>\n",
       "      <td>G3P6T9CX2DZJYMDM</td>\n",
       "      <td>3</td>\n",
       "      <td>Poor</td>\n",
       "      <td>F</td>\n",
       "      <td>R</td>\n",
       "      <td>1</td>\n",
       "      <td>0.00</td>\n",
       "      <td>N</td>\n",
       "      <td>N</td>\n",
       "      <td>A</td>\n",
       "      <td>Over 64 Years</td>\n",
       "      <td>5-10 Years</td>\n",
       "      <td>2015</td>\n",
       "    </tr>\n",
       "    <tr>\n",
       "      <th>2</th>\n",
       "      <td>M5LWCYY3M5R8QHW8</td>\n",
       "      <td>2</td>\n",
       "      <td>Meets Performance</td>\n",
       "      <td>P</td>\n",
       "      <td>R</td>\n",
       "      <td>1</td>\n",
       "      <td>1.17</td>\n",
       "      <td>M</td>\n",
       "      <td>S</td>\n",
       "      <td>A</td>\n",
       "      <td>Over 64 Years</td>\n",
       "      <td>10-15 Years</td>\n",
       "      <td>2017</td>\n",
       "    </tr>\n",
       "    <tr>\n",
       "      <th>3</th>\n",
       "      <td>M5827USLJZGKNAG5</td>\n",
       "      <td>3</td>\n",
       "      <td>Highly Successful</td>\n",
       "      <td>P</td>\n",
       "      <td>R</td>\n",
       "      <td>1</td>\n",
       "      <td>1.10</td>\n",
       "      <td>F</td>\n",
       "      <td>S</td>\n",
       "      <td>A</td>\n",
       "      <td>Over 64 Years</td>\n",
       "      <td>Over 15 Years</td>\n",
       "      <td>2017</td>\n",
       "    </tr>\n",
       "    <tr>\n",
       "      <th>4</th>\n",
       "      <td>M5827USLJZGKZIYU</td>\n",
       "      <td>2</td>\n",
       "      <td>Successful</td>\n",
       "      <td>P</td>\n",
       "      <td>R</td>\n",
       "      <td>1</td>\n",
       "      <td>0.90</td>\n",
       "      <td>M</td>\n",
       "      <td>M</td>\n",
       "      <td>A</td>\n",
       "      <td>Over 64 Years</td>\n",
       "      <td>Over 15 Years</td>\n",
       "      <td>2017</td>\n",
       "    </tr>\n",
       "  </tbody>\n",
       "</table>\n",
       "</div>"
      ],
      "text/plain": [
       "        PERS_OBJ_ID  RTNG_RANK            RTNG_NM FULL_TM_PART_TM_CD  \\\n",
       "0  G3W7429BR944X2QS          0        Outstanding                  F   \n",
       "1  G3P6T9CX2DZJYMDM          3               Poor                  F   \n",
       "2  M5LWCYY3M5R8QHW8          2  Meets Performance                  P   \n",
       "3  M5827USLJZGKNAG5          3  Highly Successful                  P   \n",
       "4  M5827USLJZGKZIYU          2         Successful                  P   \n",
       "\n",
       "  REG_TEMP_CD  PAY_RT_TYPE_CD  COMPA_RT GNDR_CD MARTL_STUS_CD HGHST_EDUC  \\\n",
       "0           R               1      0.00       F             M          A   \n",
       "1           R               1      0.00       N             N          A   \n",
       "2           R               1      1.17       M             S          A   \n",
       "3           R               1      1.10       F             S          A   \n",
       "4           R               1      0.90       M             M          A   \n",
       "\n",
       "        AGE_BAND    TENURE_BAND  YEAR  \n",
       "0  Over 64 Years     5-10 Years  2015  \n",
       "1  Over 64 Years     5-10 Years  2015  \n",
       "2  Over 64 Years    10-15 Years  2017  \n",
       "3  Over 64 Years  Over 15 Years  2017  \n",
       "4  Over 64 Years  Over 15 Years  2017  "
      ]
     },
     "execution_count": 6,
     "metadata": {},
     "output_type": "execute_result"
    }
   ],
   "source": [
    "data = pd.read_csv(\"C:\\\\Users\\\\kumrajni\\\\AppData\\\\Local\\\\Continuum\\\\anaconda3\\\\Scripts\\\\Jupyter_Learnign\\\\Jupyter_Learnign\\\\ASGNMT\\\\perf.csv\",header=0)\n",
    "data.head()"
   ]
  },
  {
   "cell_type": "code",
   "execution_count": 47,
   "metadata": {
    "scrolled": true
   },
   "outputs": [
    {
     "data": {
      "text/plain": [
       "47725"
      ]
     },
     "execution_count": 47,
     "metadata": {},
     "output_type": "execute_result"
    }
   ],
   "source": [
    "data['RTNG_NM'].str.lower().size"
   ]
  },
  {
   "cell_type": "code",
   "execution_count": 43,
   "metadata": {
    "scrolled": true
   },
   "outputs": [
    {
     "data": {
      "text/plain": [
       "3924"
      ]
     },
     "execution_count": 43,
     "metadata": {},
     "output_type": "execute_result"
    }
   ],
   "source": [
    "len([x for x in data.RTNG_NM.str.lower() if 'outstanding' in x])"
   ]
  },
  {
   "cell_type": "code",
   "execution_count": 29,
   "metadata": {},
   "outputs": [
    {
     "data": {
      "text/plain": [
       "0    3\n",
       "1    3\n",
       "2    1\n",
       "3    1\n",
       "4    1\n",
       "Name: YEAR, dtype: int64"
      ]
     },
     "execution_count": 29,
     "metadata": {},
     "output_type": "execute_result"
    }
   ],
   "source": [
    "datetime.datetime.today().year-data['YEAR'].head()"
   ]
  },
  {
   "cell_type": "code",
   "execution_count": 30,
   "metadata": {
    "collapsed": true
   },
   "outputs": [],
   "source": [
    "gg = lambda x:datetime.datetime.today().year-x"
   ]
  },
  {
   "cell_type": "code",
   "execution_count": 31,
   "metadata": {},
   "outputs": [
    {
     "data": {
      "text/plain": [
       "pandas.core.series.Series"
      ]
     },
     "execution_count": 31,
     "metadata": {},
     "output_type": "execute_result"
    }
   ],
   "source": [
    "type(gg(data['YEAR']))"
   ]
  },
  {
   "cell_type": "code",
   "execution_count": 32,
   "metadata": {
    "collapsed": true
   },
   "outputs": [],
   "source": [
    "data['Rating'] = data['RTNG_NM'].map({'Meets Performance':'Average'\n",
    "                                     ''})"
   ]
  },
  {
   "cell_type": "code",
   "execution_count": 33,
   "metadata": {},
   "outputs": [
    {
     "data": {
      "text/plain": [
       "Meets Performance                                                                5774\n",
       "Effective/Effective                                                              4257\n",
       "Meets Expectations                                                               4194\n",
       "Exceeds Expectations                                                             4101\n",
       "Successful                                                                       2612\n",
       "Outstanding/Effective                                                            1221\n",
       "Completed                                                                        1161\n",
       "Fully Meeting Expectations                                                       1098\n",
       "Effective Performer. Is consistent and meets key performance expectations.       1084\n",
       "Strong Results                                                                   1037\n",
       "Leading Performer. Exceeds some key performance expectations.                     920\n",
       "Exceptional                                                                       889\n",
       "Outstanding                                                                       855\n",
       "Successfully Met Expectations                                                     822\n",
       "Does Not Meet Expectations                                                        780\n",
       "P - Consistent Performer                                                          727\n",
       "Consistent                                                                        669\n",
       "Successful Contributor                                                            646\n",
       "Achieved                                                                          626\n",
       "Consistently Meets Expectations                                                   608\n",
       "Effective/Outstanding                                                             571\n",
       "Poor                                                                              563\n",
       "Fair                                                                              557\n",
       "Adequate                                                                          542\n",
       "Above Expectations                                                                528\n",
       "E - Exceeds Expectations                                                          523\n",
       "Significant                                                                       520\n",
       "Met Expectations                                                                  511\n",
       "Outstanding Results                                                               488\n",
       "Outstanding/ Outstanding                                                          482\n",
       "                                                                                 ... \n",
       "Below Expectation                                                                   6\n",
       "Developing Performance                                                              5\n",
       "Exceeds All /Exceeds Most                                                           5\n",
       "Outstanding/Inconsistent                                                            5\n",
       "Meets Most Expectations                                                             5\n",
       "Unsatisfactory                                                                      4\n",
       "Meets Standards                                                                     3\n",
       "Generally Exceeds Requirements                                                      3\n",
       "Significantly Exceeds Expectations                                                  3\n",
       "Not Applicable                                                                      3\n",
       "Minimum Requirements - Minimum Requirements Met, Improvement Needed                 3\n",
       "Exceeds All /Meets                                                                  3\n",
       "Exceeds Most /Meets Most                                                            2\n",
       "Far Exceeds Requirements                                                            2\n",
       "Does Not Meet/ Effective                                                            2\n",
       "Satisfactory Performance                                                            2\n",
       "Performance Improvement                                                             2\n",
       "Inconsistent/ Does Not Meet                                                         1\n",
       "Exceeds All /Meets Most                                                             1\n",
       "Meets Most /Meets                                                                   1\n",
       "Ineffective Performer. Is inconsistent and/or needs improvement in key areas.       1\n",
       "Does Not Meet/ Inconsistent                                                         1\n",
       "Does Not Meet                                                                       1\n",
       "Meets Most /Needs Improv                                                            1\n",
       "Does Not Meet Minimum Requirements                                                  1\n",
       "Exceeds Most /Exceeds All                                                           1\n",
       "Meets /Exceeds All                                                                  1\n",
       "Inconsistent/ Outstanding                                                           1\n",
       "Meets Most /Meets Most                                                              1\n",
       "Meets Most /Exceeds Most                                                            1\n",
       "Name: RTNG_NM, Length: 130, dtype: int64"
      ]
     },
     "execution_count": 33,
     "metadata": {},
     "output_type": "execute_result"
    }
   ],
   "source": [
    "data['RTNG_NM'].value_counts()"
   ]
  },
  {
   "cell_type": "code",
   "execution_count": 8,
   "metadata": {},
   "outputs": [
    {
     "data": {
      "text/html": [
       "<div>\n",
       "<style>\n",
       "    .dataframe thead tr:only-child th {\n",
       "        text-align: right;\n",
       "    }\n",
       "\n",
       "    .dataframe thead th {\n",
       "        text-align: left;\n",
       "    }\n",
       "\n",
       "    .dataframe tbody tr th {\n",
       "        vertical-align: top;\n",
       "    }\n",
       "</style>\n",
       "<table border=\"1\" class=\"dataframe\">\n",
       "  <thead>\n",
       "    <tr style=\"text-align: right;\">\n",
       "      <th></th>\n",
       "      <th>PERS_OBJ_ID</th>\n",
       "      <th>RTNG_RANK</th>\n",
       "      <th>RTNG_NM</th>\n",
       "      <th>FULL_TM_PART_TM_CD</th>\n",
       "      <th>REG_TEMP_CD</th>\n",
       "      <th>PAY_RT_TYPE_CD</th>\n",
       "      <th>COMPA_RT</th>\n",
       "      <th>GNDR_CD</th>\n",
       "      <th>MARTL_STUS_CD</th>\n",
       "      <th>HGHST_EDUC</th>\n",
       "      <th>AGE_BAND</th>\n",
       "      <th>TENURE_BAND</th>\n",
       "      <th>YEAR</th>\n",
       "      <th>Rating</th>\n",
       "    </tr>\n",
       "  </thead>\n",
       "  <tbody>\n",
       "    <tr>\n",
       "      <th>0</th>\n",
       "      <td>G3W7429BR944X2QS</td>\n",
       "      <td>0</td>\n",
       "      <td>Outstanding</td>\n",
       "      <td>F</td>\n",
       "      <td>R</td>\n",
       "      <td>1</td>\n",
       "      <td>0.00</td>\n",
       "      <td>F</td>\n",
       "      <td>M</td>\n",
       "      <td>A</td>\n",
       "      <td>Over 64 Years</td>\n",
       "      <td>5-10 Years</td>\n",
       "      <td>2015</td>\n",
       "      <td>NaN</td>\n",
       "    </tr>\n",
       "    <tr>\n",
       "      <th>1</th>\n",
       "      <td>G3P6T9CX2DZJYMDM</td>\n",
       "      <td>3</td>\n",
       "      <td>Poor</td>\n",
       "      <td>F</td>\n",
       "      <td>R</td>\n",
       "      <td>1</td>\n",
       "      <td>0.00</td>\n",
       "      <td>N</td>\n",
       "      <td>N</td>\n",
       "      <td>A</td>\n",
       "      <td>Over 64 Years</td>\n",
       "      <td>5-10 Years</td>\n",
       "      <td>2015</td>\n",
       "      <td>NaN</td>\n",
       "    </tr>\n",
       "    <tr>\n",
       "      <th>2</th>\n",
       "      <td>M5LWCYY3M5R8QHW8</td>\n",
       "      <td>2</td>\n",
       "      <td>Meets Performance</td>\n",
       "      <td>P</td>\n",
       "      <td>R</td>\n",
       "      <td>1</td>\n",
       "      <td>1.17</td>\n",
       "      <td>M</td>\n",
       "      <td>S</td>\n",
       "      <td>A</td>\n",
       "      <td>Over 64 Years</td>\n",
       "      <td>10-15 Years</td>\n",
       "      <td>2017</td>\n",
       "      <td>Average</td>\n",
       "    </tr>\n",
       "    <tr>\n",
       "      <th>3</th>\n",
       "      <td>M5827USLJZGKNAG5</td>\n",
       "      <td>3</td>\n",
       "      <td>Highly Successful</td>\n",
       "      <td>P</td>\n",
       "      <td>R</td>\n",
       "      <td>1</td>\n",
       "      <td>1.10</td>\n",
       "      <td>F</td>\n",
       "      <td>S</td>\n",
       "      <td>A</td>\n",
       "      <td>Over 64 Years</td>\n",
       "      <td>Over 15 Years</td>\n",
       "      <td>2017</td>\n",
       "      <td>NaN</td>\n",
       "    </tr>\n",
       "    <tr>\n",
       "      <th>4</th>\n",
       "      <td>M5827USLJZGKZIYU</td>\n",
       "      <td>2</td>\n",
       "      <td>Successful</td>\n",
       "      <td>P</td>\n",
       "      <td>R</td>\n",
       "      <td>1</td>\n",
       "      <td>0.90</td>\n",
       "      <td>M</td>\n",
       "      <td>M</td>\n",
       "      <td>A</td>\n",
       "      <td>Over 64 Years</td>\n",
       "      <td>Over 15 Years</td>\n",
       "      <td>2017</td>\n",
       "      <td>NaN</td>\n",
       "    </tr>\n",
       "  </tbody>\n",
       "</table>\n",
       "</div>"
      ],
      "text/plain": [
       "        PERS_OBJ_ID  RTNG_RANK            RTNG_NM FULL_TM_PART_TM_CD  \\\n",
       "0  G3W7429BR944X2QS          0        Outstanding                  F   \n",
       "1  G3P6T9CX2DZJYMDM          3               Poor                  F   \n",
       "2  M5LWCYY3M5R8QHW8          2  Meets Performance                  P   \n",
       "3  M5827USLJZGKNAG5          3  Highly Successful                  P   \n",
       "4  M5827USLJZGKZIYU          2         Successful                  P   \n",
       "\n",
       "  REG_TEMP_CD  PAY_RT_TYPE_CD  COMPA_RT GNDR_CD MARTL_STUS_CD HGHST_EDUC  \\\n",
       "0           R               1      0.00       F             M          A   \n",
       "1           R               1      0.00       N             N          A   \n",
       "2           R               1      1.17       M             S          A   \n",
       "3           R               1      1.10       F             S          A   \n",
       "4           R               1      0.90       M             M          A   \n",
       "\n",
       "        AGE_BAND    TENURE_BAND  YEAR   Rating  \n",
       "0  Over 64 Years     5-10 Years  2015      NaN  \n",
       "1  Over 64 Years     5-10 Years  2015      NaN  \n",
       "2  Over 64 Years    10-15 Years  2017  Average  \n",
       "3  Over 64 Years  Over 15 Years  2017      NaN  \n",
       "4  Over 64 Years  Over 15 Years  2017      NaN  "
      ]
     },
     "execution_count": 8,
     "metadata": {},
     "output_type": "execute_result"
    }
   ],
   "source": [
    "data.head()"
   ]
  },
  {
   "cell_type": "code",
   "execution_count": 3,
   "metadata": {},
   "outputs": [
    {
     "data": {
      "text/plain": [
       "<matplotlib.axes._subplots.AxesSubplot at 0x21173099668>"
      ]
     },
     "execution_count": 3,
     "metadata": {},
     "output_type": "execute_result"
    },
    {
     "data": {
      "image/png": "[encoded data removed]",
      "text/plain": [
       "<matplotlib.figure.Figure at 0x21172418860>"
      ]
     },
     "metadata": {},
     "output_type": "display_data"
    }
   ],
   "source": [
    "%matplotlib inline\n",
    "data['PRFMNC_RTNG_RNK'].hist()"
   ]
  },
  {
   "cell_type": "code",
   "execution_count": 10,
   "metadata": {},
   "outputs": [
    {
     "data": {
      "text/plain": [
       "(47725, 14)"
      ]
     },
     "execution_count": 10,
     "metadata": {},
     "output_type": "execute_result"
    }
   ],
   "source": [
    "data.shape"
   ]
  },
  {
   "cell_type": "code",
   "execution_count": 17,
   "metadata": {},
   "outputs": [
    {
     "data": {
      "text/plain": [
       "array([nan, 'Average'], dtype=object)"
      ]
     },
     "execution_count": 17,
     "metadata": {},
     "output_type": "execute_result"
    }
   ],
   "source": [
    "data['Rating'].unique()"
   ]
  },
  {
   "cell_type": "code",
   "execution_count": 22,
   "metadata": {},
   "outputs": [
    {
     "data": {
      "text/html": [
       "<div>\n",
       "<style>\n",
       "    .dataframe thead tr:only-child th {\n",
       "        text-align: right;\n",
       "    }\n",
       "\n",
       "    .dataframe thead th {\n",
       "        text-align: left;\n",
       "    }\n",
       "\n",
       "    .dataframe tbody tr th {\n",
       "        vertical-align: top;\n",
       "    }\n",
       "</style>\n",
       "<table border=\"1\" class=\"dataframe\">\n",
       "  <thead>\n",
       "    <tr style=\"text-align: right;\">\n",
       "      <th></th>\n",
       "      <th>RTNG_RANK</th>\n",
       "      <th>FULL_TM_PART_TM_CD</th>\n",
       "      <th>REG_TEMP_CD</th>\n",
       "      <th>PAY_RT_TYPE_CD</th>\n",
       "      <th>COMPA_RT</th>\n",
       "      <th>GNDR_CD</th>\n",
       "      <th>MARTL_STUS_CD</th>\n",
       "      <th>HGHST_EDUC</th>\n",
       "      <th>AGE_BAND</th>\n",
       "      <th>TENURE_BAND</th>\n",
       "    </tr>\n",
       "  </thead>\n",
       "  <tbody>\n",
       "    <tr>\n",
       "      <th>0</th>\n",
       "      <td>0</td>\n",
       "      <td>F</td>\n",
       "      <td>R</td>\n",
       "      <td>1</td>\n",
       "      <td>0.00</td>\n",
       "      <td>F</td>\n",
       "      <td>M</td>\n",
       "      <td>A</td>\n",
       "      <td>Over 64 Years</td>\n",
       "      <td>5-10 Years</td>\n",
       "    </tr>\n",
       "    <tr>\n",
       "      <th>1</th>\n",
       "      <td>3</td>\n",
       "      <td>F</td>\n",
       "      <td>R</td>\n",
       "      <td>1</td>\n",
       "      <td>0.00</td>\n",
       "      <td>N</td>\n",
       "      <td>N</td>\n",
       "      <td>A</td>\n",
       "      <td>Over 64 Years</td>\n",
       "      <td>5-10 Years</td>\n",
       "    </tr>\n",
       "    <tr>\n",
       "      <th>2</th>\n",
       "      <td>2</td>\n",
       "      <td>P</td>\n",
       "      <td>R</td>\n",
       "      <td>1</td>\n",
       "      <td>1.17</td>\n",
       "      <td>M</td>\n",
       "      <td>S</td>\n",
       "      <td>A</td>\n",
       "      <td>Over 64 Years</td>\n",
       "      <td>10-15 Years</td>\n",
       "    </tr>\n",
       "    <tr>\n",
       "      <th>3</th>\n",
       "      <td>3</td>\n",
       "      <td>P</td>\n",
       "      <td>R</td>\n",
       "      <td>1</td>\n",
       "      <td>1.10</td>\n",
       "      <td>F</td>\n",
       "      <td>S</td>\n",
       "      <td>A</td>\n",
       "      <td>Over 64 Years</td>\n",
       "      <td>Over 15 Years</td>\n",
       "    </tr>\n",
       "    <tr>\n",
       "      <th>4</th>\n",
       "      <td>2</td>\n",
       "      <td>P</td>\n",
       "      <td>R</td>\n",
       "      <td>1</td>\n",
       "      <td>0.90</td>\n",
       "      <td>M</td>\n",
       "      <td>M</td>\n",
       "      <td>A</td>\n",
       "      <td>Over 64 Years</td>\n",
       "      <td>Over 15 Years</td>\n",
       "    </tr>\n",
       "  </tbody>\n",
       "</table>\n",
       "</div>"
      ],
      "text/plain": [
       "   RTNG_RANK FULL_TM_PART_TM_CD REG_TEMP_CD  PAY_RT_TYPE_CD  COMPA_RT GNDR_CD  \\\n",
       "0          0                  F           R               1      0.00       F   \n",
       "1          3                  F           R               1      0.00       N   \n",
       "2          2                  P           R               1      1.17       M   \n",
       "3          3                  P           R               1      1.10       F   \n",
       "4          2                  P           R               1      0.90       M   \n",
       "\n",
       "  MARTL_STUS_CD HGHST_EDUC       AGE_BAND    TENURE_BAND  \n",
       "0             M          A  Over 64 Years     5-10 Years  \n",
       "1             N          A  Over 64 Years     5-10 Years  \n",
       "2             S          A  Over 64 Years    10-15 Years  \n",
       "3             S          A  Over 64 Years  Over 15 Years  \n",
       "4             M          A  Over 64 Years  Over 15 Years  "
      ]
     },
     "execution_count": 22,
     "metadata": {},
     "output_type": "execute_result"
    }
   ],
   "source": [
    "##data.drop(['RTNG_NM','Rating'],inplace=True,axis=1)\n",
    "##data.drop(['PERS_OBJ_ID'],axis=1,inplace=True)\n",
    "data.drop(['YEAR'],axis=1,inplace=True)\n",
    "data.head()"
   ]
  },
  {
   "cell_type": "code",
   "execution_count": 27,
   "metadata": {
    "scrolled": true
   },
   "outputs": [
    {
     "data": {
      "text/plain": [
       "array([[<matplotlib.axes._subplots.AxesSubplot object at 0x000002090E2DAF28>,\n",
       "        <matplotlib.axes._subplots.AxesSubplot object at 0x000002090E95F908>],\n",
       "       [<matplotlib.axes._subplots.AxesSubplot object at 0x000002090E999828>,\n",
       "        <matplotlib.axes._subplots.AxesSubplot object at 0x000002090E9D2748>]],\n",
       "      dtype=object)"
      ]
     },
     "execution_count": 27,
     "metadata": {},
     "output_type": "execute_result"
    },
    {
     "data": {
      "image/png": "[encoded data removed]",
      "text/plain": [
       "<matplotlib.figure.Figure at 0x2090e8dfe10>"
      ]
     },
     "metadata": {},
     "output_type": "display_data"
    }
   ],
   "source": [
    "data['']"
   ]
  },
  {
   "cell_type": "code",
   "execution_count": null,
   "metadata": {
    "collapsed": true
   },
   "outputs": [],
   "source": [
    "data['']"
   ]
  }
 ],
 "metadata": {
  "kernelspec": {
   "display_name": "Python 3",
   "language": "python",
   "name": "python3"
  },
  "language_info": {
   "codemirror_mode": {
    "name": "ipython",
    "version": 3
   },
   "file_extension": ".py",
   "mimetype": "text/x-python",
   "name": "python",
   "nbconvert_exporter": "python",
   "pygments_lexer": "ipython3",
   "version": "3.6.3"
  }
 },
 "nbformat": 4,
 "nbformat_minor": 2
}
