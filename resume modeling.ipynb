{
 "cells": [
  {
   "cell_type": "code",
   "execution_count": 11,
   "metadata": {},
   "outputs": [
    {
     "ename": "LookupError",
     "evalue": "unknown encoding: utf-9",
     "output_type": "error",
     "traceback": [
      "\u001b[1;31m---------------------------------------------------------------------------\u001b[0m",
      "\u001b[1;31mLookupError\u001b[0m                               Traceback (most recent call last)",
      "\u001b[1;32m<ipython-input-11-d7ee447771cf>\u001b[0m in \u001b[0;36m<module>\u001b[1;34m()\u001b[0m\n\u001b[1;32m----> 1\u001b[1;33m \u001b[0mdata\u001b[0m \u001b[1;33m=\u001b[0m \u001b[0mopen\u001b[0m\u001b[1;33m(\u001b[0m\u001b[1;34m\"Rajnish_CV.docx\"\u001b[0m\u001b[1;33m,\u001b[0m \u001b[1;34m'r'\u001b[0m\u001b[1;33m,\u001b[0m\u001b[0mencoding\u001b[0m\u001b[1;33m=\u001b[0m\u001b[1;34m'utf-9'\u001b[0m\u001b[1;33m)\u001b[0m\u001b[1;33m.\u001b[0m\u001b[0mread\u001b[0m\u001b[1;33m(\u001b[0m\u001b[1;33m)\u001b[0m\u001b[1;33m\u001b[0m\u001b[0m\n\u001b[0m",
      "\u001b[1;31mLookupError\u001b[0m: unknown encoding: utf-9"
     ]
    }
   ],
   "source": [
    "data = open(\"Rajnish_CV.docx\", 'r',encoding='utf-9').read()"
   ]
  },
  {
   "cell_type": "code",
   "execution_count": 85,
   "metadata": {
    "collapsed": true
   },
   "outputs": [],
   "source": [
    "import docx2txt\n",
    "from nltk import word_tokenize\n",
    "import re\n",
    "from nltk.stem import PorterStemmer\n",
    "import string\n",
    "from sklearn.feature_extraction.text import CountVectorizer\n",
    "import scipy\n",
    "from gensim import matutils,models\n",
    "from nltk import pos_tag"
   ]
  },
  {
   "cell_type": "code",
   "execution_count": 20,
   "metadata": {},
   "outputs": [
    {
     "name": "stdout",
     "output_type": "stream",
     "text": [
      "Rajnish\n",
      "\n",
      "Kumar\n",
      "\n",
      "\n",
      "\n",
      "Data scientist\n",
      "\n",
      "\n",
      "\n",
      "PROFILE\n",
      "\n",
      "Data scientist with 3 years of machine learning and Analytics development. A self-motivated and team-oriented individual.\n",
      "\n",
      "\n",
      "\n",
      "CONTACT\n",
      "\n",
      "+91-9092516970\n",
      "\n",
      "rajnishrajput12@gmail.com\n",
      "\n",
      "github.com/rajnishrajput12\n",
      "\n",
      " Hyderabad\n",
      "\n",
      "\n",
      "\n",
      "SKILLS\n",
      "\n",
      "SQL         \n",
      "\n",
      "ML         \n",
      "\n",
      "Python         \n",
      "\n",
      "NLP        \n",
      "\n",
      "Deep Learning                                \n",
      "\n",
      "\n",
      "\n",
      "\n",
      "\n",
      "SKILL HIGHLIGHTS\n",
      "\n",
      "\n",
      "\n",
      "Good hands on in Machine learning and tools\n",
      "\n",
      "Strong understanding of basic concepts of statistics including population, distribution, significance, hypothesis testing\n",
      "\n",
      "Excellent knowledge of ML including linear/logistic, random forest, decision tree, classification, clustering technique.\n",
      "\n",
      "Good knowledge on NLP, text classification, topic modelling\n",
      "\n",
      "Good understanding of time series analysis and forecasting.\n",
      "\n",
      "Good knowledge of deep learning and neural networks\n",
      "\n",
      "Strong hands on Python and java\n",
      "\n",
      "Strong understanding of Agile methodology \n",
      "\n",
      "Excellent knowledge of SQL and warehouse.\n",
      "\n",
      "\n",
      "\n",
      "WORK EXPERIENCE\n",
      "\n",
      "ADP solutions \n",
      "\n",
      "Datacloud\n",
      "\n",
      "Jan-2016 – till date\n",
      "\n",
      "Data scientist\n",
      "\n",
      "Time Explorer- Built explanatory random forest Regressor model which predicts number of Absence hour’s a group of employee will take in a quarter.\n",
      "\n",
      "Employee churn Probability- Classification model which classifies number of employee most likely to leave the organization using Random forest classifier. \n",
      "\n",
      "Paycode Classification- Classify client’s paycode and tags it to general Paycode category like Absence or Overtime or Regular etc. using Support vector machine. \n",
      "\n",
      "Insight recommender-Built a Recommender system which recommends related insights to client based on cosine similarity of insights.\n",
      "\n",
      "Sentiment analysis:-Scraped cleaned client feedback data and categorize them with sentimental analysis and pipeline it to team.\n",
      "\n",
      "Tripled the accuracy of regression model to predict absence hour\n",
      "\n",
      "Gathering client feedback using Tweepy API in python\n",
      "\n",
      "data clean up, exploratory analysis of the data of multiple client\n",
      "\n",
      "data gathering from Hue(impala or Hive) with complex queries and  domain knowledge\n",
      "\n",
      "Data quality check on the metrics given to client using API automation\n",
      "\n",
      "Data validation from source to target \n",
      "\n",
      "Writing selenium scripts to validate Metrics.\n",
      "\n",
      "Work closely with UI developer to test the metric and model  \n",
      "\n",
      "Responsible for delivering any client feedback or hotfixes\n",
      "\n",
      "Tools:- Python,Oracle,Hive\n",
      "\n",
      "Accenture \n",
      "\n",
      "Microsoft\n",
      "\n",
      "Business intelligence developer \n",
      "\n",
      "Aug-2013 – Jan-2016\n",
      "\n",
      "Creating SSRS reports of windows sales for various OEM.\n",
      "\n",
      "Creating SSIS packages to pull the data from OA mart to warehouse\n",
      "\n",
      "Validating SSRS, SSAS and  excel pivot reports from source to target\n",
      "\n",
      "SQL scripts, MSBI and SQL-SERVER \n",
      "\n",
      "Automate the task and defect creation in VSTF from excel using c#\n",
      "\n",
      "Creating job to pull full and incremental data loads using SSIS scheduler\n",
      "\n",
      "Tools:- SSIS,SSRS,MS-SQL-Server\n",
      "\n",
      "EDUCATION\n",
      "\n",
      "\n",
      "\n",
      "B.tech in Computer science and engineering\n",
      "\n",
      "VIT Vellore 2009-2013\n",
      "\n",
      "\n",
      "\n",
      "Awards & Recognition \n",
      "\n",
      "‘ACE-Award’ for performing consistently above the peer group conducting Bay Games, organizing Delivery Units outings.\n",
      "\n",
      "Best performer of the Quarter for working closely with peers and delivering bug free feature\n",
      "\n",
      "External link:-https://github.com/rajnishrajput12/MachineLearning\n"
     ]
    }
   ],
   "source": [
    "data = docx2txt.process(\"Rajnish_CV.docx\")\n",
    "print(data)"
   ]
  },
  {
   "cell_type": "code",
   "execution_count": 25,
   "metadata": {},
   "outputs": [],
   "source": [
    "data_no_line = re.sub(r'\\n','',data)"
   ]
  },
  {
   "cell_type": "code",
   "execution_count": 66,
   "metadata": {},
   "outputs": [
    {
     "name": "stdout",
     "output_type": "stream",
     "text": [
      "['R', 'a', 'j', 'n', 'i', 's', 'h', 'K', 'u', 'm', 'a', 'r', 'D', 'a', 't', 'a', ' ', 's', 'c', 'i', 'e', 'n', 't', 'i', 's', 't', 'P', 'R', 'O', 'F', 'I', 'L', 'E', 'D', 'a', 't', 'a', ' ', 's', 'c', 'i', 'e', 'n', 't', 'i', 's', 't', ' ', 'w', 'i', 't', 'h', ' ', '3', ' ', 'y', 'e', 'a', 'r', 's', ' ', 'o', 'f', ' ', 'm', 'a', 'c', 'h', 'i', 'n', 'e', ' ', 'l', 'e', 'a', 'r', 'n', 'i', 'n', 'g', ' ', 'a', 'n', 'd', ' ', 'A', 'n', 'a', 'l', 'y', 't', 'i', 'c', 's', ' ', 'd', 'e', 'v', 'e', 'l', 'o', 'p', 'm', 'e', 'n', 't', '.', ' ', 'A', ' ', 's', 'e', 'l', 'f', '-', 'm', 'o', 't', 'i', 'v', 'a', 't', 'e', 'd', ' ', 'a', 'n', 'd', ' ', 't', 'e', 'a', 'm', '-', 'o', 'r', 'i', 'e', 'n', 't', 'e', 'd', ' ', 'i', 'n', 'd', 'i', 'v', 'i', 'd', 'u', 'a', 'l', '.', 'C', 'O', 'N', 'T', 'A', 'C', 'T', '+', '9', '1', '-', '9', '0', '9', '2', '5', '1', '6', '9', '7', '0', 'r', 'a', 'j', 'n', 'i', 's', 'h', 'r', 'a', 'j', 'p', 'u', 't', '1', '2', '@', 'g', 'm', 'a', 'i', 'l', '.', 'c', 'o', 'm', 'g', 'i', 't', 'h', 'u', 'b', '.', 'c', 'o', 'm', '/', 'r', 'a', 'j', 'n', 'i', 's', 'h', 'r', 'a', 'j', 'p', 'u', 't', '1', '2', ' ', 'H', 'y', 'd', 'e', 'r', 'a', 'b', 'a', 'd', 'S', 'K', 'I', 'L', 'L', 'S', 'S', 'Q', 'L', ' ', ' ', ' ', ' ', ' ', ' ', ' ', ' ', ' ', 'M', 'L', ' ', ' ', ' ', ' ', ' ', ' ', ' ', ' ', ' ', 'P', 'y', 't', 'h', 'o', 'n', ' ', ' ', ' ', ' ', ' ', ' ', ' ', ' ', ' ', 'N', 'L', 'P', ' ', ' ', ' ', ' ', ' ', ' ', ' ', ' ', 'D', 'e', 'e', 'p', ' ', 'L', 'e', 'a', 'r', 'n', 'i', 'n', 'g', ' ', ' ', ' ', ' ', ' ', ' ', ' ', ' ', ' ', ' ', ' ', ' ', ' ', ' ', ' ', ' ', ' ', ' ', ' ', ' ', ' ', ' ', ' ', ' ', ' ', ' ', ' ', ' ', ' ', ' ', ' ', ' ', 'S', 'K', 'I', 'L', 'L', ' ', 'H', 'I', 'G', 'H', 'L', 'I', 'G', 'H', 'T', 'S', 'G', 'o', 'o', 'd', ' ', 'h', 'a', 'n', 'd', 's', ' ', 'o', 'n', ' ', 'i', 'n', ' ', 'M', 'a', 'c', 'h', 'i', 'n', 'e', ' ', 'l', 'e', 'a', 'r', 'n', 'i', 'n', 'g', ' ', 'a', 'n', 'd', ' ', 't', 'o', 'o', 'l', 's', 'S', 't', 'r', 'o', 'n', 'g', ' ', 'u', 'n', 'd', 'e', 'r', 's', 't', 'a', 'n', 'd', 'i', 'n', 'g', ' ', 'o', 'f', ' ', 'b', 'a', 's', 'i', 'c', ' ', 'c', 'o', 'n', 'c', 'e', 'p', 't', 's', ' ', 'o', 'f', ' ', 's', 't', 'a', 't', 'i', 's', 't', 'i', 'c', 's', ' ', 'i', 'n', 'c', 'l', 'u', 'd', 'i', 'n', 'g', ' ', 'p', 'o', 'p', 'u', 'l', 'a', 't', 'i', 'o', 'n', ',', ' ', 'd', 'i', 's', 't', 'r', 'i', 'b', 'u', 't', 'i', 'o', 'n', ',', ' ', 's', 'i', 'g', 'n', 'i', 'f', 'i', 'c', 'a', 'n', 'c', 'e', ',', ' ', 'h', 'y', 'p', 'o', 't', 'h', 'e', 's', 'i', 's', ' ', 't', 'e', 's', 't', 'i', 'n', 'g', 'E', 'x', 'c', 'e', 'l', 'l', 'e', 'n', 't', ' ', 'k', 'n', 'o', 'w', 'l', 'e', 'd', 'g', 'e', ' ', 'o', 'f', ' ', 'M', 'L', ' ', 'i', 'n', 'c', 'l', 'u', 'd', 'i', 'n', 'g', ' ', 'l', 'i', 'n', 'e', 'a', 'r', '/', 'l', 'o', 'g', 'i', 's', 't', 'i', 'c', ',', ' ', 'r', 'a', 'n', 'd', 'o', 'm', ' ', 'f', 'o', 'r', 'e', 's', 't', ',', ' ', 'd', 'e', 'c', 'i', 's', 'i', 'o', 'n', ' ', 't', 'r', 'e', 'e', ',', ' ', 'c', 'l', 'a', 's', 's', 'i', 'f', 'i', 'c', 'a', 't', 'i', 'o', 'n', ',', ' ', 'c', 'l', 'u', 's', 't', 'e', 'r', 'i', 'n', 'g', ' ', 't', 'e', 'c', 'h', 'n', 'i', 'q', 'u', 'e', '.', 'G', 'o', 'o', 'd', ' ', 'k', 'n', 'o', 'w', 'l', 'e', 'd', 'g', 'e', ' ', 'o', 'n', ' ', 'N', 'L', 'P', ',', ' ', 't', 'e', 'x', 't', ' ', 'c', 'l', 'a', 's', 's', 'i', 'f', 'i', 'c', 'a', 't', 'i', 'o', 'n', ',', ' ', 't', 'o', 'p', 'i', 'c', ' ', 'm', 'o', 'd', 'e', 'l', 'l', 'i', 'n', 'g', 'G', 'o', 'o', 'd', ' ', 'u', 'n', 'd', 'e', 'r', 's', 't', 'a', 'n', 'd', 'i', 'n', 'g', ' ', 'o', 'f', ' ', 't', 'i', 'm', 'e', ' ', 's', 'e', 'r', 'i', 'e', 's', ' ', 'a', 'n', 'a', 'l', 'y', 's', 'i', 's', ' ', 'a', 'n', 'd', ' ', 'f', 'o', 'r', 'e', 'c', 'a', 's', 't', 'i', 'n', 'g', '.', 'G', 'o', 'o', 'd', ' ', 'k', 'n', 'o', 'w', 'l', 'e', 'd', 'g', 'e', ' ', 'o', 'f', ' ', 'd', 'e', 'e', 'p', ' ', 'l', 'e', 'a', 'r', 'n', 'i', 'n', 'g', ' ', 'a', 'n', 'd', ' ', 'n', 'e', 'u', 'r', 'a', 'l', ' ', 'n', 'e', 't', 'w', 'o', 'r', 'k', 's', 'S', 't', 'r', 'o', 'n', 'g', ' ', 'h', 'a', 'n', 'd', 's', ' ', 'o', 'n', ' ', 'P', 'y', 't', 'h', 'o', 'n', ' ', 'a', 'n', 'd', ' ', 'j', 'a', 'v', 'a', 'S', 't', 'r', 'o', 'n', 'g', ' ', 'u', 'n', 'd', 'e', 'r', 's', 't', 'a', 'n', 'd', 'i', 'n', 'g', ' ', 'o', 'f', ' ', 'A', 'g', 'i', 'l', 'e', ' ', 'm', 'e', 't', 'h', 'o', 'd', 'o', 'l', 'o', 'g', 'y', ' ', 'E', 'x', 'c', 'e', 'l', 'l', 'e', 'n', 't', ' ', 'k', 'n', 'o', 'w', 'l', 'e', 'd', 'g', 'e', ' ', 'o', 'f', ' ', 'S', 'Q', 'L', ' ', 'a', 'n', 'd', ' ', 'w', 'a', 'r', 'e', 'h', 'o', 'u', 's', 'e', '.', 'W', 'O', 'R', 'K', ' ', 'E', 'X', 'P', 'E', 'R', 'I', 'E', 'N', 'C', 'E', 'A', 'D', 'P', ' ', 's', 'o', 'l', 'u', 't', 'i', 'o', 'n', 's', ' ', 'D', 'a', 't', 'a', 'c', 'l', 'o', 'u', 'd', 'J', 'a', 'n', '-', '2', '0', '1', '6', ' ', '–', ' ', 't', 'i', 'l', 'l', ' ', 'd', 'a', 't', 'e', 'D', 'a', 't', 'a', ' ', 's', 'c', 'i', 'e', 'n', 't', 'i', 's', 't', 'T', 'i', 'm', 'e', ' ', 'E', 'x', 'p', 'l', 'o', 'r', 'e', 'r', '-', ' ', 'B', 'u', 'i', 'l', 't', ' ', 'e', 'x', 'p', 'l', 'a', 'n', 'a', 't', 'o', 'r', 'y', ' ', 'r', 'a', 'n', 'd', 'o', 'm', ' ', 'f', 'o', 'r', 'e', 's', 't', ' ', 'R', 'e', 'g', 'r', 'e', 's', 's', 'o', 'r', ' ', 'm', 'o', 'd', 'e', 'l', ' ', 'w', 'h', 'i', 'c', 'h', ' ', 'p', 'r', 'e', 'd', 'i', 'c', 't', 's', ' ', 'n', 'u', 'm', 'b', 'e', 'r', ' ', 'o', 'f', ' ', 'A', 'b', 's', 'e', 'n', 'c', 'e', ' ', 'h', 'o', 'u', 'r', '’', 's', ' ', 'a', ' ', 'g', 'r', 'o', 'u', 'p', ' ', 'o', 'f', ' ', 'e', 'm', 'p', 'l', 'o', 'y', 'e', 'e', ' ', 'w', 'i', 'l', 'l', ' ', 't', 'a', 'k', 'e', ' ', 'i', 'n', ' ', 'a', ' ', 'q', 'u', 'a', 'r', 't', 'e', 'r', '.', 'E', 'm', 'p', 'l', 'o', 'y', 'e', 'e', ' ', 'c', 'h', 'u', 'r', 'n', ' ', 'P', 'r', 'o', 'b', 'a', 'b', 'i', 'l', 'i', 't', 'y', '-', ' ', 'C', 'l', 'a', 's', 's', 'i', 'f', 'i', 'c', 'a', 't', 'i', 'o', 'n', ' ', 'm', 'o', 'd', 'e', 'l', ' ', 'w', 'h', 'i', 'c', 'h', ' ', 'c', 'l', 'a', 's', 's', 'i', 'f', 'i', 'e', 's', ' ', 'n', 'u', 'm', 'b', 'e', 'r', ' ', 'o', 'f', ' ', 'e', 'm', 'p', 'l', 'o', 'y', 'e', 'e', ' ', 'm', 'o', 's', 't', ' ', 'l', 'i', 'k', 'e', 'l', 'y', ' ', 't', 'o', ' ', 'l', 'e', 'a', 'v', 'e', ' ', 't', 'h', 'e', ' ', 'o', 'r', 'g', 'a', 'n', 'i', 'z', 'a', 't', 'i', 'o', 'n', ' ', 'u', 's', 'i', 'n', 'g', ' ', 'R', 'a', 'n', 'd', 'o', 'm', ' ', 'f', 'o', 'r', 'e', 's', 't', ' ', 'c', 'l', 'a', 's', 's', 'i', 'f', 'i', 'e', 'r', '.', ' ', 'P', 'a', 'y', 'c', 'o', 'd', 'e', ' ', 'C', 'l', 'a', 's', 's', 'i', 'f', 'i', 'c', 'a', 't', 'i', 'o', 'n', '-', ' ', 'C', 'l', 'a', 's', 's', 'i', 'f', 'y', ' ', 'c', 'l', 'i', 'e', 'n', 't', '’', 's', ' ', 'p', 'a', 'y', 'c', 'o', 'd', 'e', ' ', 'a', 'n', 'd', ' ', 't', 'a', 'g', 's', ' ', 'i', 't', ' ', 't', 'o', ' ', 'g', 'e', 'n', 'e', 'r', 'a', 'l', ' ', 'P', 'a', 'y', 'c', 'o', 'd', 'e', ' ', 'c', 'a', 't', 'e', 'g', 'o', 'r', 'y', ' ', 'l', 'i', 'k', 'e', ' ', 'A', 'b', 's', 'e', 'n', 'c', 'e', ' ', 'o', 'r', ' ', 'O', 'v', 'e', 'r', 't', 'i', 'm', 'e', ' ', 'o', 'r', ' ', 'R', 'e', 'g', 'u', 'l', 'a', 'r', ' ', 'e', 't', 'c', '.', ' ', 'u', 's', 'i', 'n', 'g', ' ', 'S', 'u', 'p', 'p', 'o', 'r', 't', ' ', 'v', 'e', 'c', 't', 'o', 'r', ' ', 'm', 'a', 'c', 'h', 'i', 'n', 'e', '.', ' ', 'I', 'n', 's', 'i', 'g', 'h', 't', ' ', 'r', 'e', 'c', 'o', 'm', 'm', 'e', 'n', 'd', 'e', 'r', '-', 'B', 'u', 'i', 'l', 't', ' ', 'a', ' ', 'R', 'e', 'c', 'o', 'm', 'm', 'e', 'n', 'd', 'e', 'r', ' ', 's', 'y', 's', 't', 'e', 'm', ' ', 'w', 'h', 'i', 'c', 'h', ' ', 'r', 'e', 'c', 'o', 'm', 'm', 'e', 'n', 'd', 's', ' ', 'r', 'e', 'l', 'a', 't', 'e', 'd', ' ', 'i', 'n', 's', 'i', 'g', 'h', 't', 's', ' ', 't', 'o', ' ', 'c', 'l', 'i', 'e', 'n', 't', ' ', 'b', 'a', 's', 'e', 'd', ' ', 'o', 'n', ' ', 'c', 'o', 's', 'i', 'n', 'e', ' ', 's', 'i', 'm', 'i', 'l', 'a', 'r', 'i', 't', 'y', ' ', 'o', 'f', ' ', 'i', 'n', 's', 'i', 'g', 'h', 't', 's', '.', 'S', 'e', 'n', 't', 'i', 'm', 'e', 'n', 't', ' ', 'a', 'n', 'a', 'l', 'y', 's', 'i', 's', ':', '-', 'S', 'c', 'r', 'a', 'p', 'e', 'd', ' ', 'c', 'l', 'e', 'a', 'n', 'e', 'd', ' ', 'c', 'l', 'i', 'e', 'n', 't', ' ', 'f', 'e', 'e', 'd', 'b', 'a', 'c', 'k', ' ', 'd', 'a', 't', 'a', ' ', 'a', 'n', 'd', ' ', 'c', 'a', 't', 'e', 'g', 'o', 'r', 'i', 'z', 'e', ' ', 't', 'h', 'e', 'm', ' ', 'w', 'i', 't', 'h', ' ', 's', 'e', 'n', 't', 'i', 'm', 'e', 'n', 't', 'a', 'l', ' ', 'a', 'n', 'a', 'l', 'y', 's', 'i', 's', ' ', 'a', 'n', 'd', ' ', 'p', 'i', 'p', 'e', 'l', 'i', 'n', 'e', ' ', 'i', 't', ' ', 't', 'o', ' ', 't', 'e', 'a', 'm', '.', 'T', 'r', 'i', 'p', 'l', 'e', 'd', ' ', 't', 'h', 'e', ' ', 'a', 'c', 'c', 'u', 'r', 'a', 'c', 'y', ' ', 'o', 'f', ' ', 'r', 'e', 'g', 'r', 'e', 's', 's', 'i', 'o', 'n', ' ', 'm', 'o', 'd', 'e', 'l', ' ', 't', 'o', ' ', 'p', 'r', 'e', 'd', 'i', 'c', 't', ' ', 'a', 'b', 's', 'e', 'n', 'c', 'e', ' ', 'h', 'o', 'u', 'r', 'G', 'a', 't', 'h', 'e', 'r', 'i', 'n', 'g', ' ', 'c', 'l', 'i', 'e', 'n', 't', ' ', 'f', 'e', 'e', 'd', 'b', 'a', 'c', 'k', ' ', 'u', 's', 'i', 'n', 'g', ' ', 'T', 'w', 'e', 'e', 'p', 'y', ' ', 'A', 'P', 'I', ' ', 'i', 'n', ' ', 'p', 'y', 't', 'h', 'o', 'n', 'd', 'a', 't', 'a', ' ', 'c', 'l', 'e', 'a', 'n', ' ', 'u', 'p', ',', ' ', 'e', 'x', 'p', 'l', 'o', 'r', 'a', 't', 'o', 'r', 'y', ' ', 'a', 'n', 'a', 'l', 'y', 's', 'i', 's', ' ', 'o', 'f', ' ', 't', 'h', 'e', ' ', 'd', 'a', 't', 'a', ' ', 'o', 'f', ' ', 'm', 'u', 'l', 't', 'i', 'p', 'l', 'e', ' ', 'c', 'l', 'i', 'e', 'n', 't', 'd', 'a', 't', 'a', ' ', 'g', 'a', 't', 'h', 'e', 'r', 'i', 'n', 'g', ' ', 'f', 'r', 'o', 'm', ' ', 'H', 'u', 'e', '(', 'i', 'm', 'p', 'a', 'l', 'a', ' ', 'o', 'r', ' ', 'H', 'i', 'v', 'e', ')', ' ', 'w', 'i', 't', 'h', ' ', 'c', 'o', 'm', 'p', 'l', 'e', 'x', ' ', 'q', 'u', 'e', 'r', 'i', 'e', 's', ' ', 'a', 'n', 'd', ' ', ' ', 'd', 'o', 'm', 'a', 'i', 'n', ' ', 'k', 'n', 'o', 'w', 'l', 'e', 'd', 'g', 'e', 'D', 'a', 't', 'a', ' ', 'q', 'u', 'a', 'l', 'i', 't', 'y', ' ', 'c', 'h', 'e', 'c', 'k', ' ', 'o', 'n', ' ', 't', 'h', 'e', ' ', 'm', 'e', 't', 'r', 'i', 'c', 's', ' ', 'g', 'i', 'v', 'e', 'n', ' ', 't', 'o', ' ', 'c', 'l', 'i', 'e', 'n', 't', ' ', 'u', 's', 'i', 'n', 'g', ' ', 'A', 'P', 'I', ' ', 'a', 'u', 't', 'o', 'm', 'a', 't', 'i', 'o', 'n', 'D', 'a', 't', 'a', ' ', 'v', 'a', 'l', 'i', 'd', 'a', 't', 'i', 'o', 'n', ' ', 'f', 'r', 'o', 'm', ' ', 's', 'o', 'u', 'r', 'c', 'e', ' ', 't', 'o', ' ', 't', 'a', 'r', 'g', 'e', 't', ' ', 'W', 'r', 'i', 't', 'i', 'n', 'g', ' ', 's', 'e', 'l', 'e', 'n', 'i', 'u', 'm', ' ', 's', 'c', 'r', 'i', 'p', 't', 's', ' ', 't', 'o', ' ', 'v', 'a', 'l', 'i', 'd', 'a', 't', 'e', ' ', 'M', 'e', 't', 'r', 'i', 'c', 's', '.', 'W', 'o', 'r', 'k', ' ', 'c', 'l', 'o', 's', 'e', 'l', 'y', ' ', 'w', 'i', 't', 'h', ' ', 'U', 'I', ' ', 'd', 'e', 'v', 'e', 'l', 'o', 'p', 'e', 'r', ' ', 't', 'o', ' ', 't', 'e', 's', 't', ' ', 't', 'h', 'e', ' ', 'm', 'e', 't', 'r', 'i', 'c', ' ', 'a', 'n', 'd', ' ', 'm', 'o', 'd', 'e', 'l', ' ', ' ', 'R', 'e', 's', 'p', 'o', 'n', 's', 'i', 'b', 'l', 'e', ' ', 'f', 'o', 'r', ' ', 'd', 'e', 'l', 'i', 'v', 'e', 'r', 'i', 'n', 'g', ' ', 'a', 'n', 'y', ' ', 'c', 'l', 'i', 'e', 'n', 't', ' ', 'f', 'e', 'e', 'd', 'b', 'a', 'c', 'k', ' ', 'o', 'r', ' ', 'h', 'o', 't', 'f', 'i', 'x', 'e', 's', 'T', 'o', 'o', 'l', 's', ':', '-', ' ', 'P', 'y', 't', 'h', 'o', 'n', ',', 'O', 'r', 'a', 'c', 'l', 'e', ',', 'H', 'i', 'v', 'e', 'A', 'c', 'c', 'e', 'n', 't', 'u', 'r', 'e', ' ', 'M', 'i', 'c', 'r', 'o', 's', 'o', 'f', 't', 'B', 'u', 's', 'i', 'n', 'e', 's', 's', ' ', 'i', 'n', 't', 'e', 'l', 'l', 'i', 'g', 'e', 'n', 'c', 'e', ' ', 'd', 'e', 'v', 'e', 'l', 'o', 'p', 'e', 'r', ' ', 'A', 'u', 'g', '-', '2', '0', '1', '3', ' ', '–', ' ', 'J', 'a', 'n', '-', '2', '0', '1', '6', 'C', 'r', 'e', 'a', 't', 'i', 'n', 'g', ' ', 'S', 'S', 'R', 'S', ' ', 'r', 'e', 'p', 'o', 'r', 't', 's', ' ', 'o', 'f', ' ', 'w', 'i', 'n', 'd', 'o', 'w', 's', ' ', 's', 'a', 'l', 'e', 's', ' ', 'f', 'o', 'r', ' ', 'v', 'a', 'r', 'i', 'o', 'u', 's', ' ', 'O', 'E', 'M', '.', 'C', 'r', 'e', 'a', 't', 'i', 'n', 'g', ' ', 'S', 'S', 'I', 'S', ' ', 'p', 'a', 'c', 'k', 'a', 'g', 'e', 's', ' ', 't', 'o', ' ', 'p', 'u', 'l', 'l', ' ', 't', 'h', 'e', ' ', 'd', 'a', 't', 'a', ' ', 'f', 'r', 'o', 'm', ' ', 'O', 'A', ' ', 'm', 'a', 'r', 't', ' ', 't', 'o', ' ', 'w', 'a', 'r', 'e', 'h', 'o', 'u', 's', 'e', 'V', 'a', 'l', 'i', 'd', 'a', 't', 'i', 'n', 'g', ' ', 'S', 'S', 'R', 'S', ',', ' ', 'S', 'S', 'A', 'S', ' ', 'a', 'n', 'd', ' ', ' ', 'e', 'x', 'c', 'e', 'l', ' ', 'p', 'i', 'v', 'o', 't', ' ', 'r', 'e', 'p', 'o', 'r', 't', 's', ' ', 'f', 'r', 'o', 'm', ' ', 's', 'o', 'u', 'r', 'c', 'e', ' ', 't', 'o', ' ', 't', 'a', 'r', 'g', 'e', 't', 'S', 'Q', 'L', ' ', 's', 'c', 'r', 'i', 'p', 't', 's', ',', ' ', 'M', 'S', 'B', 'I', ' ', 'a', 'n', 'd', ' ', 'S', 'Q', 'L', '-', 'S', 'E', 'R', 'V', 'E', 'R', ' ', 'A', 'u', 't', 'o', 'm', 'a', 't', 'e', ' ', 't', 'h', 'e', ' ', 't', 'a', 's', 'k', ' ', 'a', 'n', 'd', ' ', 'd', 'e', 'f', 'e', 'c', 't', ' ', 'c', 'r', 'e', 'a', 't', 'i', 'o', 'n', ' ', 'i', 'n', ' ', 'V', 'S', 'T', 'F', ' ', 'f', 'r', 'o', 'm', ' ', 'e', 'x', 'c', 'e', 'l', ' ', 'u', 's', 'i', 'n', 'g', ' ', 'c', '#', 'C', 'r', 'e', 'a', 't', 'i', 'n', 'g', ' ', 'j', 'o', 'b', ' ', 't', 'o', ' ', 'p', 'u', 'l', 'l', ' ', 'f', 'u', 'l', 'l', ' ', 'a', 'n', 'd', ' ', 'i', 'n', 'c', 'r', 'e', 'm', 'e', 'n', 't', 'a', 'l', ' ', 'd', 'a', 't', 'a', ' ', 'l', 'o', 'a', 'd', 's', ' ', 'u', 's', 'i', 'n', 'g', ' ', 'S', 'S', 'I', 'S', ' ', 's', 'c', 'h', 'e', 'd', 'u', 'l', 'e', 'r', 'T', 'o', 'o', 'l', 's', ':', '-', ' ', 'S', 'S', 'I', 'S', ',', 'S', 'S', 'R', 'S', ',', 'M', 'S', '-', 'S', 'Q', 'L', '-', 'S', 'e', 'r', 'v', 'e', 'r', 'E', 'D', 'U', 'C', 'A', 'T', 'I', 'O', 'N', 'B', '.', 't', 'e', 'c', 'h', ' ', 'i', 'n', ' ', 'C', 'o', 'm', 'p', 'u', 't', 'e', 'r', ' ', 's', 'c', 'i', 'e', 'n', 'c', 'e', ' ', 'a', 'n', 'd', ' ', 'e', 'n', 'g', 'i', 'n', 'e', 'e', 'r', 'i', 'n', 'g', 'V', 'I', 'T', ' ', 'V', 'e', 'l', 'l', 'o', 'r', 'e', ' ', '2', '0', '0', '9', '-', '2', '0', '1', '3', 'A', 'w', 'a', 'r', 'd', 's', ' ', '&', ' ', 'R', 'e', 'c', 'o', 'g', 'n', 'i', 't', 'i', 'o', 'n', ' ', '‘', 'A', 'C', 'E', '-', 'A', 'w', 'a', 'r', 'd', '’', ' ', 'f', 'o', 'r', ' ', 'p', 'e', 'r', 'f', 'o', 'r', 'm', 'i', 'n', 'g', ' ', 'c', 'o', 'n', 's', 'i', 's', 't', 'e', 'n', 't', 'l', 'y', ' ', 'a', 'b', 'o', 'v', 'e', ' ', 't', 'h', 'e', ' ', 'p', 'e', 'e', 'r', ' ', 'g', 'r', 'o', 'u', 'p', ' ', 'c', 'o', 'n', 'd', 'u', 'c', 't', 'i', 'n', 'g', ' ', 'B', 'a', 'y', ' ', 'G', 'a', 'm', 'e', 's', ',', ' ', 'o', 'r', 'g', 'a', 'n', 'i', 'z', 'i', 'n', 'g', ' ', 'D', 'e', 'l', 'i', 'v', 'e', 'r', 'y', ' ', 'U', 'n', 'i', 't', 's', ' ', 'o', 'u', 't', 'i', 'n', 'g', 's', '.', 'B', 'e', 's', 't', ' ', 'p', 'e', 'r', 'f', 'o', 'r', 'm', 'e', 'r', ' ', 'o', 'f', ' ', 't', 'h', 'e', ' ', 'Q', 'u', 'a', 'r', 't', 'e', 'r', ' ', 'f', 'o', 'r', ' ', 'w', 'o', 'r', 'k', 'i', 'n', 'g', ' ', 'c', 'l', 'o', 's', 'e', 'l', 'y', ' ', 'w', 'i', 't', 'h', ' ', 'p', 'e', 'e', 'r', 's', ' ', 'a', 'n', 'd', ' ', 'd', 'e', 'l', 'i', 'v', 'e', 'r', 'i', 'n', 'g', ' ', 'b', 'u', 'g', ' ', 'f', 'r', 'e', 'e', ' ', 'f', 'e', 'a', 't', 'u', 'r', 'e', 'E', 'x', 't', 'e', 'r', 'n', 'a', 'l', ' ', 'l', 'i', 'n', 'k', ':', '-', 'h', 't', 't', 'p', 's', ':', '/', '/', 'g', 'i', 't', 'h', 'u', 'b', '.', 'c', 'o', 'm', '/', 'r', 'a', 'j', 'n', 'i', 's', 'h', 'r', 'a', 'j', 'p', 'u', 't', '1', '2', '/', 'M', 'a', 'c', 'h', 'i', 'n', 'e', 'L', 'e', 'a', 'r', 'n', 'i', 'n', 'g']\n"
     ]
    }
   ],
   "source": [
    "print(list(data_no_line))"
   ]
  },
  {
   "cell_type": "code",
   "execution_count": 29,
   "metadata": {},
   "outputs": [
    {
     "name": "stdout",
     "output_type": "stream",
     "text": [
      "RajnishKumarData scientistPROFILEData scientist with 3 years of machine learning and Analytics development . A self-motivated and team-oriented individual.CONTACT+91-9092516970rajnishrajput12 @ gmail.comgithub.com/rajnishrajput12 HyderabadSKILLSSQL ML Python NLP Deep Learning SKILL HIGHLIGHTSGood hands on in Machine learning and toolsStrong understanding of basic concepts of statistics including population , distribution , significance , hypothesis testingExcellent knowledge of ML including linear/logistic , random forest , decision tree , classification , clustering technique.Good knowledge on NLP , text classification , topic modellingGood understanding of time series analysis and forecasting.Good knowledge of deep learning and neural networksStrong hands on Python and javaStrong understanding of Agile methodology Excellent knowledge of SQL and warehouse.WORK EXPERIENCEADP solutions DatacloudJan-2016 – till dateData scientistTime Explorer- Built explanatory random forest Regressor model which predicts number of Absence hour ’ s a group of employee will take in a quarter.Employee churn Probability- Classification model which classifies number of employee most likely to leave the organization using Random forest classifier . Paycode Classification- Classify client ’ s paycode and tags it to general Paycode category like Absence or Overtime or Regular etc . using Support vector machine . Insight recommender-Built a Recommender system which recommends related insights to client based on cosine similarity of insights.Sentiment analysis : -Scraped cleaned client feedback data and categorize them with sentimental analysis and pipeline it to team.Tripled the accuracy of regression model to predict absence hourGathering client feedback using Tweepy API in pythondata clean up , exploratory analysis of the data of multiple clientdata gathering from Hue ( impala or Hive ) with complex queries and domain knowledgeData quality check on the metrics given to client using API automationData validation from source to target Writing selenium scripts to validate Metrics.Work closely with UI developer to test the metric and model Responsible for delivering any client feedback or hotfixesTools : - Python , Oracle , HiveAccenture MicrosoftBusiness intelligence developer Aug-2013 – Jan-2016Creating SSRS reports of windows sales for various OEM.Creating SSIS packages to pull the data from OA mart to warehouseValidating SSRS , SSAS and excel pivot reports from source to targetSQL scripts , MSBI and SQL-SERVER Automate the task and defect creation in VSTF from excel using c # Creating job to pull full and incremental data loads using SSIS schedulerTools : - SSIS , SSRS , MS-SQL-ServerEDUCATIONB.tech in Computer science and engineeringVIT Vellore 2009-2013Awards & Recognition ‘ ACE-Award ’ for performing consistently above the peer group conducting Bay Games , organizing Delivery Units outings.Best performer of the Quarter for working closely with peers and delivering bug free featureExternal link : -https : //github.com/rajnishrajput12/MachineLearning\n"
     ]
    }
   ],
   "source": [
    "print(\" \".join(word_tokenize(data_no_line)))"
   ]
  },
  {
   "cell_type": "code",
   "execution_count": 102,
   "metadata": {},
   "outputs": [],
   "source": [
    "punc = set(string.punctuation)\n",
    "def clea(text):\n",
    "    token = word_tokenize(text)\n",
    "    no_line = [re.sub(r'\\n','',word) for word in token]\n",
    "    no_punc = [word for word in no_line if not word in punc]\n",
    "    no_atDrate = [re.sub(r'\\@','',word) for word in no_punc]\n",
    "    word_alpha = [word for word in no_atDrate if word.isalpha()] \n",
    "    word_alpha = pos_tag(word_alpha)\n",
    "    word_noun = [word for word,pos in word_alpha if(pos=='NN' or pos=='NNS') ]\n",
    "    return word_noun"
   ]
  },
  {
   "cell_type": "code",
   "execution_count": 103,
   "metadata": {},
   "outputs": [],
   "source": [
    "text = clea(data_no_line)"
   ]
  },
  {
   "cell_type": "code",
   "execution_count": 104,
   "metadata": {},
   "outputs": [
    {
     "data": {
      "text/plain": [
       "['scientistPROFILEData',\n",
       " 'scientist',\n",
       " 'years',\n",
       " 'machine',\n",
       " 'learning',\n",
       " 'development',\n",
       " 'hands',\n",
       " 'learning',\n",
       " 'understanding',\n",
       " 'concepts',\n",
       " 'statistics',\n",
       " 'population',\n",
       " 'distribution',\n",
       " 'significance',\n",
       " 'hypothesis',\n",
       " 'testingExcellent',\n",
       " 'knowledge',\n",
       " 'decision',\n",
       " 'tree',\n",
       " 'classification',\n",
       " 'knowledge',\n",
       " 'text',\n",
       " 'classification',\n",
       " 'topic',\n",
       " 'understanding',\n",
       " 'time',\n",
       " 'series',\n",
       " 'analysis',\n",
       " 'knowledge',\n",
       " 'learning',\n",
       " 'hands',\n",
       " 'understanding',\n",
       " 'methodology',\n",
       " 'knowledge',\n",
       " 'solutions',\n",
       " 'dateData',\n",
       " 'random',\n",
       " 'model',\n",
       " 'number',\n",
       " 'hour',\n",
       " 'group',\n",
       " 'employee',\n",
       " 'churn',\n",
       " 'model',\n",
       " 'number',\n",
       " 'employee',\n",
       " 'organization',\n",
       " 'classifier',\n",
       " 'client',\n",
       " 's',\n",
       " 'paycode',\n",
       " 'category',\n",
       " 'vector',\n",
       " 'machine',\n",
       " 'system',\n",
       " 'insights',\n",
       " 'client',\n",
       " 'similarity',\n",
       " 'analysis',\n",
       " 'client',\n",
       " 'feedback',\n",
       " 'data',\n",
       " 'analysis',\n",
       " 'pipeline',\n",
       " 'accuracy',\n",
       " 'regression',\n",
       " 'model',\n",
       " 'absence',\n",
       " 'client',\n",
       " 'feedback',\n",
       " 'pythondata',\n",
       " 'analysis',\n",
       " 'data',\n",
       " 'clientdata',\n",
       " 'impala',\n",
       " 'queries',\n",
       " 'domain',\n",
       " 'knowledgeData',\n",
       " 'quality',\n",
       " 'check',\n",
       " 'metrics',\n",
       " 'client',\n",
       " 'validation',\n",
       " 'source',\n",
       " 'selenium',\n",
       " 'scripts',\n",
       " 'developer',\n",
       " 'model',\n",
       " 'client',\n",
       " 'feedback',\n",
       " 'hotfixesTools',\n",
       " 'intelligence',\n",
       " 'developer',\n",
       " 'reports',\n",
       " 'windows',\n",
       " 'sales',\n",
       " 'packages',\n",
       " 'data',\n",
       " 'pivot',\n",
       " 'reports',\n",
       " 'source',\n",
       " 'scripts',\n",
       " 'task',\n",
       " 'creation',\n",
       " 'excel',\n",
       " 'job',\n",
       " 'data',\n",
       " 'loads',\n",
       " 'science',\n",
       " 'engineeringVIT',\n",
       " 'peer',\n",
       " 'group',\n",
       " 'performer',\n",
       " 'peers',\n",
       " 'featureExternal',\n",
       " 'link']"
      ]
     },
     "execution_count": 104,
     "metadata": {},
     "output_type": "execute_result"
    }
   ],
   "source": [
    "text"
   ]
  },
  {
   "cell_type": "code",
   "execution_count": 105,
   "metadata": {},
   "outputs": [],
   "source": [
    "CV = CountVectorizer()\n",
    "DTM = CV.fit_transform(list(text))"
   ]
  },
  {
   "cell_type": "code",
   "execution_count": 106,
   "metadata": {},
   "outputs": [],
   "source": [
    "sparse = scipy.sparse.csr_matrix(DTM.transpose())\n",
    "corpus = matutils.Sparse2Corpus(sparse)"
   ]
  },
  {
   "cell_type": "code",
   "execution_count": 108,
   "metadata": {
    "collapsed": true
   },
   "outputs": [],
   "source": [
    "id2Word = dict((v,k) for k,v in CV.vocabulary_.items())"
   ]
  },
  {
   "cell_type": "code",
   "execution_count": 117,
   "metadata": {},
   "outputs": [],
   "source": [
    "resume_topic_model = models.LdaModel(corpus=corpus,num_topics=20,passes=100,id2word=id2Word)"
   ]
  },
  {
   "cell_type": "code",
   "execution_count": 118,
   "metadata": {
    "scrolled": true
   },
   "outputs": [
    {
     "data": {
      "text/plain": [
       "[(0,\n",
       "  '0.203*\"employee\" + 0.104*\"pipeline\" + 0.104*\"job\" + 0.104*\"solutions\" + 0.104*\"task\" + 0.005*\"client\" + 0.005*\"random\" + 0.005*\"queries\" + 0.005*\"pythondata\" + 0.005*\"sales\"'),\n",
       " (1,\n",
       "  '0.172*\"impala\" + 0.172*\"hour\" + 0.008*\"queries\" + 0.008*\"pythondata\" + 0.008*\"science\" + 0.008*\"sales\" + 0.008*\"reports\" + 0.008*\"regression\" + 0.008*\"random\" + 0.008*\"scientistprofiledata\"'),\n",
       " (2,\n",
       "  '0.148*\"domain\" + 0.148*\"statistics\" + 0.148*\"clientdata\" + 0.007*\"queries\" + 0.007*\"pythondata\" + 0.007*\"science\" + 0.007*\"sales\" + 0.007*\"reports\" + 0.007*\"regression\" + 0.007*\"random\"'),\n",
       " (3,\n",
       "  '0.365*\"analysis\" + 0.185*\"machine\" + 0.095*\"creation\" + 0.005*\"random\" + 0.005*\"reports\" + 0.005*\"queries\" + 0.005*\"science\" + 0.005*\"regression\" + 0.005*\"population\" + 0.005*\"sales\"'),\n",
       " (4,\n",
       "  '0.309*\"model\" + 0.156*\"source\" + 0.080*\"intelligence\" + 0.080*\"windows\" + 0.080*\"text\" + 0.004*\"quality\" + 0.004*\"random\" + 0.004*\"reports\" + 0.004*\"regression\" + 0.004*\"queries\"'),\n",
       " (5,\n",
       "  '0.275*\"feedback\" + 0.095*\"significance\" + 0.095*\"link\" + 0.095*\"insights\" + 0.095*\"validation\" + 0.005*\"scripts\" + 0.005*\"number\" + 0.005*\"vector\" + 0.005*\"random\" + 0.005*\"quality\"'),\n",
       " (6,\n",
       "  '0.275*\"learning\" + 0.095*\"quality\" + 0.095*\"methodology\" + 0.095*\"science\" + 0.095*\"packages\" + 0.005*\"random\" + 0.005*\"reports\" + 0.005*\"regression\" + 0.005*\"sales\" + 0.005*\"pivot\"'),\n",
       " (7,\n",
       "  '0.462*\"client\" + 0.156*\"reports\" + 0.080*\"time\" + 0.004*\"analysis\" + 0.004*\"random\" + 0.004*\"queries\" + 0.004*\"pythondata\" + 0.004*\"sales\" + 0.004*\"regression\" + 0.004*\"science\"'),\n",
       " (8,\n",
       "  '0.252*\"data\" + 0.252*\"knowledge\" + 0.127*\"number\" + 0.065*\"vector\" + 0.065*\"paycode\" + 0.003*\"queries\" + 0.003*\"quality\" + 0.003*\"reports\" + 0.003*\"regression\" + 0.003*\"random\"'),\n",
       " (9,\n",
       "  '0.172*\"loads\" + 0.172*\"development\" + 0.008*\"quality\" + 0.008*\"population\" + 0.008*\"science\" + 0.008*\"sales\" + 0.008*\"reports\" + 0.008*\"regression\" + 0.008*\"random\" + 0.008*\"queries\"'),\n",
       " (10,\n",
       "  '0.185*\"classification\" + 0.095*\"hypothesis\" + 0.095*\"population\" + 0.095*\"distribution\" + 0.095*\"decision\" + 0.095*\"selenium\" + 0.005*\"learning\" + 0.005*\"scientist\" + 0.005*\"reports\" + 0.005*\"sales\"'),\n",
       " (11,\n",
       "  '0.148*\"check\" + 0.148*\"concepts\" + 0.148*\"hotfixestools\" + 0.007*\"knowledge\" + 0.007*\"data\" + 0.007*\"model\" + 0.007*\"random\" + 0.007*\"queries\" + 0.007*\"regression\" + 0.007*\"reports\"'),\n",
       " (12,\n",
       "  '0.115*\"testingexcellent\" + 0.115*\"datedata\" + 0.115*\"organization\" + 0.115*\"years\" + 0.115*\"engineeringvit\" + 0.005*\"knowledge\" + 0.005*\"analysis\" + 0.005*\"quality\" + 0.005*\"queries\" + 0.005*\"sales\"'),\n",
       " (13,\n",
       "  '0.289*\"developer\" + 0.148*\"peers\" + 0.007*\"knowledge\" + 0.007*\"data\" + 0.007*\"machine\" + 0.007*\"random\" + 0.007*\"sales\" + 0.007*\"regression\" + 0.007*\"pythondata\" + 0.007*\"reports\"'),\n",
       " (14,\n",
       "  '0.095*\"performer\" + 0.095*\"metrics\" + 0.095*\"random\" + 0.095*\"queries\" + 0.095*\"accuracy\" + 0.095*\"scientistprofiledata\" + 0.095*\"category\" + 0.005*\"science\" + 0.005*\"reports\" + 0.005*\"packages\"'),\n",
       " (15,\n",
       "  '0.225*\"group\" + 0.225*\"hands\" + 0.115*\"system\" + 0.005*\"reports\" + 0.005*\"source\" + 0.005*\"feedback\" + 0.005*\"sales\" + 0.005*\"science\" + 0.005*\"peer\" + 0.005*\"peers\"'),\n",
       " (16,\n",
       "  '0.104*\"classifier\" + 0.104*\"churn\" + 0.104*\"absence\" + 0.104*\"excel\" + 0.104*\"similarity\" + 0.104*\"tree\" + 0.005*\"understanding\" + 0.005*\"data\" + 0.005*\"client\" + 0.005*\"analysis\"'),\n",
       " (17,\n",
       "  '0.012*\"pythondata\" + 0.012*\"population\" + 0.012*\"science\" + 0.012*\"sales\" + 0.012*\"reports\" + 0.012*\"regression\" + 0.012*\"random\" + 0.012*\"queries\" + 0.012*\"quality\" + 0.012*\"scientistprofiledata\"'),\n",
       " (18,\n",
       "  '0.185*\"scripts\" + 0.095*\"topic\" + 0.095*\"peer\" + 0.095*\"sales\" + 0.095*\"featureexternal\" + 0.095*\"series\" + 0.005*\"model\" + 0.005*\"queries\" + 0.005*\"random\" + 0.005*\"quality\"'),\n",
       " (19,\n",
       "  '0.252*\"understanding\" + 0.087*\"scientist\" + 0.087*\"knowledgedata\" + 0.087*\"pythondata\" + 0.087*\"regression\" + 0.087*\"pivot\" + 0.004*\"quality\" + 0.004*\"reports\" + 0.004*\"sales\" + 0.004*\"random\"')]"
      ]
     },
     "execution_count": 118,
     "metadata": {},
     "output_type": "execute_result"
    }
   ],
   "source": [
    "resume_topic_model.print_topics()"
   ]
  },
  {
   "cell_type": "code",
   "execution_count": null,
   "metadata": {},
   "outputs": [],
   "source": []
  }
 ],
 "metadata": {
  "kernelspec": {
   "display_name": "Python 3",
   "language": "python",
   "name": "python3"
  },
  "language_info": {
   "codemirror_mode": {
    "name": "ipython",
    "version": 3
   },
   "file_extension": ".py",
   "mimetype": "text/x-python",
   "name": "python",
   "nbconvert_exporter": "python",
   "pygments_lexer": "ipython3",
   "version": "3.6.3"
  }
 },
 "nbformat": 4,
 "nbformat_minor": 2
}
