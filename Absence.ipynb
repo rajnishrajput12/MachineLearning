{
 "cells": [
  {
   "cell_type": "code",
   "execution_count": 1,
   "metadata": {},
   "outputs": [
    {
     "name": "stderr",
     "output_type": "stream",
     "text": [
      "C:\\Users\\kumrajni\\AppData\\Local\\Continuum\\anaconda3\\lib\\site-packages\\sklearn\\cross_validation.py:41: DeprecationWarning: This module was deprecated in version 0.18 in favor of the model_selection module into which all the refactored classes and functions are moved. Also note that the interface of the new CV iterators are different from that of this module. This module will be removed in 0.20.\n",
      "  \"This module will be removed in 0.20.\", DeprecationWarning)\n",
      "C:\\Users\\kumrajni\\AppData\\Local\\Continuum\\anaconda3\\lib\\site-packages\\sklearn\\grid_search.py:42: DeprecationWarning: This module was deprecated in version 0.18 in favor of the model_selection module into which all the refactored classes and functions are moved. This module will be removed in 0.20.\n",
      "  DeprecationWarning)\n"
     ]
    }
   ],
   "source": [
    "import pandas as pd\n",
    "import matplotlib.pyplot as plt\n",
    "from matplotlib import style\n",
    "import datetime\n",
    "import numpy as np\n",
    "import statsmodels.formula.api as OLS\n",
    "from sklearn.linear_model import LinearRegression\n",
    "import  sqlalchemy\n",
    "from  sklearn.preprocessing import Imputer\n",
    "from sklearn.model_selection import train_test_split\n",
    "from sklearn import metrics\n",
    "import seaborn as sns\n",
    "import os\n",
    "from sklearn.ensemble import RandomForestRegressor\n",
    "from sklearn.grid_search import GridSearchCV"
   ]
  },
  {
   "cell_type": "code",
   "execution_count": 62,
   "metadata": {},
   "outputs": [
    {
     "ename": "KeyboardInterrupt",
     "evalue": "",
     "output_type": "error",
     "traceback": [
      "\u001b[1;31m---------------------------------------------------------------------------\u001b[0m",
      "\u001b[1;31mKeyboardInterrupt\u001b[0m                         Traceback (most recent call last)",
      "\u001b[1;32m<ipython-input-62-0d5bab5b842a>\u001b[0m in \u001b[0;36m<module>\u001b[1;34m()\u001b[0m\n\u001b[0;32m      1\u001b[0m \u001b[0mX1\u001b[0m\u001b[1;33m=\u001b[0m\u001b[0mpd\u001b[0m\u001b[1;33m.\u001b[0m\u001b[0mread_excel\u001b[0m\u001b[1;33m(\u001b[0m\u001b[1;34m'Absence.xls'\u001b[0m\u001b[1;33m,\u001b[0m\u001b[0msheetname\u001b[0m\u001b[1;33m=\u001b[0m\u001b[1;36m0\u001b[0m\u001b[1;33m)\u001b[0m\u001b[1;33m\u001b[0m\u001b[0m\n\u001b[1;32m----> 2\u001b[1;33m \u001b[0mX2\u001b[0m\u001b[1;33m=\u001b[0m\u001b[0mpd\u001b[0m\u001b[1;33m.\u001b[0m\u001b[0mread_excel\u001b[0m\u001b[1;33m(\u001b[0m\u001b[1;34m'Absence.xls'\u001b[0m\u001b[1;33m,\u001b[0m\u001b[0msheetname\u001b[0m\u001b[1;33m=\u001b[0m\u001b[1;36m1\u001b[0m\u001b[1;33m)\u001b[0m\u001b[1;33m\u001b[0m\u001b[0m\n\u001b[0m\u001b[0;32m      3\u001b[0m \u001b[0mX3\u001b[0m\u001b[1;33m=\u001b[0m\u001b[0mpd\u001b[0m\u001b[1;33m.\u001b[0m\u001b[0mread_excel\u001b[0m\u001b[1;33m(\u001b[0m\u001b[1;34m'Absence.xls'\u001b[0m\u001b[1;33m,\u001b[0m\u001b[0msheetname\u001b[0m\u001b[1;33m=\u001b[0m\u001b[1;36m2\u001b[0m\u001b[1;33m)\u001b[0m\u001b[1;33m\u001b[0m\u001b[0m\n\u001b[0;32m      4\u001b[0m \u001b[0mX4\u001b[0m\u001b[1;33m=\u001b[0m\u001b[0mpd\u001b[0m\u001b[1;33m.\u001b[0m\u001b[0mread_excel\u001b[0m\u001b[1;33m(\u001b[0m\u001b[1;34m'Absence.xls'\u001b[0m\u001b[1;33m,\u001b[0m\u001b[0msheetname\u001b[0m\u001b[1;33m=\u001b[0m\u001b[1;36m3\u001b[0m\u001b[1;33m)\u001b[0m\u001b[1;33m\u001b[0m\u001b[0m\n",
      "\u001b[1;32m~\\AppData\\Local\\Continuum\\anaconda3\\lib\\site-packages\\pandas\\io\\excel.py\u001b[0m in \u001b[0;36mread_excel\u001b[1;34m(io, sheetname, header, skiprows, skip_footer, index_col, names, parse_cols, parse_dates, date_parser, na_values, thousands, convert_float, has_index_names, converters, dtype, true_values, false_values, engine, squeeze, **kwds)\u001b[0m\n\u001b[0;32m    201\u001b[0m \u001b[1;33m\u001b[0m\u001b[0m\n\u001b[0;32m    202\u001b[0m     \u001b[1;32mif\u001b[0m \u001b[1;32mnot\u001b[0m \u001b[0misinstance\u001b[0m\u001b[1;33m(\u001b[0m\u001b[0mio\u001b[0m\u001b[1;33m,\u001b[0m \u001b[0mExcelFile\u001b[0m\u001b[1;33m)\u001b[0m\u001b[1;33m:\u001b[0m\u001b[1;33m\u001b[0m\u001b[0m\n\u001b[1;32m--> 203\u001b[1;33m         \u001b[0mio\u001b[0m \u001b[1;33m=\u001b[0m \u001b[0mExcelFile\u001b[0m\u001b[1;33m(\u001b[0m\u001b[0mio\u001b[0m\u001b[1;33m,\u001b[0m \u001b[0mengine\u001b[0m\u001b[1;33m=\u001b[0m\u001b[0mengine\u001b[0m\u001b[1;33m)\u001b[0m\u001b[1;33m\u001b[0m\u001b[0m\n\u001b[0m\u001b[0;32m    204\u001b[0m \u001b[1;33m\u001b[0m\u001b[0m\n\u001b[0;32m    205\u001b[0m     return io._parse_excel(\n",
      "\u001b[1;32m~\\AppData\\Local\\Continuum\\anaconda3\\lib\\site-packages\\pandas\\io\\excel.py\u001b[0m in \u001b[0;36m__init__\u001b[1;34m(self, io, **kwds)\u001b[0m\n\u001b[0;32m    258\u001b[0m             \u001b[0mself\u001b[0m\u001b[1;33m.\u001b[0m\u001b[0mbook\u001b[0m \u001b[1;33m=\u001b[0m \u001b[0mxlrd\u001b[0m\u001b[1;33m.\u001b[0m\u001b[0mopen_workbook\u001b[0m\u001b[1;33m(\u001b[0m\u001b[0mfile_contents\u001b[0m\u001b[1;33m=\u001b[0m\u001b[0mdata\u001b[0m\u001b[1;33m)\u001b[0m\u001b[1;33m\u001b[0m\u001b[0m\n\u001b[0;32m    259\u001b[0m         \u001b[1;32melif\u001b[0m \u001b[0misinstance\u001b[0m\u001b[1;33m(\u001b[0m\u001b[0mio\u001b[0m\u001b[1;33m,\u001b[0m \u001b[0mcompat\u001b[0m\u001b[1;33m.\u001b[0m\u001b[0mstring_types\u001b[0m\u001b[1;33m)\u001b[0m\u001b[1;33m:\u001b[0m\u001b[1;33m\u001b[0m\u001b[0m\n\u001b[1;32m--> 260\u001b[1;33m             \u001b[0mself\u001b[0m\u001b[1;33m.\u001b[0m\u001b[0mbook\u001b[0m \u001b[1;33m=\u001b[0m \u001b[0mxlrd\u001b[0m\u001b[1;33m.\u001b[0m\u001b[0mopen_workbook\u001b[0m\u001b[1;33m(\u001b[0m\u001b[0mio\u001b[0m\u001b[1;33m)\u001b[0m\u001b[1;33m\u001b[0m\u001b[0m\n\u001b[0m\u001b[0;32m    261\u001b[0m         \u001b[1;32melse\u001b[0m\u001b[1;33m:\u001b[0m\u001b[1;33m\u001b[0m\u001b[0m\n\u001b[0;32m    262\u001b[0m             raise ValueError('Must explicitly set engine if not passing in'\n",
      "\u001b[1;32m~\\AppData\\Local\\Continuum\\anaconda3\\lib\\site-packages\\xlrd\\__init__.py\u001b[0m in \u001b[0;36mopen_workbook\u001b[1;34m(filename, logfile, verbosity, use_mmap, file_contents, encoding_override, formatting_info, on_demand, ragged_rows)\u001b[0m\n\u001b[0;32m    160\u001b[0m         \u001b[0mformatting_info\u001b[0m\u001b[1;33m=\u001b[0m\u001b[0mformatting_info\u001b[0m\u001b[1;33m,\u001b[0m\u001b[1;33m\u001b[0m\u001b[0m\n\u001b[0;32m    161\u001b[0m         \u001b[0mon_demand\u001b[0m\u001b[1;33m=\u001b[0m\u001b[0mon_demand\u001b[0m\u001b[1;33m,\u001b[0m\u001b[1;33m\u001b[0m\u001b[0m\n\u001b[1;32m--> 162\u001b[1;33m         \u001b[0mragged_rows\u001b[0m\u001b[1;33m=\u001b[0m\u001b[0mragged_rows\u001b[0m\u001b[1;33m,\u001b[0m\u001b[1;33m\u001b[0m\u001b[0m\n\u001b[0m\u001b[0;32m    163\u001b[0m         )\n\u001b[0;32m    164\u001b[0m     \u001b[1;32mreturn\u001b[0m \u001b[0mbk\u001b[0m\u001b[1;33m\u001b[0m\u001b[0m\n",
      "\u001b[1;32m~\\AppData\\Local\\Continuum\\anaconda3\\lib\\site-packages\\xlrd\\book.py\u001b[0m in \u001b[0;36mopen_workbook_xls\u001b[1;34m(filename, logfile, verbosity, use_mmap, file_contents, encoding_override, formatting_info, on_demand, ragged_rows)\u001b[0m\n\u001b[0;32m    117\u001b[0m             \u001b[0mbk\u001b[0m\u001b[1;33m.\u001b[0m\u001b[0m_sheet_list\u001b[0m \u001b[1;33m=\u001b[0m \u001b[1;33m[\u001b[0m\u001b[1;32mNone\u001b[0m \u001b[1;32mfor\u001b[0m \u001b[0msh\u001b[0m \u001b[1;32min\u001b[0m \u001b[0mbk\u001b[0m\u001b[1;33m.\u001b[0m\u001b[0m_sheet_names\u001b[0m\u001b[1;33m]\u001b[0m\u001b[1;33m\u001b[0m\u001b[0m\n\u001b[0;32m    118\u001b[0m             \u001b[1;32mif\u001b[0m \u001b[1;32mnot\u001b[0m \u001b[0mon_demand\u001b[0m\u001b[1;33m:\u001b[0m\u001b[1;33m\u001b[0m\u001b[0m\n\u001b[1;32m--> 119\u001b[1;33m                 \u001b[0mbk\u001b[0m\u001b[1;33m.\u001b[0m\u001b[0mget_sheets\u001b[0m\u001b[1;33m(\u001b[0m\u001b[1;33m)\u001b[0m\u001b[1;33m\u001b[0m\u001b[0m\n\u001b[0m\u001b[0;32m    120\u001b[0m         \u001b[0mbk\u001b[0m\u001b[1;33m.\u001b[0m\u001b[0mnsheets\u001b[0m \u001b[1;33m=\u001b[0m \u001b[0mlen\u001b[0m\u001b[1;33m(\u001b[0m\u001b[0mbk\u001b[0m\u001b[1;33m.\u001b[0m\u001b[0m_sheet_list\u001b[0m\u001b[1;33m)\u001b[0m\u001b[1;33m\u001b[0m\u001b[0m\n\u001b[0;32m    121\u001b[0m         \u001b[1;32mif\u001b[0m \u001b[0mbiff_version\u001b[0m \u001b[1;33m==\u001b[0m \u001b[1;36m45\u001b[0m \u001b[1;32mand\u001b[0m \u001b[0mbk\u001b[0m\u001b[1;33m.\u001b[0m\u001b[0mnsheets\u001b[0m \u001b[1;33m>\u001b[0m \u001b[1;36m1\u001b[0m\u001b[1;33m:\u001b[0m\u001b[1;33m\u001b[0m\u001b[0m\n",
      "\u001b[1;32m~\\AppData\\Local\\Continuum\\anaconda3\\lib\\site-packages\\xlrd\\book.py\u001b[0m in \u001b[0;36mget_sheets\u001b[1;34m(self)\u001b[0m\n\u001b[0;32m    717\u001b[0m         \u001b[1;32mfor\u001b[0m \u001b[0msheetno\u001b[0m \u001b[1;32min\u001b[0m \u001b[0mxrange\u001b[0m\u001b[1;33m(\u001b[0m\u001b[0mlen\u001b[0m\u001b[1;33m(\u001b[0m\u001b[0mself\u001b[0m\u001b[1;33m.\u001b[0m\u001b[0m_sheet_names\u001b[0m\u001b[1;33m)\u001b[0m\u001b[1;33m)\u001b[0m\u001b[1;33m:\u001b[0m\u001b[1;33m\u001b[0m\u001b[0m\n\u001b[0;32m    718\u001b[0m             \u001b[1;32mif\u001b[0m \u001b[0mDEBUG\u001b[0m\u001b[1;33m:\u001b[0m \u001b[0mprint\u001b[0m\u001b[1;33m(\u001b[0m\u001b[1;34m\"GET_SHEETS: sheetno =\"\u001b[0m\u001b[1;33m,\u001b[0m \u001b[0msheetno\u001b[0m\u001b[1;33m,\u001b[0m \u001b[0mself\u001b[0m\u001b[1;33m.\u001b[0m\u001b[0m_sheet_names\u001b[0m\u001b[1;33m,\u001b[0m \u001b[0mself\u001b[0m\u001b[1;33m.\u001b[0m\u001b[0m_sh_abs_posn\u001b[0m\u001b[1;33m,\u001b[0m \u001b[0mfile\u001b[0m\u001b[1;33m=\u001b[0m\u001b[0mself\u001b[0m\u001b[1;33m.\u001b[0m\u001b[0mlogfile\u001b[0m\u001b[1;33m)\u001b[0m\u001b[1;33m\u001b[0m\u001b[0m\n\u001b[1;32m--> 719\u001b[1;33m             \u001b[0mself\u001b[0m\u001b[1;33m.\u001b[0m\u001b[0mget_sheet\u001b[0m\u001b[1;33m(\u001b[0m\u001b[0msheetno\u001b[0m\u001b[1;33m)\u001b[0m\u001b[1;33m\u001b[0m\u001b[0m\n\u001b[0m\u001b[0;32m    720\u001b[0m \u001b[1;33m\u001b[0m\u001b[0m\n\u001b[0;32m    721\u001b[0m     \u001b[1;32mdef\u001b[0m \u001b[0mfake_globals_get_sheet\u001b[0m\u001b[1;33m(\u001b[0m\u001b[0mself\u001b[0m\u001b[1;33m)\u001b[0m\u001b[1;33m:\u001b[0m \u001b[1;31m# for BIFF 4.0 and earlier\u001b[0m\u001b[1;33m\u001b[0m\u001b[0m\n",
      "\u001b[1;32m~\\AppData\\Local\\Continuum\\anaconda3\\lib\\site-packages\\xlrd\\book.py\u001b[0m in \u001b[0;36mget_sheet\u001b[1;34m(self, sh_number, update_pos)\u001b[0m\n\u001b[0;32m    708\u001b[0m                 \u001b[0msh_number\u001b[0m\u001b[1;33m,\u001b[0m\u001b[1;33m\u001b[0m\u001b[0m\n\u001b[0;32m    709\u001b[0m                 )\n\u001b[1;32m--> 710\u001b[1;33m         \u001b[0msh\u001b[0m\u001b[1;33m.\u001b[0m\u001b[0mread\u001b[0m\u001b[1;33m(\u001b[0m\u001b[0mself\u001b[0m\u001b[1;33m)\u001b[0m\u001b[1;33m\u001b[0m\u001b[0m\n\u001b[0m\u001b[0;32m    711\u001b[0m         \u001b[0mself\u001b[0m\u001b[1;33m.\u001b[0m\u001b[0m_sheet_list\u001b[0m\u001b[1;33m[\u001b[0m\u001b[0msh_number\u001b[0m\u001b[1;33m]\u001b[0m \u001b[1;33m=\u001b[0m \u001b[0msh\u001b[0m\u001b[1;33m\u001b[0m\u001b[0m\n\u001b[0;32m    712\u001b[0m         \u001b[1;32mreturn\u001b[0m \u001b[0msh\u001b[0m\u001b[1;33m\u001b[0m\u001b[0m\n",
      "\u001b[1;32m~\\AppData\\Local\\Continuum\\anaconda3\\lib\\site-packages\\xlrd\\sheet.py\u001b[0m in \u001b[0;36mread\u001b[1;34m(self, bk)\u001b[0m\n\u001b[0;32m    788\u001b[0m         \u001b[1;32mwhile\u001b[0m \u001b[1;36m1\u001b[0m\u001b[1;33m:\u001b[0m\u001b[1;33m\u001b[0m\u001b[0m\n\u001b[0;32m    789\u001b[0m             \u001b[1;31m# if DEBUG: print \"SHEET.READ: about to read from position %d\" % bk._position\u001b[0m\u001b[1;33m\u001b[0m\u001b[1;33m\u001b[0m\u001b[0m\n\u001b[1;32m--> 790\u001b[1;33m             \u001b[0mrc\u001b[0m\u001b[1;33m,\u001b[0m \u001b[0mdata_len\u001b[0m\u001b[1;33m,\u001b[0m \u001b[0mdata\u001b[0m \u001b[1;33m=\u001b[0m \u001b[0mbk_get_record_parts\u001b[0m\u001b[1;33m(\u001b[0m\u001b[1;33m)\u001b[0m\u001b[1;33m\u001b[0m\u001b[0m\n\u001b[0m\u001b[0;32m    791\u001b[0m             \u001b[1;31m# if rc in rc_stats:\u001b[0m\u001b[1;33m\u001b[0m\u001b[1;33m\u001b[0m\u001b[0m\n\u001b[0;32m    792\u001b[0m             \u001b[1;31m#     rc_stats[rc] += 1\u001b[0m\u001b[1;33m\u001b[0m\u001b[1;33m\u001b[0m\u001b[0m\n",
      "\u001b[1;31mKeyboardInterrupt\u001b[0m: "
     ]
    }
   ],
   "source": [
    "X1=pd.read_excel('Absence.xls',sheetname=0)\n",
    "X2=pd.read_excel('Absence.xls',sheetname=1)\n",
    "X3=pd.read_excel('Absence.xls',sheetname=2)\n",
    "X4=pd.read_excel('Absence.xls',sheetname=3)"
   ]
  },
  {
   "cell_type": "code",
   "execution_count": null,
   "metadata": {
    "collapsed": true
   },
   "outputs": [],
   "source": [
    "%timeit\n",
    "data=pd.concat([X1,X2,X3,X4],ignore_index=True)"
   ]
  },
  {
   "cell_type": "code",
   "execution_count": null,
   "metadata": {
    "collapsed": true
   },
   "outputs": [],
   "source": [
    "data['ACTL_HRS']=data['ACTL_HRS_IN_SECND_NBR']/3600\n",
    "data.drop('ACTL_HRS_IN_SECND_NBR',axis=1,inplace=True)"
   ]
  },
  {
   "cell_type": "code",
   "execution_count": null,
   "metadata": {
    "collapsed": true
   },
   "outputs": [],
   "source": [
    "data.rename(columns={'AGE':'Birth_Date'},inplace=True)"
   ]
  },
  {
   "cell_type": "code",
   "execution_count": null,
   "metadata": {
    "collapsed": true
   },
   "outputs": [],
   "source": [
    "##(pd.to_datetime('today').-pd.to_datetime('1956-07-01').year)\n",
    "data['Age'] = round((datetime.datetime.now()-data['Birth_Date']).dt.days/365)\n",
    "data.drop('Birth_Date',axis=1,inplace=True)"
   ]
  },
  {
   "cell_type": "code",
   "execution_count": null,
   "metadata": {
    "collapsed": true
   },
   "outputs": [],
   "source": [
    "data.duplicated().sum()"
   ]
  },
  {
   "cell_type": "code",
   "execution_count": null,
   "metadata": {
    "collapsed": true
   },
   "outputs": [],
   "source": [
    "## fill na as coalsec\n",
    "\n",
    "%timeit data['TNUR_DT'] = data['TNUR_DT'].fillna(data['ORGNL_HIRE_DT']).fillna(data['LTST_HIRE_DT']).fillna(data['SVC_DT'])\n"
   ]
  },
  {
   "cell_type": "code",
   "execution_count": null,
   "metadata": {
    "collapsed": true
   },
   "outputs": [],
   "source": [
    "## remove where we find TNUR_DT as null\n",
    "data.dropna(how='any',subset=['TNUR_DT'],inplace=True)\n",
    "## if we eant to remove rows with TNUR_DT,ORGNL_HIRE_DT,LTST_HIRE_DT all three are null then\n",
    "## data.dropna(how='al',subset=['TNUR_DT','ORGNL_HIRE_DT','LTST_HIRE_DT'],inplace=True)"
   ]
  },
  {
   "cell_type": "code",
   "execution_count": null,
   "metadata": {
    "collapsed": true
   },
   "outputs": [],
   "source": [
    "##calculating tenure\n",
    "%timeit data['TENURE'] = round((datetime.datetime.now()-data['TNUR_DT']).dt.days/365)"
   ]
  },
  {
   "cell_type": "code",
   "execution_count": null,
   "metadata": {
    "collapsed": true
   },
   "outputs": [],
   "source": [
    "data.head()"
   ]
  },
  {
   "cell_type": "code",
   "execution_count": null,
   "metadata": {
    "collapsed": true
   },
   "outputs": [],
   "source": [
    "## removing categorucal value with huge unquie values and other columns\n",
    "## removed job_Cd word_loc_Cd\n",
    "Absence_1 = data[['MARITAL_STATUS','GENDER','FULL_TM_PART_TM_CD','REG_TEMP_CD','SAL_ADMIN_PLAN_CD','Age','TENURE','ACTL_HRS']]"
   ]
  },
  {
   "cell_type": "code",
   "execution_count": null,
   "metadata": {
    "collapsed": true
   },
   "outputs": [],
   "source": [
    "## checing where we have any value 'UNKNOWN'\n",
    "print(Absence_1[(Absence_1['MARITAL_STATUS']).str.upper()=='UKNOWN'])\n",
    "print(Absence_1[(Absence_1['GENDER']).str.upper()=='UKNOWN'])\n",
    "print(Absence_1[(Absence_1['FULL_TM_PART_TM_CD']).str.upper()=='UKNOWN'])\n",
    "print(Absence_1[(Absence_1['REG_TEMP_CD']).str.upper()=='UKNOWN'])\n",
    "print(Absence_1[(Absence_1['SAL_ADMIN_PLAN_CD']).str.upper()=='UNKNOWN'].count()) ## has some values after replacing all are NaN"
   ]
  },
  {
   "cell_type": "code",
   "execution_count": null,
   "metadata": {
    "collapsed": true
   },
   "outputs": [],
   "source": [
    "## replacing unknonw with most freq from that column\n",
    "Absence_1 = Absence_1.replace('UNKNOWN','GHB')"
   ]
  },
  {
   "cell_type": "code",
   "execution_count": null,
   "metadata": {
    "collapsed": true
   },
   "outputs": [],
   "source": [
    "Absence_1['SAL_ADMIN_PLAN_CD'].unique()\n",
    "## now we have Nan instaead of UNKNOWN\n",
    "##Absence_1[Absence_1['SAL_ADMIN_PLAN_CD']=='NaN']"
   ]
  },
  {
   "cell_type": "code",
   "execution_count": null,
   "metadata": {
    "collapsed": true
   },
   "outputs": [],
   "source": [
    "Absence_2 = pd.get_dummies(Absence_1,columns=['MARITAL_STATUS','GENDER','FULL_TM_PART_TM_CD','REG_TEMP_CD','SAL_ADMIN_PLAN_CD'],drop_first=True)"
   ]
  },
  {
   "cell_type": "code",
   "execution_count": null,
   "metadata": {
    "collapsed": true
   },
   "outputs": [],
   "source": [
    "Absence_2.isnull().sum()"
   ]
  },
  {
   "cell_type": "code",
   "execution_count": null,
   "metadata": {
    "collapsed": true
   },
   "outputs": [],
   "source": [
    "model_linear = OLS.ols(data=Absence_2,formula=\"ACTL_HRS~TENURE+Age+GENDER_M+MARITAL_STATUS_S+FULL_TM_PART_TM_CD_P+REG_TEMP_CD_T+SAL_ADMIN_PLAN_CD_GHB+SAL_ADMIN_PLAN_CD_S1\").fit()\n",
    "##logit = OLS.logit(data=Absence_2,formula=\"ACTL_HRS~'TENURE','Age','GENDER_M','MARITAL_STATUS_S','FULL_TM_PART_TM_CD_P','REG_TEMP_CD_T','SAL_ADMIN_PLAN_CD_GHB','SAL_ADMIN_PLAN_CD_S1\")\"\n",
    "model_linear.summary()"
   ]
  },
  {
   "cell_type": "code",
   "execution_count": null,
   "metadata": {
    "collapsed": true,
    "scrolled": true
   },
   "outputs": [],
   "source": [
    "## as per above analysis Age is not that significant as its p-value is more then 0.05\n",
    "## lets remove that Age and rebuild our mode## \n",
    "model_linear = OLS.ols(data=Absence_2,formula=\"ACTL_HRS~TENURE+GENDER_M+MARITAL_STATUS_S+FULL_TM_PART_TM_CD_P+REG_TEMP_CD_T+SAL_ADMIN_PLAN_CD_GHB+SAL_ADMIN_PLAN_CD_S1\").fit()\n",
    "model_linear.summary()\n"
   ]
  },
  {
   "cell_type": "markdown",
   "metadata": {},
   "source": [
    "## with SKLEARN ##"
   ]
  },
  {
   "cell_type": "code",
   "execution_count": null,
   "metadata": {
    "collapsed": true
   },
   "outputs": [],
   "source": [
    "Feature_Columns = ['TENURE','MARITAL_STATUS_S','GENDER_M','FULL_TM_PART_TM_CD_P','REG_TEMP_CD_T','SAL_ADMIN_PLAN_CD_GHB','SAL_ADMIN_PLAN_CD_S1']\n",
    "X = Absence_2[Feature_Columns]\n",
    "y = Absence_2['ACTL_HRS']"
   ]
  },
  {
   "cell_type": "code",
   "execution_count": null,
   "metadata": {
    "collapsed": true
   },
   "outputs": [],
   "source": [
    "Absence_2.head()\n",
    "X_train,X_test,y_train,y_test = train_test_split(X,y,test_size=0.2,random_state=2)"
   ]
  },
  {
   "cell_type": "code",
   "execution_count": null,
   "metadata": {
    "collapsed": true
   },
   "outputs": [],
   "source": [
    "print(X_train.shape)\n",
    "print(X_test.shape)\n",
    "print(y_train.shape)\n",
    "print(y_test.shape)"
   ]
  },
  {
   "cell_type": "code",
   "execution_count": null,
   "metadata": {
    "collapsed": true
   },
   "outputs": [],
   "source": [
    "model = LinearRegression()\n",
    "model.fit(X_train,y_train)\n",
    "y_predict = model.predict(X_test)\n"
   ]
  },
  {
   "cell_type": "code",
   "execution_count": null,
   "metadata": {
    "collapsed": true,
    "scrolled": true
   },
   "outputs": [],
   "source": [
    "## root mean square error\n",
    "RMSE = np.sqrt(metrics.mean_squared_error(y_test,y_predict))\n",
    "print(RMSE)"
   ]
  },
  {
   "cell_type": "code",
   "execution_count": null,
   "metadata": {
    "collapsed": true
   },
   "outputs": [],
   "source": [
    "X_train.head()\n",
    "pre = model.predict([['2','1','0','0','0','1','0']])\n",
    "[20,1,0,0,0,1,0]\n",
    "1,0,0,0,1,0"
   ]
  },
  {
   "cell_type": "code",
   "execution_count": null,
   "metadata": {
    "collapsed": true
   },
   "outputs": [],
   "source": [
    "corr = X_train.corr(method='pearson')\n",
    "print('--------------Create a Corelation plot------------------')\n"
   ]
  },
  {
   "cell_type": "markdown",
   "metadata": {},
   "source": [
    "### Summing the duplicated Absence ####"
   ]
  },
  {
   "cell_type": "code",
   "execution_count": null,
   "metadata": {
    "collapsed": true
   },
   "outputs": [],
   "source": [
    "##data[data['ACTL_HRS']<0].count()\n",
    "data['ACTL_HRS'][data['ACTL_HRS']<0] = data['ACTL_HRS'][data['ACTL_HRS']<0]*-1"
   ]
  },
  {
   "cell_type": "code",
   "execution_count": null,
   "metadata": {
    "collapsed": true
   },
   "outputs": [],
   "source": [
    "Absence_2.duplicated().sum()"
   ]
  },
  {
   "cell_type": "code",
   "execution_count": null,
   "metadata": {
    "collapsed": true
   },
   "outputs": [],
   "source": [
    "Absence_2.corr(method='pearson')"
   ]
  },
  {
   "cell_type": "code",
   "execution_count": null,
   "metadata": {
    "collapsed": true
   },
   "outputs": [],
   "source": [
    "Absence_2.corr(method='pearson').style.format(\"{:.2}\").background_gradient(cmap=plt.get_cmap('coolwarm'), axis=1)\n",
    "## if it is 1 then it is cprelated"
   ]
  },
  {
   "cell_type": "code",
   "execution_count": null,
   "metadata": {
    "collapsed": true,
    "scrolled": true
   },
   "outputs": [],
   "source": [
    "##type(data[data['PERS_OBJ_ID']=='M5KIT3YBGHPHESNB']['PERS_OBJ_ID']) Series\n",
    "##type(data[data['PERS_OBJ_ID']=='M5KIT3YBGHPHESNB'][['PERS_OBJ_ID','YR_CD']])  M5KIT3YBGHPHESNB 2017\n",
    "data[(data['PERS_OBJ_ID']=='M5KIT3YBGHPHESNB') & (data['YR_CD']==2017)]"
   ]
  },
  {
   "cell_type": "code",
   "execution_count": null,
   "metadata": {
    "collapsed": true
   },
   "outputs": [],
   "source": [
    "temp_d = Absence_2\n",
    "Absence_2.columns\n"
   ]
  },
  {
   "cell_type": "code",
   "execution_count": null,
   "metadata": {
    "collapsed": true
   },
   "outputs": [],
   "source": [
    "type(temp_d.groupby(['Age', 'TENURE', 'MARITAL_STATUS_S', 'GENDER_M',\n",
    "       'FULL_TM_PART_TM_CD_P', 'REG_TEMP_CD_T', 'SAL_ADMIN_PLAN_CD_GHB',\n",
    "       'SAL_ADMIN_PLAN_CD_S1'])['ACTL_HRS'].sum())"
   ]
  },
  {
   "cell_type": "code",
   "execution_count": null,
   "metadata": {
    "collapsed": true
   },
   "outputs": [],
   "source": [
    "data['MARITAL_STATUS'].unique()"
   ]
  },
  {
   "cell_type": "code",
   "execution_count": null,
   "metadata": {
    "collapsed": true
   },
   "outputs": [],
   "source": [
    "pre = model.predict([[57,1,2.5,0,0,1,0],[57,1,2.5,0,0,1,0],[57,1,2.5,0,0,1,0],[57,1,2.5,0,0,1,0],[57,1,2.5,0,0,1,0]])\n",
    "pre"
   ]
  },
  {
   "cell_type": "code",
   "execution_count": null,
   "metadata": {
    "collapsed": true
   },
   "outputs": [],
   "source": [
    "pre = model.predict([[2,1,0,0,0,1,0]])--#\n",
    "pre.sum()"
   ]
  },
  {
   "cell_type": "code",
   "execution_count": null,
   "metadata": {
    "collapsed": true
   },
   "outputs": [],
   "source": [
    "## M5O303VCFXZU9K4Q G34XBQHFME8GDKSD\n",
    "##\n"
   ]
  },
  {
   "cell_type": "markdown",
   "metadata": {},
   "source": [
    "### Absence HUE ##################################"
   ]
  },
  {
   "cell_type": "code",
   "execution_count": null,
   "metadata": {
    "collapsed": true
   },
   "outputs": [],
   "source": [
    "data = pd.read_csv(\"C:\\\\Users\\\\kumrajni\\\\AppData\\\\Local\\\\Continuum\\\\anaconda3\\\\Scripts\\\\Jupyter_Learnign\\\\Jupyter_Learnign\\\\Absence\\\\Absence_G3WK8PFWBKJGZRWN.csv\",header=0)"
   ]
  },
  {
   "cell_type": "code",
   "execution_count": null,
   "metadata": {
    "collapsed": true
   },
   "outputs": [],
   "source": [
    "data.rename(columns={'p.hr_job_dsc':'job_dsc','p.hr_birth_yr':'birth_yr','p.marital_status_':'marital_status','p.hr_gndr_dsc':'gender','p.hr_full_tm_part_tm_dsc':'full_tm_prt_tm_dsc','p.hr_reg_temp_cd':'reg_temp_cd','p.tenure_':'tenure'},inplace=True)"
   ]
  },
  {
   "cell_type": "code",
   "execution_count": null,
   "metadata": {
    "collapsed": true
   },
   "outputs": [],
   "source": [
    "data.shape"
   ]
  },
  {
   "cell_type": "code",
   "execution_count": null,
   "metadata": {
    "collapsed": true
   },
   "outputs": [],
   "source": [
    "data.replace(0,np.nan,inplace=True)"
   ]
  },
  {
   "cell_type": "code",
   "execution_count": null,
   "metadata": {
    "collapsed": true
   },
   "outputs": [],
   "source": [
    "data.isnull().sum()"
   ]
  },
  {
   "cell_type": "code",
   "execution_count": null,
   "metadata": {
    "collapsed": true
   },
   "outputs": [],
   "source": [
    "data.dropna(inplace=True)\n",
    "##data.shape"
   ]
  },
  {
   "cell_type": "code",
   "execution_count": null,
   "metadata": {
    "collapsed": true
   },
   "outputs": [],
   "source": [
    "plt.figure(figsize=(19,10))\n",
    "plt.plot(data.sample(frac=0.3,random_state=2)['nbr_emp'],data.sample(frac=0.3,random_state=2)['absence_hrs'])\n",
    "plt.show()"
   ]
  },
  {
   "cell_type": "code",
   "execution_count": null,
   "metadata": {
    "collapsed": true
   },
   "outputs": [],
   "source": [
    "data.sample(frac=0.3,random_state=2)['absence_hrs'].max()"
   ]
  },
  {
   "cell_type": "code",
   "execution_count": null,
   "metadata": {
    "collapsed": true
   },
   "outputs": [],
   "source": [
    "##data['job_dsc'=='Team Member']\n",
    "data.head()"
   ]
  },
  {
   "cell_type": "code",
   "execution_count": null,
   "metadata": {
    "collapsed": true
   },
   "outputs": [],
   "source": [
    "##sns.pairplot(data.sample(frac=0.3,random_state=2)[['absence_hrs','nbr_emp','tenure']])\n",
    "##data.rename(columns={'p.tenure_':'tenure'},inplace=True)\n",
    "t = (data.sample(frac=0.3,random_state=2)[['absence_hrs','nbr_emp','tenure']]).dropna()\n",
    "sns.pairplot(t)\n",
    "plt.show()"
   ]
  },
  {
   "cell_type": "code",
   "execution_count": null,
   "metadata": {
    "collapsed": true
   },
   "outputs": [],
   "source": [
    "t.head()\n",
    "plt.scatter(t['tenure'],t['absence_hrs'])\n",
    "plt.show()"
   ]
  },
  {
   "cell_type": "code",
   "execution_count": null,
   "metadata": {
    "collapsed": true
   },
   "outputs": [],
   "source": [
    "data.drop('job_dsc',axis=1,inplace=True)"
   ]
  },
  {
   "cell_type": "code",
   "execution_count": null,
   "metadata": {
    "collapsed": true
   },
   "outputs": [],
   "source": [
    "data.duplicated().sum()\n",
    "data.drop(data.index[data.duplicated()],inplace=True)"
   ]
  },
  {
   "cell_type": "code",
   "execution_count": null,
   "metadata": {
    "collapsed": true,
    "scrolled": true
   },
   "outputs": [],
   "source": [
    "data.duplicated().sum()\n",
    "data.shape"
   ]
  },
  {
   "cell_type": "code",
   "execution_count": null,
   "metadata": {
    "collapsed": true
   },
   "outputs": [],
   "source": [
    "print(data['absence_hrs'].mean())\n",
    "print(data['absence_hrs'].min())\n",
    "print(data['absence_hrs'].max())"
   ]
  },
  {
   "cell_type": "code",
   "execution_count": null,
   "metadata": {
    "collapsed": true
   },
   "outputs": [],
   "source": [
    "data[data['absence_hrs']<0].count()"
   ]
  },
  {
   "cell_type": "code",
   "execution_count": null,
   "metadata": {
    "collapsed": true
   },
   "outputs": [],
   "source": [
    "## any outliers\n",
    "plt.figure(figsize=(20,10))\n",
    "plt.hist(data['absence_hrs'],bins=20)\n",
    "plt.show()"
   ]
  },
  {
   "cell_type": "code",
   "execution_count": null,
   "metadata": {
    "collapsed": true
   },
   "outputs": [],
   "source": [
    "## both are same\n",
    "%matplotlib inline\n",
    "plt.figure(figsize=(15,5))\n",
    "data['absence_hrs'].hist(bins=20)"
   ]
  },
  {
   "cell_type": "code",
   "execution_count": null,
   "metadata": {
    "collapsed": true
   },
   "outputs": [],
   "source": [
    "## removing all the neaftive absence \n",
    "## negative <0 \n",
    "data.drop(data.index[data['absence_hrs']<0],inplace=True)"
   ]
  },
  {
   "cell_type": "code",
   "execution_count": null,
   "metadata": {
    "collapsed": true
   },
   "outputs": [],
   "source": [
    "data.index[data['absence_hrs']<0]"
   ]
  },
  {
   "cell_type": "code",
   "execution_count": null,
   "metadata": {
    "collapsed": true
   },
   "outputs": [],
   "source": [
    "data.isnull().sum()"
   ]
  },
  {
   "cell_type": "code",
   "execution_count": null,
   "metadata": {
    "collapsed": true
   },
   "outputs": [],
   "source": [
    "print(data['absence_hrs'].mean())\n",
    "print(data['absence_hrs'].min())\n",
    "print(data['absence_hrs'].max())"
   ]
  },
  {
   "cell_type": "code",
   "execution_count": null,
   "metadata": {
    "collapsed": true
   },
   "outputs": [],
   "source": [
    "## both are same\n",
    "%matplotlib inline\n",
    "plt.figure(figsize=(15,5))\n",
    "data['absence_hrs'].hist(bins=20)"
   ]
  },
  {
   "cell_type": "code",
   "execution_count": null,
   "metadata": {
    "collapsed": true
   },
   "outputs": [],
   "source": [
    "data.boxplot(return_type='dict')\n",
    "plt.plot()"
   ]
  },
  {
   "cell_type": "code",
   "execution_count": null,
   "metadata": {
    "collapsed": true
   },
   "outputs": [],
   "source": [
    "##Finding outliers\n",
    "q1 = np.percentile((data['absence_hrs']),25)\n",
    "q3 =  np.percentile((data['absence_hrs']),75)\n",
    "IQR = q3-q1\n",
    "floor = q1-1.5*IQR\n",
    "ceiling = q3 + 1.5*IQR\n",
    "print(q1,q3,IQR,floor,ceiling)"
   ]
  },
  {
   "cell_type": "code",
   "execution_count": null,
   "metadata": {
    "collapsed": true
   },
   "outputs": [],
   "source": [
    "data[(data['absence_hrs']<q1) | (data['absence_hrs']>q3)]"
   ]
  },
  {
   "cell_type": "code",
   "execution_count": null,
   "metadata": {
    "collapsed": true
   },
   "outputs": [],
   "source": [
    "## removing outliers\n",
    "data.drop(data.index[(data['absence_hrs']<q1) | (data['absence_hrs']>q3)],inplace=True)"
   ]
  },
  {
   "cell_type": "code",
   "execution_count": null,
   "metadata": {
    "collapsed": true
   },
   "outputs": [],
   "source": [
    "data.shape"
   ]
  },
  {
   "cell_type": "code",
   "execution_count": null,
   "metadata": {
    "collapsed": true
   },
   "outputs": [],
   "source": [
    "data.head()"
   ]
  },
  {
   "cell_type": "code",
   "execution_count": null,
   "metadata": {
    "collapsed": true
   },
   "outputs": [],
   "source": [
    "## finding unique of each columns\n",
    "for i in range(len(data.columns)):\n",
    "    if(i==0 | i == 1):\n",
    "        continue\n",
    "    else:        \n",
    "        print(data[data.columns[i]].unique())"
   ]
  },
  {
   "cell_type": "code",
   "execution_count": null,
   "metadata": {
    "collapsed": true,
    "scrolled": true
   },
   "outputs": [],
   "source": [
    "data[data['gender']=='Not Specified'].shape"
   ]
  },
  {
   "cell_type": "code",
   "execution_count": null,
   "metadata": {
    "collapsed": true
   },
   "outputs": [],
   "source": [
    "## remove all with Not specified\n",
    "data.drop(data.index[(data['gender']=='Not Specified')],inplace=True)\n",
    "print(data.shape)"
   ]
  },
  {
   "cell_type": "code",
   "execution_count": null,
   "metadata": {
    "collapsed": true
   },
   "outputs": [],
   "source": [
    "## calculatin age in Age columsn\n",
    "data['Age'] = datetime.datetime.now().year - data['birth_yr']\n",
    "data.head()"
   ]
  },
  {
   "cell_type": "code",
   "execution_count": null,
   "metadata": {
    "collapsed": true
   },
   "outputs": [],
   "source": [
    "## drop birthyear\n",
    "data.drop('birth_yr',inplace=True,axis=1)\n",
    "data.head()"
   ]
  },
  {
   "cell_type": "code",
   "execution_count": null,
   "metadata": {
    "collapsed": true
   },
   "outputs": [],
   "source": [
    "data = pd.get_dummies(data,columns=['marital_status','gender','full_tm_prt_tm_dsc','reg_temp_cd'],drop_first=True)"
   ]
  },
  {
   "cell_type": "code",
   "execution_count": null,
   "metadata": {
    "collapsed": true
   },
   "outputs": [],
   "source": [
    "## finding corelation\n",
    "data.corr(method='pearson').style.format(\"{:.2}\").background_gradient(cmap=plt.get_cmap('coolwarm'), axis=1)\n",
    "## if it is 1 then it is cprelated"
   ]
  },
  {
   "cell_type": "code",
   "execution_count": null,
   "metadata": {
    "collapsed": true
   },
   "outputs": [],
   "source": [
    "data.rename(columns={'full_tm_prt_tm_dsc_Part-Time':'full_tm_prt_tm_dsc_Part_Time'},inplace=True)"
   ]
  },
  {
   "cell_type": "code",
   "execution_count": null,
   "metadata": {
    "collapsed": true
   },
   "outputs": [],
   "source": [
    "## analyzing with statsmodel\n",
    "model_stat = OLS.ols(data=data,formula=\"absence_hrs~nbr_emp+tenure+Age+marital_status_S+gender_Male+full_tm_prt_tm_dsc_Part_Time+reg_temp_cd_T\").fit()"
   ]
  },
  {
   "cell_type": "code",
   "execution_count": null,
   "metadata": {
    "collapsed": true
   },
   "outputs": [],
   "source": [
    "model_stat.summary()\n",
    "## with this data we find age as a significant feature"
   ]
  },
  {
   "cell_type": "markdown",
   "metadata": {},
   "source": [
    "### with SKLEARN ###"
   ]
  },
  {
   "cell_type": "code",
   "execution_count": null,
   "metadata": {
    "collapsed": true
   },
   "outputs": [],
   "source": [
    "## splitting\n",
    "y = data['absence_hrs']\n",
    "X = data[['nbr_emp','tenure','Age','marital_status_S','full_tm_prt_tm_dsc_Part_Time','reg_temp_cd_T']]\n",
    "X_Train, X_test,y_train,y_test = train_test_split(X,y,test_size=0.25,random_state=2)"
   ]
  },
  {
   "cell_type": "code",
   "execution_count": null,
   "metadata": {
    "collapsed": true
   },
   "outputs": [],
   "source": [
    "print(X_Train.shape,X_test.shape,y_train.shape,y_test.shape)"
   ]
  },
  {
   "cell_type": "code",
   "execution_count": null,
   "metadata": {
    "collapsed": true
   },
   "outputs": [],
   "source": [
    "mode_lin = LinearRegression()\n",
    "mode_lin.fit(X_Train,y_train)\n",
    "y_pred = mode_lin.predict(X_test)"
   ]
  },
  {
   "cell_type": "code",
   "execution_count": null,
   "metadata": {
    "collapsed": true,
    "scrolled": true
   },
   "outputs": [],
   "source": [
    "print(y.mean())\n",
    "print(y.max())\n",
    "print(y.min())"
   ]
  },
  {
   "cell_type": "code",
   "execution_count": null,
   "metadata": {
    "collapsed": true
   },
   "outputs": [],
   "source": [
    "## RMSE\n",
    "print(np.sqrt(metrics.mean_squared_error(y_test,y_pred)))"
   ]
  },
  {
   "cell_type": "markdown",
   "metadata": {},
   "source": [
    "## ********************************Absence Percentage **********************************####"
   ]
  },
  {
   "cell_type": "code",
   "execution_count": null,
   "metadata": {
    "collapsed": true
   },
   "outputs": [],
   "source": [
    "lis = os.listdir(\"C:\\\\Users\\\\kumrajni\\\\AppData\\\\Local\\\\Continuum\\\\anaconda3\\\\Scripts\\\\Jupyter_Learnign\\\\Jupyter_Learnign\\\\Absence\\\\Absence\")"
   ]
  },
  {
   "cell_type": "code",
   "execution_count": null,
   "metadata": {
    "collapsed": true
   },
   "outputs": [],
   "source": [
    "lis"
   ]
  },
  {
   "cell_type": "code",
   "execution_count": null,
   "metadata": {
    "collapsed": true
   },
   "outputs": [],
   "source": [
    "df0 = pd.read_csv(\"C:\\\\Users\\\\kumrajni\\\\AppData\\\\Local\\\\Continuum\\\\anaconda3\\\\Scripts\\\\Jupyter_Learnign\\\\Jupyter_Learnign\\\\Absence\\\\Absence\\\\\"+lis[1],header=0)\n",
    "df1 = pd.read_csv(\"C:\\\\Users\\\\kumrajni\\\\AppData\\\\Local\\\\Continuum\\\\anaconda3\\\\Scripts\\\\Jupyter_Learnign\\\\Jupyter_Learnign\\\\Absence\\\\Absence\\\\\"+lis[2],header=0)\n",
    "df2 = pd.read_csv(\"C:\\\\Users\\\\kumrajni\\\\AppData\\\\Local\\\\Continuum\\\\anaconda3\\\\Scripts\\\\Jupyter_Learnign\\\\Jupyter_Learnign\\\\Absence\\\\Absence\\\\\"+lis[3],header=0)\n",
    "df3 = pd.read_csv(\"C:\\\\Users\\\\kumrajni\\\\AppData\\\\Local\\\\Continuum\\\\anaconda3\\\\Scripts\\\\Jupyter_Learnign\\\\Jupyter_Learnign\\\\Absence\\\\Absence\\\\\"+lis[4],header=0)\n",
    "df4 = pd.read_csv(\"C:\\\\Users\\\\kumrajni\\\\AppData\\\\Local\\\\Continuum\\\\anaconda3\\\\Scripts\\\\Jupyter_Learnign\\\\Jupyter_Learnign\\\\Absence\\\\Absence\\\\\"+lis[5],header=0)\n",
    "df5 = pd.read_csv(\"C:\\\\Users\\\\kumrajni\\\\AppData\\\\Local\\\\Continuum\\\\anaconda3\\\\Scripts\\\\Jupyter_Learnign\\\\Jupyter_Learnign\\\\Absence\\\\Absence\\\\\"+lis[6],header=0)\n",
    "df6= pd.read_csv(\"C:\\\\Users\\\\kumrajni\\\\AppData\\\\Local\\\\Continuum\\\\anaconda3\\\\Scripts\\\\Jupyter_Learnign\\\\Jupyter_Learnign\\\\Absence\\\\Absence\\\\\"+lis[7],header=0)\n",
    "df7 = pd.read_csv(\"C:\\\\Users\\\\kumrajni\\\\AppData\\\\Local\\\\Continuum\\\\anaconda3\\\\Scripts\\\\Jupyter_Learnign\\\\Jupyter_Learnign\\\\Absence\\\\Absence\\\\\"+lis[8],header=0)\n",
    "df8 = pd.read_csv(\"C:\\\\Users\\\\kumrajni\\\\AppData\\\\Local\\\\Continuum\\\\anaconda3\\\\Scripts\\\\Jupyter_Learnign\\\\Jupyter_Learnign\\\\Absence\\\\Absence\\\\\"+lis[0],header=0)"
   ]
  },
  {
   "cell_type": "code",
   "execution_count": null,
   "metadata": {
    "collapsed": true
   },
   "outputs": [],
   "source": [
    "df = pd.concat([df0,df1,df2,df3,df4,df5,df6,df7,df8],ignore_index=True)"
   ]
  },
  {
   "cell_type": "code",
   "execution_count": null,
   "metadata": {
    "collapsed": true,
    "scrolled": true
   },
   "outputs": [],
   "source": [
    "print(df.shape)\n",
    "df.head()"
   ]
  },
  {
   "cell_type": "code",
   "execution_count": null,
   "metadata": {
    "collapsed": true
   },
   "outputs": [],
   "source": [
    "## calculating Absence_perc\n",
    "df['Absence'] = df['absence_hrs']/df['total_hrs']\n",
    "df['age'] = datetime.datetime.now().year-df['p.hr_birth_yr']\n",
    "df.drop(['total_hrs','absence_hrs','p.hr_job_dsc','p.hr_birth_yr'],inplace=True,axis=1)\n",
    "df = df.rename(columns={'p.marital_status_':'marital_status','p.hr_gndr_dsc':'gender','p.hr_full_tm_part_tm_dsc':'full_tm_part_tm','p.hr_reg_temp_cd':'reg_temp','p.tenure_':'tenure'})\n",
    "df.head()"
   ]
  },
  {
   "cell_type": "code",
   "execution_count": null,
   "metadata": {
    "collapsed": true,
    "scrolled": true
   },
   "outputs": [],
   "source": [
    "## check unique values in all columns and replace ohter than valid to np.nan\n",
    "for i in range(len(df.columns)):\n",
    "    if(i==0 or i == 1):\n",
    "        continue\n",
    "    else:        \n",
    "        print(df.columns[i]+str(df[df.columns[i]].unique()))"
   ]
  },
  {
   "cell_type": "code",
   "execution_count": null,
   "metadata": {
    "collapsed": true
   },
   "outputs": [],
   "source": [
    "## dropping where gender is not specified\n",
    "df.drop(df.index[df['gender']=='Not Specified'],inplace=True)"
   ]
  },
  {
   "cell_type": "code",
   "execution_count": null,
   "metadata": {
    "collapsed": true
   },
   "outputs": [],
   "source": [
    "##dropping all where absence =1 \n",
    "df.drop(df.index[df['Absence']==0],inplace=True)\n",
    "df.shape"
   ]
  },
  {
   "cell_type": "code",
   "execution_count": null,
   "metadata": {
    "collapsed": true
   },
   "outputs": [],
   "source": [
    "df.drop(df.index[df['Absence']<0],inplace=True)"
   ]
  },
  {
   "cell_type": "code",
   "execution_count": null,
   "metadata": {
    "collapsed": true
   },
   "outputs": [],
   "source": [
    "df.dropna(inplace=True)\n",
    "df.shape"
   ]
  },
  {
   "cell_type": "code",
   "execution_count": null,
   "metadata": {
    "collapsed": true
   },
   "outputs": [],
   "source": [
    "plt.figure(figsize=(14,9))\n",
    "plt.plot(df.sample(frac=0.3,random_state=2)['avg_salary'],df.sample(frac=0.3,random_state=2)['Absence'])\n",
    "plt.show()"
   ]
  },
  {
   "cell_type": "code",
   "execution_count": null,
   "metadata": {
    "collapsed": true
   },
   "outputs": [],
   "source": [
    "%matplotlib inline\n",
    "plt.figure(figsize=(10,5))\n",
    "plt.hist(df['Absence'],bins=10,range=(0,5))\n",
    "plt.show()"
   ]
  },
  {
   "cell_type": "code",
   "execution_count": null,
   "metadata": {
    "collapsed": true
   },
   "outputs": [],
   "source": [
    "print(df['Absence'].min())\n",
    "print(df['Absence'].mean())\n",
    "print(df['Absence'].max())"
   ]
  },
  {
   "cell_type": "code",
   "execution_count": null,
   "metadata": {
    "collapsed": true
   },
   "outputs": [],
   "source": [
    "##sns.pairplot(data.sample(frac=0.3,random_state=2)[['absence_hrs','nbr_emp','tenure']])\n",
    "## analysing with three numerical value\n",
    "t = (df.sample(frac=0.3)[['Absence','nbr_emp','tenure']])\n",
    "sns.pairplot(t)\n",
    "plt.show()"
   ]
  },
  {
   "cell_type": "code",
   "execution_count": null,
   "metadata": {
    "collapsed": true
   },
   "outputs": [],
   "source": [
    "##Finding outliers\n",
    "q1 = np.percentile((df['Absence']),25)\n",
    "q3 =  np.percentile((df['Absence']),75)\n",
    "IQR = q3-q1\n",
    "floor = q1-1.5*IQR\n",
    "ceiling = q3 + 1.5*IQR\n",
    "print(q1,q3,IQR,floor,ceiling)"
   ]
  },
  {
   "cell_type": "code",
   "execution_count": null,
   "metadata": {
    "collapsed": true
   },
   "outputs": [],
   "source": [
    "## listintg oulioers\n",
    "df[(df['Absence']<floor) | (df['Absence']>ceiling)].shape"
   ]
  },
  {
   "cell_type": "code",
   "execution_count": null,
   "metadata": {
    "collapsed": true
   },
   "outputs": [],
   "source": [
    "## removing poutliers\n",
    "df.drop(df.index[(df['Absence']<floor) | (df['Absence']>ceiling)],inplace=True)\n",
    "df.shape"
   ]
  },
  {
   "cell_type": "code",
   "execution_count": null,
   "metadata": {
    "collapsed": true,
    "scrolled": true
   },
   "outputs": [],
   "source": [
    "print(df.shape)\n",
    "df.head()"
   ]
  },
  {
   "cell_type": "code",
   "execution_count": null,
   "metadata": {
    "collapsed": true
   },
   "outputs": [],
   "source": [
    "df = pd.get_dummies(data=df,columns=['marital_status','gender','full_tm_part_tm','reg_temp'],drop_first=True)"
   ]
  },
  {
   "cell_type": "code",
   "execution_count": null,
   "metadata": {
    "collapsed": true
   },
   "outputs": [],
   "source": [
    "df.rename(columns={'full_tm_part_tm_Part-Time':'full_tm_part_tm_Part_Time'},inplace=True)"
   ]
  },
  {
   "cell_type": "code",
   "execution_count": null,
   "metadata": {
    "collapsed": true
   },
   "outputs": [],
   "source": [
    "df.head()"
   ]
  },
  {
   "cell_type": "code",
   "execution_count": null,
   "metadata": {
    "collapsed": true
   },
   "outputs": [],
   "source": [
    "df.corr(method='pearson').style.format(\"{:.2}\").background_gradient(cmap=plt.get_cmap('coolwarm'), axis=1)"
   ]
  },
  {
   "cell_type": "markdown",
   "metadata": {},
   "source": [
    "### model analysis using stat model"
   ]
  },
  {
   "cell_type": "code",
   "execution_count": null,
   "metadata": {
    "collapsed": true
   },
   "outputs": [],
   "source": [
    "ols_model = OLS.ols(data=df, formula=\"Absence~avg_salary+nbr_emp+tenure+age+marital_status_S+gender_Male+full_tm_part_tm_Part_Time+reg_temp_T\").fit()"
   ]
  },
  {
   "cell_type": "code",
   "execution_count": null,
   "metadata": {
    "collapsed": true,
    "scrolled": true
   },
   "outputs": [],
   "source": [
    "ols_model.summary()"
   ]
  },
  {
   "cell_type": "code",
   "execution_count": null,
   "metadata": {
    "collapsed": true
   },
   "outputs": [],
   "source": [
    "## every feature seems to be significant preiously age was coming more than 0.05"
   ]
  },
  {
   "cell_type": "markdown",
   "metadata": {},
   "source": [
    "## with SKlearn ###"
   ]
  },
  {
   "cell_type": "code",
   "execution_count": null,
   "metadata": {
    "collapsed": true
   },
   "outputs": [],
   "source": [
    "df.head()"
   ]
  },
  {
   "cell_type": "code",
   "execution_count": null,
   "metadata": {
    "collapsed": true
   },
   "outputs": [],
   "source": [
    "feature_columns = ['avg_salary','nbr_emp','tenure','age','marital_status_S','gender_Male','full_tm_part_tm_Part_Time','reg_temp_T']\n",
    "X = df[feature_columns]\n",
    "y = df['Absence']"
   ]
  },
  {
   "cell_type": "code",
   "execution_count": null,
   "metadata": {
    "collapsed": true
   },
   "outputs": [],
   "source": [
    "X_train,X_test,y_train,y_test = train_test_split(X,y,test_size=0.25,random_state=2)"
   ]
  },
  {
   "cell_type": "code",
   "execution_count": null,
   "metadata": {
    "collapsed": true
   },
   "outputs": [],
   "source": [
    "model = LinearRegression()\n",
    "model.fit(X_train,y_train)"
   ]
  },
  {
   "cell_type": "code",
   "execution_count": null,
   "metadata": {
    "collapsed": true,
    "scrolled": true
   },
   "outputs": [],
   "source": [
    "print(model.intercept_) ## intercenpt in OLS and sklearn seems to be same\n",
    "print(set(zip(feature_columns, model.coef_)))\n"
   ]
  },
  {
   "cell_type": "code",
   "execution_count": null,
   "metadata": {
    "collapsed": true
   },
   "outputs": [],
   "source": [
    "y_pred = model.predict(X_test)"
   ]
  },
  {
   "cell_type": "code",
   "execution_count": null,
   "metadata": {
    "collapsed": true
   },
   "outputs": [],
   "source": [
    "RMSE = np.sqrt(metrics.mean_squared_error(y_test,y_pred))\n",
    "print(RMSE)"
   ]
  },
  {
   "cell_type": "code",
   "execution_count": null,
   "metadata": {
    "collapsed": true,
    "scrolled": true
   },
   "outputs": [],
   "source": [
    "r2Score = metrics.r2_score(y_test,y_pred)\n",
    "r2Score"
   ]
  },
  {
   "cell_type": "code",
   "execution_count": null,
   "metadata": {
    "collapsed": true
   },
   "outputs": [],
   "source": [
    "print(df['Absence'].max())\n",
    "print(df['Absence'].mean())\n",
    "print(df['Absence'].min())"
   ]
  },
  {
   "cell_type": "code",
   "execution_count": null,
   "metadata": {
    "collapsed": true
   },
   "outputs": [],
   "source": [
    "## we see tjat male absnece percentage is more than "
   ]
  },
  {
   "cell_type": "markdown",
   "metadata": {},
   "source": [
    "## ******************************************************END **********************************************"
   ]
  },
  {
   "cell_type": "markdown",
   "metadata": {},
   "source": [
    "### Testing with one random client data ###"
   ]
  },
  {
   "cell_type": "code",
   "execution_count": null,
   "metadata": {
    "collapsed": true
   },
   "outputs": [],
   "source": [
    "test = pd.read_csv(\"C:\\\\Users\\\\kumrajni\\\\AppData\\\\Local\\\\Continuum\\\\anaconda3\\\\Scripts\\\\Jupyter_Learnign\\\\Jupyter_Learnign\\\\Absence\\\\Absence\\\\Test\\\\Absence_G3V0M1670KYADKSJ.csv\",header=0)"
   ]
  },
  {
   "cell_type": "code",
   "execution_count": null,
   "metadata": {
    "collapsed": true
   },
   "outputs": [],
   "source": []
  },
  {
   "cell_type": "code",
   "execution_count": null,
   "metadata": {
    "collapsed": true
   },
   "outputs": [],
   "source": [
    "def refinedf(dataframe):\n",
    "    dataframe['Absence'] = dataframe['absence_hrs']/dataframe['total_hrs']\n",
    "    dataframe['age'] = datetime.datetime.now().year-dataframe['p.hr_birth_yr']\n",
    "    dataframe.drop(['total_hrs','absence_hrs','p.hr_job_dsc','p.hr_birth_yr'],inplace=True,axis=1)\n",
    "    dataframe =dataframe.rename(columns={'p.marital_status_':'marital_status','p.hr_gndr_dsc':'gender','p.hr_full_tm_part_tm_dsc':'full_tm_part_tm','p.hr_reg_temp_cd':'reg_temp','p.tenure_':'tenure'})\n",
    "    dataframe.drop(dataframe.index[dataframe['gender']=='Not Specified'],inplace=True)\n",
    "    dataframe.drop(dataframe.index[dataframe['Absence']==0],inplace=True)\n",
    "    dataframe.drop(dataframe.index[dataframe['Absence']<0],inplace=True)\n",
    "    dataframe.dropna(inplace=True)\n",
    "    print(dataframe.head())\n",
    "    return dataframe"
   ]
  },
  {
   "cell_type": "code",
   "execution_count": null,
   "metadata": {
    "collapsed": true
   },
   "outputs": [],
   "source": [
    "def removeOutliers(dataframe):\n",
    "    q1 = np.percentile((dataframe['Absence']),25)\n",
    "    q3 =  np.percentile((dataframe['Absence']),75)\n",
    "    IQR = q3-q1\n",
    "    floor = q1-1.5*IQR\n",
    "    ceiling = q3 + 1.5*IQR\n",
    "    dataframe.drop(dataframe.index[(dataframe['Absence']<floor) | (dataframe['Absence']>ceiling)],inplace=True)\n",
    "    return dataframe"
   ]
  },
  {
   "cell_type": "code",
   "execution_count": null,
   "metadata": {
    "collapsed": true
   },
   "outputs": [],
   "source": [
    "def getDummies(dataframe):\n",
    "    dataframe = pd.get_dummies(data=dataframe,columns=['marital_status','gender','full_tm_part_tm','reg_temp'],drop_first=True)\n",
    "    dataframe.rename(columns={'full_tm_part_tm_Part-Time':'full_tm_part_tm_Part_Time'},inplace=True)\n",
    "    return dataframe"
   ]
  },
  {
   "cell_type": "code",
   "execution_count": null,
   "metadata": {
    "collapsed": true
   },
   "outputs": [],
   "source": [
    "def predicted_Absece(dataframe):\n",
    "    client_pram = dataframe[['avg_salary','nbr_emp','tenure','age','marital_status_S','gender_Male','full_tm_part_tm_Part_Time','reg_temp_T']]\n",
    "    client_pred  = model.predict(client_pram)\n",
    "    return client_pred"
   ]
  },
  {
   "cell_type": "code",
   "execution_count": null,
   "metadata": {
    "collapsed": true
   },
   "outputs": [],
   "source": [
    "def calRMSEClient(dataframe):\n",
    "    return np.sqrt(metrics.mean_squared_error(dataframe['Absence'],predicted_Absece(dataframe)))"
   ]
  },
  {
   "cell_type": "code",
   "execution_count": null,
   "metadata": {
    "collapsed": true
   },
   "outputs": [],
   "source": [
    "test = refinedf(test)\n",
    "test = removeOutliers(test)\n",
    "test =  getDummies(test)"
   ]
  },
  {
   "cell_type": "code",
   "execution_count": null,
   "metadata": {
    "collapsed": true
   },
   "outputs": [],
   "source": [
    "print(calRMSEClient(test))"
   ]
  },
  {
   "cell_type": "code",
   "execution_count": null,
   "metadata": {
    "collapsed": true
   },
   "outputs": [],
   "source": [
    "test  = test.rename(columns={'p.marital_status_':'marital_status'})"
   ]
  },
  {
   "cell_type": "code",
   "execution_count": null,
   "metadata": {
    "collapsed": true
   },
   "outputs": [],
   "source": [
    "test.head()"
   ]
  },
  {
   "cell_type": "markdown",
   "metadata": {},
   "source": [
    "#### removing all the outliers"
   ]
  },
  {
   "cell_type": "code",
   "execution_count": null,
   "metadata": {
    "collapsed": true
   },
   "outputs": [],
   "source": [
    "df.head()"
   ]
  },
  {
   "cell_type": "code",
   "execution_count": null,
   "metadata": {
    "collapsed": true
   },
   "outputs": [],
   "source": [
    "##Finding outliers\n",
    "q1_sal = np.percentile((df['avg_salary']),25)\n",
    "q3_sal =  np.percentile((df['avg_salary']),75)\n",
    "IQR_sal = q3_sal-q1_sal\n",
    "floor_sal = q1_sal-1.5*IQR_sal\n",
    "ceiling_sal = q3_sal + 1.5*IQR_sal\n",
    "print(q1_sal,q3_sal,IQR_sal,floor_sal,ceiling_sal)"
   ]
  },
  {
   "cell_type": "code",
   "execution_count": null,
   "metadata": {
    "collapsed": true
   },
   "outputs": [],
   "source": [
    "##drop all outliers with respect to avg salary\n",
    "## removing poutliers\n",
    "df.drop(df.index[(df['avg_salary']<floor_sal) | (df['avg_salary']>ceiling_sal)],inplace=True)\n",
    "df.shape"
   ]
  },
  {
   "cell_type": "code",
   "execution_count": null,
   "metadata": {
    "collapsed": true
   },
   "outputs": [],
   "source": [
    "##Finding outliers with respect to number of people\n",
    "q1_sal = np.percentile((df['nbr_emp']),25)\n",
    "q3_sal =  np.percentile((df['nbr_emp']),75)\n",
    "IQR_sal = q3_sal-q1_sal\n",
    "floor_sal = q1_sal-1.5*IQR_sal\n",
    "ceiling_sal = q3_sal + 1.5*IQR_sal\n",
    "print(q1_sal,q3_sal,IQR_sal,floor_sal,ceiling_sal)\n",
    "df.drop(df.index[(df['nbr_emp']<floor_sal) | (df['nbr_emp']>ceiling_sal)],inplace=True)\n",
    "df.shape"
   ]
  },
  {
   "cell_type": "code",
   "execution_count": null,
   "metadata": {
    "collapsed": true,
    "scrolled": true
   },
   "outputs": [],
   "source": [
    "ols_model_2 = OLS.ols(data=df, formula=\"Absence~avg_salary+nbr_emp+tenure+age+marital_status_S+gender_Male+full_tm_part_tm_Part_Time+reg_temp_T\").fit()\n",
    "ols_model_2.summary()"
   ]
  },
  {
   "cell_type": "code",
   "execution_count": null,
   "metadata": {
    "collapsed": true,
    "scrolled": true
   },
   "outputs": [],
   "source": [
    "df.head()"
   ]
  },
  {
   "cell_type": "markdown",
   "metadata": {},
   "source": [
    "### ********************************************** Absence tenure band******************************** ####"
   ]
  },
  {
   "cell_type": "code",
   "execution_count": 63,
   "metadata": {
    "collapsed": true
   },
   "outputs": [],
   "source": [
    "Excels = os.listdir(\"C:\\\\Users\\\\kumrajni\\\\AppData\\\\Local\\\\Continuum\\\\anaconda3\\\\Scripts\\\\Jupyter_Learnign\\\\Jupyter_Learnign\\\\Absence\")\n"
   ]
  },
  {
   "cell_type": "code",
   "execution_count": 64,
   "metadata": {},
   "outputs": [
    {
     "data": {
      "text/plain": [
       "'Absence_G385HQ0GG37BHG07_G3X6R9V946MX8JBD.csv'"
      ]
     },
     "execution_count": 64,
     "metadata": {},
     "output_type": "execute_result"
    }
   ],
   "source": [
    "Excels[0]"
   ]
  },
  {
   "cell_type": "code",
   "execution_count": 65,
   "metadata": {
    "collapsed": true
   },
   "outputs": [],
   "source": [
    "df1 = pd.read_csv(\"C:\\\\Users\\kumrajni\\\\AppData\\\\Local\\\\Continuum\\\\anaconda3\\\\Scripts\\\\Jupyter_Learnign\\\\Jupyter_Learnign\\\\Absence\\\\\"+Excels[0],header=0)\n",
    "df2 = pd.read_csv(\"C:\\\\Users\\kumrajni\\\\AppData\\\\Local\\\\Continuum\\\\anaconda3\\\\Scripts\\\\Jupyter_Learnign\\\\Jupyter_Learnign\\\\Absence\\\\\"+Excels[1],header=0)\n",
    "df3 = pd.read_csv(\"C:\\\\Users\\kumrajni\\\\AppData\\\\Local\\\\Continuum\\\\anaconda3\\\\Scripts\\\\Jupyter_Learnign\\\\Jupyter_Learnign\\\\Absence\\\\\"+Excels[2],header=0)"
   ]
  },
  {
   "cell_type": "code",
   "execution_count": 66,
   "metadata": {
    "collapsed": true
   },
   "outputs": [],
   "source": [
    "data = pd.concat([df1,df2,df3],ignore_index=True)"
   ]
  },
  {
   "cell_type": "code",
   "execution_count": 67,
   "metadata": {},
   "outputs": [
    {
     "data": {
      "text/html": [
       "<div>\n",
       "<style>\n",
       "    .dataframe thead tr:only-child th {\n",
       "        text-align: right;\n",
       "    }\n",
       "\n",
       "    .dataframe thead th {\n",
       "        text-align: left;\n",
       "    }\n",
       "\n",
       "    .dataframe tbody tr th {\n",
       "        vertical-align: top;\n",
       "    }\n",
       "</style>\n",
       "<table border=\"1\" class=\"dataframe\">\n",
       "  <thead>\n",
       "    <tr style=\"text-align: right;\">\n",
       "      <th></th>\n",
       "      <th>total_hrs</th>\n",
       "      <th>absence_hrs</th>\n",
       "      <th>avg_salary</th>\n",
       "      <th>nbr_emp</th>\n",
       "      <th>p.hr_job_dsc</th>\n",
       "      <th>p.hr_birth_yr</th>\n",
       "      <th>p.marital_status_</th>\n",
       "      <th>p.hr_gndr_dsc</th>\n",
       "      <th>p.hr_full_tm_part_tm_dsc</th>\n",
       "      <th>p.hr_reg_temp_cd</th>\n",
       "      <th>p.tenure_band_</th>\n",
       "    </tr>\n",
       "  </thead>\n",
       "  <tbody>\n",
       "    <tr>\n",
       "      <th>0</th>\n",
       "      <td>14672.000000</td>\n",
       "      <td>4628.00</td>\n",
       "      <td>5342.771974</td>\n",
       "      <td>3090</td>\n",
       "      <td>\"Technician \"\"A\"\"\"</td>\n",
       "      <td>1957</td>\n",
       "      <td>M</td>\n",
       "      <td>Male</td>\n",
       "      <td>Full-Time</td>\n",
       "      <td>R</td>\n",
       "      <td>Over 15 Years</td>\n",
       "    </tr>\n",
       "    <tr>\n",
       "      <th>1</th>\n",
       "      <td>2809.966667</td>\n",
       "      <td>0.00</td>\n",
       "      <td>2901.330000</td>\n",
       "      <td>740</td>\n",
       "      <td>01BESP</td>\n",
       "      <td>1974</td>\n",
       "      <td>S</td>\n",
       "      <td>Female</td>\n",
       "      <td>Full-Time</td>\n",
       "      <td>R</td>\n",
       "      <td>Under 1 Year</td>\n",
       "    </tr>\n",
       "    <tr>\n",
       "      <th>2</th>\n",
       "      <td>22510.250000</td>\n",
       "      <td>2046.00</td>\n",
       "      <td>2375.010000</td>\n",
       "      <td>6806</td>\n",
       "      <td>2S-Administrative Assistant</td>\n",
       "      <td>1994</td>\n",
       "      <td>S</td>\n",
       "      <td>Female</td>\n",
       "      <td>Full-Time</td>\n",
       "      <td>R</td>\n",
       "      <td>3-5 Years</td>\n",
       "    </tr>\n",
       "    <tr>\n",
       "      <th>3</th>\n",
       "      <td>11796.000000</td>\n",
       "      <td>-1610.00</td>\n",
       "      <td>513.276055</td>\n",
       "      <td>4644</td>\n",
       "      <td>2S-Intern</td>\n",
       "      <td>1998</td>\n",
       "      <td>S</td>\n",
       "      <td>Male</td>\n",
       "      <td>Full-Time</td>\n",
       "      <td>T</td>\n",
       "      <td>Under 1 Year</td>\n",
       "    </tr>\n",
       "    <tr>\n",
       "      <th>4</th>\n",
       "      <td>3510.500000</td>\n",
       "      <td>29.75</td>\n",
       "      <td>1088.800000</td>\n",
       "      <td>826</td>\n",
       "      <td>2S-Receptionist</td>\n",
       "      <td>1986</td>\n",
       "      <td>S</td>\n",
       "      <td>Female</td>\n",
       "      <td>Full-Time</td>\n",
       "      <td>R</td>\n",
       "      <td>2-3 Years</td>\n",
       "    </tr>\n",
       "  </tbody>\n",
       "</table>\n",
       "</div>"
      ],
      "text/plain": [
       "      total_hrs  absence_hrs   avg_salary  nbr_emp  \\\n",
       "0  14672.000000      4628.00  5342.771974     3090   \n",
       "1   2809.966667         0.00  2901.330000      740   \n",
       "2  22510.250000      2046.00  2375.010000     6806   \n",
       "3  11796.000000     -1610.00   513.276055     4644   \n",
       "4   3510.500000        29.75  1088.800000      826   \n",
       "\n",
       "                  p.hr_job_dsc  p.hr_birth_yr p.marital_status_ p.hr_gndr_dsc  \\\n",
       "0           \"Technician \"\"A\"\"\"           1957                 M          Male   \n",
       "1                       01BESP           1974                 S        Female   \n",
       "2  2S-Administrative Assistant           1994                 S        Female   \n",
       "3                    2S-Intern           1998                 S          Male   \n",
       "4              2S-Receptionist           1986                 S        Female   \n",
       "\n",
       "  p.hr_full_tm_part_tm_dsc p.hr_reg_temp_cd p.tenure_band_  \n",
       "0                Full-Time                R  Over 15 Years  \n",
       "1                Full-Time                R   Under 1 Year  \n",
       "2                Full-Time                R      3-5 Years  \n",
       "3                Full-Time                T   Under 1 Year  \n",
       "4                Full-Time                R      2-3 Years  "
      ]
     },
     "execution_count": 67,
     "metadata": {},
     "output_type": "execute_result"
    }
   ],
   "source": [
    "data.head()"
   ]
  },
  {
   "cell_type": "code",
   "execution_count": 68,
   "metadata": {
    "collapsed": true
   },
   "outputs": [],
   "source": [
    "## calculating Absence_perc\n",
    "data['Absence'] = data['absence_hrs']/data['total_hrs']\n",
    "data['age'] = datetime.datetime.now().year-data['p.hr_birth_yr']\n",
    "data.drop(['total_hrs','absence_hrs','p.hr_job_dsc','p.hr_birth_yr'],inplace=True,axis=1)\n",
    "data = data.rename(columns={'p.marital_status_':'marital_status','p.hr_gndr_dsc':'gender','p.hr_full_tm_part_tm_dsc':'full_tm_part_tm','p.hr_reg_temp_cd':'reg_temp','p.tenure_band_':'tenure_band'})"
   ]
  },
  {
   "cell_type": "code",
   "execution_count": 69,
   "metadata": {},
   "outputs": [
    {
     "data": {
      "text/html": [
       "<div>\n",
       "<style>\n",
       "    .dataframe thead tr:only-child th {\n",
       "        text-align: right;\n",
       "    }\n",
       "\n",
       "    .dataframe thead th {\n",
       "        text-align: left;\n",
       "    }\n",
       "\n",
       "    .dataframe tbody tr th {\n",
       "        vertical-align: top;\n",
       "    }\n",
       "</style>\n",
       "<table border=\"1\" class=\"dataframe\">\n",
       "  <thead>\n",
       "    <tr style=\"text-align: right;\">\n",
       "      <th></th>\n",
       "      <th>avg_salary</th>\n",
       "      <th>nbr_emp</th>\n",
       "      <th>marital_status</th>\n",
       "      <th>gender</th>\n",
       "      <th>full_tm_part_tm</th>\n",
       "      <th>reg_temp</th>\n",
       "      <th>tenure_band</th>\n",
       "      <th>Absence</th>\n",
       "      <th>age</th>\n",
       "    </tr>\n",
       "  </thead>\n",
       "  <tbody>\n",
       "    <tr>\n",
       "      <th>0</th>\n",
       "      <td>5342.771974</td>\n",
       "      <td>3090</td>\n",
       "      <td>M</td>\n",
       "      <td>Male</td>\n",
       "      <td>Full-Time</td>\n",
       "      <td>R</td>\n",
       "      <td>Over 15 Years</td>\n",
       "      <td>0.315431</td>\n",
       "      <td>61</td>\n",
       "    </tr>\n",
       "    <tr>\n",
       "      <th>1</th>\n",
       "      <td>2901.330000</td>\n",
       "      <td>740</td>\n",
       "      <td>S</td>\n",
       "      <td>Female</td>\n",
       "      <td>Full-Time</td>\n",
       "      <td>R</td>\n",
       "      <td>Under 1 Year</td>\n",
       "      <td>0.000000</td>\n",
       "      <td>44</td>\n",
       "    </tr>\n",
       "    <tr>\n",
       "      <th>2</th>\n",
       "      <td>2375.010000</td>\n",
       "      <td>6806</td>\n",
       "      <td>S</td>\n",
       "      <td>Female</td>\n",
       "      <td>Full-Time</td>\n",
       "      <td>R</td>\n",
       "      <td>3-5 Years</td>\n",
       "      <td>0.090892</td>\n",
       "      <td>24</td>\n",
       "    </tr>\n",
       "    <tr>\n",
       "      <th>3</th>\n",
       "      <td>513.276055</td>\n",
       "      <td>4644</td>\n",
       "      <td>S</td>\n",
       "      <td>Male</td>\n",
       "      <td>Full-Time</td>\n",
       "      <td>T</td>\n",
       "      <td>Under 1 Year</td>\n",
       "      <td>-0.136487</td>\n",
       "      <td>20</td>\n",
       "    </tr>\n",
       "    <tr>\n",
       "      <th>4</th>\n",
       "      <td>1088.800000</td>\n",
       "      <td>826</td>\n",
       "      <td>S</td>\n",
       "      <td>Female</td>\n",
       "      <td>Full-Time</td>\n",
       "      <td>R</td>\n",
       "      <td>2-3 Years</td>\n",
       "      <td>0.008475</td>\n",
       "      <td>32</td>\n",
       "    </tr>\n",
       "  </tbody>\n",
       "</table>\n",
       "</div>"
      ],
      "text/plain": [
       "    avg_salary  nbr_emp marital_status  gender full_tm_part_tm reg_temp  \\\n",
       "0  5342.771974     3090              M    Male       Full-Time        R   \n",
       "1  2901.330000      740              S  Female       Full-Time        R   \n",
       "2  2375.010000     6806              S  Female       Full-Time        R   \n",
       "3   513.276055     4644              S    Male       Full-Time        T   \n",
       "4  1088.800000      826              S  Female       Full-Time        R   \n",
       "\n",
       "     tenure_band   Absence  age  \n",
       "0  Over 15 Years  0.315431   61  \n",
       "1   Under 1 Year  0.000000   44  \n",
       "2      3-5 Years  0.090892   24  \n",
       "3   Under 1 Year -0.136487   20  \n",
       "4      2-3 Years  0.008475   32  "
      ]
     },
     "execution_count": 69,
     "metadata": {},
     "output_type": "execute_result"
    }
   ],
   "source": [
    "data.head()"
   ]
  },
  {
   "cell_type": "code",
   "execution_count": 70,
   "metadata": {},
   "outputs": [
    {
     "name": "stdout",
     "output_type": "stream",
     "text": [
      "marital_status['M' 'S']\n",
      "gender['Male' 'Female' 'Not Specified']\n",
      "full_tm_part_tm['Full-Time' 'Part-Time']\n",
      "reg_temp['R' 'T']\n",
      "tenure_band['Over 15 Years' 'Under 1 Year' '3-5 Years' '2-3 Years' '1-2 Years'\n",
      " '10-15 Years' '5-10 Years' 'Unknown']\n",
      "Absence[ 0.31543075  0.          0.09089193 ...,  0.36338147  0.21469997\n",
      "  0.21740774]\n",
      "age[ 61  44  24  20  32  34  66  49  38  30  29  27  26  21  19  18  17  41\n",
      "  55  57  63  62  60  58  56  54  53  51  50  47  46  45  42  40  39  37\n",
      "  35  33  31  28  25  67  43  36  70  64  59  52  48  68  77  72  71  65\n",
      "  23  22  69  82  75  74  73  80  76  78  81  16  85  79   1  83  88  87\n",
      "  90  84  93   5  89  98  96   3  15  86  92 114 110 106  91 109 112]\n"
     ]
    }
   ],
   "source": [
    "## check unique values in all columns and replace ohter than valid to np.nan\n",
    "for i in range(len(data.columns)):\n",
    "    if(i==0 or i == 1):\n",
    "        continue\n",
    "    else:        \n",
    "        print(data.columns[i]+str(data[data.columns[i]].unique()))"
   ]
  },
  {
   "cell_type": "code",
   "execution_count": null,
   "metadata": {
    "collapsed": true
   },
   "outputs": [],
   "source": [
    "data[data['tenure_band']=='Unknown'].shape"
   ]
  },
  {
   "cell_type": "code",
   "execution_count": null,
   "metadata": {
    "collapsed": true
   },
   "outputs": [],
   "source": [
    "## dropping where gender is not specified\n",
    "data.drop(data.index[data['gender']=='Not Specified'],inplace=True)\n",
    "data.drop(data.index[data['tenure_band']=='Unknown'],inplace=True)\n",
    "##dropping all where absence =1 \n",
    "data.drop(data.index[data['Absence']==0],inplace=True)\n",
    "data.drop(data.index[data['Absence']<0],inplace=True)\n",
    "data.dropna(inplace=True)"
   ]
  },
  {
   "cell_type": "code",
   "execution_count": null,
   "metadata": {
    "collapsed": true
   },
   "outputs": [],
   "source": [
    "data = data.round(2)"
   ]
  },
  {
   "cell_type": "code",
   "execution_count": null,
   "metadata": {
    "collapsed": true
   },
   "outputs": [],
   "source": [
    "data = pd.get_dummies(data=data,columns=['marital_status','gender','full_tm_part_tm','reg_temp','tenure_band'],drop_first=True)\n",
    "\n"
   ]
  },
  {
   "cell_type": "code",
   "execution_count": null,
   "metadata": {
    "collapsed": true
   },
   "outputs": [],
   "source": [
    "data.rename(columns={'full_tm_part_tm_Part-Time':'full_tm_part_tm_Part_Time'},inplace=True)\n"
   ]
  },
  {
   "cell_type": "code",
   "execution_count": null,
   "metadata": {
    "collapsed": true,
    "scrolled": false
   },
   "outputs": [],
   "source": [
    "data.corr(method='pearson').style.format(\"{:.2}\").background_gradient(cmap=plt.get_cmap('coolwarm'), axis=1)"
   ]
  },
  {
   "cell_type": "code",
   "execution_count": null,
   "metadata": {
    "collapsed": true
   },
   "outputs": [],
   "source": [
    "data.rename(columns={'tenure_band_10-15 Years':'tenure_band_10_15','tenure_band_2-3 Years':'tenure_band_2_3','tenure_band_3-5 Years':'tenure_band_3_5','tenure_band_5-10 Years':'tenure_band_5_10 ','tenure_band_Over 15 Years':'tenure_band_Over_15','tenure_band_Under 1 Year':'tenure_band_Under_1 '},inplace=True)"
   ]
  },
  {
   "cell_type": "code",
   "execution_count": null,
   "metadata": {
    "collapsed": true
   },
   "outputs": [],
   "source": [
    "data.rename(columns={'tenure_band_5_10 ':'tenure_band_5_10'},inplace=True)"
   ]
  },
  {
   "cell_type": "code",
   "execution_count": null,
   "metadata": {
    "collapsed": true
   },
   "outputs": [],
   "source": [
    "data.columns"
   ]
  },
  {
   "cell_type": "code",
   "execution_count": null,
   "metadata": {
    "collapsed": true
   },
   "outputs": [],
   "source": [
    "ols_model = OLS.ols(data=data, formula=\"Absence~avg_salary+nbr_emp+age+full_tm_part_tm_Part_Time+reg_temp_T+tenure_band_10_15+tenure_band_2_3+tenure_band_3_5+tenure_band_5_10+tenure_band_Over_15+tenure_band_Under_1\").fit()"
   ]
  },
  {
   "cell_type": "code",
   "execution_count": null,
   "metadata": {
    "collapsed": true,
    "scrolled": false
   },
   "outputs": [],
   "source": [
    "ols_model.summary()"
   ]
  },
  {
   "cell_type": "code",
   "execution_count": null,
   "metadata": {
    "collapsed": true
   },
   "outputs": [],
   "source": [
    "##Finding outliers\n",
    "q1 = np.percentile((data['Absence']),25)\n",
    "q3 =  np.percentile((data['Absence']),75)\n",
    "IQR = q3-q1\n",
    "floor = q1-1.5*IQR\n",
    "ceiling = q3 + 1.5*IQR\n",
    "print(q1,q3,IQR,floor,ceiling)\n",
    "\n"
   ]
  },
  {
   "cell_type": "code",
   "execution_count": null,
   "metadata": {
    "collapsed": true
   },
   "outputs": [],
   "source": [
    "## listintg oulioers\n",
    "data[(data['Absence']<floor) | (data['Absence']>ceiling)].shape\n",
    "\n"
   ]
  },
  {
   "cell_type": "code",
   "execution_count": null,
   "metadata": {
    "collapsed": true
   },
   "outputs": [],
   "source": [
    "## removing poutliers\n",
    "data.drop(data.index[(data['Absence']<floor) | (data['Absence']>ceiling)],inplace=True)\n",
    "data.shape"
   ]
  },
  {
   "cell_type": "code",
   "execution_count": null,
   "metadata": {
    "collapsed": true
   },
   "outputs": [],
   "source": [
    "data.drop(labels='gender_Male',axis=1,inplace=True)"
   ]
  },
  {
   "cell_type": "code",
   "execution_count": null,
   "metadata": {
    "collapsed": true
   },
   "outputs": [],
   "source": [
    "data.head()"
   ]
  },
  {
   "cell_type": "code",
   "execution_count": null,
   "metadata": {
    "collapsed": true
   },
   "outputs": [],
   "source": [
    "##Finding outliers\n",
    "q1_sal = np.percentile((data['avg_salary']),25)\n",
    "q3_sal =  np.percentile((data['avg_salary']),75)\n",
    "IQR_sal = q3_sal-q1_sal\n",
    "floor_sal = q1_sal-1.5*IQR_sal\n",
    "ceiling_sal = q3_sal + 1.5*IQR_sal\n",
    "print(q1_sal,q3_sal,IQR_sal,floor_sal,ceiling_sal)\n",
    "\n"
   ]
  },
  {
   "cell_type": "code",
   "execution_count": null,
   "metadata": {
    "collapsed": true
   },
   "outputs": [],
   "source": [
    "## listintg oulioers\n",
    "data[(data['avg_salary']<floor_sal) | (data['avg_salary']>ceiling_sal)].shape\n",
    "\n"
   ]
  },
  {
   "cell_type": "code",
   "execution_count": null,
   "metadata": {
    "collapsed": true
   },
   "outputs": [],
   "source": [
    "data.drop(data.index[(data['avg_salary']<floor_sal) | (data['avg_salary']>ceiling_sal)],inplace=True)\n",
    "data.shape"
   ]
  },
  {
   "cell_type": "code",
   "execution_count": null,
   "metadata": {
    "collapsed": true
   },
   "outputs": [],
   "source": [
    "##Finding outliers\n",
    "q1_nbr = np.percentile((data['nbr_emp']),25)\n",
    "q3_nbr =  np.percentile((data['nbr_emp']),75)\n",
    "IQR_nbr = q3_nbr-q1_nbr\n",
    "floor_nbr = q1_nbr-1.5*IQR_nbr\n",
    "ceiling_nbr = q3_nbr + 1.5*IQR_nbr\n",
    "print(q1_nbr,q3_nbr,IQR_nbr,floor_nbr,ceiling_nbr)\n"
   ]
  },
  {
   "cell_type": "code",
   "execution_count": null,
   "metadata": {
    "collapsed": true
   },
   "outputs": [],
   "source": [
    "## listintg oulioers\n",
    "data[(data['nbr_emp']<floor_nbr) | (data['nbr_emp']>ceiling_nbr)].shape\n"
   ]
  },
  {
   "cell_type": "code",
   "execution_count": null,
   "metadata": {
    "collapsed": true
   },
   "outputs": [],
   "source": [
    "data.drop(data.index[(data['nbr_emp']<floor_nbr) | (data['nbr_emp']>ceiling_nbr)],inplace=True)\n",
    "data.shape"
   ]
  },
  {
   "cell_type": "code",
   "execution_count": null,
   "metadata": {
    "collapsed": true
   },
   "outputs": [],
   "source": [
    "data.duplicated().sum()\n",
    "data.drop_duplicates(inplace=True)"
   ]
  },
  {
   "cell_type": "code",
   "execution_count": null,
   "metadata": {
    "collapsed": true
   },
   "outputs": [],
   "source": [
    "## removing marital stus\n",
    "data.drop('marital_status_S',inplace=True,axis=1)"
   ]
  },
  {
   "cell_type": "code",
   "execution_count": null,
   "metadata": {
    "collapsed": true
   },
   "outputs": [],
   "source": [
    "##Finding outliers\n",
    "q1_age = np.percentile((data['age']),25)\n",
    "q3_age =  np.percentile((data['age']),75)\n",
    "IQR_age = q3_age-q1_age\n",
    "floor_age = q1_age-1.5*IQR_age\n",
    "ceiling_age = q3_age + 1.5*IQR_age\n",
    "print(q1_age,q3_age,IQR_age,floor_age,ceiling_age)"
   ]
  },
  {
   "cell_type": "code",
   "execution_count": null,
   "metadata": {
    "collapsed": true
   },
   "outputs": [],
   "source": [
    "## listintg oulioers\n",
    "data[(data['age']<floor_age) | (data['age']>ceiling_age)].shape"
   ]
  },
  {
   "cell_type": "code",
   "execution_count": null,
   "metadata": {
    "collapsed": true
   },
   "outputs": [],
   "source": [
    "data.drop(data.index[(data['age']<floor_age) | (data['age']>ceiling_age)],inplace=True)\n",
    "data.shape"
   ]
  },
  {
   "cell_type": "code",
   "execution_count": null,
   "metadata": {
    "collapsed": true,
    "scrolled": true
   },
   "outputs": [],
   "source": [
    "%matplotlib inline\n",
    "plt.figure(figsize=(10,5))\n",
    "plt.hist(data['Absence'],bins=10,range=(0,5))\n",
    "plt.show()"
   ]
  },
  {
   "cell_type": "markdown",
   "metadata": {},
   "source": [
    "## ********************Absence with bands ##************************************************************"
   ]
  },
  {
   "cell_type": "code",
   "execution_count": 108,
   "metadata": {
    "collapsed": true
   },
   "outputs": [],
   "source": [
    "lists = os.listdir(\"C:\\\\Users\\\\kumrajni\\\\AppData\\\\Local\\\\Continuum\\\\anaconda3\\\\Scripts\\\\Jupyter_Learnign\\\\Jupyter_Learnign\\\\Absence\\\\Band\")"
   ]
  },
  {
   "cell_type": "code",
   "execution_count": 109,
   "metadata": {
    "collapsed": true
   },
   "outputs": [],
   "source": [
    "lists\n",
    "path = \"C:\\\\Users\\\\kumrajni\\\\AppData\\\\Local\\\\Continuum\\\\anaconda3\\\\Scripts\\\\Jupyter_Learnign\\\\Jupyter_Learnign\\\\Absence\\\\Band\\\\\""
   ]
  },
  {
   "cell_type": "code",
   "execution_count": 110,
   "metadata": {
    "collapsed": true
   },
   "outputs": [],
   "source": [
    "fd1 = pd.read_csv(path+lists[0],header=0)\n",
    "fd2 = pd.read_csv(path+lists[1],header=0)\n",
    "fd3 = pd.read_csv(path+lists[2],header=0)"
   ]
  },
  {
   "cell_type": "code",
   "execution_count": 111,
   "metadata": {
    "collapsed": true
   },
   "outputs": [],
   "source": [
    "data = pd.concat([fd1,fd2,fd3],ignore_index=True)"
   ]
  },
  {
   "cell_type": "code",
   "execution_count": 112,
   "metadata": {},
   "outputs": [
    {
     "name": "stdout",
     "output_type": "stream",
     "text": [
      "<class 'pandas.core.frame.DataFrame'>\n",
      "RangeIndex: 121925 entries, 0 to 121924\n",
      "Data columns (total 11 columns):\n",
      "total_hrs                   121925 non-null float64\n",
      "absence_hrs                 121925 non-null float64\n",
      "avg_salary                  121925 non-null float64\n",
      "nbr_emp                     121925 non-null int64\n",
      "p.hr_job_dsc                121925 non-null object\n",
      "p.age_band_                 121925 non-null object\n",
      "p.marital_status_           121925 non-null object\n",
      "p.hr_gndr_dsc               121925 non-null object\n",
      "p.hr_full_tm_part_tm_dsc    121925 non-null object\n",
      "p.hr_reg_temp_cd            121925 non-null object\n",
      "p.tenure_band_              121925 non-null object\n",
      "dtypes: float64(3), int64(1), object(7)\n",
      "memory usage: 10.2+ MB\n"
     ]
    }
   ],
   "source": [
    "data.info()\n",
    "##121928-3  ecause three are headerts"
   ]
  },
  {
   "cell_type": "code",
   "execution_count": 113,
   "metadata": {},
   "outputs": [
    {
     "data": {
      "text/html": [
       "<div>\n",
       "<style>\n",
       "    .dataframe thead tr:only-child th {\n",
       "        text-align: right;\n",
       "    }\n",
       "\n",
       "    .dataframe thead th {\n",
       "        text-align: left;\n",
       "    }\n",
       "\n",
       "    .dataframe tbody tr th {\n",
       "        vertical-align: top;\n",
       "    }\n",
       "</style>\n",
       "<table border=\"1\" class=\"dataframe\">\n",
       "  <thead>\n",
       "    <tr style=\"text-align: right;\">\n",
       "      <th></th>\n",
       "      <th>total_hrs</th>\n",
       "      <th>absence_hrs</th>\n",
       "      <th>avg_salary</th>\n",
       "      <th>nbr_emp</th>\n",
       "      <th>p.hr_job_dsc</th>\n",
       "      <th>p.age_band_</th>\n",
       "      <th>p.marital_status_</th>\n",
       "      <th>p.hr_gndr_dsc</th>\n",
       "      <th>p.hr_full_tm_part_tm_dsc</th>\n",
       "      <th>p.hr_reg_temp_cd</th>\n",
       "      <th>p.tenure_band_</th>\n",
       "    </tr>\n",
       "  </thead>\n",
       "  <tbody>\n",
       "    <tr>\n",
       "      <th>0</th>\n",
       "      <td>14672.000000</td>\n",
       "      <td>4628.00</td>\n",
       "      <td>5342.771974</td>\n",
       "      <td>3090</td>\n",
       "      <td>\"Technician \"\"A\"\"\"</td>\n",
       "      <td>55-64 Years</td>\n",
       "      <td>M</td>\n",
       "      <td>Male</td>\n",
       "      <td>Full-Time</td>\n",
       "      <td>R</td>\n",
       "      <td>Over 15 Years</td>\n",
       "    </tr>\n",
       "    <tr>\n",
       "      <th>1</th>\n",
       "      <td>2809.966667</td>\n",
       "      <td>0.00</td>\n",
       "      <td>2901.330000</td>\n",
       "      <td>740</td>\n",
       "      <td>01BESP</td>\n",
       "      <td>35-44 Years</td>\n",
       "      <td>S</td>\n",
       "      <td>Female</td>\n",
       "      <td>Full-Time</td>\n",
       "      <td>R</td>\n",
       "      <td>Under 1 Year</td>\n",
       "    </tr>\n",
       "    <tr>\n",
       "      <th>2</th>\n",
       "      <td>22510.250000</td>\n",
       "      <td>2046.00</td>\n",
       "      <td>2375.010000</td>\n",
       "      <td>6806</td>\n",
       "      <td>2S-Administrative Assistant</td>\n",
       "      <td>18-24 Years</td>\n",
       "      <td>S</td>\n",
       "      <td>Female</td>\n",
       "      <td>Full-Time</td>\n",
       "      <td>R</td>\n",
       "      <td>3-5 Years</td>\n",
       "    </tr>\n",
       "    <tr>\n",
       "      <th>3</th>\n",
       "      <td>11796.000000</td>\n",
       "      <td>-1610.00</td>\n",
       "      <td>513.276055</td>\n",
       "      <td>4644</td>\n",
       "      <td>2S-Intern</td>\n",
       "      <td>18-24 Years</td>\n",
       "      <td>S</td>\n",
       "      <td>Male</td>\n",
       "      <td>Full-Time</td>\n",
       "      <td>T</td>\n",
       "      <td>Under 1 Year</td>\n",
       "    </tr>\n",
       "    <tr>\n",
       "      <th>4</th>\n",
       "      <td>3510.500000</td>\n",
       "      <td>29.75</td>\n",
       "      <td>1088.800000</td>\n",
       "      <td>826</td>\n",
       "      <td>2S-Receptionist</td>\n",
       "      <td>25-34 Years</td>\n",
       "      <td>S</td>\n",
       "      <td>Female</td>\n",
       "      <td>Full-Time</td>\n",
       "      <td>R</td>\n",
       "      <td>2-3 Years</td>\n",
       "    </tr>\n",
       "  </tbody>\n",
       "</table>\n",
       "</div>"
      ],
      "text/plain": [
       "      total_hrs  absence_hrs   avg_salary  nbr_emp  \\\n",
       "0  14672.000000      4628.00  5342.771974     3090   \n",
       "1   2809.966667         0.00  2901.330000      740   \n",
       "2  22510.250000      2046.00  2375.010000     6806   \n",
       "3  11796.000000     -1610.00   513.276055     4644   \n",
       "4   3510.500000        29.75  1088.800000      826   \n",
       "\n",
       "                  p.hr_job_dsc  p.age_band_ p.marital_status_ p.hr_gndr_dsc  \\\n",
       "0           \"Technician \"\"A\"\"\"  55-64 Years                 M          Male   \n",
       "1                       01BESP  35-44 Years                 S        Female   \n",
       "2  2S-Administrative Assistant  18-24 Years                 S        Female   \n",
       "3                    2S-Intern  18-24 Years                 S          Male   \n",
       "4              2S-Receptionist  25-34 Years                 S        Female   \n",
       "\n",
       "  p.hr_full_tm_part_tm_dsc p.hr_reg_temp_cd p.tenure_band_  \n",
       "0                Full-Time                R  Over 15 Years  \n",
       "1                Full-Time                R   Under 1 Year  \n",
       "2                Full-Time                R      3-5 Years  \n",
       "3                Full-Time                T   Under 1 Year  \n",
       "4                Full-Time                R      2-3 Years  "
      ]
     },
     "execution_count": 113,
     "metadata": {},
     "output_type": "execute_result"
    }
   ],
   "source": [
    "data.head()"
   ]
  },
  {
   "cell_type": "code",
   "execution_count": 114,
   "metadata": {
    "collapsed": true
   },
   "outputs": [],
   "source": [
    "## calculating Absence_perc and droping colimsn\n",
    "data['Absence'] = data['absence_hrs']/data['total_hrs']\n",
    "data.drop(['total_hrs','absence_hrs','p.hr_job_dsc'],inplace=True,axis=1)\n",
    "data = data.rename(columns={'p.marital_status_':'marital_status','p.hr_gndr_dsc':'gender','p.hr_full_tm_part_tm_dsc':'full_tm_part_tm','p.hr_reg_temp_cd':'reg_temp','p.tenure_band_':'tenure_band','p.age_band_':'age_band'})"
   ]
  },
  {
   "cell_type": "code",
   "execution_count": 115,
   "metadata": {},
   "outputs": [
    {
     "data": {
      "text/html": [
       "<div>\n",
       "<style>\n",
       "    .dataframe thead tr:only-child th {\n",
       "        text-align: right;\n",
       "    }\n",
       "\n",
       "    .dataframe thead th {\n",
       "        text-align: left;\n",
       "    }\n",
       "\n",
       "    .dataframe tbody tr th {\n",
       "        vertical-align: top;\n",
       "    }\n",
       "</style>\n",
       "<table border=\"1\" class=\"dataframe\">\n",
       "  <thead>\n",
       "    <tr style=\"text-align: right;\">\n",
       "      <th></th>\n",
       "      <th>avg_salary</th>\n",
       "      <th>nbr_emp</th>\n",
       "      <th>age_band</th>\n",
       "      <th>marital_status</th>\n",
       "      <th>gender</th>\n",
       "      <th>full_tm_part_tm</th>\n",
       "      <th>reg_temp</th>\n",
       "      <th>tenure_band</th>\n",
       "      <th>Absence</th>\n",
       "    </tr>\n",
       "  </thead>\n",
       "  <tbody>\n",
       "    <tr>\n",
       "      <th>0</th>\n",
       "      <td>5342.77</td>\n",
       "      <td>3090</td>\n",
       "      <td>55-64 Years</td>\n",
       "      <td>M</td>\n",
       "      <td>Male</td>\n",
       "      <td>Full-Time</td>\n",
       "      <td>R</td>\n",
       "      <td>Over 15 Years</td>\n",
       "      <td>0.32</td>\n",
       "    </tr>\n",
       "    <tr>\n",
       "      <th>1</th>\n",
       "      <td>2901.33</td>\n",
       "      <td>740</td>\n",
       "      <td>35-44 Years</td>\n",
       "      <td>S</td>\n",
       "      <td>Female</td>\n",
       "      <td>Full-Time</td>\n",
       "      <td>R</td>\n",
       "      <td>Under 1 Year</td>\n",
       "      <td>0.00</td>\n",
       "    </tr>\n",
       "    <tr>\n",
       "      <th>2</th>\n",
       "      <td>2375.01</td>\n",
       "      <td>6806</td>\n",
       "      <td>18-24 Years</td>\n",
       "      <td>S</td>\n",
       "      <td>Female</td>\n",
       "      <td>Full-Time</td>\n",
       "      <td>R</td>\n",
       "      <td>3-5 Years</td>\n",
       "      <td>0.09</td>\n",
       "    </tr>\n",
       "    <tr>\n",
       "      <th>3</th>\n",
       "      <td>513.28</td>\n",
       "      <td>4644</td>\n",
       "      <td>18-24 Years</td>\n",
       "      <td>S</td>\n",
       "      <td>Male</td>\n",
       "      <td>Full-Time</td>\n",
       "      <td>T</td>\n",
       "      <td>Under 1 Year</td>\n",
       "      <td>-0.14</td>\n",
       "    </tr>\n",
       "    <tr>\n",
       "      <th>4</th>\n",
       "      <td>1088.80</td>\n",
       "      <td>826</td>\n",
       "      <td>25-34 Years</td>\n",
       "      <td>S</td>\n",
       "      <td>Female</td>\n",
       "      <td>Full-Time</td>\n",
       "      <td>R</td>\n",
       "      <td>2-3 Years</td>\n",
       "      <td>0.01</td>\n",
       "    </tr>\n",
       "  </tbody>\n",
       "</table>\n",
       "</div>"
      ],
      "text/plain": [
       "   avg_salary  nbr_emp     age_band marital_status  gender full_tm_part_tm  \\\n",
       "0     5342.77     3090  55-64 Years              M    Male       Full-Time   \n",
       "1     2901.33      740  35-44 Years              S  Female       Full-Time   \n",
       "2     2375.01     6806  18-24 Years              S  Female       Full-Time   \n",
       "3      513.28     4644  18-24 Years              S    Male       Full-Time   \n",
       "4     1088.80      826  25-34 Years              S  Female       Full-Time   \n",
       "\n",
       "  reg_temp    tenure_band  Absence  \n",
       "0        R  Over 15 Years     0.32  \n",
       "1        R   Under 1 Year     0.00  \n",
       "2        R      3-5 Years     0.09  \n",
       "3        T   Under 1 Year    -0.14  \n",
       "4        R      2-3 Years     0.01  "
      ]
     },
     "execution_count": 115,
     "metadata": {},
     "output_type": "execute_result"
    }
   ],
   "source": [
    "data = data.round(2)\n",
    "data.head()"
   ]
  },
  {
   "cell_type": "code",
   "execution_count": 116,
   "metadata": {},
   "outputs": [
    {
     "name": "stdout",
     "output_type": "stream",
     "text": [
      "age_band['55-64 Years' '35-44 Years' '18-24 Years' '25-34 Years' '45-54 Years'\n",
      " 'Over 64 Years' 'Under 18 Years' 'Unknown']\n",
      "marital_status['M' 'S']\n",
      "gender['Male' 'Female' 'Not Specified']\n",
      "full_tm_part_tm['Full-Time' 'Part-Time']\n",
      "reg_temp['R' 'T']\n",
      "tenure_band['Over 15 Years' 'Under 1 Year' '3-5 Years' '2-3 Years' '1-2 Years'\n",
      " '10-15 Years' '5-10 Years' 'Unknown']\n"
     ]
    }
   ],
   "source": [
    "## check unique values in all columns and replace ohter than valid to np.nan\n",
    "for i in range(len(data.columns)):\n",
    "    if(i==0 or i == 1 or i == 8):\n",
    "        continue\n",
    "    else:        \n",
    "        print(data.columns[i]+str(data[data.columns[i]].unique()))"
   ]
  },
  {
   "cell_type": "code",
   "execution_count": 117,
   "metadata": {},
   "outputs": [
    {
     "data": {
      "text/plain": [
       "(121925, 9)"
      ]
     },
     "execution_count": 117,
     "metadata": {},
     "output_type": "execute_result"
    }
   ],
   "source": [
    "data.shape"
   ]
  },
  {
   "cell_type": "code",
   "execution_count": 118,
   "metadata": {},
   "outputs": [
    {
     "data": {
      "text/plain": [
       "(105417, 9)"
      ]
     },
     "execution_count": 118,
     "metadata": {},
     "output_type": "execute_result"
    }
   ],
   "source": [
    "## droping uknown and not specified\n",
    "data.drop(data.index[data['gender']=='Not Specified'],inplace=True)\n",
    "data.drop(data.index[(data['age_band']=='Unknown')],inplace=True)\n",
    "data.drop(data.index[(data['tenure_band']=='Unknown')],inplace=True)\n",
    "##dropping all where absence <1 and =0\n",
    "data.drop(data.index[data['Absence']==0],inplace=True)\n",
    "data.drop(data.index[data['Absence']<0],inplace=True)\n",
    "data.dropna(inplace=True)\n",
    "data.shape"
   ]
  },
  {
   "cell_type": "code",
   "execution_count": 119,
   "metadata": {},
   "outputs": [
    {
     "name": "stdout",
     "output_type": "stream",
     "text": [
      "12\n"
     ]
    },
    {
     "data": {
      "text/plain": [
       "avg_salary         0\n",
       "nbr_emp            0\n",
       "age_band           0\n",
       "marital_status     0\n",
       "gender             0\n",
       "full_tm_part_tm    0\n",
       "reg_temp           0\n",
       "tenure_band        0\n",
       "Absence            0\n",
       "dtype: int64"
      ]
     },
     "execution_count": 119,
     "metadata": {},
     "output_type": "execute_result"
    }
   ],
   "source": [
    "print(data.duplicated().sum())\n",
    "data.isnull().sum()"
   ]
  },
  {
   "cell_type": "code",
   "execution_count": 120,
   "metadata": {
    "collapsed": true
   },
   "outputs": [],
   "source": [
    "data.drop_duplicates(inplace=True)"
   ]
  },
  {
   "cell_type": "code",
   "execution_count": 121,
   "metadata": {},
   "outputs": [
    {
     "data": {
      "text/plain": [
       "<matplotlib.axes._subplots.AxesSubplot at 0x123437c6128>"
      ]
     },
     "execution_count": 121,
     "metadata": {},
     "output_type": "execute_result"
    },
    {
     "data": {
      "image/png": "[encoded data removed]",
      "text/plain": [
       "<matplotlib.figure.Figure at 0x123437c6160>"
      ]
     },
     "metadata": {},
     "output_type": "display_data"
    }
   ],
   "source": [
    "%matplotlib inline\n",
    "data['Absence'].hist()"
   ]
  },
  {
   "cell_type": "code",
   "execution_count": 123,
   "metadata": {
    "collapsed": true
   },
   "outputs": [],
   "source": [
    "data = pd.get_dummies(data=data,columns=['marital_status','gender','full_tm_part_tm','reg_temp','age_band','tenure_band'],drop_first=True)"
   ]
  },
  {
   "cell_type": "code",
   "execution_count": 124,
   "metadata": {},
   "outputs": [
    {
     "name": "stdout",
     "output_type": "stream",
     "text": [
      "Index(['avg_salary', 'nbr_emp', 'Absence', 'marital_status_S', 'gender_Male',\n",
      "       'full_tm_part_tm_Part-Time', 'reg_temp_T', 'age_band_25-34 Years',\n",
      "       'age_band_35-44 Years', 'age_band_45-54 Years', 'age_band_55-64 Years',\n",
      "       'age_band_Over 64 Years', 'age_band_Under 18 Years',\n",
      "       'tenure_band_10-15 Years', 'tenure_band_2-3 Years',\n",
      "       'tenure_band_3-5 Years', 'tenure_band_5-10 Years',\n",
      "       'tenure_band_Over 15 Years', 'tenure_band_Under 1 Year'],\n",
      "      dtype='object')\n"
     ]
    }
   ],
   "source": [
    "print(data.columns)"
   ]
  },
  {
   "cell_type": "code",
   "execution_count": 125,
   "metadata": {
    "collapsed": true
   },
   "outputs": [],
   "source": [
    "data.rename(columns={'full_tm_part_tm_Part-Time':'full_tm_part_tm_Part_Time','tenure_band_10-15 Years':'tenure_band_10_15','tenure_band_2-3 Years':'tenure_band_2_3','tenure_band_3-5 Years':'tenure_band_3_5','tenure_band_5-10 Years':'tenure_band_5_10','tenure_band_Over 15 Years':'tenure_band_Over_15','tenure_band_Under 1 Year':'tenure_band_Under_1','age_band_25-34 Years':'age_band_25_34','age_band_35-44 Years':'age_band_35_44','age_band_45-54 Years':'age_band_45_54','age_band_55-64 Years':'age_band_55_64','age_band_Over 64 Years':'age_band_Over_64','age_band_Under 18 Years':'age_band_Under_18'},inplace=True)"
   ]
  },
  {
   "cell_type": "code",
   "execution_count": 126,
   "metadata": {
    "scrolled": true
   },
   "outputs": [
    {
     "data": {
      "text/html": [
       "<div>\n",
       "<style>\n",
       "    .dataframe thead tr:only-child th {\n",
       "        text-align: right;\n",
       "    }\n",
       "\n",
       "    .dataframe thead th {\n",
       "        text-align: left;\n",
       "    }\n",
       "\n",
       "    .dataframe tbody tr th {\n",
       "        vertical-align: top;\n",
       "    }\n",
       "</style>\n",
       "<table border=\"1\" class=\"dataframe\">\n",
       "  <thead>\n",
       "    <tr style=\"text-align: right;\">\n",
       "      <th></th>\n",
       "      <th>avg_salary</th>\n",
       "      <th>nbr_emp</th>\n",
       "      <th>Absence</th>\n",
       "      <th>marital_status_S</th>\n",
       "      <th>gender_Male</th>\n",
       "      <th>full_tm_part_tm_Part_Time</th>\n",
       "      <th>reg_temp_T</th>\n",
       "      <th>age_band_25_34</th>\n",
       "      <th>age_band_35_44</th>\n",
       "      <th>age_band_45_54</th>\n",
       "      <th>age_band_55_64</th>\n",
       "      <th>age_band_Over_64</th>\n",
       "      <th>age_band_Under_18</th>\n",
       "      <th>tenure_band_10_15</th>\n",
       "      <th>tenure_band_2_3</th>\n",
       "      <th>tenure_band_3_5</th>\n",
       "      <th>tenure_band_5_10</th>\n",
       "      <th>tenure_band_Over_15</th>\n",
       "      <th>tenure_band_Under_1</th>\n",
       "    </tr>\n",
       "  </thead>\n",
       "  <tbody>\n",
       "    <tr>\n",
       "      <th>0</th>\n",
       "      <td>5342.77</td>\n",
       "      <td>3090</td>\n",
       "      <td>0.32</td>\n",
       "      <td>0</td>\n",
       "      <td>1</td>\n",
       "      <td>0</td>\n",
       "      <td>0</td>\n",
       "      <td>0</td>\n",
       "      <td>0</td>\n",
       "      <td>0</td>\n",
       "      <td>1</td>\n",
       "      <td>0</td>\n",
       "      <td>0</td>\n",
       "      <td>0</td>\n",
       "      <td>0</td>\n",
       "      <td>0</td>\n",
       "      <td>0</td>\n",
       "      <td>1</td>\n",
       "      <td>0</td>\n",
       "    </tr>\n",
       "    <tr>\n",
       "      <th>2</th>\n",
       "      <td>2375.01</td>\n",
       "      <td>6806</td>\n",
       "      <td>0.09</td>\n",
       "      <td>1</td>\n",
       "      <td>0</td>\n",
       "      <td>0</td>\n",
       "      <td>0</td>\n",
       "      <td>0</td>\n",
       "      <td>0</td>\n",
       "      <td>0</td>\n",
       "      <td>0</td>\n",
       "      <td>0</td>\n",
       "      <td>0</td>\n",
       "      <td>0</td>\n",
       "      <td>0</td>\n",
       "      <td>1</td>\n",
       "      <td>0</td>\n",
       "      <td>0</td>\n",
       "      <td>0</td>\n",
       "    </tr>\n",
       "    <tr>\n",
       "      <th>4</th>\n",
       "      <td>1088.80</td>\n",
       "      <td>826</td>\n",
       "      <td>0.01</td>\n",
       "      <td>1</td>\n",
       "      <td>0</td>\n",
       "      <td>0</td>\n",
       "      <td>0</td>\n",
       "      <td>1</td>\n",
       "      <td>0</td>\n",
       "      <td>0</td>\n",
       "      <td>0</td>\n",
       "      <td>0</td>\n",
       "      <td>0</td>\n",
       "      <td>0</td>\n",
       "      <td>1</td>\n",
       "      <td>0</td>\n",
       "      <td>0</td>\n",
       "      <td>0</td>\n",
       "      <td>0</td>\n",
       "    </tr>\n",
       "    <tr>\n",
       "      <th>5</th>\n",
       "      <td>15000.00</td>\n",
       "      <td>315</td>\n",
       "      <td>0.32</td>\n",
       "      <td>0</td>\n",
       "      <td>0</td>\n",
       "      <td>0</td>\n",
       "      <td>0</td>\n",
       "      <td>1</td>\n",
       "      <td>0</td>\n",
       "      <td>0</td>\n",
       "      <td>0</td>\n",
       "      <td>0</td>\n",
       "      <td>0</td>\n",
       "      <td>0</td>\n",
       "      <td>0</td>\n",
       "      <td>0</td>\n",
       "      <td>0</td>\n",
       "      <td>0</td>\n",
       "      <td>0</td>\n",
       "    </tr>\n",
       "    <tr>\n",
       "      <th>6</th>\n",
       "      <td>21339.86</td>\n",
       "      <td>764</td>\n",
       "      <td>0.47</td>\n",
       "      <td>0</td>\n",
       "      <td>0</td>\n",
       "      <td>0</td>\n",
       "      <td>0</td>\n",
       "      <td>1</td>\n",
       "      <td>0</td>\n",
       "      <td>0</td>\n",
       "      <td>0</td>\n",
       "      <td>0</td>\n",
       "      <td>0</td>\n",
       "      <td>0</td>\n",
       "      <td>1</td>\n",
       "      <td>0</td>\n",
       "      <td>0</td>\n",
       "      <td>0</td>\n",
       "      <td>0</td>\n",
       "    </tr>\n",
       "  </tbody>\n",
       "</table>\n",
       "</div>"
      ],
      "text/plain": [
       "   avg_salary  nbr_emp  Absence  marital_status_S  gender_Male  \\\n",
       "0     5342.77     3090     0.32                 0            1   \n",
       "2     2375.01     6806     0.09                 1            0   \n",
       "4     1088.80      826     0.01                 1            0   \n",
       "5    15000.00      315     0.32                 0            0   \n",
       "6    21339.86      764     0.47                 0            0   \n",
       "\n",
       "   full_tm_part_tm_Part_Time  reg_temp_T  age_band_25_34  age_band_35_44  \\\n",
       "0                          0           0               0               0   \n",
       "2                          0           0               0               0   \n",
       "4                          0           0               1               0   \n",
       "5                          0           0               1               0   \n",
       "6                          0           0               1               0   \n",
       "\n",
       "   age_band_45_54  age_band_55_64  age_band_Over_64  age_band_Under_18  \\\n",
       "0               0               1                 0                  0   \n",
       "2               0               0                 0                  0   \n",
       "4               0               0                 0                  0   \n",
       "5               0               0                 0                  0   \n",
       "6               0               0                 0                  0   \n",
       "\n",
       "   tenure_band_10_15  tenure_band_2_3  tenure_band_3_5  tenure_band_5_10  \\\n",
       "0                  0                0                0                 0   \n",
       "2                  0                0                1                 0   \n",
       "4                  0                1                0                 0   \n",
       "5                  0                0                0                 0   \n",
       "6                  0                1                0                 0   \n",
       "\n",
       "   tenure_band_Over_15  tenure_band_Under_1  \n",
       "0                    1                    0  \n",
       "2                    0                    0  \n",
       "4                    0                    0  \n",
       "5                    0                    0  \n",
       "6                    0                    0  "
      ]
     },
     "execution_count": 126,
     "metadata": {},
     "output_type": "execute_result"
    }
   ],
   "source": [
    "data.head()"
   ]
  },
  {
   "cell_type": "code",
   "execution_count": 128,
   "metadata": {},
   "outputs": [
    {
     "data": {
      "text/plain": [
       "<matplotlib.axes._subplots.AxesSubplot at 0x12341e05630>"
      ]
     },
     "execution_count": 128,
     "metadata": {},
     "output_type": "execute_result"
    },
    {
     "data": {
      "image/png": "[encoded data removed]",
      "text/plain": [
       "<matplotlib.figure.Figure at 0x12343bace80>"
      ]
     },
     "metadata": {},
     "output_type": "display_data"
    }
   ],
   "source": [
    "data['Absence'].hist()"
   ]
  },
  {
   "cell_type": "code",
   "execution_count": 54,
   "metadata": {
    "collapsed": true
   },
   "outputs": [],
   "source": [
    "ols_model = OLS.ols(data=data, formula=\"Absence~avg_salary+nbr_emp+marital_status_S+gender_Male+full_tm_part_tm_Part_Time+reg_temp_T+tenure_band_10_15+tenure_band_2_3+tenure_band_3_5+tenure_band_5_10+tenure_band_Over_15+tenure_band_Under_1+age_band_25_34+age_band_35_44+age_band_45_54+age_band_55_64+age_band_Over_64+age_band_Under_18\").fit()"
   ]
  },
  {
   "cell_type": "code",
   "execution_count": 55,
   "metadata": {
    "scrolled": false
   },
   "outputs": [
    {
     "data": {
      "text/html": [
       "<table class=\"simpletable\">\n",
       "<caption>OLS Regression Results</caption>\n",
       "<tr>\n",
       "  <th>Dep. Variable:</th>         <td>Absence</td>     <th>  R-squared:         </th> <td>   0.099</td> \n",
       "</tr>\n",
       "<tr>\n",
       "  <th>Model:</th>                   <td>OLS</td>       <th>  Adj. R-squared:    </th> <td>   0.098</td> \n",
       "</tr>\n",
       "<tr>\n",
       "  <th>Method:</th>             <td>Least Squares</td>  <th>  F-statistic:       </th> <td>   640.4</td> \n",
       "</tr>\n",
       "<tr>\n",
       "  <th>Date:</th>             <td>Fri, 05 Oct 2018</td> <th>  Prob (F-statistic):</th>  <td>  0.00</td>  \n",
       "</tr>\n",
       "<tr>\n",
       "  <th>Time:</th>                 <td>10:48:57</td>     <th>  Log-Likelihood:    </th> <td> -30843.</td> \n",
       "</tr>\n",
       "<tr>\n",
       "  <th>No. Observations:</th>      <td>105405</td>      <th>  AIC:               </th> <td>6.172e+04</td>\n",
       "</tr>\n",
       "<tr>\n",
       "  <th>Df Residuals:</th>          <td>105386</td>      <th>  BIC:               </th> <td>6.191e+04</td>\n",
       "</tr>\n",
       "<tr>\n",
       "  <th>Df Model:</th>              <td>    18</td>      <th>                     </th>     <td> </td>    \n",
       "</tr>\n",
       "<tr>\n",
       "  <th>Covariance Type:</th>      <td>nonrobust</td>    <th>                     </th>     <td> </td>    \n",
       "</tr>\n",
       "</table>\n",
       "<table class=\"simpletable\">\n",
       "<tr>\n",
       "              <td></td>                 <th>coef</th>     <th>std err</th>      <th>t</th>      <th>P>|t|</th>  <th>[0.025</th>    <th>0.975]</th>  \n",
       "</tr>\n",
       "<tr>\n",
       "  <th>Intercept</th>                 <td>    0.3239</td> <td>    0.005</td> <td>   65.474</td> <td> 0.000</td> <td>    0.314</td> <td>    0.334</td>\n",
       "</tr>\n",
       "<tr>\n",
       "  <th>avg_salary</th>                <td> 8.371e-06</td> <td> 1.49e-07</td> <td>   56.343</td> <td> 0.000</td> <td> 8.08e-06</td> <td> 8.66e-06</td>\n",
       "</tr>\n",
       "<tr>\n",
       "  <th>nbr_emp</th>                   <td>-9.263e-07</td> <td> 3.12e-08</td> <td>  -29.698</td> <td> 0.000</td> <td>-9.87e-07</td> <td>-8.65e-07</td>\n",
       "</tr>\n",
       "<tr>\n",
       "  <th>marital_status_S</th>          <td>   -0.0149</td> <td>    0.002</td> <td>   -7.149</td> <td> 0.000</td> <td>   -0.019</td> <td>   -0.011</td>\n",
       "</tr>\n",
       "<tr>\n",
       "  <th>gender_Male</th>               <td>   -0.0050</td> <td>    0.002</td> <td>   -2.472</td> <td> 0.013</td> <td>   -0.009</td> <td>   -0.001</td>\n",
       "</tr>\n",
       "<tr>\n",
       "  <th>full_tm_part_tm_Part_Time</th> <td>   -0.1572</td> <td>    0.004</td> <td>  -39.906</td> <td> 0.000</td> <td>   -0.165</td> <td>   -0.149</td>\n",
       "</tr>\n",
       "<tr>\n",
       "  <th>reg_temp_T</th>                <td>   -0.1315</td> <td>    0.008</td> <td>  -16.515</td> <td> 0.000</td> <td>   -0.147</td> <td>   -0.116</td>\n",
       "</tr>\n",
       "<tr>\n",
       "  <th>tenure_band_10_15</th>         <td>    0.0498</td> <td>    0.004</td> <td>   12.224</td> <td> 0.000</td> <td>    0.042</td> <td>    0.058</td>\n",
       "</tr>\n",
       "<tr>\n",
       "  <th>tenure_band_2_3</th>           <td>    0.0049</td> <td>    0.004</td> <td>    1.316</td> <td> 0.188</td> <td>   -0.002</td> <td>    0.012</td>\n",
       "</tr>\n",
       "<tr>\n",
       "  <th>tenure_band_3_5</th>           <td>    0.0239</td> <td>    0.004</td> <td>    6.639</td> <td> 0.000</td> <td>    0.017</td> <td>    0.031</td>\n",
       "</tr>\n",
       "<tr>\n",
       "  <th>tenure_band_5_10</th>          <td>    0.0508</td> <td>    0.004</td> <td>   14.285</td> <td> 0.000</td> <td>    0.044</td> <td>    0.058</td>\n",
       "</tr>\n",
       "<tr>\n",
       "  <th>tenure_band_Over_15</th>       <td>    0.0795</td> <td>    0.004</td> <td>   18.903</td> <td> 0.000</td> <td>    0.071</td> <td>    0.088</td>\n",
       "</tr>\n",
       "<tr>\n",
       "  <th>tenure_band_Under_1</th>       <td>   -0.0518</td> <td>    0.003</td> <td>  -15.193</td> <td> 0.000</td> <td>   -0.058</td> <td>   -0.045</td>\n",
       "</tr>\n",
       "<tr>\n",
       "  <th>age_band_25_34</th>            <td>    0.0401</td> <td>    0.004</td> <td>    9.128</td> <td> 0.000</td> <td>    0.031</td> <td>    0.049</td>\n",
       "</tr>\n",
       "<tr>\n",
       "  <th>age_band_35_44</th>            <td>    0.0445</td> <td>    0.004</td> <td>   10.013</td> <td> 0.000</td> <td>    0.036</td> <td>    0.053</td>\n",
       "</tr>\n",
       "<tr>\n",
       "  <th>age_band_45_54</th>            <td>    0.0335</td> <td>    0.005</td> <td>    7.430</td> <td> 0.000</td> <td>    0.025</td> <td>    0.042</td>\n",
       "</tr>\n",
       "<tr>\n",
       "  <th>age_band_55_64</th>            <td>    0.0192</td> <td>    0.005</td> <td>    4.089</td> <td> 0.000</td> <td>    0.010</td> <td>    0.028</td>\n",
       "</tr>\n",
       "<tr>\n",
       "  <th>age_band_Over_64</th>          <td>    0.0041</td> <td>    0.006</td> <td>    0.675</td> <td> 0.500</td> <td>   -0.008</td> <td>    0.016</td>\n",
       "</tr>\n",
       "<tr>\n",
       "  <th>age_band_Under_18</th>         <td>   -0.0119</td> <td>    0.033</td> <td>   -0.359</td> <td> 0.719</td> <td>   -0.077</td> <td>    0.053</td>\n",
       "</tr>\n",
       "</table>\n",
       "<table class=\"simpletable\">\n",
       "<tr>\n",
       "  <th>Omnibus:</th>       <td>116583.442</td> <th>  Durbin-Watson:     </th>   <td>   0.770</td>   \n",
       "</tr>\n",
       "<tr>\n",
       "  <th>Prob(Omnibus):</th>   <td> 0.000</td>   <th>  Jarque-Bera (JB):  </th> <td>411010662.307</td>\n",
       "</tr>\n",
       "<tr>\n",
       "  <th>Skew:</th>            <td> 4.452</td>   <th>  Prob(JB):          </th>   <td>    0.00</td>   \n",
       "</tr>\n",
       "<tr>\n",
       "  <th>Kurtosis:</th>        <td>308.786</td>  <th>  Cond. No.          </th>   <td>1.10e+06</td>   \n",
       "</tr>\n",
       "</table>"
      ],
      "text/plain": [
       "<class 'statsmodels.iolib.summary.Summary'>\n",
       "\"\"\"\n",
       "                            OLS Regression Results                            \n",
       "==============================================================================\n",
       "Dep. Variable:                Absence   R-squared:                       0.099\n",
       "Model:                            OLS   Adj. R-squared:                  0.098\n",
       "Method:                 Least Squares   F-statistic:                     640.4\n",
       "Date:                Fri, 05 Oct 2018   Prob (F-statistic):               0.00\n",
       "Time:                        10:48:57   Log-Likelihood:                -30843.\n",
       "No. Observations:              105405   AIC:                         6.172e+04\n",
       "Df Residuals:                  105386   BIC:                         6.191e+04\n",
       "Df Model:                          18                                         \n",
       "Covariance Type:            nonrobust                                         \n",
       "=============================================================================================\n",
       "                                coef    std err          t      P>|t|      [0.025      0.975]\n",
       "---------------------------------------------------------------------------------------------\n",
       "Intercept                     0.3239      0.005     65.474      0.000       0.314       0.334\n",
       "avg_salary                 8.371e-06   1.49e-07     56.343      0.000    8.08e-06    8.66e-06\n",
       "nbr_emp                   -9.263e-07   3.12e-08    -29.698      0.000   -9.87e-07   -8.65e-07\n",
       "marital_status_S             -0.0149      0.002     -7.149      0.000      -0.019      -0.011\n",
       "gender_Male                  -0.0050      0.002     -2.472      0.013      -0.009      -0.001\n",
       "full_tm_part_tm_Part_Time    -0.1572      0.004    -39.906      0.000      -0.165      -0.149\n",
       "reg_temp_T                   -0.1315      0.008    -16.515      0.000      -0.147      -0.116\n",
       "tenure_band_10_15             0.0498      0.004     12.224      0.000       0.042       0.058\n",
       "tenure_band_2_3               0.0049      0.004      1.316      0.188      -0.002       0.012\n",
       "tenure_band_3_5               0.0239      0.004      6.639      0.000       0.017       0.031\n",
       "tenure_band_5_10              0.0508      0.004     14.285      0.000       0.044       0.058\n",
       "tenure_band_Over_15           0.0795      0.004     18.903      0.000       0.071       0.088\n",
       "tenure_band_Under_1          -0.0518      0.003    -15.193      0.000      -0.058      -0.045\n",
       "age_band_25_34                0.0401      0.004      9.128      0.000       0.031       0.049\n",
       "age_band_35_44                0.0445      0.004     10.013      0.000       0.036       0.053\n",
       "age_band_45_54                0.0335      0.005      7.430      0.000       0.025       0.042\n",
       "age_band_55_64                0.0192      0.005      4.089      0.000       0.010       0.028\n",
       "age_band_Over_64              0.0041      0.006      0.675      0.500      -0.008       0.016\n",
       "age_band_Under_18            -0.0119      0.033     -0.359      0.719      -0.077       0.053\n",
       "==============================================================================\n",
       "Omnibus:                   116583.442   Durbin-Watson:                   0.770\n",
       "Prob(Omnibus):                  0.000   Jarque-Bera (JB):        411010662.307\n",
       "Skew:                           4.452   Prob(JB):                         0.00\n",
       "Kurtosis:                     308.786   Cond. No.                     1.10e+06\n",
       "==============================================================================\n",
       "\n",
       "Warnings:\n",
       "[1] Standard Errors assume that the covariance matrix of the errors is correctly specified.\n",
       "[2] The condition number is large, 1.1e+06. This might indicate that there are\n",
       "strong multicollinearity or other numerical problems.\n",
       "\"\"\""
      ]
     },
     "execution_count": 55,
     "metadata": {},
     "output_type": "execute_result"
    }
   ],
   "source": [
    "ols_model.summary()\n",
    "## default suimary\n",
    "## lertrs remove all the outliers"
   ]
  },
  {
   "cell_type": "markdown",
   "metadata": {},
   "source": [
    "## removing the outliers with resepct to absence ###"
   ]
  },
  {
   "cell_type": "code",
   "execution_count": 58,
   "metadata": {},
   "outputs": [
    {
     "name": "stdout",
     "output_type": "stream",
     "text": [
      "0.05 0.88 0.83 -1.1949999999999998 2.125\n"
     ]
    }
   ],
   "source": [
    "##Finding outliers\n",
    "q1 = np.percentile((data['Absence']),15)\n",
    "q3 =  np.percentile((data['Absence']),85)\n",
    "IQR = q3-q1\n",
    "floor = q1-1.5*IQR\n",
    "ceiling = q3 + 1.5*IQR\n",
    "print(q1,q3,IQR,floor,ceiling)"
   ]
  },
  {
   "cell_type": "code",
   "execution_count": 59,
   "metadata": {},
   "outputs": [
    {
     "data": {
      "text/plain": [
       "(9, 19)"
      ]
     },
     "execution_count": 59,
     "metadata": {},
     "output_type": "execute_result"
    }
   ],
   "source": [
    "## listintg oulioers \n",
    "data[(data['Absence']<floor) | (data['Absence']>ceiling)].shape"
   ]
  },
  {
   "cell_type": "code",
   "execution_count": 60,
   "metadata": {},
   "outputs": [
    {
     "data": {
      "text/plain": [
       "(105396, 19)"
      ]
     },
     "execution_count": 60,
     "metadata": {},
     "output_type": "execute_result"
    }
   ],
   "source": [
    "## removing poutliers\n",
    "data.drop(data.index[(data['Absence']<floor) | (data['Absence']>ceiling)],inplace=True)\n",
    "data.shape\n",
    "## then gain go back and check for outliers"
   ]
  },
  {
   "cell_type": "code",
   "execution_count": 61,
   "metadata": {
    "scrolled": false
   },
   "outputs": [
    {
     "data": {
      "text/html": [
       "<table class=\"simpletable\">\n",
       "<caption>OLS Regression Results</caption>\n",
       "<tr>\n",
       "  <th>Dep. Variable:</th>         <td>Absence</td>     <th>  R-squared:         </th> <td>   0.104</td> \n",
       "</tr>\n",
       "<tr>\n",
       "  <th>Model:</th>                   <td>OLS</td>       <th>  Adj. R-squared:    </th> <td>   0.104</td> \n",
       "</tr>\n",
       "<tr>\n",
       "  <th>Method:</th>             <td>Least Squares</td>  <th>  F-statistic:       </th> <td>   682.1</td> \n",
       "</tr>\n",
       "<tr>\n",
       "  <th>Date:</th>             <td>Fri, 05 Oct 2018</td> <th>  Prob (F-statistic):</th>  <td>  0.00</td>  \n",
       "</tr>\n",
       "<tr>\n",
       "  <th>Time:</th>                 <td>10:50:00</td>     <th>  Log-Likelihood:    </th> <td> -27646.</td> \n",
       "</tr>\n",
       "<tr>\n",
       "  <th>No. Observations:</th>      <td>105396</td>      <th>  AIC:               </th> <td>5.533e+04</td>\n",
       "</tr>\n",
       "<tr>\n",
       "  <th>Df Residuals:</th>          <td>105377</td>      <th>  BIC:               </th> <td>5.551e+04</td>\n",
       "</tr>\n",
       "<tr>\n",
       "  <th>Df Model:</th>              <td>    18</td>      <th>                     </th>     <td> </td>    \n",
       "</tr>\n",
       "<tr>\n",
       "  <th>Covariance Type:</th>      <td>nonrobust</td>    <th>                     </th>     <td> </td>    \n",
       "</tr>\n",
       "</table>\n",
       "<table class=\"simpletable\">\n",
       "<tr>\n",
       "              <td></td>                 <th>coef</th>     <th>std err</th>      <th>t</th>      <th>P>|t|</th>  <th>[0.025</th>    <th>0.975]</th>  \n",
       "</tr>\n",
       "<tr>\n",
       "  <th>Intercept</th>                 <td>    0.3227</td> <td>    0.005</td> <td>   67.239</td> <td> 0.000</td> <td>    0.313</td> <td>    0.332</td>\n",
       "</tr>\n",
       "<tr>\n",
       "  <th>avg_salary</th>                <td> 8.393e-06</td> <td> 1.44e-07</td> <td>   58.228</td> <td> 0.000</td> <td> 8.11e-06</td> <td> 8.68e-06</td>\n",
       "</tr>\n",
       "<tr>\n",
       "  <th>nbr_emp</th>                   <td> -9.23e-07</td> <td> 3.03e-08</td> <td>  -30.502</td> <td> 0.000</td> <td>-9.82e-07</td> <td>-8.64e-07</td>\n",
       "</tr>\n",
       "<tr>\n",
       "  <th>marital_status_S</th>          <td>   -0.0153</td> <td>    0.002</td> <td>   -7.608</td> <td> 0.000</td> <td>   -0.019</td> <td>   -0.011</td>\n",
       "</tr>\n",
       "<tr>\n",
       "  <th>gender_Male</th>               <td>   -0.0045</td> <td>    0.002</td> <td>   -2.269</td> <td> 0.023</td> <td>   -0.008</td> <td>   -0.001</td>\n",
       "</tr>\n",
       "<tr>\n",
       "  <th>full_tm_part_tm_Part_Time</th> <td>   -0.1566</td> <td>    0.004</td> <td>  -40.998</td> <td> 0.000</td> <td>   -0.164</td> <td>   -0.149</td>\n",
       "</tr>\n",
       "<tr>\n",
       "  <th>reg_temp_T</th>                <td>   -0.1325</td> <td>    0.008</td> <td>  -17.144</td> <td> 0.000</td> <td>   -0.148</td> <td>   -0.117</td>\n",
       "</tr>\n",
       "<tr>\n",
       "  <th>tenure_band_10_15</th>         <td>    0.0517</td> <td>    0.004</td> <td>   13.077</td> <td> 0.000</td> <td>    0.044</td> <td>    0.059</td>\n",
       "</tr>\n",
       "<tr>\n",
       "  <th>tenure_band_2_3</th>           <td>    0.0062</td> <td>    0.004</td> <td>    1.714</td> <td> 0.087</td> <td>   -0.001</td> <td>    0.013</td>\n",
       "</tr>\n",
       "<tr>\n",
       "  <th>tenure_band_3_5</th>           <td>    0.0255</td> <td>    0.003</td> <td>    7.285</td> <td> 0.000</td> <td>    0.019</td> <td>    0.032</td>\n",
       "</tr>\n",
       "<tr>\n",
       "  <th>tenure_band_5_10</th>          <td>    0.0523</td> <td>    0.003</td> <td>   15.163</td> <td> 0.000</td> <td>    0.046</td> <td>    0.059</td>\n",
       "</tr>\n",
       "<tr>\n",
       "  <th>tenure_band_Over_15</th>       <td>    0.0815</td> <td>    0.004</td> <td>   19.978</td> <td> 0.000</td> <td>    0.073</td> <td>    0.089</td>\n",
       "</tr>\n",
       "<tr>\n",
       "  <th>tenure_band_Under_1</th>       <td>   -0.0500</td> <td>    0.003</td> <td>  -15.136</td> <td> 0.000</td> <td>   -0.057</td> <td>   -0.044</td>\n",
       "</tr>\n",
       "<tr>\n",
       "  <th>age_band_25_34</th>            <td>    0.0395</td> <td>    0.004</td> <td>    9.273</td> <td> 0.000</td> <td>    0.031</td> <td>    0.048</td>\n",
       "</tr>\n",
       "<tr>\n",
       "  <th>age_band_35_44</th>            <td>    0.0439</td> <td>    0.004</td> <td>   10.169</td> <td> 0.000</td> <td>    0.035</td> <td>    0.052</td>\n",
       "</tr>\n",
       "<tr>\n",
       "  <th>age_band_45_54</th>            <td>    0.0329</td> <td>    0.004</td> <td>    7.526</td> <td> 0.000</td> <td>    0.024</td> <td>    0.041</td>\n",
       "</tr>\n",
       "<tr>\n",
       "  <th>age_band_55_64</th>            <td>    0.0173</td> <td>    0.005</td> <td>    3.801</td> <td> 0.000</td> <td>    0.008</td> <td>    0.026</td>\n",
       "</tr>\n",
       "<tr>\n",
       "  <th>age_band_Over_64</th>          <td>    0.0030</td> <td>    0.006</td> <td>    0.520</td> <td> 0.603</td> <td>   -0.008</td> <td>    0.015</td>\n",
       "</tr>\n",
       "<tr>\n",
       "  <th>age_band_Under_18</th>         <td>   -0.0121</td> <td>    0.032</td> <td>   -0.376</td> <td> 0.707</td> <td>   -0.075</td> <td>    0.051</td>\n",
       "</tr>\n",
       "</table>\n",
       "<table class=\"simpletable\">\n",
       "<tr>\n",
       "  <th>Omnibus:</th>       <td>7118.522</td> <th>  Durbin-Watson:     </th> <td>   0.696</td> \n",
       "</tr>\n",
       "<tr>\n",
       "  <th>Prob(Omnibus):</th>  <td> 0.000</td>  <th>  Jarque-Bera (JB):  </th> <td>18228.351</td>\n",
       "</tr>\n",
       "<tr>\n",
       "  <th>Skew:</th>           <td> 0.398</td>  <th>  Prob(JB):          </th> <td>    0.00</td> \n",
       "</tr>\n",
       "<tr>\n",
       "  <th>Kurtosis:</th>       <td> 4.875</td>  <th>  Cond. No.          </th> <td>1.10e+06</td> \n",
       "</tr>\n",
       "</table>"
      ],
      "text/plain": [
       "<class 'statsmodels.iolib.summary.Summary'>\n",
       "\"\"\"\n",
       "                            OLS Regression Results                            \n",
       "==============================================================================\n",
       "Dep. Variable:                Absence   R-squared:                       0.104\n",
       "Model:                            OLS   Adj. R-squared:                  0.104\n",
       "Method:                 Least Squares   F-statistic:                     682.1\n",
       "Date:                Fri, 05 Oct 2018   Prob (F-statistic):               0.00\n",
       "Time:                        10:50:00   Log-Likelihood:                -27646.\n",
       "No. Observations:              105396   AIC:                         5.533e+04\n",
       "Df Residuals:                  105377   BIC:                         5.551e+04\n",
       "Df Model:                          18                                         \n",
       "Covariance Type:            nonrobust                                         \n",
       "=============================================================================================\n",
       "                                coef    std err          t      P>|t|      [0.025      0.975]\n",
       "---------------------------------------------------------------------------------------------\n",
       "Intercept                     0.3227      0.005     67.239      0.000       0.313       0.332\n",
       "avg_salary                 8.393e-06   1.44e-07     58.228      0.000    8.11e-06    8.68e-06\n",
       "nbr_emp                    -9.23e-07   3.03e-08    -30.502      0.000   -9.82e-07   -8.64e-07\n",
       "marital_status_S             -0.0153      0.002     -7.608      0.000      -0.019      -0.011\n",
       "gender_Male                  -0.0045      0.002     -2.269      0.023      -0.008      -0.001\n",
       "full_tm_part_tm_Part_Time    -0.1566      0.004    -40.998      0.000      -0.164      -0.149\n",
       "reg_temp_T                   -0.1325      0.008    -17.144      0.000      -0.148      -0.117\n",
       "tenure_band_10_15             0.0517      0.004     13.077      0.000       0.044       0.059\n",
       "tenure_band_2_3               0.0062      0.004      1.714      0.087      -0.001       0.013\n",
       "tenure_band_3_5               0.0255      0.003      7.285      0.000       0.019       0.032\n",
       "tenure_band_5_10              0.0523      0.003     15.163      0.000       0.046       0.059\n",
       "tenure_band_Over_15           0.0815      0.004     19.978      0.000       0.073       0.089\n",
       "tenure_band_Under_1          -0.0500      0.003    -15.136      0.000      -0.057      -0.044\n",
       "age_band_25_34                0.0395      0.004      9.273      0.000       0.031       0.048\n",
       "age_band_35_44                0.0439      0.004     10.169      0.000       0.035       0.052\n",
       "age_band_45_54                0.0329      0.004      7.526      0.000       0.024       0.041\n",
       "age_band_55_64                0.0173      0.005      3.801      0.000       0.008       0.026\n",
       "age_band_Over_64              0.0030      0.006      0.520      0.603      -0.008       0.015\n",
       "age_band_Under_18            -0.0121      0.032     -0.376      0.707      -0.075       0.051\n",
       "==============================================================================\n",
       "Omnibus:                     7118.522   Durbin-Watson:                   0.696\n",
       "Prob(Omnibus):                  0.000   Jarque-Bera (JB):            18228.351\n",
       "Skew:                           0.398   Prob(JB):                         0.00\n",
       "Kurtosis:                       4.875   Cond. No.                     1.10e+06\n",
       "==============================================================================\n",
       "\n",
       "Warnings:\n",
       "[1] Standard Errors assume that the covariance matrix of the errors is correctly specified.\n",
       "[2] The condition number is large, 1.1e+06. This might indicate that there are\n",
       "strong multicollinearity or other numerical problems.\n",
       "\"\"\""
      ]
     },
     "execution_count": 61,
     "metadata": {},
     "output_type": "execute_result"
    }
   ],
   "source": [
    "## lets again run the mdoel\n",
    "ols_model = OLS.ols(data=data, formula=\"Absence~avg_salary+nbr_emp+marital_status_S+gender_Male+full_tm_part_tm_Part_Time+reg_temp_T+tenure_band_10_15+tenure_band_2_3+tenure_band_3_5+tenure_band_5_10+tenure_band_Over_15+tenure_band_Under_1+age_band_25_34+age_band_35_44+age_band_45_54+age_band_55_64+age_band_Over_64+age_band_Under_18\").fit()\n",
    "ols_model.summary()"
   ]
  },
  {
   "cell_type": "code",
   "execution_count": 62,
   "metadata": {},
   "outputs": [
    {
     "name": "stdout",
     "output_type": "stream",
     "text": [
      "2219.3275000000003 8384.565 6165.2375 -7028.52875 17632.42125\n"
     ]
    },
    {
     "data": {
      "text/plain": [
       "(2329, 19)"
      ]
     },
     "execution_count": 62,
     "metadata": {},
     "output_type": "execute_result"
    }
   ],
   "source": [
    "##Finding outliers with salary\n",
    "q1_sal = np.percentile((data['avg_salary']),15)\n",
    "q3_sal =  np.percentile((data['avg_salary']),85)\n",
    "IQR_sal = q3_sal-q1_sal\n",
    "floor_sal = q1_sal-1.5*IQR_sal\n",
    "ceiling_sal = q3_sal + 1.5*IQR_sal\n",
    "print(q1_sal,q3_sal,IQR_sal,floor_sal,ceiling_sal)\n",
    "## listintg oulioers\n",
    "data[(data['avg_salary']<floor_sal) | (data['avg_salary']>ceiling_sal)].shape\n",
    "\n",
    "## repeat untill we get 0\n"
   ]
  },
  {
   "cell_type": "code",
   "execution_count": 63,
   "metadata": {},
   "outputs": [
    {
     "data": {
      "text/plain": [
       "(103067, 19)"
      ]
     },
     "execution_count": 63,
     "metadata": {},
     "output_type": "execute_result"
    }
   ],
   "source": [
    "data.drop(data.index[(data['avg_salary']<floor_sal) | (data['avg_salary']>ceiling_sal)],inplace=True)\n",
    "data.shape"
   ]
  },
  {
   "cell_type": "code",
   "execution_count": 64,
   "metadata": {
    "scrolled": true
   },
   "outputs": [
    {
     "data": {
      "text/html": [
       "<table class=\"simpletable\">\n",
       "<caption>OLS Regression Results</caption>\n",
       "<tr>\n",
       "  <th>Dep. Variable:</th>         <td>Absence</td>     <th>  R-squared:         </th> <td>   0.156</td> \n",
       "</tr>\n",
       "<tr>\n",
       "  <th>Model:</th>                   <td>OLS</td>       <th>  Adj. R-squared:    </th> <td>   0.156</td> \n",
       "</tr>\n",
       "<tr>\n",
       "  <th>Method:</th>             <td>Least Squares</td>  <th>  F-statistic:       </th> <td>   1056.</td> \n",
       "</tr>\n",
       "<tr>\n",
       "  <th>Date:</th>             <td>Fri, 05 Oct 2018</td> <th>  Prob (F-statistic):</th>  <td>  0.00</td>  \n",
       "</tr>\n",
       "<tr>\n",
       "  <th>Time:</th>                 <td>10:50:12</td>     <th>  Log-Likelihood:    </th> <td> -23234.</td> \n",
       "</tr>\n",
       "<tr>\n",
       "  <th>No. Observations:</th>      <td>103067</td>      <th>  AIC:               </th> <td>4.651e+04</td>\n",
       "</tr>\n",
       "<tr>\n",
       "  <th>Df Residuals:</th>          <td>103048</td>      <th>  BIC:               </th> <td>4.669e+04</td>\n",
       "</tr>\n",
       "<tr>\n",
       "  <th>Df Model:</th>              <td>    18</td>      <th>                     </th>     <td> </td>    \n",
       "</tr>\n",
       "<tr>\n",
       "  <th>Covariance Type:</th>      <td>nonrobust</td>    <th>                     </th>     <td> </td>    \n",
       "</tr>\n",
       "</table>\n",
       "<table class=\"simpletable\">\n",
       "<tr>\n",
       "              <td></td>                 <th>coef</th>     <th>std err</th>      <th>t</th>      <th>P>|t|</th>  <th>[0.025</th>    <th>0.975]</th>  \n",
       "</tr>\n",
       "<tr>\n",
       "  <th>Intercept</th>                 <td>    0.2288</td> <td>    0.005</td> <td>   47.923</td> <td> 0.000</td> <td>    0.219</td> <td>    0.238</td>\n",
       "</tr>\n",
       "<tr>\n",
       "  <th>avg_salary</th>                <td> 3.326e-05</td> <td> 3.34e-07</td> <td>   99.479</td> <td> 0.000</td> <td> 3.26e-05</td> <td> 3.39e-05</td>\n",
       "</tr>\n",
       "<tr>\n",
       "  <th>nbr_emp</th>                   <td>-7.975e-07</td> <td> 2.92e-08</td> <td>  -27.291</td> <td> 0.000</td> <td>-8.55e-07</td> <td> -7.4e-07</td>\n",
       "</tr>\n",
       "<tr>\n",
       "  <th>marital_status_S</th>          <td>   -0.0001</td> <td>    0.002</td> <td>   -0.063</td> <td> 0.950</td> <td>   -0.004</td> <td>    0.004</td>\n",
       "</tr>\n",
       "<tr>\n",
       "  <th>gender_Male</th>               <td>   -0.0205</td> <td>    0.002</td> <td>  -10.687</td> <td> 0.000</td> <td>   -0.024</td> <td>   -0.017</td>\n",
       "</tr>\n",
       "<tr>\n",
       "  <th>full_tm_part_tm_Part_Time</th> <td>   -0.0901</td> <td>    0.004</td> <td>  -23.929</td> <td> 0.000</td> <td>   -0.098</td> <td>   -0.083</td>\n",
       "</tr>\n",
       "<tr>\n",
       "  <th>reg_temp_T</th>                <td>   -0.1150</td> <td>    0.007</td> <td>  -15.426</td> <td> 0.000</td> <td>   -0.130</td> <td>   -0.100</td>\n",
       "</tr>\n",
       "<tr>\n",
       "  <th>tenure_band_10_15</th>         <td>    0.0364</td> <td>    0.004</td> <td>    9.411</td> <td> 0.000</td> <td>    0.029</td> <td>    0.044</td>\n",
       "</tr>\n",
       "<tr>\n",
       "  <th>tenure_band_2_3</th>           <td>    0.0061</td> <td>    0.004</td> <td>    1.724</td> <td> 0.085</td> <td>   -0.001</td> <td>    0.013</td>\n",
       "</tr>\n",
       "<tr>\n",
       "  <th>tenure_band_3_5</th>           <td>    0.0202</td> <td>    0.003</td> <td>    5.947</td> <td> 0.000</td> <td>    0.014</td> <td>    0.027</td>\n",
       "</tr>\n",
       "<tr>\n",
       "  <th>tenure_band_5_10</th>          <td>    0.0383</td> <td>    0.003</td> <td>   11.385</td> <td> 0.000</td> <td>    0.032</td> <td>    0.045</td>\n",
       "</tr>\n",
       "<tr>\n",
       "  <th>tenure_band_Over_15</th>       <td>    0.0632</td> <td>    0.004</td> <td>   15.754</td> <td> 0.000</td> <td>    0.055</td> <td>    0.071</td>\n",
       "</tr>\n",
       "<tr>\n",
       "  <th>tenure_band_Under_1</th>       <td>   -0.0397</td> <td>    0.003</td> <td>  -12.377</td> <td> 0.000</td> <td>   -0.046</td> <td>   -0.033</td>\n",
       "</tr>\n",
       "<tr>\n",
       "  <th>age_band_25_34</th>            <td>    0.0159</td> <td>    0.004</td> <td>    3.870</td> <td> 0.000</td> <td>    0.008</td> <td>    0.024</td>\n",
       "</tr>\n",
       "<tr>\n",
       "  <th>age_band_35_44</th>            <td>    0.0043</td> <td>    0.004</td> <td>    1.037</td> <td> 0.300</td> <td>   -0.004</td> <td>    0.013</td>\n",
       "</tr>\n",
       "<tr>\n",
       "  <th>age_band_45_54</th>            <td>   -0.0076</td> <td>    0.004</td> <td>   -1.784</td> <td> 0.074</td> <td>   -0.016</td> <td>    0.001</td>\n",
       "</tr>\n",
       "<tr>\n",
       "  <th>age_band_55_64</th>            <td>   -0.0151</td> <td>    0.004</td> <td>   -3.411</td> <td> 0.001</td> <td>   -0.024</td> <td>   -0.006</td>\n",
       "</tr>\n",
       "<tr>\n",
       "  <th>age_band_Over_64</th>          <td>   -0.0065</td> <td>    0.006</td> <td>   -1.137</td> <td> 0.256</td> <td>   -0.018</td> <td>    0.005</td>\n",
       "</tr>\n",
       "<tr>\n",
       "  <th>age_band_Under_18</th>         <td>   -0.0068</td> <td>    0.031</td> <td>   -0.218</td> <td> 0.827</td> <td>   -0.067</td> <td>    0.054</td>\n",
       "</tr>\n",
       "</table>\n",
       "<table class=\"simpletable\">\n",
       "<tr>\n",
       "  <th>Omnibus:</th>       <td>9680.279</td> <th>  Durbin-Watson:     </th> <td>   0.729</td>\n",
       "</tr>\n",
       "<tr>\n",
       "  <th>Prob(Omnibus):</th>  <td> 0.000</td>  <th>  Jarque-Bera (JB):  </th> <td>5506.680</td>\n",
       "</tr>\n",
       "<tr>\n",
       "  <th>Skew:</th>           <td> 0.426</td>  <th>  Prob(JB):          </th> <td>    0.00</td>\n",
       "</tr>\n",
       "<tr>\n",
       "  <th>Kurtosis:</th>       <td> 2.253</td>  <th>  Cond. No.          </th> <td>1.09e+06</td>\n",
       "</tr>\n",
       "</table>"
      ],
      "text/plain": [
       "<class 'statsmodels.iolib.summary.Summary'>\n",
       "\"\"\"\n",
       "                            OLS Regression Results                            \n",
       "==============================================================================\n",
       "Dep. Variable:                Absence   R-squared:                       0.156\n",
       "Model:                            OLS   Adj. R-squared:                  0.156\n",
       "Method:                 Least Squares   F-statistic:                     1056.\n",
       "Date:                Fri, 05 Oct 2018   Prob (F-statistic):               0.00\n",
       "Time:                        10:50:12   Log-Likelihood:                -23234.\n",
       "No. Observations:              103067   AIC:                         4.651e+04\n",
       "Df Residuals:                  103048   BIC:                         4.669e+04\n",
       "Df Model:                          18                                         \n",
       "Covariance Type:            nonrobust                                         \n",
       "=============================================================================================\n",
       "                                coef    std err          t      P>|t|      [0.025      0.975]\n",
       "---------------------------------------------------------------------------------------------\n",
       "Intercept                     0.2288      0.005     47.923      0.000       0.219       0.238\n",
       "avg_salary                 3.326e-05   3.34e-07     99.479      0.000    3.26e-05    3.39e-05\n",
       "nbr_emp                   -7.975e-07   2.92e-08    -27.291      0.000   -8.55e-07    -7.4e-07\n",
       "marital_status_S             -0.0001      0.002     -0.063      0.950      -0.004       0.004\n",
       "gender_Male                  -0.0205      0.002    -10.687      0.000      -0.024      -0.017\n",
       "full_tm_part_tm_Part_Time    -0.0901      0.004    -23.929      0.000      -0.098      -0.083\n",
       "reg_temp_T                   -0.1150      0.007    -15.426      0.000      -0.130      -0.100\n",
       "tenure_band_10_15             0.0364      0.004      9.411      0.000       0.029       0.044\n",
       "tenure_band_2_3               0.0061      0.004      1.724      0.085      -0.001       0.013\n",
       "tenure_band_3_5               0.0202      0.003      5.947      0.000       0.014       0.027\n",
       "tenure_band_5_10              0.0383      0.003     11.385      0.000       0.032       0.045\n",
       "tenure_band_Over_15           0.0632      0.004     15.754      0.000       0.055       0.071\n",
       "tenure_band_Under_1          -0.0397      0.003    -12.377      0.000      -0.046      -0.033\n",
       "age_band_25_34                0.0159      0.004      3.870      0.000       0.008       0.024\n",
       "age_band_35_44                0.0043      0.004      1.037      0.300      -0.004       0.013\n",
       "age_band_45_54               -0.0076      0.004     -1.784      0.074      -0.016       0.001\n",
       "age_band_55_64               -0.0151      0.004     -3.411      0.001      -0.024      -0.006\n",
       "age_band_Over_64             -0.0065      0.006     -1.137      0.256      -0.018       0.005\n",
       "age_band_Under_18            -0.0068      0.031     -0.218      0.827      -0.067       0.054\n",
       "==============================================================================\n",
       "Omnibus:                     9680.279   Durbin-Watson:                   0.729\n",
       "Prob(Omnibus):                  0.000   Jarque-Bera (JB):             5506.680\n",
       "Skew:                           0.426   Prob(JB):                         0.00\n",
       "Kurtosis:                       2.253   Cond. No.                     1.09e+06\n",
       "==============================================================================\n",
       "\n",
       "Warnings:\n",
       "[1] Standard Errors assume that the covariance matrix of the errors is correctly specified.\n",
       "[2] The condition number is large, 1.09e+06. This might indicate that there are\n",
       "strong multicollinearity or other numerical problems.\n",
       "\"\"\""
      ]
     },
     "execution_count": 64,
     "metadata": {},
     "output_type": "execute_result"
    }
   ],
   "source": [
    "## lets again run the mdoel\n",
    "ols_model = OLS.ols(data=data, formula=\"Absence~avg_salary+nbr_emp+marital_status_S+gender_Male+full_tm_part_tm_Part_Time+reg_temp_T+tenure_band_10_15+tenure_band_2_3+tenure_band_3_5+tenure_band_5_10+tenure_band_Over_15+tenure_band_Under_1+age_band_25_34+age_band_35_44+age_band_45_54+age_band_55_64+age_band_Over_64+age_band_Under_18\").fit()\n",
    "ols_model.summary()"
   ]
  },
  {
   "cell_type": "code",
   "execution_count": 97,
   "metadata": {},
   "outputs": [
    {
     "name": "stdout",
     "output_type": "stream",
     "text": [
      "263.0 5021.0 4758.0 -6874.0 12158.0\n"
     ]
    },
    {
     "data": {
      "text/plain": [
       "(0, 19)"
      ]
     },
     "execution_count": 97,
     "metadata": {},
     "output_type": "execute_result"
    }
   ],
   "source": [
    "##Finding outliers with number of employee\n",
    "q1_nbr = np.percentile((data['nbr_emp']),15)\n",
    "q3_nbr =  np.percentile((data['nbr_emp']),85)\n",
    "IQR_nbr = q3_nbr-q1_nbr\n",
    "floor_nbr = q1_nbr-1.5*IQR_nbr\n",
    "ceiling_nbr = q3_nbr + 1.5*IQR_nbr\n",
    "print(q1_nbr,q3_nbr,IQR_nbr,floor_nbr,ceiling_nbr)\n",
    "## listintg oulioers\n",
    "data[(data['nbr_emp']<floor_nbr) | (data['nbr_emp']>ceiling_nbr)].shape"
   ]
  },
  {
   "cell_type": "code",
   "execution_count": 98,
   "metadata": {
    "scrolled": true
   },
   "outputs": [
    {
     "data": {
      "text/plain": [
       "(89793, 19)"
      ]
     },
     "execution_count": 98,
     "metadata": {},
     "output_type": "execute_result"
    }
   ],
   "source": [
    "data.drop(data.index[(data['nbr_emp']<floor_nbr) | (data['nbr_emp']>ceiling_nbr)],inplace=True)\n",
    "data.shape"
   ]
  },
  {
   "cell_type": "markdown",
   "metadata": {},
   "source": [
    "## after removing poutliers respec to all the nbr and sala col"
   ]
  },
  {
   "cell_type": "code",
   "execution_count": 99,
   "metadata": {},
   "outputs": [
    {
     "data": {
      "text/html": [
       "<table class=\"simpletable\">\n",
       "<caption>OLS Regression Results</caption>\n",
       "<tr>\n",
       "  <th>Dep. Variable:</th>         <td>Absence</td>     <th>  R-squared:         </th> <td>   0.187</td> \n",
       "</tr>\n",
       "<tr>\n",
       "  <th>Model:</th>                   <td>OLS</td>       <th>  Adj. R-squared:    </th> <td>   0.187</td> \n",
       "</tr>\n",
       "<tr>\n",
       "  <th>Method:</th>             <td>Least Squares</td>  <th>  F-statistic:       </th> <td>   1146.</td> \n",
       "</tr>\n",
       "<tr>\n",
       "  <th>Date:</th>             <td>Fri, 05 Oct 2018</td> <th>  Prob (F-statistic):</th>  <td>  0.00</td>  \n",
       "</tr>\n",
       "<tr>\n",
       "  <th>Time:</th>                 <td>10:51:33</td>     <th>  Log-Likelihood:    </th> <td> -20537.</td> \n",
       "</tr>\n",
       "<tr>\n",
       "  <th>No. Observations:</th>      <td> 89793</td>      <th>  AIC:               </th> <td>4.111e+04</td>\n",
       "</tr>\n",
       "<tr>\n",
       "  <th>Df Residuals:</th>          <td> 89774</td>      <th>  BIC:               </th> <td>4.129e+04</td>\n",
       "</tr>\n",
       "<tr>\n",
       "  <th>Df Model:</th>              <td>    18</td>      <th>                     </th>     <td> </td>    \n",
       "</tr>\n",
       "<tr>\n",
       "  <th>Covariance Type:</th>      <td>nonrobust</td>    <th>                     </th>     <td> </td>    \n",
       "</tr>\n",
       "</table>\n",
       "<table class=\"simpletable\">\n",
       "<tr>\n",
       "              <td></td>                 <th>coef</th>     <th>std err</th>      <th>t</th>      <th>P>|t|</th>  <th>[0.025</th>    <th>0.975]</th>  \n",
       "</tr>\n",
       "<tr>\n",
       "  <th>Intercept</th>                 <td>    0.3060</td> <td>    0.005</td> <td>   57.959</td> <td> 0.000</td> <td>    0.296</td> <td>    0.316</td>\n",
       "</tr>\n",
       "<tr>\n",
       "  <th>avg_salary</th>                <td> 3.139e-05</td> <td> 3.51e-07</td> <td>   89.499</td> <td> 0.000</td> <td> 3.07e-05</td> <td> 3.21e-05</td>\n",
       "</tr>\n",
       "<tr>\n",
       "  <th>nbr_emp</th>                   <td>-2.502e-05</td> <td> 3.86e-07</td> <td>  -64.771</td> <td> 0.000</td> <td>-2.58e-05</td> <td>-2.43e-05</td>\n",
       "</tr>\n",
       "<tr>\n",
       "  <th>marital_status_S</th>          <td>    0.0020</td> <td>    0.002</td> <td>    0.971</td> <td> 0.332</td> <td>   -0.002</td> <td>    0.006</td>\n",
       "</tr>\n",
       "<tr>\n",
       "  <th>gender_Male</th>               <td>   -0.0218</td> <td>    0.002</td> <td>  -10.565</td> <td> 0.000</td> <td>   -0.026</td> <td>   -0.018</td>\n",
       "</tr>\n",
       "<tr>\n",
       "  <th>full_tm_part_tm_Part_Time</th> <td>   -0.0912</td> <td>    0.004</td> <td>  -22.056</td> <td> 0.000</td> <td>   -0.099</td> <td>   -0.083</td>\n",
       "</tr>\n",
       "<tr>\n",
       "  <th>reg_temp_T</th>                <td>   -0.1156</td> <td>    0.008</td> <td>  -14.371</td> <td> 0.000</td> <td>   -0.131</td> <td>   -0.100</td>\n",
       "</tr>\n",
       "<tr>\n",
       "  <th>tenure_band_10_15</th>         <td>    0.0287</td> <td>    0.004</td> <td>    6.955</td> <td> 0.000</td> <td>    0.021</td> <td>    0.037</td>\n",
       "</tr>\n",
       "<tr>\n",
       "  <th>tenure_band_2_3</th>           <td>    0.0032</td> <td>    0.004</td> <td>    0.833</td> <td> 0.405</td> <td>   -0.004</td> <td>    0.011</td>\n",
       "</tr>\n",
       "<tr>\n",
       "  <th>tenure_band_3_5</th>           <td>    0.0239</td> <td>    0.004</td> <td>    6.508</td> <td> 0.000</td> <td>    0.017</td> <td>    0.031</td>\n",
       "</tr>\n",
       "<tr>\n",
       "  <th>tenure_band_5_10</th>          <td>    0.0390</td> <td>    0.004</td> <td>   10.768</td> <td> 0.000</td> <td>    0.032</td> <td>    0.046</td>\n",
       "</tr>\n",
       "<tr>\n",
       "  <th>tenure_band_Over_15</th>       <td>    0.0562</td> <td>    0.004</td> <td>   13.124</td> <td> 0.000</td> <td>    0.048</td> <td>    0.065</td>\n",
       "</tr>\n",
       "<tr>\n",
       "  <th>tenure_band_Under_1</th>       <td>   -0.0398</td> <td>    0.003</td> <td>  -11.419</td> <td> 0.000</td> <td>   -0.047</td> <td>   -0.033</td>\n",
       "</tr>\n",
       "<tr>\n",
       "  <th>age_band_25_34</th>            <td>    0.0227</td> <td>    0.004</td> <td>    5.048</td> <td> 0.000</td> <td>    0.014</td> <td>    0.031</td>\n",
       "</tr>\n",
       "<tr>\n",
       "  <th>age_band_35_44</th>            <td>    0.0137</td> <td>    0.005</td> <td>    3.018</td> <td> 0.003</td> <td>    0.005</td> <td>    0.023</td>\n",
       "</tr>\n",
       "<tr>\n",
       "  <th>age_band_45_54</th>            <td>    0.0042</td> <td>    0.005</td> <td>    0.898</td> <td> 0.369</td> <td>   -0.005</td> <td>    0.013</td>\n",
       "</tr>\n",
       "<tr>\n",
       "  <th>age_band_55_64</th>            <td> 5.307e-05</td> <td>    0.005</td> <td>    0.011</td> <td> 0.991</td> <td>   -0.009</td> <td>    0.009</td>\n",
       "</tr>\n",
       "<tr>\n",
       "  <th>age_band_Over_64</th>          <td>    0.0023</td> <td>    0.006</td> <td>    0.376</td> <td> 0.707</td> <td>   -0.010</td> <td>    0.014</td>\n",
       "</tr>\n",
       "<tr>\n",
       "  <th>age_band_Under_18</th>         <td>   -0.0186</td> <td>    0.034</td> <td>   -0.553</td> <td> 0.580</td> <td>   -0.085</td> <td>    0.047</td>\n",
       "</tr>\n",
       "</table>\n",
       "<table class=\"simpletable\">\n",
       "<tr>\n",
       "  <th>Omnibus:</th>       <td>12907.674</td> <th>  Durbin-Watson:     </th> <td>   0.805</td>\n",
       "</tr>\n",
       "<tr>\n",
       "  <th>Prob(Omnibus):</th>  <td> 0.000</td>   <th>  Jarque-Bera (JB):  </th> <td>4101.422</td>\n",
       "</tr>\n",
       "<tr>\n",
       "  <th>Skew:</th>           <td> 0.275</td>   <th>  Prob(JB):          </th> <td>    0.00</td>\n",
       "</tr>\n",
       "<tr>\n",
       "  <th>Kurtosis:</th>       <td> 2.109</td>   <th>  Cond. No.          </th> <td>2.13e+05</td>\n",
       "</tr>\n",
       "</table>"
      ],
      "text/plain": [
       "<class 'statsmodels.iolib.summary.Summary'>\n",
       "\"\"\"\n",
       "                            OLS Regression Results                            \n",
       "==============================================================================\n",
       "Dep. Variable:                Absence   R-squared:                       0.187\n",
       "Model:                            OLS   Adj. R-squared:                  0.187\n",
       "Method:                 Least Squares   F-statistic:                     1146.\n",
       "Date:                Fri, 05 Oct 2018   Prob (F-statistic):               0.00\n",
       "Time:                        10:51:33   Log-Likelihood:                -20537.\n",
       "No. Observations:               89793   AIC:                         4.111e+04\n",
       "Df Residuals:                   89774   BIC:                         4.129e+04\n",
       "Df Model:                          18                                         \n",
       "Covariance Type:            nonrobust                                         \n",
       "=============================================================================================\n",
       "                                coef    std err          t      P>|t|      [0.025      0.975]\n",
       "---------------------------------------------------------------------------------------------\n",
       "Intercept                     0.3060      0.005     57.959      0.000       0.296       0.316\n",
       "avg_salary                 3.139e-05   3.51e-07     89.499      0.000    3.07e-05    3.21e-05\n",
       "nbr_emp                   -2.502e-05   3.86e-07    -64.771      0.000   -2.58e-05   -2.43e-05\n",
       "marital_status_S              0.0020      0.002      0.971      0.332      -0.002       0.006\n",
       "gender_Male                  -0.0218      0.002    -10.565      0.000      -0.026      -0.018\n",
       "full_tm_part_tm_Part_Time    -0.0912      0.004    -22.056      0.000      -0.099      -0.083\n",
       "reg_temp_T                   -0.1156      0.008    -14.371      0.000      -0.131      -0.100\n",
       "tenure_band_10_15             0.0287      0.004      6.955      0.000       0.021       0.037\n",
       "tenure_band_2_3               0.0032      0.004      0.833      0.405      -0.004       0.011\n",
       "tenure_band_3_5               0.0239      0.004      6.508      0.000       0.017       0.031\n",
       "tenure_band_5_10              0.0390      0.004     10.768      0.000       0.032       0.046\n",
       "tenure_band_Over_15           0.0562      0.004     13.124      0.000       0.048       0.065\n",
       "tenure_band_Under_1          -0.0398      0.003    -11.419      0.000      -0.047      -0.033\n",
       "age_band_25_34                0.0227      0.004      5.048      0.000       0.014       0.031\n",
       "age_band_35_44                0.0137      0.005      3.018      0.003       0.005       0.023\n",
       "age_band_45_54                0.0042      0.005      0.898      0.369      -0.005       0.013\n",
       "age_band_55_64             5.307e-05      0.005      0.011      0.991      -0.009       0.009\n",
       "age_band_Over_64              0.0023      0.006      0.376      0.707      -0.010       0.014\n",
       "age_band_Under_18            -0.0186      0.034     -0.553      0.580      -0.085       0.047\n",
       "==============================================================================\n",
       "Omnibus:                    12907.674   Durbin-Watson:                   0.805\n",
       "Prob(Omnibus):                  0.000   Jarque-Bera (JB):             4101.422\n",
       "Skew:                           0.275   Prob(JB):                         0.00\n",
       "Kurtosis:                       2.109   Cond. No.                     2.13e+05\n",
       "==============================================================================\n",
       "\n",
       "Warnings:\n",
       "[1] Standard Errors assume that the covariance matrix of the errors is correctly specified.\n",
       "[2] The condition number is large, 2.13e+05. This might indicate that there are\n",
       "strong multicollinearity or other numerical problems.\n",
       "\"\"\""
      ]
     },
     "execution_count": 99,
     "metadata": {},
     "output_type": "execute_result"
    }
   ],
   "source": [
    "## lets again run the mdoel\n",
    "ols_model = OLS.ols(data=data, formula=\"Absence~avg_salary+nbr_emp+marital_status_S+gender_Male+full_tm_part_tm_Part_Time+reg_temp_T+tenure_band_10_15+tenure_band_2_3+tenure_band_3_5+tenure_band_5_10+tenure_band_Over_15+tenure_band_Under_1+age_band_25_34+age_band_35_44+age_band_45_54+age_band_55_64+age_band_Over_64+age_band_Under_18\").fit()\n",
    "ols_model.summary()"
   ]
  },
  {
   "cell_type": "code",
   "execution_count": 100,
   "metadata": {},
   "outputs": [
    {
     "data": {
      "text/plain": [
       "0"
      ]
     },
     "execution_count": 100,
     "metadata": {},
     "output_type": "execute_result"
    }
   ],
   "source": [
    "# data.drop_duplicates(inplace=True)\n",
    "# data.shape\n",
    "data.duplicated().sum()"
   ]
  },
  {
   "cell_type": "code",
   "execution_count": 101,
   "metadata": {
    "scrolled": true
   },
   "outputs": [
    {
     "data": {
      "text/html": [
       "<table class=\"simpletable\">\n",
       "<caption>OLS Regression Results</caption>\n",
       "<tr>\n",
       "  <th>Dep. Variable:</th>         <td>Absence</td>     <th>  R-squared:         </th> <td>   0.187</td> \n",
       "</tr>\n",
       "<tr>\n",
       "  <th>Model:</th>                   <td>OLS</td>       <th>  Adj. R-squared:    </th> <td>   0.187</td> \n",
       "</tr>\n",
       "<tr>\n",
       "  <th>Method:</th>             <td>Least Squares</td>  <th>  F-statistic:       </th> <td>   1146.</td> \n",
       "</tr>\n",
       "<tr>\n",
       "  <th>Date:</th>             <td>Fri, 05 Oct 2018</td> <th>  Prob (F-statistic):</th>  <td>  0.00</td>  \n",
       "</tr>\n",
       "<tr>\n",
       "  <th>Time:</th>                 <td>10:51:43</td>     <th>  Log-Likelihood:    </th> <td> -20537.</td> \n",
       "</tr>\n",
       "<tr>\n",
       "  <th>No. Observations:</th>      <td> 89793</td>      <th>  AIC:               </th> <td>4.111e+04</td>\n",
       "</tr>\n",
       "<tr>\n",
       "  <th>Df Residuals:</th>          <td> 89774</td>      <th>  BIC:               </th> <td>4.129e+04</td>\n",
       "</tr>\n",
       "<tr>\n",
       "  <th>Df Model:</th>              <td>    18</td>      <th>                     </th>     <td> </td>    \n",
       "</tr>\n",
       "<tr>\n",
       "  <th>Covariance Type:</th>      <td>nonrobust</td>    <th>                     </th>     <td> </td>    \n",
       "</tr>\n",
       "</table>\n",
       "<table class=\"simpletable\">\n",
       "<tr>\n",
       "              <td></td>                 <th>coef</th>     <th>std err</th>      <th>t</th>      <th>P>|t|</th>  <th>[0.025</th>    <th>0.975]</th>  \n",
       "</tr>\n",
       "<tr>\n",
       "  <th>Intercept</th>                 <td>    0.3060</td> <td>    0.005</td> <td>   57.959</td> <td> 0.000</td> <td>    0.296</td> <td>    0.316</td>\n",
       "</tr>\n",
       "<tr>\n",
       "  <th>avg_salary</th>                <td> 3.139e-05</td> <td> 3.51e-07</td> <td>   89.499</td> <td> 0.000</td> <td> 3.07e-05</td> <td> 3.21e-05</td>\n",
       "</tr>\n",
       "<tr>\n",
       "  <th>nbr_emp</th>                   <td>-2.502e-05</td> <td> 3.86e-07</td> <td>  -64.771</td> <td> 0.000</td> <td>-2.58e-05</td> <td>-2.43e-05</td>\n",
       "</tr>\n",
       "<tr>\n",
       "  <th>marital_status_S</th>          <td>    0.0020</td> <td>    0.002</td> <td>    0.971</td> <td> 0.332</td> <td>   -0.002</td> <td>    0.006</td>\n",
       "</tr>\n",
       "<tr>\n",
       "  <th>gender_Male</th>               <td>   -0.0218</td> <td>    0.002</td> <td>  -10.565</td> <td> 0.000</td> <td>   -0.026</td> <td>   -0.018</td>\n",
       "</tr>\n",
       "<tr>\n",
       "  <th>full_tm_part_tm_Part_Time</th> <td>   -0.0912</td> <td>    0.004</td> <td>  -22.056</td> <td> 0.000</td> <td>   -0.099</td> <td>   -0.083</td>\n",
       "</tr>\n",
       "<tr>\n",
       "  <th>reg_temp_T</th>                <td>   -0.1156</td> <td>    0.008</td> <td>  -14.371</td> <td> 0.000</td> <td>   -0.131</td> <td>   -0.100</td>\n",
       "</tr>\n",
       "<tr>\n",
       "  <th>tenure_band_10_15</th>         <td>    0.0287</td> <td>    0.004</td> <td>    6.955</td> <td> 0.000</td> <td>    0.021</td> <td>    0.037</td>\n",
       "</tr>\n",
       "<tr>\n",
       "  <th>tenure_band_2_3</th>           <td>    0.0032</td> <td>    0.004</td> <td>    0.833</td> <td> 0.405</td> <td>   -0.004</td> <td>    0.011</td>\n",
       "</tr>\n",
       "<tr>\n",
       "  <th>tenure_band_3_5</th>           <td>    0.0239</td> <td>    0.004</td> <td>    6.508</td> <td> 0.000</td> <td>    0.017</td> <td>    0.031</td>\n",
       "</tr>\n",
       "<tr>\n",
       "  <th>tenure_band_5_10</th>          <td>    0.0390</td> <td>    0.004</td> <td>   10.768</td> <td> 0.000</td> <td>    0.032</td> <td>    0.046</td>\n",
       "</tr>\n",
       "<tr>\n",
       "  <th>tenure_band_Over_15</th>       <td>    0.0562</td> <td>    0.004</td> <td>   13.124</td> <td> 0.000</td> <td>    0.048</td> <td>    0.065</td>\n",
       "</tr>\n",
       "<tr>\n",
       "  <th>tenure_band_Under_1</th>       <td>   -0.0398</td> <td>    0.003</td> <td>  -11.419</td> <td> 0.000</td> <td>   -0.047</td> <td>   -0.033</td>\n",
       "</tr>\n",
       "<tr>\n",
       "  <th>age_band_25_34</th>            <td>    0.0227</td> <td>    0.004</td> <td>    5.048</td> <td> 0.000</td> <td>    0.014</td> <td>    0.031</td>\n",
       "</tr>\n",
       "<tr>\n",
       "  <th>age_band_35_44</th>            <td>    0.0137</td> <td>    0.005</td> <td>    3.018</td> <td> 0.003</td> <td>    0.005</td> <td>    0.023</td>\n",
       "</tr>\n",
       "<tr>\n",
       "  <th>age_band_45_54</th>            <td>    0.0042</td> <td>    0.005</td> <td>    0.898</td> <td> 0.369</td> <td>   -0.005</td> <td>    0.013</td>\n",
       "</tr>\n",
       "<tr>\n",
       "  <th>age_band_55_64</th>            <td> 5.307e-05</td> <td>    0.005</td> <td>    0.011</td> <td> 0.991</td> <td>   -0.009</td> <td>    0.009</td>\n",
       "</tr>\n",
       "<tr>\n",
       "  <th>age_band_Over_64</th>          <td>    0.0023</td> <td>    0.006</td> <td>    0.376</td> <td> 0.707</td> <td>   -0.010</td> <td>    0.014</td>\n",
       "</tr>\n",
       "<tr>\n",
       "  <th>age_band_Under_18</th>         <td>   -0.0186</td> <td>    0.034</td> <td>   -0.553</td> <td> 0.580</td> <td>   -0.085</td> <td>    0.047</td>\n",
       "</tr>\n",
       "</table>\n",
       "<table class=\"simpletable\">\n",
       "<tr>\n",
       "  <th>Omnibus:</th>       <td>12907.674</td> <th>  Durbin-Watson:     </th> <td>   0.805</td>\n",
       "</tr>\n",
       "<tr>\n",
       "  <th>Prob(Omnibus):</th>  <td> 0.000</td>   <th>  Jarque-Bera (JB):  </th> <td>4101.422</td>\n",
       "</tr>\n",
       "<tr>\n",
       "  <th>Skew:</th>           <td> 0.275</td>   <th>  Prob(JB):          </th> <td>    0.00</td>\n",
       "</tr>\n",
       "<tr>\n",
       "  <th>Kurtosis:</th>       <td> 2.109</td>   <th>  Cond. No.          </th> <td>2.13e+05</td>\n",
       "</tr>\n",
       "</table>"
      ],
      "text/plain": [
       "<class 'statsmodels.iolib.summary.Summary'>\n",
       "\"\"\"\n",
       "                            OLS Regression Results                            \n",
       "==============================================================================\n",
       "Dep. Variable:                Absence   R-squared:                       0.187\n",
       "Model:                            OLS   Adj. R-squared:                  0.187\n",
       "Method:                 Least Squares   F-statistic:                     1146.\n",
       "Date:                Fri, 05 Oct 2018   Prob (F-statistic):               0.00\n",
       "Time:                        10:51:43   Log-Likelihood:                -20537.\n",
       "No. Observations:               89793   AIC:                         4.111e+04\n",
       "Df Residuals:                   89774   BIC:                         4.129e+04\n",
       "Df Model:                          18                                         \n",
       "Covariance Type:            nonrobust                                         \n",
       "=============================================================================================\n",
       "                                coef    std err          t      P>|t|      [0.025      0.975]\n",
       "---------------------------------------------------------------------------------------------\n",
       "Intercept                     0.3060      0.005     57.959      0.000       0.296       0.316\n",
       "avg_salary                 3.139e-05   3.51e-07     89.499      0.000    3.07e-05    3.21e-05\n",
       "nbr_emp                   -2.502e-05   3.86e-07    -64.771      0.000   -2.58e-05   -2.43e-05\n",
       "marital_status_S              0.0020      0.002      0.971      0.332      -0.002       0.006\n",
       "gender_Male                  -0.0218      0.002    -10.565      0.000      -0.026      -0.018\n",
       "full_tm_part_tm_Part_Time    -0.0912      0.004    -22.056      0.000      -0.099      -0.083\n",
       "reg_temp_T                   -0.1156      0.008    -14.371      0.000      -0.131      -0.100\n",
       "tenure_band_10_15             0.0287      0.004      6.955      0.000       0.021       0.037\n",
       "tenure_band_2_3               0.0032      0.004      0.833      0.405      -0.004       0.011\n",
       "tenure_band_3_5               0.0239      0.004      6.508      0.000       0.017       0.031\n",
       "tenure_band_5_10              0.0390      0.004     10.768      0.000       0.032       0.046\n",
       "tenure_band_Over_15           0.0562      0.004     13.124      0.000       0.048       0.065\n",
       "tenure_band_Under_1          -0.0398      0.003    -11.419      0.000      -0.047      -0.033\n",
       "age_band_25_34                0.0227      0.004      5.048      0.000       0.014       0.031\n",
       "age_band_35_44                0.0137      0.005      3.018      0.003       0.005       0.023\n",
       "age_band_45_54                0.0042      0.005      0.898      0.369      -0.005       0.013\n",
       "age_band_55_64             5.307e-05      0.005      0.011      0.991      -0.009       0.009\n",
       "age_band_Over_64              0.0023      0.006      0.376      0.707      -0.010       0.014\n",
       "age_band_Under_18            -0.0186      0.034     -0.553      0.580      -0.085       0.047\n",
       "==============================================================================\n",
       "Omnibus:                    12907.674   Durbin-Watson:                   0.805\n",
       "Prob(Omnibus):                  0.000   Jarque-Bera (JB):             4101.422\n",
       "Skew:                           0.275   Prob(JB):                         0.00\n",
       "Kurtosis:                       2.109   Cond. No.                     2.13e+05\n",
       "==============================================================================\n",
       "\n",
       "Warnings:\n",
       "[1] Standard Errors assume that the covariance matrix of the errors is correctly specified.\n",
       "[2] The condition number is large, 2.13e+05. This might indicate that there are\n",
       "strong multicollinearity or other numerical problems.\n",
       "\"\"\""
      ]
     },
     "execution_count": 101,
     "metadata": {},
     "output_type": "execute_result"
    }
   ],
   "source": [
    "## lets again run the mdoel\n",
    "ols_model = OLS.ols(data=data, formula=\"Absence~avg_salary+nbr_emp+marital_status_S+gender_Male+full_tm_part_tm_Part_Time+reg_temp_T+tenure_band_10_15+tenure_band_2_3+tenure_band_3_5+tenure_band_5_10+tenure_band_Over_15+tenure_band_Under_1+age_band_25_34+age_band_35_44+age_band_45_54+age_band_55_64+age_band_Over_64+age_band_Under_18\").fit()\n",
    "ols_model.summary()"
   ]
  },
  {
   "cell_type": "code",
   "execution_count": 102,
   "metadata": {
    "collapsed": true
   },
   "outputs": [],
   "source": [
    "data.columns\n",
    "feature_columsn = ['avg_salary','nbr_emp','marital_status_S','gender_Male','full_tm_part_tm_Part_Time','reg_temp_T','age_band_25_34','age_band_35_44','age_band_45_54','']"
   ]
  },
  {
   "cell_type": "code",
   "execution_count": 103,
   "metadata": {
    "collapsed": true
   },
   "outputs": [],
   "source": [
    "y = data['Absence']\n",
    "X = data[data.columns.difference(['Absence'])]\n",
    "X_train,X_test,y_train,y_test = train_test_split(X,y,test_size=0.25,random_state=2)"
   ]
  },
  {
   "cell_type": "code",
   "execution_count": 104,
   "metadata": {
    "collapsed": true
   },
   "outputs": [],
   "source": [
    "regressor = RandomForestRegressor(n_estimators=800,random_state=0,min_samples_leaf=15,n_jobs=-1)\n",
    "##regressor = RandomForestRegressor(andom_state=0)"
   ]
  },
  {
   "cell_type": "code",
   "execution_count": 105,
   "metadata": {},
   "outputs": [
    {
     "data": {
      "text/plain": [
       "RandomForestRegressor(bootstrap=True, criterion='mse', max_depth=None,\n",
       "           max_features='auto', max_leaf_nodes=None,\n",
       "           min_impurity_decrease=0.0, min_impurity_split=None,\n",
       "           min_samples_leaf=15, min_samples_split=2,\n",
       "           min_weight_fraction_leaf=0.0, n_estimators=800, n_jobs=-1,\n",
       "           oob_score=False, random_state=0, verbose=0, warm_start=False)"
      ]
     },
     "execution_count": 105,
     "metadata": {},
     "output_type": "execute_result"
    }
   ],
   "source": [
    "regressor.fit(X_train,y_train)\n",
    "# regressor = RandomForestRegressor(n_estimators=100,random_state=0)"
   ]
  },
  {
   "cell_type": "code",
   "execution_count": 106,
   "metadata": {},
   "outputs": [
    {
     "data": {
      "text/plain": [
       "0.34976740215129976"
      ]
     },
     "execution_count": 106,
     "metadata": {},
     "output_type": "execute_result"
    }
   ],
   "source": [
    "## with regressor = RandomForestRegressor(n_estimators=100,random_state=0)\n",
    "regressor.score(X_test,y_test)"
   ]
  },
  {
   "cell_type": "code",
   "execution_count": 117,
   "metadata": {
    "collapsed": true
   },
   "outputs": [],
   "source": [
    "y_pred = regressor.predict(X_test)"
   ]
  },
  {
   "cell_type": "code",
   "execution_count": null,
   "metadata": {
    "collapsed": true
   },
   "outputs": [],
   "source": []
  },
  {
   "cell_type": "code",
   "execution_count": 59,
   "metadata": {},
   "outputs": [
    {
     "name": "stdout",
     "output_type": "stream",
     "text": [
      "0.33875501463491176\n",
      "{'min_samples_leaf': 10, 'n_estimators': 900, 'n_jobs': -1}\n"
     ]
    }
   ],
   "source": [
    "%timeit\n",
    "### grd search for best param\n",
    "param_grid = {\"n_estimators\": list(range(100,3000,100)),\n",
    "              \"min_samples_leaf\":list(range(10,50,10)),\n",
    "               \"n_jobs\":[-1]\n",
    "    }\n",
    "\n",
    "model = RandomForestRegressor(random_state=0)\n",
    "grid = GridSearchCV(estimator=model, param_grid=param_grid)\n",
    "grid.fit(X_train, y_train)\n",
    "\n",
    "print(grid.best_score_)\n",
    "print(grid.best_params_)\n"
   ]
  },
  {
   "cell_type": "code",
   "execution_count": 2,
   "metadata": {},
   "outputs": [
    {
     "name": "stdout",
     "output_type": "stream",
     "text": [
      "[40, 90, 140, 190, 240, 290, 340, 390, 440, 490]\n"
     ]
    }
   ],
   "source": [
    "listss = list(range(40,500,50))\n",
    "print(listss)"
   ]
  }
 ],
 "metadata": {
  "kernelspec": {
   "display_name": "Python 3",
   "language": "python",
   "name": "python3"
  },
  "language_info": {
   "codemirror_mode": {
    "name": "ipython",
    "version": 3
   },
   "file_extension": ".py",
   "mimetype": "text/x-python",
   "name": "python",
   "nbconvert_exporter": "python",
   "pygments_lexer": "ipython3",
   "version": "3.6.3"
  }
 },
 "nbformat": 4,
 "nbformat_minor": 2
}
