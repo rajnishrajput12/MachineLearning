{
  "nbformat": 4,
  "nbformat_minor": 0,
  "metadata": {
    "colab": {
      "name": "NLP.ipynb",
      "version": "0.3.2",
      "provenance": [],
      "collapsed_sections": [],
      "include_colab_link": true
    },
    "kernelspec": {
      "name": "python3",
      "display_name": "Python 3"
    }
  },
  "cells": [
    {
      "cell_type": "markdown",
      "metadata": {
        "id": "view-in-github",
        "colab_type": "text"
      },
      "source": [
        "<a href=\"https://colab.research.google.com/github/rajnishrajput12/MachineLearning/blob/master/NLP.ipynb\" target=\"_parent\"><img src=\"https://colab.research.google.com/assets/colab-badge.svg\" alt=\"Open In Colab\"/></a>"
      ]
    },
    {
      "metadata": {
        "id": "FPVXY1x_u1a7",
        "colab_type": "code",
        "colab": {}
      },
      "cell_type": "code",
      "source": [
        "\n",
        "import pandas as pd\n",
        "from sklearn.feature_extraction.text import CountVectorizer\n",
        "#import gensim\n",
        "##from gensim import corpora\n",
        "##import spacy\n",
        "import scipy\n",
        "import nltk\n",
        "from nltk.corpus import stopwords \n",
        "from nltk.stem.wordnet import WordNetLemmatizer\n",
        "import string\n",
        "from nltk import word_tokenize\n",
        "from nltk.corpus import stopwords\n",
        "from nltk import pos_tag\n",
        "import string\n",
        "##from nltk import word_tokenize\n",
        "import pickle\n",
        "import os\n",
        "##from nltk import pos_tag\n",
        "##from sklearn.feature_extraction.text import CountVectorizer\n",
        "##import scipy\n",
        "from gensim import matutils,models"
      ],
      "execution_count": 0,
      "outputs": []
    },
    {
      "metadata": {
        "id": "OZ9DuJ4DvsTW",
        "colab_type": "code",
        "colab": {}
      },
      "cell_type": "code",
      "source": [
        "!pip install -q gensim ## to install gensim"
      ],
      "execution_count": 0,
      "outputs": []
    },
    {
      "metadata": {
        "id": "KGcucZZ5FkFl",
        "colab_type": "code",
        "outputId": "8200fe0e-2524-4257-d41c-238185d1428a",
        "colab": {
          "base_uri": "https://localhost:8080/",
          "height": 119
        }
      },
      "cell_type": "code",
      "source": [
        "nltk.download('punkt')\n",
        "nltk.download('averaged_perceptron_tagger')"
      ],
      "execution_count": 0,
      "outputs": [
        {
          "output_type": "stream",
          "text": [
            "[nltk_data] Downloading package punkt to /root/nltk_data...\n",
            "[nltk_data]   Unzipping tokenizers/punkt.zip.\n",
            "[nltk_data] Downloading package averaged_perceptron_tagger to\n",
            "[nltk_data]     /root/nltk_data...\n",
            "[nltk_data]   Unzipping taggers/averaged_perceptron_tagger.zip.\n"
          ],
          "name": "stdout"
        },
        {
          "output_type": "execute_result",
          "data": {
            "text/plain": [
              "True"
            ]
          },
          "metadata": {
            "tags": []
          },
          "execution_count": 6
        }
      ]
    },
    {
      "metadata": {
        "id": "QtiEUZwkun7D",
        "colab_type": "code",
        "colab": {}
      },
      "cell_type": "code",
      "source": [
        "doc1 = \"Sugar is bad to consume. My sister likes to have sugar, but not my father.\"\n",
        "doc2 = \"My father spends a lot of time driving my sister around to dance practice.\"\n",
        "doc3 = \"Doctors suggest that driving may cause increased stress and blood pressure.\"\n",
        "doc4 = \"Sometimes I feel pressure to perform well at school, but my father never seems to drive my sister to do better.\"\n",
        "doc5 = \"Health experts say that Sugar is not good for your lifestyle.\"\n",
        "\n",
        "# compile documents\n",
        "doc_complete = [doc1, doc2, doc3, doc4, doc5]"
      ],
      "execution_count": 0,
      "outputs": []
    },
    {
      "metadata": {
        "id": "l_bdYHAK32vq",
        "colab_type": "code",
        "outputId": "757c84d2-328a-494c-fb2c-d83906a9540d",
        "colab": {
          "base_uri": "https://localhost:8080/",
          "height": 102
        }
      },
      "cell_type": "code",
      "source": [
        "doc_complete"
      ],
      "execution_count": 0,
      "outputs": [
        {
          "output_type": "execute_result",
          "data": {
            "text/plain": [
              "['Sugar is bad to consume. My sister likes to have sugar, but not my father.',\n",
              " 'My father spends a lot of time driving my sister around to dance practice.',\n",
              " 'Doctors suggest that driving may cause increased stress and blood pressure.',\n",
              " 'Sometimes I feel pressure to perform well at school, but my father never seems to drive my sister to do better.',\n",
              " 'Health experts say that Sugar is not good for your lifestyle.']"
            ]
          },
          "metadata": {
            "tags": []
          },
          "execution_count": 9
        }
      ]
    },
    {
      "metadata": {
        "id": "BF8cd6NbTiQW",
        "colab_type": "code",
        "colab": {}
      },
      "cell_type": "code",
      "source": [
        "# exclude = set(string.punctuation) \n",
        "# lemma = WordNetLemmatizer()\n",
        "# def clean(doc):\n",
        "#     punc_free = ''.join(ch for ch in doc if ch not in exclude)\n",
        "#     return punc_free\n",
        "\n",
        "doc_clean = [doc.split() for doc in doc_complete]"
      ],
      "execution_count": 0,
      "outputs": []
    },
    {
      "metadata": {
        "id": "oP5rzvZOIg8k",
        "colab_type": "code",
        "outputId": "cfc20407-4859-452a-f52f-230351cc2064",
        "colab": {
          "base_uri": "https://localhost:8080/",
          "height": 1173
        }
      },
      "cell_type": "code",
      "source": [
        "doc_term_matrix"
      ],
      "execution_count": 0,
      "outputs": [
        {
          "output_type": "execute_result",
          "data": {
            "text/plain": [
              "[[(0, 1),\n",
              "  (1, 1),\n",
              "  (2, 1),\n",
              "  (3, 1),\n",
              "  (4, 1),\n",
              "  (5, 1),\n",
              "  (6, 1),\n",
              "  (7, 1),\n",
              "  (8, 1),\n",
              "  (9, 1),\n",
              "  (10, 1),\n",
              "  (11, 1),\n",
              "  (12, 1),\n",
              "  (13, 2)],\n",
              " [(0, 1),\n",
              "  (9, 1),\n",
              "  (11, 1),\n",
              "  (13, 1),\n",
              "  (14, 1),\n",
              "  (15, 1),\n",
              "  (16, 1),\n",
              "  (17, 1),\n",
              "  (18, 1),\n",
              "  (19, 1),\n",
              "  (20, 1),\n",
              "  (21, 1),\n",
              "  (22, 1),\n",
              "  (23, 1)],\n",
              " [(17, 1),\n",
              "  (24, 1),\n",
              "  (25, 1),\n",
              "  (26, 1),\n",
              "  (27, 1),\n",
              "  (28, 1),\n",
              "  (29, 1),\n",
              "  (30, 1),\n",
              "  (31, 1),\n",
              "  (32, 1),\n",
              "  (33, 1)],\n",
              " [(3, 1),\n",
              "  (9, 2),\n",
              "  (11, 1),\n",
              "  (13, 3),\n",
              "  (18, 1),\n",
              "  (34, 1),\n",
              "  (35, 1),\n",
              "  (36, 1),\n",
              "  (37, 1),\n",
              "  (38, 1),\n",
              "  (39, 1),\n",
              "  (40, 1),\n",
              "  (41, 1),\n",
              "  (42, 1),\n",
              "  (43, 1),\n",
              "  (44, 1),\n",
              "  (45, 1),\n",
              "  (46, 1)],\n",
              " [(1, 1),\n",
              "  (7, 1),\n",
              "  (10, 1),\n",
              "  (33, 1),\n",
              "  (47, 1),\n",
              "  (48, 1),\n",
              "  (49, 1),\n",
              "  (50, 1),\n",
              "  (51, 1),\n",
              "  (52, 1),\n",
              "  (53, 1)]]"
            ]
          },
          "metadata": {
            "tags": []
          },
          "execution_count": 15
        }
      ]
    },
    {
      "metadata": {
        "id": "vq7ST8xJUNyS",
        "colab_type": "code",
        "colab": {}
      },
      "cell_type": "code",
      "source": [
        "# Importing Gensim\n",
        "\n",
        "# Creating the term dictionary of our courpus, where every unique term is assigned an index. \n",
        "dictionary = corpora.Dictionary(doc_clean)\n",
        "\n",
        "# Converting list of documents (corpus) into Document Term Matrix using dictionary prepared above.\n",
        "doc_term_matrix = [dictionary.doc2bow(doc) for doc in doc_clean]"
      ],
      "execution_count": 0,
      "outputs": []
    },
    {
      "metadata": {
        "id": "vg03T37JUSj5",
        "colab_type": "code",
        "colab": {}
      },
      "cell_type": "code",
      "source": [
        "# Creating the object for LDA model using gensim library\n",
        "Lda = gensim.models.ldamodel.LdaModel\n",
        "\n",
        "# Running and Trainign LDA model on the document term matrix.\n",
        "ldamodel = Lda(doc_term_matrix, num_topics=3, id2word = dictionary, passes=50)"
      ],
      "execution_count": 0,
      "outputs": []
    },
    {
      "metadata": {
        "id": "i65Q6iC-UW0z",
        "colab_type": "code",
        "outputId": "7a75eb11-6bde-40b4-b392-ec2e6d0906f4",
        "colab": {
          "base_uri": "https://localhost:8080/",
          "height": 34
        }
      },
      "cell_type": "code",
      "source": [
        "print(ldamodel.print_topics(num_topics=3, num_words=3))"
      ],
      "execution_count": 0,
      "outputs": [
        {
          "output_type": "stream",
          "text": [
            "[(0, '0.082*\"to\" + 0.063*\"my\" + 0.044*\"sister\"'), (1, '0.053*\"not\" + 0.053*\"is\" + 0.053*\"Sugar\"'), (2, '0.046*\"driving\" + 0.046*\"that\" + 0.046*\"increased\"')]\n"
          ],
          "name": "stdout"
        }
      ]
    },
    {
      "metadata": {
        "id": "rFvKaDwWuvf7",
        "colab_type": "code",
        "colab": {}
      },
      "cell_type": "code",
      "source": [
        "##da = pd.DataFrame(doc_complete,columns=['text'])"
      ],
      "execution_count": 0,
      "outputs": []
    },
    {
      "metadata": {
        "id": "91UoU14Bu7HH",
        "colab_type": "code",
        "colab": {}
      },
      "cell_type": "code",
      "source": [
        "##dd = da['text']"
      ],
      "execution_count": 0,
      "outputs": []
    },
    {
      "metadata": {
        "id": "N2wjVsmEu-Ep",
        "colab_type": "code",
        "outputId": "b7b172c2-3b8c-4944-a7ad-50dffa960d48",
        "colab": {
          "base_uri": "https://localhost:8080/",
          "height": 34
        }
      },
      "cell_type": "code",
      "source": [
        "type(doc_complete)"
      ],
      "execution_count": 0,
      "outputs": [
        {
          "output_type": "execute_result",
          "data": {
            "text/plain": [
              "list"
            ]
          },
          "metadata": {
            "tags": []
          },
          "execution_count": 44
        }
      ]
    },
    {
      "metadata": {
        "id": "84UJsQv5u_yE",
        "colab_type": "code",
        "outputId": "ed76a072-f967-4d39-9fd9-3b2705e315de",
        "colab": {
          "base_uri": "https://localhost:8080/",
          "height": 510
        }
      },
      "cell_type": "code",
      "source": [
        "count = CountVectorizer(stop_words='english')\n",
        "cc = count.fit_transform(doc_complete)\n",
        "count.get_feature_names()"
      ],
      "execution_count": 0,
      "outputs": [
        {
          "output_type": "execute_result",
          "data": {
            "text/plain": [
              "['bad',\n",
              " 'better',\n",
              " 'blood',\n",
              " 'cause',\n",
              " 'consume',\n",
              " 'dance',\n",
              " 'doctors',\n",
              " 'drive',\n",
              " 'driving',\n",
              " 'experts',\n",
              " 'father',\n",
              " 'feel',\n",
              " 'good',\n",
              " 'health',\n",
              " 'increased',\n",
              " 'lifestyle',\n",
              " 'likes',\n",
              " 'lot',\n",
              " 'perform',\n",
              " 'practice',\n",
              " 'pressure',\n",
              " 'say',\n",
              " 'school',\n",
              " 'sister',\n",
              " 'spends',\n",
              " 'stress',\n",
              " 'sugar',\n",
              " 'suggest',\n",
              " 'time']"
            ]
          },
          "metadata": {
            "tags": []
          },
          "execution_count": 45
        }
      ]
    },
    {
      "metadata": {
        "id": "Vkqo76aA9-Gc",
        "colab_type": "code",
        "outputId": "40a7f665-bdc6-4b13-e2d7-95ecf6820017",
        "colab": {
          "base_uri": "https://localhost:8080/",
          "height": 54
        }
      },
      "cell_type": "code",
      "source": [
        "count.vocabulary_.items()"
      ],
      "execution_count": 0,
      "outputs": [
        {
          "output_type": "execute_result",
          "data": {
            "text/plain": [
              "dict_items([('sugar', 26), ('bad', 0), ('consume', 4), ('sister', 23), ('likes', 16), ('father', 10), ('spends', 24), ('lot', 17), ('time', 28), ('driving', 8), ('dance', 5), ('practice', 19), ('doctors', 6), ('suggest', 27), ('cause', 3), ('increased', 14), ('stress', 25), ('blood', 2), ('pressure', 20), ('feel', 11), ('perform', 18), ('school', 22), ('drive', 7), ('better', 1), ('health', 13), ('experts', 9), ('say', 21), ('good', 12), ('lifestyle', 15)])"
            ]
          },
          "metadata": {
            "tags": []
          },
          "execution_count": 61
        }
      ]
    },
    {
      "metadata": {
        "id": "766lDIzqvPxq",
        "colab_type": "code",
        "colab": {}
      },
      "cell_type": "code",
      "source": [
        "dtm = pd.DataFrame(cc.toarray(),columns=count.get_feature_names())"
      ],
      "execution_count": 0,
      "outputs": []
    },
    {
      "metadata": {
        "id": "ZNoxIOJwvTY4",
        "colab_type": "code",
        "outputId": "06e7cc2f-4c7f-4cf6-8882-da0591d975a4",
        "colab": {
          "base_uri": "https://localhost:8080/",
          "height": 233
        }
      },
      "cell_type": "code",
      "source": [
        "dtm ## docunent term matric"
      ],
      "execution_count": 0,
      "outputs": [
        {
          "output_type": "execute_result",
          "data": {
            "text/html": [
              "<div>\n",
              "<style scoped>\n",
              "    .dataframe tbody tr th:only-of-type {\n",
              "        vertical-align: middle;\n",
              "    }\n",
              "\n",
              "    .dataframe tbody tr th {\n",
              "        vertical-align: top;\n",
              "    }\n",
              "\n",
              "    .dataframe thead th {\n",
              "        text-align: right;\n",
              "    }\n",
              "</style>\n",
              "<table border=\"1\" class=\"dataframe\">\n",
              "  <thead>\n",
              "    <tr style=\"text-align: right;\">\n",
              "      <th></th>\n",
              "      <th>bad</th>\n",
              "      <th>better</th>\n",
              "      <th>blood</th>\n",
              "      <th>cause</th>\n",
              "      <th>consume</th>\n",
              "      <th>dance</th>\n",
              "      <th>doctors</th>\n",
              "      <th>drive</th>\n",
              "      <th>driving</th>\n",
              "      <th>experts</th>\n",
              "      <th>...</th>\n",
              "      <th>practice</th>\n",
              "      <th>pressure</th>\n",
              "      <th>say</th>\n",
              "      <th>school</th>\n",
              "      <th>sister</th>\n",
              "      <th>spends</th>\n",
              "      <th>stress</th>\n",
              "      <th>sugar</th>\n",
              "      <th>suggest</th>\n",
              "      <th>time</th>\n",
              "    </tr>\n",
              "  </thead>\n",
              "  <tbody>\n",
              "    <tr>\n",
              "      <th>0</th>\n",
              "      <td>1</td>\n",
              "      <td>0</td>\n",
              "      <td>0</td>\n",
              "      <td>0</td>\n",
              "      <td>1</td>\n",
              "      <td>0</td>\n",
              "      <td>0</td>\n",
              "      <td>0</td>\n",
              "      <td>0</td>\n",
              "      <td>0</td>\n",
              "      <td>...</td>\n",
              "      <td>0</td>\n",
              "      <td>0</td>\n",
              "      <td>0</td>\n",
              "      <td>0</td>\n",
              "      <td>1</td>\n",
              "      <td>0</td>\n",
              "      <td>0</td>\n",
              "      <td>2</td>\n",
              "      <td>0</td>\n",
              "      <td>0</td>\n",
              "    </tr>\n",
              "    <tr>\n",
              "      <th>1</th>\n",
              "      <td>0</td>\n",
              "      <td>0</td>\n",
              "      <td>0</td>\n",
              "      <td>0</td>\n",
              "      <td>0</td>\n",
              "      <td>1</td>\n",
              "      <td>0</td>\n",
              "      <td>0</td>\n",
              "      <td>1</td>\n",
              "      <td>0</td>\n",
              "      <td>...</td>\n",
              "      <td>1</td>\n",
              "      <td>0</td>\n",
              "      <td>0</td>\n",
              "      <td>0</td>\n",
              "      <td>1</td>\n",
              "      <td>1</td>\n",
              "      <td>0</td>\n",
              "      <td>0</td>\n",
              "      <td>0</td>\n",
              "      <td>1</td>\n",
              "    </tr>\n",
              "    <tr>\n",
              "      <th>2</th>\n",
              "      <td>0</td>\n",
              "      <td>0</td>\n",
              "      <td>1</td>\n",
              "      <td>1</td>\n",
              "      <td>0</td>\n",
              "      <td>0</td>\n",
              "      <td>1</td>\n",
              "      <td>0</td>\n",
              "      <td>1</td>\n",
              "      <td>0</td>\n",
              "      <td>...</td>\n",
              "      <td>0</td>\n",
              "      <td>1</td>\n",
              "      <td>0</td>\n",
              "      <td>0</td>\n",
              "      <td>0</td>\n",
              "      <td>0</td>\n",
              "      <td>1</td>\n",
              "      <td>0</td>\n",
              "      <td>1</td>\n",
              "      <td>0</td>\n",
              "    </tr>\n",
              "    <tr>\n",
              "      <th>3</th>\n",
              "      <td>0</td>\n",
              "      <td>1</td>\n",
              "      <td>0</td>\n",
              "      <td>0</td>\n",
              "      <td>0</td>\n",
              "      <td>0</td>\n",
              "      <td>0</td>\n",
              "      <td>1</td>\n",
              "      <td>0</td>\n",
              "      <td>0</td>\n",
              "      <td>...</td>\n",
              "      <td>0</td>\n",
              "      <td>1</td>\n",
              "      <td>0</td>\n",
              "      <td>1</td>\n",
              "      <td>1</td>\n",
              "      <td>0</td>\n",
              "      <td>0</td>\n",
              "      <td>0</td>\n",
              "      <td>0</td>\n",
              "      <td>0</td>\n",
              "    </tr>\n",
              "    <tr>\n",
              "      <th>4</th>\n",
              "      <td>0</td>\n",
              "      <td>0</td>\n",
              "      <td>0</td>\n",
              "      <td>0</td>\n",
              "      <td>0</td>\n",
              "      <td>0</td>\n",
              "      <td>0</td>\n",
              "      <td>0</td>\n",
              "      <td>0</td>\n",
              "      <td>1</td>\n",
              "      <td>...</td>\n",
              "      <td>0</td>\n",
              "      <td>0</td>\n",
              "      <td>1</td>\n",
              "      <td>0</td>\n",
              "      <td>0</td>\n",
              "      <td>0</td>\n",
              "      <td>0</td>\n",
              "      <td>1</td>\n",
              "      <td>0</td>\n",
              "      <td>0</td>\n",
              "    </tr>\n",
              "  </tbody>\n",
              "</table>\n",
              "<p>5 rows × 29 columns</p>\n",
              "</div>"
            ],
            "text/plain": [
              "   bad  better  blood  cause  consume  dance  doctors  drive  driving  \\\n",
              "0    1       0      0      0        1      0        0      0        0   \n",
              "1    0       0      0      0        0      1        0      0        1   \n",
              "2    0       0      1      1        0      0        1      0        1   \n",
              "3    0       1      0      0        0      0        0      1        0   \n",
              "4    0       0      0      0        0      0        0      0        0   \n",
              "\n",
              "   experts  ...   practice  pressure  say  school  sister  spends  stress  \\\n",
              "0        0  ...          0         0    0       0       1       0       0   \n",
              "1        0  ...          1         0    0       0       1       1       0   \n",
              "2        0  ...          0         1    0       0       0       0       1   \n",
              "3        0  ...          0         1    0       1       1       0       0   \n",
              "4        1  ...          0         0    1       0       0       0       0   \n",
              "\n",
              "   sugar  suggest  time  \n",
              "0      2        0     0  \n",
              "1      0        0     1  \n",
              "2      0        1     0  \n",
              "3      0        0     0  \n",
              "4      1        0     0  \n",
              "\n",
              "[5 rows x 29 columns]"
            ]
          },
          "metadata": {
            "tags": []
          },
          "execution_count": 50
        }
      ]
    },
    {
      "metadata": {
        "id": "qNcozMyO-Vsv",
        "colab_type": "code",
        "colab": {}
      },
      "cell_type": "code",
      "source": [
        "tdm = dtm.transpose() ## mgensim for LDA needs the TDM or the transpose of DTM"
      ],
      "execution_count": 0,
      "outputs": []
    },
    {
      "metadata": {
        "id": "YJPdSN0uDNmg",
        "colab_type": "code",
        "outputId": "be874d73-a036-4558-c09b-f05de3900cdd",
        "colab": {
          "base_uri": "https://localhost:8080/",
          "height": 948
        }
      },
      "cell_type": "code",
      "source": [
        "tdm"
      ],
      "execution_count": 0,
      "outputs": [
        {
          "output_type": "execute_result",
          "data": {
            "text/html": [
              "<div>\n",
              "<style scoped>\n",
              "    .dataframe tbody tr th:only-of-type {\n",
              "        vertical-align: middle;\n",
              "    }\n",
              "\n",
              "    .dataframe tbody tr th {\n",
              "        vertical-align: top;\n",
              "    }\n",
              "\n",
              "    .dataframe thead th {\n",
              "        text-align: right;\n",
              "    }\n",
              "</style>\n",
              "<table border=\"1\" class=\"dataframe\">\n",
              "  <thead>\n",
              "    <tr style=\"text-align: right;\">\n",
              "      <th></th>\n",
              "      <th>0</th>\n",
              "      <th>1</th>\n",
              "      <th>2</th>\n",
              "      <th>3</th>\n",
              "      <th>4</th>\n",
              "    </tr>\n",
              "  </thead>\n",
              "  <tbody>\n",
              "    <tr>\n",
              "      <th>bad</th>\n",
              "      <td>1</td>\n",
              "      <td>0</td>\n",
              "      <td>0</td>\n",
              "      <td>0</td>\n",
              "      <td>0</td>\n",
              "    </tr>\n",
              "    <tr>\n",
              "      <th>better</th>\n",
              "      <td>0</td>\n",
              "      <td>0</td>\n",
              "      <td>0</td>\n",
              "      <td>1</td>\n",
              "      <td>0</td>\n",
              "    </tr>\n",
              "    <tr>\n",
              "      <th>blood</th>\n",
              "      <td>0</td>\n",
              "      <td>0</td>\n",
              "      <td>1</td>\n",
              "      <td>0</td>\n",
              "      <td>0</td>\n",
              "    </tr>\n",
              "    <tr>\n",
              "      <th>cause</th>\n",
              "      <td>0</td>\n",
              "      <td>0</td>\n",
              "      <td>1</td>\n",
              "      <td>0</td>\n",
              "      <td>0</td>\n",
              "    </tr>\n",
              "    <tr>\n",
              "      <th>consume</th>\n",
              "      <td>1</td>\n",
              "      <td>0</td>\n",
              "      <td>0</td>\n",
              "      <td>0</td>\n",
              "      <td>0</td>\n",
              "    </tr>\n",
              "    <tr>\n",
              "      <th>dance</th>\n",
              "      <td>0</td>\n",
              "      <td>1</td>\n",
              "      <td>0</td>\n",
              "      <td>0</td>\n",
              "      <td>0</td>\n",
              "    </tr>\n",
              "    <tr>\n",
              "      <th>doctors</th>\n",
              "      <td>0</td>\n",
              "      <td>0</td>\n",
              "      <td>1</td>\n",
              "      <td>0</td>\n",
              "      <td>0</td>\n",
              "    </tr>\n",
              "    <tr>\n",
              "      <th>drive</th>\n",
              "      <td>0</td>\n",
              "      <td>0</td>\n",
              "      <td>0</td>\n",
              "      <td>1</td>\n",
              "      <td>0</td>\n",
              "    </tr>\n",
              "    <tr>\n",
              "      <th>driving</th>\n",
              "      <td>0</td>\n",
              "      <td>1</td>\n",
              "      <td>1</td>\n",
              "      <td>0</td>\n",
              "      <td>0</td>\n",
              "    </tr>\n",
              "    <tr>\n",
              "      <th>experts</th>\n",
              "      <td>0</td>\n",
              "      <td>0</td>\n",
              "      <td>0</td>\n",
              "      <td>0</td>\n",
              "      <td>1</td>\n",
              "    </tr>\n",
              "    <tr>\n",
              "      <th>father</th>\n",
              "      <td>1</td>\n",
              "      <td>1</td>\n",
              "      <td>0</td>\n",
              "      <td>1</td>\n",
              "      <td>0</td>\n",
              "    </tr>\n",
              "    <tr>\n",
              "      <th>feel</th>\n",
              "      <td>0</td>\n",
              "      <td>0</td>\n",
              "      <td>0</td>\n",
              "      <td>1</td>\n",
              "      <td>0</td>\n",
              "    </tr>\n",
              "    <tr>\n",
              "      <th>good</th>\n",
              "      <td>0</td>\n",
              "      <td>0</td>\n",
              "      <td>0</td>\n",
              "      <td>0</td>\n",
              "      <td>1</td>\n",
              "    </tr>\n",
              "    <tr>\n",
              "      <th>health</th>\n",
              "      <td>0</td>\n",
              "      <td>0</td>\n",
              "      <td>0</td>\n",
              "      <td>0</td>\n",
              "      <td>1</td>\n",
              "    </tr>\n",
              "    <tr>\n",
              "      <th>increased</th>\n",
              "      <td>0</td>\n",
              "      <td>0</td>\n",
              "      <td>1</td>\n",
              "      <td>0</td>\n",
              "      <td>0</td>\n",
              "    </tr>\n",
              "    <tr>\n",
              "      <th>lifestyle</th>\n",
              "      <td>0</td>\n",
              "      <td>0</td>\n",
              "      <td>0</td>\n",
              "      <td>0</td>\n",
              "      <td>1</td>\n",
              "    </tr>\n",
              "    <tr>\n",
              "      <th>likes</th>\n",
              "      <td>1</td>\n",
              "      <td>0</td>\n",
              "      <td>0</td>\n",
              "      <td>0</td>\n",
              "      <td>0</td>\n",
              "    </tr>\n",
              "    <tr>\n",
              "      <th>lot</th>\n",
              "      <td>0</td>\n",
              "      <td>1</td>\n",
              "      <td>0</td>\n",
              "      <td>0</td>\n",
              "      <td>0</td>\n",
              "    </tr>\n",
              "    <tr>\n",
              "      <th>perform</th>\n",
              "      <td>0</td>\n",
              "      <td>0</td>\n",
              "      <td>0</td>\n",
              "      <td>1</td>\n",
              "      <td>0</td>\n",
              "    </tr>\n",
              "    <tr>\n",
              "      <th>practice</th>\n",
              "      <td>0</td>\n",
              "      <td>1</td>\n",
              "      <td>0</td>\n",
              "      <td>0</td>\n",
              "      <td>0</td>\n",
              "    </tr>\n",
              "    <tr>\n",
              "      <th>pressure</th>\n",
              "      <td>0</td>\n",
              "      <td>0</td>\n",
              "      <td>1</td>\n",
              "      <td>1</td>\n",
              "      <td>0</td>\n",
              "    </tr>\n",
              "    <tr>\n",
              "      <th>say</th>\n",
              "      <td>0</td>\n",
              "      <td>0</td>\n",
              "      <td>0</td>\n",
              "      <td>0</td>\n",
              "      <td>1</td>\n",
              "    </tr>\n",
              "    <tr>\n",
              "      <th>school</th>\n",
              "      <td>0</td>\n",
              "      <td>0</td>\n",
              "      <td>0</td>\n",
              "      <td>1</td>\n",
              "      <td>0</td>\n",
              "    </tr>\n",
              "    <tr>\n",
              "      <th>sister</th>\n",
              "      <td>1</td>\n",
              "      <td>1</td>\n",
              "      <td>0</td>\n",
              "      <td>1</td>\n",
              "      <td>0</td>\n",
              "    </tr>\n",
              "    <tr>\n",
              "      <th>spends</th>\n",
              "      <td>0</td>\n",
              "      <td>1</td>\n",
              "      <td>0</td>\n",
              "      <td>0</td>\n",
              "      <td>0</td>\n",
              "    </tr>\n",
              "    <tr>\n",
              "      <th>stress</th>\n",
              "      <td>0</td>\n",
              "      <td>0</td>\n",
              "      <td>1</td>\n",
              "      <td>0</td>\n",
              "      <td>0</td>\n",
              "    </tr>\n",
              "    <tr>\n",
              "      <th>sugar</th>\n",
              "      <td>2</td>\n",
              "      <td>0</td>\n",
              "      <td>0</td>\n",
              "      <td>0</td>\n",
              "      <td>1</td>\n",
              "    </tr>\n",
              "    <tr>\n",
              "      <th>suggest</th>\n",
              "      <td>0</td>\n",
              "      <td>0</td>\n",
              "      <td>1</td>\n",
              "      <td>0</td>\n",
              "      <td>0</td>\n",
              "    </tr>\n",
              "    <tr>\n",
              "      <th>time</th>\n",
              "      <td>0</td>\n",
              "      <td>1</td>\n",
              "      <td>0</td>\n",
              "      <td>0</td>\n",
              "      <td>0</td>\n",
              "    </tr>\n",
              "  </tbody>\n",
              "</table>\n",
              "</div>"
            ],
            "text/plain": [
              "           0  1  2  3  4\n",
              "bad        1  0  0  0  0\n",
              "better     0  0  0  1  0\n",
              "blood      0  0  1  0  0\n",
              "cause      0  0  1  0  0\n",
              "consume    1  0  0  0  0\n",
              "dance      0  1  0  0  0\n",
              "doctors    0  0  1  0  0\n",
              "drive      0  0  0  1  0\n",
              "driving    0  1  1  0  0\n",
              "experts    0  0  0  0  1\n",
              "father     1  1  0  1  0\n",
              "feel       0  0  0  1  0\n",
              "good       0  0  0  0  1\n",
              "health     0  0  0  0  1\n",
              "increased  0  0  1  0  0\n",
              "lifestyle  0  0  0  0  1\n",
              "likes      1  0  0  0  0\n",
              "lot        0  1  0  0  0\n",
              "perform    0  0  0  1  0\n",
              "practice   0  1  0  0  0\n",
              "pressure   0  0  1  1  0\n",
              "say        0  0  0  0  1\n",
              "school     0  0  0  1  0\n",
              "sister     1  1  0  1  0\n",
              "spends     0  1  0  0  0\n",
              "stress     0  0  1  0  0\n",
              "sugar      2  0  0  0  1\n",
              "suggest    0  0  1  0  0\n",
              "time       0  1  0  0  0"
            ]
          },
          "metadata": {
            "tags": []
          },
          "execution_count": 52
        }
      ]
    },
    {
      "metadata": {
        "id": "BCrbXO5c_bQK",
        "colab_type": "code",
        "colab": {}
      },
      "cell_type": "code",
      "source": [
        "sparse_corpus = scipy.sparse.csr_matrix(tdm)\n",
        "corpus = gensim.matutils.Sparse2Corpus(sparse_corpus)"
      ],
      "execution_count": 0,
      "outputs": []
    },
    {
      "metadata": {
        "id": "OcbHxc6qvU1C",
        "colab_type": "code",
        "colab": {}
      },
      "cell_type": "code",
      "source": [
        "lda = gensim.models.ldamodel.LdaModel"
      ],
      "execution_count": 0,
      "outputs": []
    },
    {
      "metadata": {
        "id": "QbRvR1_Y0r7m",
        "colab_type": "code",
        "colab": {}
      },
      "cell_type": "code",
      "source": [
        "id2word = dict((v,k) for v, k in count.vocabulary_.items())"
      ],
      "execution_count": 0,
      "outputs": []
    },
    {
      "metadata": {
        "id": "Px9hfj1-wb5g",
        "colab_type": "code",
        "outputId": "b12a3a75-949d-48a8-9af8-5a15902df6ff",
        "colab": {
          "base_uri": "https://localhost:8080/",
          "height": 302
        }
      },
      "cell_type": "code",
      "source": [
        "ldamodel = lda(dtm,id2word=id2word,num_topics=3,passes=10)"
      ],
      "execution_count": 0,
      "outputs": [
        {
          "output_type": "error",
          "ename": "TypeError",
          "evalue": "ignored",
          "traceback": [
            "\u001b[0;31m---------------------------------------------------------------------------\u001b[0m",
            "\u001b[0;31mTypeError\u001b[0m                                 Traceback (most recent call last)",
            "\u001b[0;32m<ipython-input-60-72f4b679e0ad>\u001b[0m in \u001b[0;36m<module>\u001b[0;34m()\u001b[0m\n\u001b[0;32m----> 1\u001b[0;31m \u001b[0mldamodel\u001b[0m \u001b[0;34m=\u001b[0m \u001b[0mlda\u001b[0m\u001b[0;34m(\u001b[0m\u001b[0mdtm\u001b[0m\u001b[0;34m,\u001b[0m\u001b[0mid2word\u001b[0m\u001b[0;34m=\u001b[0m\u001b[0mid2word\u001b[0m\u001b[0;34m,\u001b[0m\u001b[0mnum_topics\u001b[0m\u001b[0;34m=\u001b[0m\u001b[0;36m3\u001b[0m\u001b[0;34m,\u001b[0m\u001b[0mpasses\u001b[0m\u001b[0;34m=\u001b[0m\u001b[0;36m10\u001b[0m\u001b[0;34m)\u001b[0m\u001b[0;34m\u001b[0m\u001b[0;34m\u001b[0m\u001b[0m\n\u001b[0m",
            "\u001b[0;32m/usr/local/lib/python3.6/dist-packages/gensim/models/ldamodel.py\u001b[0m in \u001b[0;36m__init__\u001b[0;34m(self, corpus, num_topics, id2word, distributed, chunksize, passes, update_every, alpha, eta, decay, offset, eval_every, iterations, gamma_threshold, minimum_probability, random_state, ns_conf, minimum_phi_value, per_word_topics, callbacks, dtype)\u001b[0m\n\u001b[1;32m    430\u001b[0m             \u001b[0mself\u001b[0m\u001b[0;34m.\u001b[0m\u001b[0mnum_terms\u001b[0m \u001b[0;34m=\u001b[0m \u001b[0mlen\u001b[0m\u001b[0;34m(\u001b[0m\u001b[0mself\u001b[0m\u001b[0;34m.\u001b[0m\u001b[0mid2word\u001b[0m\u001b[0;34m)\u001b[0m\u001b[0;34m\u001b[0m\u001b[0;34m\u001b[0m\u001b[0m\n\u001b[1;32m    431\u001b[0m         \u001b[0;32melif\u001b[0m \u001b[0mlen\u001b[0m\u001b[0;34m(\u001b[0m\u001b[0mself\u001b[0m\u001b[0;34m.\u001b[0m\u001b[0mid2word\u001b[0m\u001b[0;34m)\u001b[0m \u001b[0;34m>\u001b[0m \u001b[0;36m0\u001b[0m\u001b[0;34m:\u001b[0m\u001b[0;34m\u001b[0m\u001b[0;34m\u001b[0m\u001b[0m\n\u001b[0;32m--> 432\u001b[0;31m             \u001b[0mself\u001b[0m\u001b[0;34m.\u001b[0m\u001b[0mnum_terms\u001b[0m \u001b[0;34m=\u001b[0m \u001b[0;36m1\u001b[0m \u001b[0;34m+\u001b[0m \u001b[0mmax\u001b[0m\u001b[0;34m(\u001b[0m\u001b[0mself\u001b[0m\u001b[0;34m.\u001b[0m\u001b[0mid2word\u001b[0m\u001b[0;34m.\u001b[0m\u001b[0mkeys\u001b[0m\u001b[0;34m(\u001b[0m\u001b[0;34m)\u001b[0m\u001b[0;34m)\u001b[0m\u001b[0;34m\u001b[0m\u001b[0;34m\u001b[0m\u001b[0m\n\u001b[0m\u001b[1;32m    433\u001b[0m         \u001b[0;32melse\u001b[0m\u001b[0;34m:\u001b[0m\u001b[0;34m\u001b[0m\u001b[0;34m\u001b[0m\u001b[0m\n\u001b[1;32m    434\u001b[0m             \u001b[0mself\u001b[0m\u001b[0;34m.\u001b[0m\u001b[0mnum_terms\u001b[0m \u001b[0;34m=\u001b[0m \u001b[0;36m0\u001b[0m\u001b[0;34m\u001b[0m\u001b[0;34m\u001b[0m\u001b[0m\n",
            "\u001b[0;31mTypeError\u001b[0m: unsupported operand type(s) for +: 'int' and 'str'"
          ]
        }
      ]
    },
    {
      "metadata": {
        "id": "oaM4jzka_47y",
        "colab_type": "code",
        "colab": {}
      },
      "cell_type": "code",
      "source": [
        ""
      ],
      "execution_count": 0,
      "outputs": []
    },
    {
      "metadata": {
        "id": "FvRsv75o_5A7",
        "colab_type": "code",
        "colab": {}
      },
      "cell_type": "code",
      "source": [
        "doc1 = \"Sugar is bad to consume. My sister likes to have sugar, but not my father.\"\n",
        "doc2 = \"My father spends a lot of time driving my sister around to dance practice.\"\n",
        "doc3 = \"Doctors suggest that driving may cause increased stress and blood pressure.\"\n",
        "doc4 = \"Sometimes I feel pressure to perform well at school, but my father never seems to drive my sister to do better.\"\n",
        "doc5 = \"Health experts say that Sugar is not good for your lifestyle.\"\n",
        "\n",
        "# compile documents\n",
        "doc_complete = [doc1, doc2, doc3, doc4, doc5]"
      ],
      "execution_count": 0,
      "outputs": []
    },
    {
      "metadata": {
        "id": "ekgICHJB_6Li",
        "colab_type": "code",
        "outputId": "31904175-32df-4fd4-d9ff-663a03b094f7",
        "colab": {
          "base_uri": "https://localhost:8080/",
          "height": 102
        }
      },
      "cell_type": "code",
      "source": [
        "doc_complete"
      ],
      "execution_count": 0,
      "outputs": [
        {
          "output_type": "execute_result",
          "data": {
            "text/plain": [
              "['Sugar is bad to consume. My sister likes to have sugar, but not my father.',\n",
              " 'My father spends a lot of time driving my sister around to dance practice.',\n",
              " 'Doctors suggest that driving may cause increased stress and blood pressure.',\n",
              " 'Sometimes I feel pressure to perform well at school, but my father never seems to drive my sister to do better.',\n",
              " 'Health experts say that Sugar is not good for your lifestyle.']"
            ]
          },
          "metadata": {
            "tags": []
          },
          "execution_count": 3
        }
      ]
    },
    {
      "metadata": {
        "id": "aB2pC6J__--e",
        "colab_type": "code",
        "colab": {}
      },
      "cell_type": "code",
      "source": [
        "data = pd.DataFrame(doc_complete,columns=['trans'])"
      ],
      "execution_count": 0,
      "outputs": []
    },
    {
      "metadata": {
        "id": "DGlTbmCAbWI6",
        "colab_type": "code",
        "colab": {}
      },
      "cell_type": "code",
      "source": [
        ""
      ],
      "execution_count": 0,
      "outputs": []
    },
    {
      "metadata": {
        "id": "YQqQrJykbWPG",
        "colab_type": "code",
        "colab": {}
      },
      "cell_type": "code",
      "source": [
        "##### topic modeling for 20NS group #########"
      ],
      "execution_count": 0,
      "outputs": []
    },
    {
      "metadata": {
        "id": "VQon5vLCbWMY",
        "colab_type": "code",
        "outputId": "d1d21dff-516a-4a17-9fcf-983be01e0800",
        "colab": {
          "base_uri": "https://localhost:8080/",
          "height": 306
        }
      },
      "cell_type": "code",
      "source": [
        "df = pd.read_json('https://raw.githubusercontent.com/selva86/datasets/master/newsgroups.json')\n",
        "print(df.target_names.unique())\n",
        "df.head()"
      ],
      "execution_count": 0,
      "outputs": [
        {
          "output_type": "stream",
          "text": [
            "['rec.autos' 'comp.sys.mac.hardware' 'rec.motorcycles' 'misc.forsale'\n",
            " 'comp.os.ms-windows.misc' 'alt.atheism' 'comp.graphics'\n",
            " 'rec.sport.baseball' 'rec.sport.hockey' 'sci.electronics' 'sci.space'\n",
            " 'talk.politics.misc' 'sci.med' 'talk.politics.mideast'\n",
            " 'soc.religion.christian' 'comp.windows.x' 'comp.sys.ibm.pc.hardware'\n",
            " 'talk.politics.guns' 'talk.religion.misc' 'sci.crypt']\n"
          ],
          "name": "stdout"
        },
        {
          "output_type": "execute_result",
          "data": {
            "text/html": [
              "<div>\n",
              "<style scoped>\n",
              "    .dataframe tbody tr th:only-of-type {\n",
              "        vertical-align: middle;\n",
              "    }\n",
              "\n",
              "    .dataframe tbody tr th {\n",
              "        vertical-align: top;\n",
              "    }\n",
              "\n",
              "    .dataframe thead th {\n",
              "        text-align: right;\n",
              "    }\n",
              "</style>\n",
              "<table border=\"1\" class=\"dataframe\">\n",
              "  <thead>\n",
              "    <tr style=\"text-align: right;\">\n",
              "      <th></th>\n",
              "      <th>content</th>\n",
              "      <th>target</th>\n",
              "      <th>target_names</th>\n",
              "    </tr>\n",
              "  </thead>\n",
              "  <tbody>\n",
              "    <tr>\n",
              "      <th>0</th>\n",
              "      <td>From: lerxst@wam.umd.edu (where's my thing)\\nS...</td>\n",
              "      <td>7</td>\n",
              "      <td>rec.autos</td>\n",
              "    </tr>\n",
              "    <tr>\n",
              "      <th>1</th>\n",
              "      <td>From: guykuo@carson.u.washington.edu (Guy Kuo)...</td>\n",
              "      <td>4</td>\n",
              "      <td>comp.sys.mac.hardware</td>\n",
              "    </tr>\n",
              "    <tr>\n",
              "      <th>10</th>\n",
              "      <td>From: irwin@cmptrc.lonestar.org (Irwin Arnstei...</td>\n",
              "      <td>8</td>\n",
              "      <td>rec.motorcycles</td>\n",
              "    </tr>\n",
              "    <tr>\n",
              "      <th>100</th>\n",
              "      <td>From: tchen@magnus.acs.ohio-state.edu (Tsung-K...</td>\n",
              "      <td>6</td>\n",
              "      <td>misc.forsale</td>\n",
              "    </tr>\n",
              "    <tr>\n",
              "      <th>1000</th>\n",
              "      <td>From: dabl2@nlm.nih.gov (Don A.B. Lindbergh)\\n...</td>\n",
              "      <td>2</td>\n",
              "      <td>comp.os.ms-windows.misc</td>\n",
              "    </tr>\n",
              "  </tbody>\n",
              "</table>\n",
              "</div>"
            ],
            "text/plain": [
              "                                                content  target  \\\n",
              "0     From: lerxst@wam.umd.edu (where's my thing)\\nS...       7   \n",
              "1     From: guykuo@carson.u.washington.edu (Guy Kuo)...       4   \n",
              "10    From: irwin@cmptrc.lonestar.org (Irwin Arnstei...       8   \n",
              "100   From: tchen@magnus.acs.ohio-state.edu (Tsung-K...       6   \n",
              "1000  From: dabl2@nlm.nih.gov (Don A.B. Lindbergh)\\n...       2   \n",
              "\n",
              "                 target_names  \n",
              "0                   rec.autos  \n",
              "1       comp.sys.mac.hardware  \n",
              "10            rec.motorcycles  \n",
              "100              misc.forsale  \n",
              "1000  comp.os.ms-windows.misc  "
            ]
          },
          "metadata": {
            "tags": []
          },
          "execution_count": 7
        }
      ]
    },
    {
      "metadata": {
        "id": "9al997K6bdna",
        "colab_type": "code",
        "outputId": "22c3a5c6-1bbf-4f61-ae59-1f93ea725eba",
        "colab": {
          "base_uri": "https://localhost:8080/",
          "height": 119
        }
      },
      "cell_type": "code",
      "source": [
        "text = df['content']\n",
        "text.head()"
      ],
      "execution_count": 0,
      "outputs": [
        {
          "output_type": "execute_result",
          "data": {
            "text/plain": [
              "0       From: lerxst@wam.umd.edu (where's my thing)\\nS...\n",
              "1       From: guykuo@carson.u.washington.edu (Guy Kuo)...\n",
              "10      From: irwin@cmptrc.lonestar.org (Irwin Arnstei...\n",
              "100     From: tchen@magnus.acs.ohio-state.edu (Tsung-K...\n",
              "1000    From: dabl2@nlm.nih.gov (Don A.B. Lindbergh)\\n...\n",
              "Name: content, dtype: object"
            ]
          },
          "metadata": {
            "tags": []
          },
          "execution_count": 8
        }
      ]
    },
    {
      "metadata": {
        "id": "YOcnR_23eT95",
        "colab_type": "code",
        "colab": {}
      },
      "cell_type": "code",
      "source": [
        "punc = set(string.punctuation)"
      ],
      "execution_count": 0,
      "outputs": []
    },
    {
      "metadata": {
        "id": "JDKzHSKdbmml",
        "colab_type": "code",
        "colab": {}
      },
      "cell_type": "code",
      "source": [
        "def clean_text(text):\n",
        "  text_tokenize = word_tokenize(text)\n",
        "  text_no_puc = [word for word in text_tokenize if not word.lower() in punc]\n",
        "  text_no_num = [word for word in text_no_puc if word.isalpha()]\n",
        "  text_pos = pos_tag(text_no_num)\n",
        "  text_noun = [word for word,tag in text_pos if(tag == 'NN' or tag == 'NNP' or tag == 'NNS' or tag == 'NNPS' or tag=='JJ')]   ## https://medium.com/@gianpaul.r/tokenization-and-parts-of-speech-pos-tagging-in-pythons-nltk-library-2d30f70af13b\n",
        "  text_noun = \" \".join(text_noun)\n",
        "  return text_noun\n",
        "  "
      ],
      "execution_count": 0,
      "outputs": []
    },
    {
      "metadata": {
        "id": "9KyaiRXrE0Y8",
        "colab_type": "code",
        "colab": {}
      },
      "cell_type": "code",
      "source": [
        "noun_text = text.apply(clean_text)"
      ],
      "execution_count": 0,
      "outputs": []
    },
    {
      "metadata": {
        "id": "J1otDpfIY0Do",
        "colab_type": "code",
        "outputId": "8537a2e6-fa5e-4dd9-cb9b-d628289d8f95",
        "colab": {
          "base_uri": "https://localhost:8080/",
          "height": 119
        }
      },
      "cell_type": "code",
      "source": [
        "noun_text.head()"
      ],
      "execution_count": 0,
      "outputs": [
        {
          "output_type": "execute_result",
          "data": {
            "text/plain": [
              "0       lerxst thing Subject WHAT car Organization Uni...\n",
              "1       guykuo Guy Kuo Subject SI Clock Poll Final Cal...\n",
              "10      irwin Irwin Arnstein Subject Re Recommendation...\n",
              "100     tchen Chen Subject Software forsale lots Ohio ...\n",
              "1000    Don Lindbergh Subject Diamond Win Mouse cursor...\n",
              "Name: content, dtype: object"
            ]
          },
          "metadata": {
            "tags": []
          },
          "execution_count": 12
        }
      ]
    },
    {
      "metadata": {
        "id": "wN6W7mErStL9",
        "colab_type": "code",
        "colab": {}
      },
      "cell_type": "code",
      "source": [
        "'''\n",
        "filename = '20ns_clean_withstop.pkl' ## crating a file\n",
        "pickle.dump(noun_text,open(filename,'wb'))## writnig the model to the file\n",
        "run only when you want to pickle this file\n",
        "''"
      ],
      "execution_count": 0,
      "outputs": []
    },
    {
      "metadata": {
        "id": "80irBmDATeKD",
        "colab_type": "code",
        "outputId": "a261d3c7-d38a-4d41-d522-bd2ed996b457",
        "colab": {
          "base_uri": "https://localhost:8080/",
          "height": 34
        }
      },
      "cell_type": "code",
      "source": [
        "os.getcwd()"
      ],
      "execution_count": 0,
      "outputs": [
        {
          "output_type": "execute_result",
          "data": {
            "text/plain": [
              "'/content'"
            ]
          },
          "metadata": {
            "tags": []
          },
          "execution_count": 28
        }
      ]
    },
    {
      "metadata": {
        "id": "epQ5LPHGTnVZ",
        "colab_type": "code",
        "outputId": "7a1594a9-f87e-4c89-a19d-1468b0772beb",
        "colab": {
          "base_uri": "https://localhost:8080/",
          "height": 102
        }
      },
      "cell_type": "code",
      "source": [
        "os.listdir()"
      ],
      "execution_count": 0,
      "outputs": [
        {
          "output_type": "execute_result",
          "data": {
            "text/plain": [
              "['sample_data',\n",
              " '.config',\n",
              " '20nsLDAmodel.pkl',\n",
              " 'ran_for_iris.sav',\n",
              " '20ns_clean_withstop.pkl']"
            ]
          },
          "metadata": {
            "tags": []
          },
          "execution_count": 91
        }
      ]
    },
    {
      "metadata": {
        "id": "1TCPb2V6Urkf",
        "colab_type": "code",
        "colab": {}
      },
      "cell_type": "code",
      "source": [
        "##from google.colab import files\n",
        "##files.download('20ns_clean_withstop.pkl')\n",
        "## run only when you want to down it to local drive"
      ],
      "execution_count": 0,
      "outputs": []
    },
    {
      "metadata": {
        "id": "MbQoLdk0bjKl",
        "colab_type": "code",
        "colab": {}
      },
      "cell_type": "code",
      "source": [
        "cnt_vect = CountVectorizer(stop_words='english')\n",
        "text_vect = cnt_vect.fit_transform(noun_text)"
      ],
      "execution_count": 0,
      "outputs": []
    },
    {
      "metadata": {
        "id": "6sgRl3NvndX6",
        "colab_type": "code",
        "outputId": "73abd83f-64b3-43e1-a55d-b4ad1ccf3856",
        "colab": {
          "base_uri": "https://localhost:8080/",
          "height": 357
        }
      },
      "cell_type": "code",
      "source": [
        "cnt_vect.get_feature_names()[10000:10020]"
      ],
      "execution_count": 0,
      "outputs": [
        {
          "output_type": "execute_result",
          "data": {
            "text/plain": [
              "['colitis',\n",
              " 'coll',\n",
              " 'collaborating',\n",
              " 'collaboration',\n",
              " 'collaborations',\n",
              " 'collaborative',\n",
              " 'collaborator',\n",
              " 'collaborators',\n",
              " 'collacchi',\n",
              " 'collapse',\n",
              " 'collapsed',\n",
              " 'collar',\n",
              " 'collarbone',\n",
              " 'collateral',\n",
              " 'colleague',\n",
              " 'colleagues',\n",
              " 'collect',\n",
              " 'collectable',\n",
              " 'collected',\n",
              " 'collectible']"
            ]
          },
          "metadata": {
            "tags": []
          },
          "execution_count": 14
        }
      ]
    },
    {
      "metadata": {
        "id": "BHdaMJtznwn3",
        "colab_type": "code",
        "colab": {}
      },
      "cell_type": "code",
      "source": [
        "DTM = pd.DataFrame(text_vect.toarray(),columns=cnt_vect.get_feature_names())"
      ],
      "execution_count": 0,
      "outputs": []
    },
    {
      "metadata": {
        "id": "RUL6h4qfoQGf",
        "colab_type": "code",
        "outputId": "4072a202-58c7-4a63-aea0-8964d2c18e6d",
        "colab": {
          "base_uri": "https://localhost:8080/",
          "height": 233
        }
      },
      "cell_type": "code",
      "source": [
        "DTM.head()"
      ],
      "execution_count": 0,
      "outputs": [
        {
          "output_type": "execute_result",
          "data": {
            "text/html": [
              "<div>\n",
              "<style scoped>\n",
              "    .dataframe tbody tr th:only-of-type {\n",
              "        vertical-align: middle;\n",
              "    }\n",
              "\n",
              "    .dataframe tbody tr th {\n",
              "        vertical-align: top;\n",
              "    }\n",
              "\n",
              "    .dataframe thead th {\n",
              "        text-align: right;\n",
              "    }\n",
              "</style>\n",
              "<table border=\"1\" class=\"dataframe\">\n",
              "  <thead>\n",
              "    <tr style=\"text-align: right;\">\n",
              "      <th></th>\n",
              "      <th>aa</th>\n",
              "      <th>aaa</th>\n",
              "      <th>aaaa</th>\n",
              "      <th>aaaaaaaaaaaa</th>\n",
              "      <th>aaaaaaaaaaaaaaaaaaaaaaaaaaaaaaauuuuuuuuuuuuuuuuuuuuuuuuuuuuuuuugggggggggggggggg</th>\n",
              "      <th>aaaaagggghhhh</th>\n",
              "      <th>aaah</th>\n",
              "      <th>aaahh</th>\n",
              "      <th>aaahhhh</th>\n",
              "      <th>aaai</th>\n",
              "      <th>...</th>\n",
              "      <th>zzzz</th>\n",
              "      <th>zzzzzz</th>\n",
              "      <th>ªl</th>\n",
              "      <th>çait</th>\n",
              "      <th>çon</th>\n",
              "      <th>ère</th>\n",
              "      <th>égligent</th>\n",
              "      <th>élangea</th>\n",
              "      <th>érale</th>\n",
              "      <th>íålittin</th>\n",
              "    </tr>\n",
              "  </thead>\n",
              "  <tbody>\n",
              "    <tr>\n",
              "      <th>0</th>\n",
              "      <td>0</td>\n",
              "      <td>0</td>\n",
              "      <td>0</td>\n",
              "      <td>0</td>\n",
              "      <td>0</td>\n",
              "      <td>0</td>\n",
              "      <td>0</td>\n",
              "      <td>0</td>\n",
              "      <td>0</td>\n",
              "      <td>0</td>\n",
              "      <td>...</td>\n",
              "      <td>0</td>\n",
              "      <td>0</td>\n",
              "      <td>0</td>\n",
              "      <td>0</td>\n",
              "      <td>0</td>\n",
              "      <td>0</td>\n",
              "      <td>0</td>\n",
              "      <td>0</td>\n",
              "      <td>0</td>\n",
              "      <td>0</td>\n",
              "    </tr>\n",
              "    <tr>\n",
              "      <th>1</th>\n",
              "      <td>0</td>\n",
              "      <td>0</td>\n",
              "      <td>0</td>\n",
              "      <td>0</td>\n",
              "      <td>0</td>\n",
              "      <td>0</td>\n",
              "      <td>0</td>\n",
              "      <td>0</td>\n",
              "      <td>0</td>\n",
              "      <td>0</td>\n",
              "      <td>...</td>\n",
              "      <td>0</td>\n",
              "      <td>0</td>\n",
              "      <td>0</td>\n",
              "      <td>0</td>\n",
              "      <td>0</td>\n",
              "      <td>0</td>\n",
              "      <td>0</td>\n",
              "      <td>0</td>\n",
              "      <td>0</td>\n",
              "      <td>0</td>\n",
              "    </tr>\n",
              "    <tr>\n",
              "      <th>2</th>\n",
              "      <td>0</td>\n",
              "      <td>0</td>\n",
              "      <td>0</td>\n",
              "      <td>0</td>\n",
              "      <td>0</td>\n",
              "      <td>0</td>\n",
              "      <td>0</td>\n",
              "      <td>0</td>\n",
              "      <td>0</td>\n",
              "      <td>0</td>\n",
              "      <td>...</td>\n",
              "      <td>0</td>\n",
              "      <td>0</td>\n",
              "      <td>0</td>\n",
              "      <td>0</td>\n",
              "      <td>0</td>\n",
              "      <td>0</td>\n",
              "      <td>0</td>\n",
              "      <td>0</td>\n",
              "      <td>0</td>\n",
              "      <td>0</td>\n",
              "    </tr>\n",
              "    <tr>\n",
              "      <th>3</th>\n",
              "      <td>0</td>\n",
              "      <td>0</td>\n",
              "      <td>0</td>\n",
              "      <td>0</td>\n",
              "      <td>0</td>\n",
              "      <td>0</td>\n",
              "      <td>0</td>\n",
              "      <td>0</td>\n",
              "      <td>0</td>\n",
              "      <td>0</td>\n",
              "      <td>...</td>\n",
              "      <td>0</td>\n",
              "      <td>0</td>\n",
              "      <td>0</td>\n",
              "      <td>0</td>\n",
              "      <td>0</td>\n",
              "      <td>0</td>\n",
              "      <td>0</td>\n",
              "      <td>0</td>\n",
              "      <td>0</td>\n",
              "      <td>0</td>\n",
              "    </tr>\n",
              "    <tr>\n",
              "      <th>4</th>\n",
              "      <td>0</td>\n",
              "      <td>0</td>\n",
              "      <td>0</td>\n",
              "      <td>0</td>\n",
              "      <td>0</td>\n",
              "      <td>0</td>\n",
              "      <td>0</td>\n",
              "      <td>0</td>\n",
              "      <td>0</td>\n",
              "      <td>0</td>\n",
              "      <td>...</td>\n",
              "      <td>0</td>\n",
              "      <td>0</td>\n",
              "      <td>0</td>\n",
              "      <td>0</td>\n",
              "      <td>0</td>\n",
              "      <td>0</td>\n",
              "      <td>0</td>\n",
              "      <td>0</td>\n",
              "      <td>0</td>\n",
              "      <td>0</td>\n",
              "    </tr>\n",
              "  </tbody>\n",
              "</table>\n",
              "<p>5 rows × 63702 columns</p>\n",
              "</div>"
            ],
            "text/plain": [
              "   aa  aaa  aaaa  aaaaaaaaaaaa  \\\n",
              "0   0    0     0             0   \n",
              "1   0    0     0             0   \n",
              "2   0    0     0             0   \n",
              "3   0    0     0             0   \n",
              "4   0    0     0             0   \n",
              "\n",
              "   aaaaaaaaaaaaaaaaaaaaaaaaaaaaaaauuuuuuuuuuuuuuuuuuuuuuuuuuuuuuuugggggggggggggggg  \\\n",
              "0                                                  0                                 \n",
              "1                                                  0                                 \n",
              "2                                                  0                                 \n",
              "3                                                  0                                 \n",
              "4                                                  0                                 \n",
              "\n",
              "   aaaaagggghhhh  aaah  aaahh  aaahhhh  aaai    ...     zzzz  zzzzzz  ªl  \\\n",
              "0              0     0      0        0     0    ...        0       0   0   \n",
              "1              0     0      0        0     0    ...        0       0   0   \n",
              "2              0     0      0        0     0    ...        0       0   0   \n",
              "3              0     0      0        0     0    ...        0       0   0   \n",
              "4              0     0      0        0     0    ...        0       0   0   \n",
              "\n",
              "   çait  çon  ère  égligent  élangea  érale  íålittin  \n",
              "0     0    0    0         0        0      0         0  \n",
              "1     0    0    0         0        0      0         0  \n",
              "2     0    0    0         0        0      0         0  \n",
              "3     0    0    0         0        0      0         0  \n",
              "4     0    0    0         0        0      0         0  \n",
              "\n",
              "[5 rows x 63702 columns]"
            ]
          },
          "metadata": {
            "tags": []
          },
          "execution_count": 16
        }
      ]
    },
    {
      "metadata": {
        "id": "ZGBi7evVoTBx",
        "colab_type": "code",
        "colab": {}
      },
      "cell_type": "code",
      "source": [
        "TDM = DTM.transpose()"
      ],
      "execution_count": 0,
      "outputs": []
    },
    {
      "metadata": {
        "id": "dZ53SEhlolt0",
        "colab_type": "code",
        "colab": {}
      },
      "cell_type": "code",
      "source": [
        "sparse_tex = scipy.sparse.csr_matrix(TDM)\n",
        "corpus = matutils.Sparse2Corpus(sparse_tex)"
      ],
      "execution_count": 0,
      "outputs": []
    },
    {
      "metadata": {
        "id": "mw-12HPWpPeR",
        "colab_type": "code",
        "colab": {}
      },
      "cell_type": "code",
      "source": [
        "id2word = dict((v,k) for k,v in cnt_vect.vocabulary_.items())"
      ],
      "execution_count": 0,
      "outputs": []
    },
    {
      "metadata": {
        "id": "REJmHxDFbjPs",
        "colab_type": "code",
        "colab": {}
      },
      "cell_type": "code",
      "source": [
        "lda_model = models.LdaModel(corpus = corpus,id2word=id2word,num_topics=20,passes=20)\n",
        "\n"
      ],
      "execution_count": 0,
      "outputs": []
    },
    {
      "metadata": {
        "id": "Html7mNYtn-J",
        "colab_type": "code",
        "outputId": "948a28fb-ee62-4788-f496-b43995aefb88",
        "colab": {
          "base_uri": "https://localhost:8080/",
          "height": 697
        }
      },
      "cell_type": "code",
      "source": [
        "lda_model.print_topics()"
      ],
      "execution_count": 0,
      "outputs": [
        {
          "output_type": "execute_result",
          "data": {
            "text/plain": [
              "[(0,\n",
              "  '0.011*\"key\" + 0.009*\"israel\" + 0.009*\"government\" + 0.008*\"subject\" + 0.008*\"encryption\" + 0.008*\"chip\" + 0.007*\"people\" + 0.007*\"lines\" + 0.007*\"clipper\" + 0.007*\"organization\"'),\n",
              " (1,\n",
              "  '0.017*\"turkish\" + 0.017*\"armenian\" + 0.016*\"armenians\" + 0.009*\"armenia\" + 0.009*\"people\" + 0.008*\"turks\" + 0.008*\"turkey\" + 0.007*\"argic\" + 0.007*\"serdar\" + 0.006*\"world\"'),\n",
              " (2,\n",
              "  '0.149*\"max\" + 0.030*\"jesus\" + 0.011*\"christ\" + 0.010*\"law\" + 0.009*\"matthew\" + 0.009*\"giz\" + 0.008*\"lord\" + 0.008*\"god\" + 0.008*\"paul\" + 0.006*\"wm\"'),\n",
              " (3,\n",
              "  '0.013*\"president\" + 0.011*\"stephanopoulos\" + 0.006*\"money\" + 0.006*\"national\" + 0.006*\"government\" + 0.006*\"tax\" + 0.005*\"health\" + 0.005*\"program\" + 0.005*\"april\" + 0.004*\"year\"'),\n",
              " (4,\n",
              "  '0.022*\"gun\" + 0.011*\"guns\" + 0.010*\"people\" + 0.009*\"weapons\" + 0.008*\"control\" + 0.007*\"crime\" + 0.007*\"firearms\" + 0.006*\"right\" + 0.006*\"police\" + 0.006*\"amendment\"'),\n",
              " (5,\n",
              "  '0.020*\"db\" + 0.010*\"ah\" + 0.007*\"air\" + 0.005*\"gm\" + 0.005*\"cs\" + 0.004*\"mov\" + 0.004*\"st\" + 0.004*\"mv\" + 0.004*\"md\" + 0.003*\"jb\"'),\n",
              " (6,\n",
              "  '0.016*\"drive\" + 0.015*\"lines\" + 0.015*\"card\" + 0.015*\"subject\" + 0.014*\"organization\" + 0.010*\"disk\" + 0.009*\"problem\" + 0.009*\"mac\" + 0.008*\"scsi\" + 0.008*\"hard\"'),\n",
              " (7,\n",
              "  '0.021*\"subject\" + 0.020*\"lines\" + 0.020*\"organization\" + 0.011*\"article\" + 0.007*\"distribution\" + 0.006*\"oil\" + 0.006*\"university\" + 0.005*\"institute\" + 0.005*\"new\" + 0.004*\"scott\"'),\n",
              " (8,\n",
              "  '0.012*\"subject\" + 0.010*\"organization\" + 0.009*\"lines\" + 0.009*\"article\" + 0.008*\"people\" + 0.007*\"wire\" + 0.006*\"fbi\" + 0.006*\"good\" + 0.006*\"ground\" + 0.005*\"koresh\"'),\n",
              " (9,\n",
              "  '0.015*\"file\" + 0.011*\"subject\" + 0.011*\"windows\" + 0.010*\"program\" + 0.010*\"lines\" + 0.009*\"window\" + 0.008*\"organization\" + 0.008*\"available\" + 0.008*\"software\" + 0.008*\"version\"'),\n",
              " (10,\n",
              "  '0.008*\"people\" + 0.008*\"article\" + 0.007*\"new\" + 0.005*\"men\" + 0.005*\"drugs\" + 0.004*\"study\" + 0.004*\"subject\" + 0.004*\"university\" + 0.004*\"organization\" + 0.004*\"lines\"'),\n",
              " (11,\n",
              "  '0.016*\"team\" + 0.014*\"game\" + 0.011*\"games\" + 0.010*\"year\" + 0.009*\"hockey\" + 0.008*\"subject\" + 0.008*\"players\" + 0.008*\"season\" + 0.008*\"lines\" + 0.008*\"organization\"'),\n",
              " (12,\n",
              "  '0.028*\"organization\" + 0.027*\"subject\" + 0.027*\"lines\" + 0.018*\"article\" + 0.015*\"university\" + 0.008*\"distribution\" + 0.007*\"good\" + 0.007*\"usa\" + 0.006*\"new\" + 0.005*\"bike\"'),\n",
              " (13,\n",
              "  '0.025*\"subject\" + 0.024*\"lines\" + 0.023*\"organization\" + 0.019*\"car\" + 0.016*\"university\" + 0.010*\"article\" + 0.007*\"cars\" + 0.007*\"distribution\" + 0.006*\"texas\" + 0.006*\"good\"'),\n",
              " (14,\n",
              "  '0.017*\"keith\" + 0.016*\"organization\" + 0.016*\"lines\" + 0.015*\"subject\" + 0.013*\"morality\" + 0.011*\"objective\" + 0.010*\"article\" + 0.010*\"sandvik\" + 0.009*\"jon\" + 0.009*\"moral\"'),\n",
              " (15,\n",
              "  '0.023*\"space\" + 0.007*\"nasa\" + 0.006*\"subject\" + 0.006*\"organization\" + 0.006*\"lines\" + 0.005*\"data\" + 0.005*\"power\" + 0.005*\"research\" + 0.004*\"center\" + 0.004*\"launch\"'),\n",
              " (16,\n",
              "  '0.026*\"god\" + 0.016*\"people\" + 0.009*\"subject\" + 0.008*\"life\" + 0.007*\"time\" + 0.007*\"way\" + 0.007*\"christian\" + 0.007*\"lines\" + 0.007*\"good\" + 0.007*\"bible\"'),\n",
              " (17,\n",
              "  '0.010*\"subject\" + 0.010*\"msg\" + 0.010*\"lines\" + 0.009*\"organization\" + 0.008*\"food\" + 0.007*\"university\" + 0.006*\"article\" + 0.005*\"catholic\" + 0.005*\"church\" + 0.005*\"michael\"'),\n",
              " (18,\n",
              "  '0.013*\"gordon\" + 0.011*\"banks\" + 0.011*\"lines\" + 0.011*\"subject\" + 0.011*\"organization\" + 0.010*\"article\" + 0.010*\"geb\" + 0.008*\"medical\" + 0.007*\"doctor\" + 0.006*\"disease\"'),\n",
              " (19,\n",
              "  '0.018*\"people\" + 0.010*\"time\" + 0.007*\"way\" + 0.006*\"henry\" + 0.006*\"things\" + 0.006*\"man\" + 0.006*\"years\" + 0.005*\"article\" + 0.005*\"organization\" + 0.005*\"subject\"')]"
            ]
          },
          "metadata": {
            "tags": []
          },
          "execution_count": 21
        }
      ]
    },
    {
      "metadata": {
        "id": "Tbv73Aeky2AV",
        "colab_type": "code",
        "colab": {}
      },
      "cell_type": "code",
      "source": [
        "'''\n",
        "filename = '20nsLDAmodel.pkl' ## crating a file\n",
        "pickle.dump(lda_model,open(filename,'wb'))## writnig the model to the file\n",
        "run only hwen you want to pcikle the lDA model\n",
        "'''"
      ],
      "execution_count": 0,
      "outputs": []
    },
    {
      "metadata": {
        "id": "CF6-zIsIzKKm",
        "colab_type": "code",
        "colab": {}
      },
      "cell_type": "code",
      "source": [
        "'''\n",
        "files.download('20nsLDAmodel.pkl')\n",
        "run only when you want to download the LDA model to yolu local drive\n",
        "'''"
      ],
      "execution_count": 0,
      "outputs": []
    },
    {
      "metadata": {
        "id": "DH1yd5Gz0Mle",
        "colab_type": "code",
        "colab": {}
      },
      "cell_type": "code",
      "source": [
        "#### LDA modeling for 20NS group finished ######"
      ],
      "execution_count": 0,
      "outputs": []
    }
  ]
}