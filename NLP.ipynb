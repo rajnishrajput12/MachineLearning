{
  "nbformat": 4,
  "nbformat_minor": 0,
  "metadata": {
    "colab": {
      "name": "NLP.ipynb",
      "version": "0.3.2",
      "provenance": [],
      "collapsed_sections": [],
      "include_colab_link": true
    },
    "kernelspec": {
      "name": "python3",
      "display_name": "Python 3"
    }
  },
  "cells": [
    {
      "cell_type": "markdown",
      "metadata": {
        "id": "view-in-github",
        "colab_type": "text"
      },
      "source": [
        "<a href=\"https://colab.research.google.com/github/rajnishrajput12/MachineLearning/blob/master/NLP.ipynb\" target=\"_parent\"><img src=\"https://colab.research.google.com/assets/colab-badge.svg\" alt=\"Open In Colab\"/></a>"
      ]
    },
    {
      "metadata": {
        "id": "FPVXY1x_u1a7",
        "colab_type": "code",
        "colab": {}
      },
      "cell_type": "code",
      "source": [
        "\n",
        "import pandas as pd\n",
        "from sklearn.feature_extraction.text import CountVectorizer\n",
        "#import gensim\n",
        "##from gensim import corpora\n",
        "##import spacy\n",
        "import scipy\n",
        "##import nltk\n",
        "from nltk.corpus import stopwords \n",
        "from nltk.stem.wordnet import WordNetLemmatizer\n",
        "import string\n",
        "from nltk import word_tokenize\n",
        "from nltk.corpus import stopwords\n",
        "from nltk import pos_tag\n",
        "import string\n",
        "##from nltk import word_tokenize\n",
        "import pickle\n",
        "import os\n",
        "##from nltk import pos_tag\n",
        "##from sklearn.feature_extraction.text import CountVectorizer\n",
        "##import scipy\n",
        "from gensim import matutils,models"
      ],
      "execution_count": 0,
      "outputs": []
    },
    {
      "metadata": {
        "id": "OZ9DuJ4DvsTW",
        "colab_type": "code",
        "colab": {}
      },
      "cell_type": "code",
      "source": [
        "!pip install -q gensim ## to install gensim"
      ],
      "execution_count": 0,
      "outputs": []
    },
    {
      "metadata": {
        "id": "KGcucZZ5FkFl",
        "colab_type": "code",
        "colab": {
          "base_uri": "https://localhost:8080/",
          "height": 119
        },
        "outputId": "1d03d2cd-f2ce-409e-e429-4cc2cc889cdb"
      },
      "cell_type": "code",
      "source": [
        "nltk.download('punkt')\n",
        "nltk.download('averaged_perceptron_tagger')"
      ],
      "execution_count": 22,
      "outputs": [
        {
          "output_type": "stream",
          "text": [
            "[nltk_data] Downloading package punkt to /root/nltk_data...\n",
            "[nltk_data]   Package punkt is already up-to-date!\n",
            "[nltk_data] Downloading package averaged_perceptron_tagger to\n",
            "[nltk_data]     /root/nltk_data...\n",
            "[nltk_data]   Unzipping taggers/averaged_perceptron_tagger.zip.\n"
          ],
          "name": "stdout"
        },
        {
          "output_type": "execute_result",
          "data": {
            "text/plain": [
              "True"
            ]
          },
          "metadata": {
            "tags": []
          },
          "execution_count": 22
        }
      ]
    },
    {
      "metadata": {
        "id": "QtiEUZwkun7D",
        "colab_type": "code",
        "colab": {}
      },
      "cell_type": "code",
      "source": [
        "doc1 = \"Sugar is bad to consume. My sister likes to have sugar, but not my father.\"\n",
        "doc2 = \"My father spends a lot of time driving my sister around to dance practice.\"\n",
        "doc3 = \"Doctors suggest that driving may cause increased stress and blood pressure.\"\n",
        "doc4 = \"Sometimes I feel pressure to perform well at school, but my father never seems to drive my sister to do better.\"\n",
        "doc5 = \"Health experts say that Sugar is not good for your lifestyle.\"\n",
        "\n",
        "# compile documents\n",
        "doc_complete = [doc1, doc2, doc3, doc4, doc5]"
      ],
      "execution_count": 0,
      "outputs": []
    },
    {
      "metadata": {
        "id": "l_bdYHAK32vq",
        "colab_type": "code",
        "outputId": "757c84d2-328a-494c-fb2c-d83906a9540d",
        "colab": {
          "base_uri": "https://localhost:8080/",
          "height": 102
        }
      },
      "cell_type": "code",
      "source": [
        "doc_complete"
      ],
      "execution_count": 0,
      "outputs": [
        {
          "output_type": "execute_result",
          "data": {
            "text/plain": [
              "['Sugar is bad to consume. My sister likes to have sugar, but not my father.',\n",
              " 'My father spends a lot of time driving my sister around to dance practice.',\n",
              " 'Doctors suggest that driving may cause increased stress and blood pressure.',\n",
              " 'Sometimes I feel pressure to perform well at school, but my father never seems to drive my sister to do better.',\n",
              " 'Health experts say that Sugar is not good for your lifestyle.']"
            ]
          },
          "metadata": {
            "tags": []
          },
          "execution_count": 9
        }
      ]
    },
    {
      "metadata": {
        "id": "BF8cd6NbTiQW",
        "colab_type": "code",
        "colab": {}
      },
      "cell_type": "code",
      "source": [
        "# exclude = set(string.punctuation) \n",
        "# lemma = WordNetLemmatizer()\n",
        "# def clean(doc):\n",
        "#     punc_free = ''.join(ch for ch in doc if ch not in exclude)\n",
        "#     return punc_free\n",
        "\n",
        "doc_clean = [doc.split() for doc in doc_complete]"
      ],
      "execution_count": 0,
      "outputs": []
    },
    {
      "metadata": {
        "id": "oP5rzvZOIg8k",
        "colab_type": "code",
        "outputId": "cfc20407-4859-452a-f52f-230351cc2064",
        "colab": {
          "base_uri": "https://localhost:8080/",
          "height": 1173
        }
      },
      "cell_type": "code",
      "source": [
        "doc_term_matrix"
      ],
      "execution_count": 0,
      "outputs": [
        {
          "output_type": "execute_result",
          "data": {
            "text/plain": [
              "[[(0, 1),\n",
              "  (1, 1),\n",
              "  (2, 1),\n",
              "  (3, 1),\n",
              "  (4, 1),\n",
              "  (5, 1),\n",
              "  (6, 1),\n",
              "  (7, 1),\n",
              "  (8, 1),\n",
              "  (9, 1),\n",
              "  (10, 1),\n",
              "  (11, 1),\n",
              "  (12, 1),\n",
              "  (13, 2)],\n",
              " [(0, 1),\n",
              "  (9, 1),\n",
              "  (11, 1),\n",
              "  (13, 1),\n",
              "  (14, 1),\n",
              "  (15, 1),\n",
              "  (16, 1),\n",
              "  (17, 1),\n",
              "  (18, 1),\n",
              "  (19, 1),\n",
              "  (20, 1),\n",
              "  (21, 1),\n",
              "  (22, 1),\n",
              "  (23, 1)],\n",
              " [(17, 1),\n",
              "  (24, 1),\n",
              "  (25, 1),\n",
              "  (26, 1),\n",
              "  (27, 1),\n",
              "  (28, 1),\n",
              "  (29, 1),\n",
              "  (30, 1),\n",
              "  (31, 1),\n",
              "  (32, 1),\n",
              "  (33, 1)],\n",
              " [(3, 1),\n",
              "  (9, 2),\n",
              "  (11, 1),\n",
              "  (13, 3),\n",
              "  (18, 1),\n",
              "  (34, 1),\n",
              "  (35, 1),\n",
              "  (36, 1),\n",
              "  (37, 1),\n",
              "  (38, 1),\n",
              "  (39, 1),\n",
              "  (40, 1),\n",
              "  (41, 1),\n",
              "  (42, 1),\n",
              "  (43, 1),\n",
              "  (44, 1),\n",
              "  (45, 1),\n",
              "  (46, 1)],\n",
              " [(1, 1),\n",
              "  (7, 1),\n",
              "  (10, 1),\n",
              "  (33, 1),\n",
              "  (47, 1),\n",
              "  (48, 1),\n",
              "  (49, 1),\n",
              "  (50, 1),\n",
              "  (51, 1),\n",
              "  (52, 1),\n",
              "  (53, 1)]]"
            ]
          },
          "metadata": {
            "tags": []
          },
          "execution_count": 15
        }
      ]
    },
    {
      "metadata": {
        "id": "vq7ST8xJUNyS",
        "colab_type": "code",
        "colab": {}
      },
      "cell_type": "code",
      "source": [
        "# Importing Gensim\n",
        "\n",
        "# Creating the term dictionary of our courpus, where every unique term is assigned an index. \n",
        "dictionary = corpora.Dictionary(doc_clean)\n",
        "\n",
        "# Converting list of documents (corpus) into Document Term Matrix using dictionary prepared above.\n",
        "doc_term_matrix = [dictionary.doc2bow(doc) for doc in doc_clean]"
      ],
      "execution_count": 0,
      "outputs": []
    },
    {
      "metadata": {
        "id": "vg03T37JUSj5",
        "colab_type": "code",
        "colab": {}
      },
      "cell_type": "code",
      "source": [
        "# Creating the object for LDA model using gensim library\n",
        "Lda = gensim.models.ldamodel.LdaModel\n",
        "\n",
        "# Running and Trainign LDA model on the document term matrix.\n",
        "ldamodel = Lda(doc_term_matrix, num_topics=3, id2word = dictionary, passes=50)"
      ],
      "execution_count": 0,
      "outputs": []
    },
    {
      "metadata": {
        "id": "i65Q6iC-UW0z",
        "colab_type": "code",
        "outputId": "7a75eb11-6bde-40b4-b392-ec2e6d0906f4",
        "colab": {
          "base_uri": "https://localhost:8080/",
          "height": 34
        }
      },
      "cell_type": "code",
      "source": [
        "print(ldamodel.print_topics(num_topics=3, num_words=3))"
      ],
      "execution_count": 0,
      "outputs": [
        {
          "output_type": "stream",
          "text": [
            "[(0, '0.082*\"to\" + 0.063*\"my\" + 0.044*\"sister\"'), (1, '0.053*\"not\" + 0.053*\"is\" + 0.053*\"Sugar\"'), (2, '0.046*\"driving\" + 0.046*\"that\" + 0.046*\"increased\"')]\n"
          ],
          "name": "stdout"
        }
      ]
    },
    {
      "metadata": {
        "id": "rFvKaDwWuvf7",
        "colab_type": "code",
        "colab": {}
      },
      "cell_type": "code",
      "source": [
        "##da = pd.DataFrame(doc_complete,columns=['text'])"
      ],
      "execution_count": 0,
      "outputs": []
    },
    {
      "metadata": {
        "id": "91UoU14Bu7HH",
        "colab_type": "code",
        "colab": {}
      },
      "cell_type": "code",
      "source": [
        "##dd = da['text']"
      ],
      "execution_count": 0,
      "outputs": []
    },
    {
      "metadata": {
        "id": "N2wjVsmEu-Ep",
        "colab_type": "code",
        "outputId": "b7b172c2-3b8c-4944-a7ad-50dffa960d48",
        "colab": {
          "base_uri": "https://localhost:8080/",
          "height": 34
        }
      },
      "cell_type": "code",
      "source": [
        "type(doc_complete)"
      ],
      "execution_count": 0,
      "outputs": [
        {
          "output_type": "execute_result",
          "data": {
            "text/plain": [
              "list"
            ]
          },
          "metadata": {
            "tags": []
          },
          "execution_count": 44
        }
      ]
    },
    {
      "metadata": {
        "id": "84UJsQv5u_yE",
        "colab_type": "code",
        "outputId": "ed76a072-f967-4d39-9fd9-3b2705e315de",
        "colab": {
          "base_uri": "https://localhost:8080/",
          "height": 510
        }
      },
      "cell_type": "code",
      "source": [
        "count = CountVectorizer(stop_words='english')\n",
        "cc = count.fit_transform(doc_complete)\n",
        "count.get_feature_names()"
      ],
      "execution_count": 0,
      "outputs": [
        {
          "output_type": "execute_result",
          "data": {
            "text/plain": [
              "['bad',\n",
              " 'better',\n",
              " 'blood',\n",
              " 'cause',\n",
              " 'consume',\n",
              " 'dance',\n",
              " 'doctors',\n",
              " 'drive',\n",
              " 'driving',\n",
              " 'experts',\n",
              " 'father',\n",
              " 'feel',\n",
              " 'good',\n",
              " 'health',\n",
              " 'increased',\n",
              " 'lifestyle',\n",
              " 'likes',\n",
              " 'lot',\n",
              " 'perform',\n",
              " 'practice',\n",
              " 'pressure',\n",
              " 'say',\n",
              " 'school',\n",
              " 'sister',\n",
              " 'spends',\n",
              " 'stress',\n",
              " 'sugar',\n",
              " 'suggest',\n",
              " 'time']"
            ]
          },
          "metadata": {
            "tags": []
          },
          "execution_count": 45
        }
      ]
    },
    {
      "metadata": {
        "id": "Vkqo76aA9-Gc",
        "colab_type": "code",
        "outputId": "40a7f665-bdc6-4b13-e2d7-95ecf6820017",
        "colab": {
          "base_uri": "https://localhost:8080/",
          "height": 54
        }
      },
      "cell_type": "code",
      "source": [
        "count.vocabulary_.items()"
      ],
      "execution_count": 0,
      "outputs": [
        {
          "output_type": "execute_result",
          "data": {
            "text/plain": [
              "dict_items([('sugar', 26), ('bad', 0), ('consume', 4), ('sister', 23), ('likes', 16), ('father', 10), ('spends', 24), ('lot', 17), ('time', 28), ('driving', 8), ('dance', 5), ('practice', 19), ('doctors', 6), ('suggest', 27), ('cause', 3), ('increased', 14), ('stress', 25), ('blood', 2), ('pressure', 20), ('feel', 11), ('perform', 18), ('school', 22), ('drive', 7), ('better', 1), ('health', 13), ('experts', 9), ('say', 21), ('good', 12), ('lifestyle', 15)])"
            ]
          },
          "metadata": {
            "tags": []
          },
          "execution_count": 61
        }
      ]
    },
    {
      "metadata": {
        "id": "766lDIzqvPxq",
        "colab_type": "code",
        "colab": {}
      },
      "cell_type": "code",
      "source": [
        "dtm = pd.DataFrame(cc.toarray(),columns=count.get_feature_names())"
      ],
      "execution_count": 0,
      "outputs": []
    },
    {
      "metadata": {
        "id": "ZNoxIOJwvTY4",
        "colab_type": "code",
        "outputId": "06e7cc2f-4c7f-4cf6-8882-da0591d975a4",
        "colab": {
          "base_uri": "https://localhost:8080/",
          "height": 233
        }
      },
      "cell_type": "code",
      "source": [
        "dtm ## docunent term matric"
      ],
      "execution_count": 0,
      "outputs": [
        {
          "output_type": "execute_result",
          "data": {
            "text/html": [
              "<div>\n",
              "<style scoped>\n",
              "    .dataframe tbody tr th:only-of-type {\n",
              "        vertical-align: middle;\n",
              "    }\n",
              "\n",
              "    .dataframe tbody tr th {\n",
              "        vertical-align: top;\n",
              "    }\n",
              "\n",
              "    .dataframe thead th {\n",
              "        text-align: right;\n",
              "    }\n",
              "</style>\n",
              "<table border=\"1\" class=\"dataframe\">\n",
              "  <thead>\n",
              "    <tr style=\"text-align: right;\">\n",
              "      <th></th>\n",
              "      <th>bad</th>\n",
              "      <th>better</th>\n",
              "      <th>blood</th>\n",
              "      <th>cause</th>\n",
              "      <th>consume</th>\n",
              "      <th>dance</th>\n",
              "      <th>doctors</th>\n",
              "      <th>drive</th>\n",
              "      <th>driving</th>\n",
              "      <th>experts</th>\n",
              "      <th>...</th>\n",
              "      <th>practice</th>\n",
              "      <th>pressure</th>\n",
              "      <th>say</th>\n",
              "      <th>school</th>\n",
              "      <th>sister</th>\n",
              "      <th>spends</th>\n",
              "      <th>stress</th>\n",
              "      <th>sugar</th>\n",
              "      <th>suggest</th>\n",
              "      <th>time</th>\n",
              "    </tr>\n",
              "  </thead>\n",
              "  <tbody>\n",
              "    <tr>\n",
              "      <th>0</th>\n",
              "      <td>1</td>\n",
              "      <td>0</td>\n",
              "      <td>0</td>\n",
              "      <td>0</td>\n",
              "      <td>1</td>\n",
              "      <td>0</td>\n",
              "      <td>0</td>\n",
              "      <td>0</td>\n",
              "      <td>0</td>\n",
              "      <td>0</td>\n",
              "      <td>...</td>\n",
              "      <td>0</td>\n",
              "      <td>0</td>\n",
              "      <td>0</td>\n",
              "      <td>0</td>\n",
              "      <td>1</td>\n",
              "      <td>0</td>\n",
              "      <td>0</td>\n",
              "      <td>2</td>\n",
              "      <td>0</td>\n",
              "      <td>0</td>\n",
              "    </tr>\n",
              "    <tr>\n",
              "      <th>1</th>\n",
              "      <td>0</td>\n",
              "      <td>0</td>\n",
              "      <td>0</td>\n",
              "      <td>0</td>\n",
              "      <td>0</td>\n",
              "      <td>1</td>\n",
              "      <td>0</td>\n",
              "      <td>0</td>\n",
              "      <td>1</td>\n",
              "      <td>0</td>\n",
              "      <td>...</td>\n",
              "      <td>1</td>\n",
              "      <td>0</td>\n",
              "      <td>0</td>\n",
              "      <td>0</td>\n",
              "      <td>1</td>\n",
              "      <td>1</td>\n",
              "      <td>0</td>\n",
              "      <td>0</td>\n",
              "      <td>0</td>\n",
              "      <td>1</td>\n",
              "    </tr>\n",
              "    <tr>\n",
              "      <th>2</th>\n",
              "      <td>0</td>\n",
              "      <td>0</td>\n",
              "      <td>1</td>\n",
              "      <td>1</td>\n",
              "      <td>0</td>\n",
              "      <td>0</td>\n",
              "      <td>1</td>\n",
              "      <td>0</td>\n",
              "      <td>1</td>\n",
              "      <td>0</td>\n",
              "      <td>...</td>\n",
              "      <td>0</td>\n",
              "      <td>1</td>\n",
              "      <td>0</td>\n",
              "      <td>0</td>\n",
              "      <td>0</td>\n",
              "      <td>0</td>\n",
              "      <td>1</td>\n",
              "      <td>0</td>\n",
              "      <td>1</td>\n",
              "      <td>0</td>\n",
              "    </tr>\n",
              "    <tr>\n",
              "      <th>3</th>\n",
              "      <td>0</td>\n",
              "      <td>1</td>\n",
              "      <td>0</td>\n",
              "      <td>0</td>\n",
              "      <td>0</td>\n",
              "      <td>0</td>\n",
              "      <td>0</td>\n",
              "      <td>1</td>\n",
              "      <td>0</td>\n",
              "      <td>0</td>\n",
              "      <td>...</td>\n",
              "      <td>0</td>\n",
              "      <td>1</td>\n",
              "      <td>0</td>\n",
              "      <td>1</td>\n",
              "      <td>1</td>\n",
              "      <td>0</td>\n",
              "      <td>0</td>\n",
              "      <td>0</td>\n",
              "      <td>0</td>\n",
              "      <td>0</td>\n",
              "    </tr>\n",
              "    <tr>\n",
              "      <th>4</th>\n",
              "      <td>0</td>\n",
              "      <td>0</td>\n",
              "      <td>0</td>\n",
              "      <td>0</td>\n",
              "      <td>0</td>\n",
              "      <td>0</td>\n",
              "      <td>0</td>\n",
              "      <td>0</td>\n",
              "      <td>0</td>\n",
              "      <td>1</td>\n",
              "      <td>...</td>\n",
              "      <td>0</td>\n",
              "      <td>0</td>\n",
              "      <td>1</td>\n",
              "      <td>0</td>\n",
              "      <td>0</td>\n",
              "      <td>0</td>\n",
              "      <td>0</td>\n",
              "      <td>1</td>\n",
              "      <td>0</td>\n",
              "      <td>0</td>\n",
              "    </tr>\n",
              "  </tbody>\n",
              "</table>\n",
              "<p>5 rows × 29 columns</p>\n",
              "</div>"
            ],
            "text/plain": [
              "   bad  better  blood  cause  consume  dance  doctors  drive  driving  \\\n",
              "0    1       0      0      0        1      0        0      0        0   \n",
              "1    0       0      0      0        0      1        0      0        1   \n",
              "2    0       0      1      1        0      0        1      0        1   \n",
              "3    0       1      0      0        0      0        0      1        0   \n",
              "4    0       0      0      0        0      0        0      0        0   \n",
              "\n",
              "   experts  ...   practice  pressure  say  school  sister  spends  stress  \\\n",
              "0        0  ...          0         0    0       0       1       0       0   \n",
              "1        0  ...          1         0    0       0       1       1       0   \n",
              "2        0  ...          0         1    0       0       0       0       1   \n",
              "3        0  ...          0         1    0       1       1       0       0   \n",
              "4        1  ...          0         0    1       0       0       0       0   \n",
              "\n",
              "   sugar  suggest  time  \n",
              "0      2        0     0  \n",
              "1      0        0     1  \n",
              "2      0        1     0  \n",
              "3      0        0     0  \n",
              "4      1        0     0  \n",
              "\n",
              "[5 rows x 29 columns]"
            ]
          },
          "metadata": {
            "tags": []
          },
          "execution_count": 50
        }
      ]
    },
    {
      "metadata": {
        "id": "qNcozMyO-Vsv",
        "colab_type": "code",
        "colab": {}
      },
      "cell_type": "code",
      "source": [
        "tdm = dtm.transpose() ## mgensim for LDA needs the TDM or the transpose of DTM"
      ],
      "execution_count": 0,
      "outputs": []
    },
    {
      "metadata": {
        "id": "YJPdSN0uDNmg",
        "colab_type": "code",
        "outputId": "be874d73-a036-4558-c09b-f05de3900cdd",
        "colab": {
          "base_uri": "https://localhost:8080/",
          "height": 948
        }
      },
      "cell_type": "code",
      "source": [
        "tdm"
      ],
      "execution_count": 0,
      "outputs": [
        {
          "output_type": "execute_result",
          "data": {
            "text/html": [
              "<div>\n",
              "<style scoped>\n",
              "    .dataframe tbody tr th:only-of-type {\n",
              "        vertical-align: middle;\n",
              "    }\n",
              "\n",
              "    .dataframe tbody tr th {\n",
              "        vertical-align: top;\n",
              "    }\n",
              "\n",
              "    .dataframe thead th {\n",
              "        text-align: right;\n",
              "    }\n",
              "</style>\n",
              "<table border=\"1\" class=\"dataframe\">\n",
              "  <thead>\n",
              "    <tr style=\"text-align: right;\">\n",
              "      <th></th>\n",
              "      <th>0</th>\n",
              "      <th>1</th>\n",
              "      <th>2</th>\n",
              "      <th>3</th>\n",
              "      <th>4</th>\n",
              "    </tr>\n",
              "  </thead>\n",
              "  <tbody>\n",
              "    <tr>\n",
              "      <th>bad</th>\n",
              "      <td>1</td>\n",
              "      <td>0</td>\n",
              "      <td>0</td>\n",
              "      <td>0</td>\n",
              "      <td>0</td>\n",
              "    </tr>\n",
              "    <tr>\n",
              "      <th>better</th>\n",
              "      <td>0</td>\n",
              "      <td>0</td>\n",
              "      <td>0</td>\n",
              "      <td>1</td>\n",
              "      <td>0</td>\n",
              "    </tr>\n",
              "    <tr>\n",
              "      <th>blood</th>\n",
              "      <td>0</td>\n",
              "      <td>0</td>\n",
              "      <td>1</td>\n",
              "      <td>0</td>\n",
              "      <td>0</td>\n",
              "    </tr>\n",
              "    <tr>\n",
              "      <th>cause</th>\n",
              "      <td>0</td>\n",
              "      <td>0</td>\n",
              "      <td>1</td>\n",
              "      <td>0</td>\n",
              "      <td>0</td>\n",
              "    </tr>\n",
              "    <tr>\n",
              "      <th>consume</th>\n",
              "      <td>1</td>\n",
              "      <td>0</td>\n",
              "      <td>0</td>\n",
              "      <td>0</td>\n",
              "      <td>0</td>\n",
              "    </tr>\n",
              "    <tr>\n",
              "      <th>dance</th>\n",
              "      <td>0</td>\n",
              "      <td>1</td>\n",
              "      <td>0</td>\n",
              "      <td>0</td>\n",
              "      <td>0</td>\n",
              "    </tr>\n",
              "    <tr>\n",
              "      <th>doctors</th>\n",
              "      <td>0</td>\n",
              "      <td>0</td>\n",
              "      <td>1</td>\n",
              "      <td>0</td>\n",
              "      <td>0</td>\n",
              "    </tr>\n",
              "    <tr>\n",
              "      <th>drive</th>\n",
              "      <td>0</td>\n",
              "      <td>0</td>\n",
              "      <td>0</td>\n",
              "      <td>1</td>\n",
              "      <td>0</td>\n",
              "    </tr>\n",
              "    <tr>\n",
              "      <th>driving</th>\n",
              "      <td>0</td>\n",
              "      <td>1</td>\n",
              "      <td>1</td>\n",
              "      <td>0</td>\n",
              "      <td>0</td>\n",
              "    </tr>\n",
              "    <tr>\n",
              "      <th>experts</th>\n",
              "      <td>0</td>\n",
              "      <td>0</td>\n",
              "      <td>0</td>\n",
              "      <td>0</td>\n",
              "      <td>1</td>\n",
              "    </tr>\n",
              "    <tr>\n",
              "      <th>father</th>\n",
              "      <td>1</td>\n",
              "      <td>1</td>\n",
              "      <td>0</td>\n",
              "      <td>1</td>\n",
              "      <td>0</td>\n",
              "    </tr>\n",
              "    <tr>\n",
              "      <th>feel</th>\n",
              "      <td>0</td>\n",
              "      <td>0</td>\n",
              "      <td>0</td>\n",
              "      <td>1</td>\n",
              "      <td>0</td>\n",
              "    </tr>\n",
              "    <tr>\n",
              "      <th>good</th>\n",
              "      <td>0</td>\n",
              "      <td>0</td>\n",
              "      <td>0</td>\n",
              "      <td>0</td>\n",
              "      <td>1</td>\n",
              "    </tr>\n",
              "    <tr>\n",
              "      <th>health</th>\n",
              "      <td>0</td>\n",
              "      <td>0</td>\n",
              "      <td>0</td>\n",
              "      <td>0</td>\n",
              "      <td>1</td>\n",
              "    </tr>\n",
              "    <tr>\n",
              "      <th>increased</th>\n",
              "      <td>0</td>\n",
              "      <td>0</td>\n",
              "      <td>1</td>\n",
              "      <td>0</td>\n",
              "      <td>0</td>\n",
              "    </tr>\n",
              "    <tr>\n",
              "      <th>lifestyle</th>\n",
              "      <td>0</td>\n",
              "      <td>0</td>\n",
              "      <td>0</td>\n",
              "      <td>0</td>\n",
              "      <td>1</td>\n",
              "    </tr>\n",
              "    <tr>\n",
              "      <th>likes</th>\n",
              "      <td>1</td>\n",
              "      <td>0</td>\n",
              "      <td>0</td>\n",
              "      <td>0</td>\n",
              "      <td>0</td>\n",
              "    </tr>\n",
              "    <tr>\n",
              "      <th>lot</th>\n",
              "      <td>0</td>\n",
              "      <td>1</td>\n",
              "      <td>0</td>\n",
              "      <td>0</td>\n",
              "      <td>0</td>\n",
              "    </tr>\n",
              "    <tr>\n",
              "      <th>perform</th>\n",
              "      <td>0</td>\n",
              "      <td>0</td>\n",
              "      <td>0</td>\n",
              "      <td>1</td>\n",
              "      <td>0</td>\n",
              "    </tr>\n",
              "    <tr>\n",
              "      <th>practice</th>\n",
              "      <td>0</td>\n",
              "      <td>1</td>\n",
              "      <td>0</td>\n",
              "      <td>0</td>\n",
              "      <td>0</td>\n",
              "    </tr>\n",
              "    <tr>\n",
              "      <th>pressure</th>\n",
              "      <td>0</td>\n",
              "      <td>0</td>\n",
              "      <td>1</td>\n",
              "      <td>1</td>\n",
              "      <td>0</td>\n",
              "    </tr>\n",
              "    <tr>\n",
              "      <th>say</th>\n",
              "      <td>0</td>\n",
              "      <td>0</td>\n",
              "      <td>0</td>\n",
              "      <td>0</td>\n",
              "      <td>1</td>\n",
              "    </tr>\n",
              "    <tr>\n",
              "      <th>school</th>\n",
              "      <td>0</td>\n",
              "      <td>0</td>\n",
              "      <td>0</td>\n",
              "      <td>1</td>\n",
              "      <td>0</td>\n",
              "    </tr>\n",
              "    <tr>\n",
              "      <th>sister</th>\n",
              "      <td>1</td>\n",
              "      <td>1</td>\n",
              "      <td>0</td>\n",
              "      <td>1</td>\n",
              "      <td>0</td>\n",
              "    </tr>\n",
              "    <tr>\n",
              "      <th>spends</th>\n",
              "      <td>0</td>\n",
              "      <td>1</td>\n",
              "      <td>0</td>\n",
              "      <td>0</td>\n",
              "      <td>0</td>\n",
              "    </tr>\n",
              "    <tr>\n",
              "      <th>stress</th>\n",
              "      <td>0</td>\n",
              "      <td>0</td>\n",
              "      <td>1</td>\n",
              "      <td>0</td>\n",
              "      <td>0</td>\n",
              "    </tr>\n",
              "    <tr>\n",
              "      <th>sugar</th>\n",
              "      <td>2</td>\n",
              "      <td>0</td>\n",
              "      <td>0</td>\n",
              "      <td>0</td>\n",
              "      <td>1</td>\n",
              "    </tr>\n",
              "    <tr>\n",
              "      <th>suggest</th>\n",
              "      <td>0</td>\n",
              "      <td>0</td>\n",
              "      <td>1</td>\n",
              "      <td>0</td>\n",
              "      <td>0</td>\n",
              "    </tr>\n",
              "    <tr>\n",
              "      <th>time</th>\n",
              "      <td>0</td>\n",
              "      <td>1</td>\n",
              "      <td>0</td>\n",
              "      <td>0</td>\n",
              "      <td>0</td>\n",
              "    </tr>\n",
              "  </tbody>\n",
              "</table>\n",
              "</div>"
            ],
            "text/plain": [
              "           0  1  2  3  4\n",
              "bad        1  0  0  0  0\n",
              "better     0  0  0  1  0\n",
              "blood      0  0  1  0  0\n",
              "cause      0  0  1  0  0\n",
              "consume    1  0  0  0  0\n",
              "dance      0  1  0  0  0\n",
              "doctors    0  0  1  0  0\n",
              "drive      0  0  0  1  0\n",
              "driving    0  1  1  0  0\n",
              "experts    0  0  0  0  1\n",
              "father     1  1  0  1  0\n",
              "feel       0  0  0  1  0\n",
              "good       0  0  0  0  1\n",
              "health     0  0  0  0  1\n",
              "increased  0  0  1  0  0\n",
              "lifestyle  0  0  0  0  1\n",
              "likes      1  0  0  0  0\n",
              "lot        0  1  0  0  0\n",
              "perform    0  0  0  1  0\n",
              "practice   0  1  0  0  0\n",
              "pressure   0  0  1  1  0\n",
              "say        0  0  0  0  1\n",
              "school     0  0  0  1  0\n",
              "sister     1  1  0  1  0\n",
              "spends     0  1  0  0  0\n",
              "stress     0  0  1  0  0\n",
              "sugar      2  0  0  0  1\n",
              "suggest    0  0  1  0  0\n",
              "time       0  1  0  0  0"
            ]
          },
          "metadata": {
            "tags": []
          },
          "execution_count": 52
        }
      ]
    },
    {
      "metadata": {
        "id": "BCrbXO5c_bQK",
        "colab_type": "code",
        "colab": {}
      },
      "cell_type": "code",
      "source": [
        "sparse_corpus = scipy.sparse.csr_matrix(tdm)\n",
        "corpus = gensim.matutils.Sparse2Corpus(sparse_corpus)"
      ],
      "execution_count": 0,
      "outputs": []
    },
    {
      "metadata": {
        "id": "OcbHxc6qvU1C",
        "colab_type": "code",
        "colab": {}
      },
      "cell_type": "code",
      "source": [
        "lda = gensim.models.ldamodel.LdaModel"
      ],
      "execution_count": 0,
      "outputs": []
    },
    {
      "metadata": {
        "id": "QbRvR1_Y0r7m",
        "colab_type": "code",
        "colab": {}
      },
      "cell_type": "code",
      "source": [
        "id2word = dict((v,k) for v, k in count.vocabulary_.items())"
      ],
      "execution_count": 0,
      "outputs": []
    },
    {
      "metadata": {
        "id": "Px9hfj1-wb5g",
        "colab_type": "code",
        "outputId": "b12a3a75-949d-48a8-9af8-5a15902df6ff",
        "colab": {
          "base_uri": "https://localhost:8080/",
          "height": 302
        }
      },
      "cell_type": "code",
      "source": [
        "ldamodel = lda(dtm,id2word=id2word,num_topics=3,passes=10)"
      ],
      "execution_count": 0,
      "outputs": [
        {
          "output_type": "error",
          "ename": "TypeError",
          "evalue": "ignored",
          "traceback": [
            "\u001b[0;31m---------------------------------------------------------------------------\u001b[0m",
            "\u001b[0;31mTypeError\u001b[0m                                 Traceback (most recent call last)",
            "\u001b[0;32m<ipython-input-60-72f4b679e0ad>\u001b[0m in \u001b[0;36m<module>\u001b[0;34m()\u001b[0m\n\u001b[0;32m----> 1\u001b[0;31m \u001b[0mldamodel\u001b[0m \u001b[0;34m=\u001b[0m \u001b[0mlda\u001b[0m\u001b[0;34m(\u001b[0m\u001b[0mdtm\u001b[0m\u001b[0;34m,\u001b[0m\u001b[0mid2word\u001b[0m\u001b[0;34m=\u001b[0m\u001b[0mid2word\u001b[0m\u001b[0;34m,\u001b[0m\u001b[0mnum_topics\u001b[0m\u001b[0;34m=\u001b[0m\u001b[0;36m3\u001b[0m\u001b[0;34m,\u001b[0m\u001b[0mpasses\u001b[0m\u001b[0;34m=\u001b[0m\u001b[0;36m10\u001b[0m\u001b[0;34m)\u001b[0m\u001b[0;34m\u001b[0m\u001b[0;34m\u001b[0m\u001b[0m\n\u001b[0m",
            "\u001b[0;32m/usr/local/lib/python3.6/dist-packages/gensim/models/ldamodel.py\u001b[0m in \u001b[0;36m__init__\u001b[0;34m(self, corpus, num_topics, id2word, distributed, chunksize, passes, update_every, alpha, eta, decay, offset, eval_every, iterations, gamma_threshold, minimum_probability, random_state, ns_conf, minimum_phi_value, per_word_topics, callbacks, dtype)\u001b[0m\n\u001b[1;32m    430\u001b[0m             \u001b[0mself\u001b[0m\u001b[0;34m.\u001b[0m\u001b[0mnum_terms\u001b[0m \u001b[0;34m=\u001b[0m \u001b[0mlen\u001b[0m\u001b[0;34m(\u001b[0m\u001b[0mself\u001b[0m\u001b[0;34m.\u001b[0m\u001b[0mid2word\u001b[0m\u001b[0;34m)\u001b[0m\u001b[0;34m\u001b[0m\u001b[0;34m\u001b[0m\u001b[0m\n\u001b[1;32m    431\u001b[0m         \u001b[0;32melif\u001b[0m \u001b[0mlen\u001b[0m\u001b[0;34m(\u001b[0m\u001b[0mself\u001b[0m\u001b[0;34m.\u001b[0m\u001b[0mid2word\u001b[0m\u001b[0;34m)\u001b[0m \u001b[0;34m>\u001b[0m \u001b[0;36m0\u001b[0m\u001b[0;34m:\u001b[0m\u001b[0;34m\u001b[0m\u001b[0;34m\u001b[0m\u001b[0m\n\u001b[0;32m--> 432\u001b[0;31m             \u001b[0mself\u001b[0m\u001b[0;34m.\u001b[0m\u001b[0mnum_terms\u001b[0m \u001b[0;34m=\u001b[0m \u001b[0;36m1\u001b[0m \u001b[0;34m+\u001b[0m \u001b[0mmax\u001b[0m\u001b[0;34m(\u001b[0m\u001b[0mself\u001b[0m\u001b[0;34m.\u001b[0m\u001b[0mid2word\u001b[0m\u001b[0;34m.\u001b[0m\u001b[0mkeys\u001b[0m\u001b[0;34m(\u001b[0m\u001b[0;34m)\u001b[0m\u001b[0;34m)\u001b[0m\u001b[0;34m\u001b[0m\u001b[0;34m\u001b[0m\u001b[0m\n\u001b[0m\u001b[1;32m    433\u001b[0m         \u001b[0;32melse\u001b[0m\u001b[0;34m:\u001b[0m\u001b[0;34m\u001b[0m\u001b[0;34m\u001b[0m\u001b[0m\n\u001b[1;32m    434\u001b[0m             \u001b[0mself\u001b[0m\u001b[0;34m.\u001b[0m\u001b[0mnum_terms\u001b[0m \u001b[0;34m=\u001b[0m \u001b[0;36m0\u001b[0m\u001b[0;34m\u001b[0m\u001b[0;34m\u001b[0m\u001b[0m\n",
            "\u001b[0;31mTypeError\u001b[0m: unsupported operand type(s) for +: 'int' and 'str'"
          ]
        }
      ]
    },
    {
      "metadata": {
        "id": "oaM4jzka_47y",
        "colab_type": "code",
        "colab": {}
      },
      "cell_type": "code",
      "source": [
        ""
      ],
      "execution_count": 0,
      "outputs": []
    },
    {
      "metadata": {
        "id": "FvRsv75o_5A7",
        "colab_type": "code",
        "colab": {}
      },
      "cell_type": "code",
      "source": [
        "doc1 = \"Sugar is bad to consume. My sister likes to have sugar, but not my father.\"\n",
        "doc2 = \"My father spends a lot of time driving my sister around to dance practice.\"\n",
        "doc3 = \"Doctors suggest that driving may cause increased stress and blood pressure.\"\n",
        "doc4 = \"Sometimes I feel pressure to perform well at school, but my father never seems to drive my sister to do better.\"\n",
        "doc5 = \"Health experts say that Sugar is not good for your lifestyle.\"\n",
        "\n",
        "# compile documents\n",
        "doc_complete = [doc1, doc2, doc3, doc4, doc5]"
      ],
      "execution_count": 0,
      "outputs": []
    },
    {
      "metadata": {
        "id": "ekgICHJB_6Li",
        "colab_type": "code",
        "colab": {
          "base_uri": "https://localhost:8080/",
          "height": 102
        },
        "outputId": "31904175-32df-4fd4-d9ff-663a03b094f7"
      },
      "cell_type": "code",
      "source": [
        "doc_complete"
      ],
      "execution_count": 3,
      "outputs": [
        {
          "output_type": "execute_result",
          "data": {
            "text/plain": [
              "['Sugar is bad to consume. My sister likes to have sugar, but not my father.',\n",
              " 'My father spends a lot of time driving my sister around to dance practice.',\n",
              " 'Doctors suggest that driving may cause increased stress and blood pressure.',\n",
              " 'Sometimes I feel pressure to perform well at school, but my father never seems to drive my sister to do better.',\n",
              " 'Health experts say that Sugar is not good for your lifestyle.']"
            ]
          },
          "metadata": {
            "tags": []
          },
          "execution_count": 3
        }
      ]
    },
    {
      "metadata": {
        "id": "aB2pC6J__--e",
        "colab_type": "code",
        "colab": {}
      },
      "cell_type": "code",
      "source": [
        "data = pd.DataFrame(doc_complete,columns=['trans'])"
      ],
      "execution_count": 0,
      "outputs": []
    },
    {
      "metadata": {
        "id": "DGlTbmCAbWI6",
        "colab_type": "code",
        "colab": {}
      },
      "cell_type": "code",
      "source": [
        ""
      ],
      "execution_count": 0,
      "outputs": []
    },
    {
      "metadata": {
        "id": "YQqQrJykbWPG",
        "colab_type": "code",
        "colab": {}
      },
      "cell_type": "code",
      "source": [
        "##### topic modeling for 20NS group #########"
      ],
      "execution_count": 0,
      "outputs": []
    },
    {
      "metadata": {
        "id": "VQon5vLCbWMY",
        "colab_type": "code",
        "colab": {
          "base_uri": "https://localhost:8080/",
          "height": 306
        },
        "outputId": "f9712ee1-53a1-4f01-eafc-65a7052b4547"
      },
      "cell_type": "code",
      "source": [
        "df = pd.read_json('https://raw.githubusercontent.com/selva86/datasets/master/newsgroups.json')\n",
        "print(df.target_names.unique())\n",
        "df.head()"
      ],
      "execution_count": 6,
      "outputs": [
        {
          "output_type": "stream",
          "text": [
            "['rec.autos' 'comp.sys.mac.hardware' 'rec.motorcycles' 'misc.forsale'\n",
            " 'comp.os.ms-windows.misc' 'alt.atheism' 'comp.graphics'\n",
            " 'rec.sport.baseball' 'rec.sport.hockey' 'sci.electronics' 'sci.space'\n",
            " 'talk.politics.misc' 'sci.med' 'talk.politics.mideast'\n",
            " 'soc.religion.christian' 'comp.windows.x' 'comp.sys.ibm.pc.hardware'\n",
            " 'talk.politics.guns' 'talk.religion.misc' 'sci.crypt']\n"
          ],
          "name": "stdout"
        },
        {
          "output_type": "execute_result",
          "data": {
            "text/html": [
              "<div>\n",
              "<style scoped>\n",
              "    .dataframe tbody tr th:only-of-type {\n",
              "        vertical-align: middle;\n",
              "    }\n",
              "\n",
              "    .dataframe tbody tr th {\n",
              "        vertical-align: top;\n",
              "    }\n",
              "\n",
              "    .dataframe thead th {\n",
              "        text-align: right;\n",
              "    }\n",
              "</style>\n",
              "<table border=\"1\" class=\"dataframe\">\n",
              "  <thead>\n",
              "    <tr style=\"text-align: right;\">\n",
              "      <th></th>\n",
              "      <th>content</th>\n",
              "      <th>target</th>\n",
              "      <th>target_names</th>\n",
              "    </tr>\n",
              "  </thead>\n",
              "  <tbody>\n",
              "    <tr>\n",
              "      <th>0</th>\n",
              "      <td>From: lerxst@wam.umd.edu (where's my thing)\\nS...</td>\n",
              "      <td>7</td>\n",
              "      <td>rec.autos</td>\n",
              "    </tr>\n",
              "    <tr>\n",
              "      <th>1</th>\n",
              "      <td>From: guykuo@carson.u.washington.edu (Guy Kuo)...</td>\n",
              "      <td>4</td>\n",
              "      <td>comp.sys.mac.hardware</td>\n",
              "    </tr>\n",
              "    <tr>\n",
              "      <th>10</th>\n",
              "      <td>From: irwin@cmptrc.lonestar.org (Irwin Arnstei...</td>\n",
              "      <td>8</td>\n",
              "      <td>rec.motorcycles</td>\n",
              "    </tr>\n",
              "    <tr>\n",
              "      <th>100</th>\n",
              "      <td>From: tchen@magnus.acs.ohio-state.edu (Tsung-K...</td>\n",
              "      <td>6</td>\n",
              "      <td>misc.forsale</td>\n",
              "    </tr>\n",
              "    <tr>\n",
              "      <th>1000</th>\n",
              "      <td>From: dabl2@nlm.nih.gov (Don A.B. Lindbergh)\\n...</td>\n",
              "      <td>2</td>\n",
              "      <td>comp.os.ms-windows.misc</td>\n",
              "    </tr>\n",
              "  </tbody>\n",
              "</table>\n",
              "</div>"
            ],
            "text/plain": [
              "                                                content  target  \\\n",
              "0     From: lerxst@wam.umd.edu (where's my thing)\\nS...       7   \n",
              "1     From: guykuo@carson.u.washington.edu (Guy Kuo)...       4   \n",
              "10    From: irwin@cmptrc.lonestar.org (Irwin Arnstei...       8   \n",
              "100   From: tchen@magnus.acs.ohio-state.edu (Tsung-K...       6   \n",
              "1000  From: dabl2@nlm.nih.gov (Don A.B. Lindbergh)\\n...       2   \n",
              "\n",
              "                 target_names  \n",
              "0                   rec.autos  \n",
              "1       comp.sys.mac.hardware  \n",
              "10            rec.motorcycles  \n",
              "100              misc.forsale  \n",
              "1000  comp.os.ms-windows.misc  "
            ]
          },
          "metadata": {
            "tags": []
          },
          "execution_count": 6
        }
      ]
    },
    {
      "metadata": {
        "id": "9al997K6bdna",
        "colab_type": "code",
        "colab": {
          "base_uri": "https://localhost:8080/",
          "height": 119
        },
        "outputId": "de21fc55-38e7-41b6-bb7f-de21c60f3684"
      },
      "cell_type": "code",
      "source": [
        "text = df['content']\n",
        "text.head()"
      ],
      "execution_count": 9,
      "outputs": [
        {
          "output_type": "execute_result",
          "data": {
            "text/plain": [
              "0       From: lerxst@wam.umd.edu (where's my thing)\\nS...\n",
              "1       From: guykuo@carson.u.washington.edu (Guy Kuo)...\n",
              "10      From: irwin@cmptrc.lonestar.org (Irwin Arnstei...\n",
              "100     From: tchen@magnus.acs.ohio-state.edu (Tsung-K...\n",
              "1000    From: dabl2@nlm.nih.gov (Don A.B. Lindbergh)\\n...\n",
              "Name: content, dtype: object"
            ]
          },
          "metadata": {
            "tags": []
          },
          "execution_count": 9
        }
      ]
    },
    {
      "metadata": {
        "id": "YOcnR_23eT95",
        "colab_type": "code",
        "colab": {}
      },
      "cell_type": "code",
      "source": [
        "punc = set(string.punctuation)"
      ],
      "execution_count": 0,
      "outputs": []
    },
    {
      "metadata": {
        "id": "JDKzHSKdbmml",
        "colab_type": "code",
        "colab": {}
      },
      "cell_type": "code",
      "source": [
        "def clean_text(text):\n",
        "  text_tokenize = word_tokenize(text)\n",
        "  text_no_puc = [word for word in text_tokenize if not word.lower() in punc]\n",
        "  text_pos = pos_tag(text_no_puc)\n",
        "  text_noun = [word for word,tag in text_pos if(tag == 'NN' or tag == 'NNP' or tag == 'NNS' or tag == 'NNPS')]\n",
        "  text_noun = \" \".join(text_noun)\n",
        "  return text_noun\n",
        "  "
      ],
      "execution_count": 0,
      "outputs": []
    },
    {
      "metadata": {
        "id": "9KyaiRXrE0Y8",
        "colab_type": "code",
        "colab": {}
      },
      "cell_type": "code",
      "source": [
        "noun_text = text.apply(clean_text)"
      ],
      "execution_count": 0,
      "outputs": []
    },
    {
      "metadata": {
        "id": "J1otDpfIY0Do",
        "colab_type": "code",
        "colab": {
          "base_uri": "https://localhost:8080/",
          "height": 119
        },
        "outputId": "5455b0ab-7747-43fc-ace5-2b664eb300d5"
      },
      "cell_type": "code",
      "source": [
        "noun_text.head()"
      ],
      "execution_count": 66,
      "outputs": [
        {
          "output_type": "execute_result",
          "data": {
            "text/plain": [
              "0       lerxst wam.umd.edu thing Subject WHAT car rac3...\n",
              "1       carson.u.washington.edu Guy Kuo Subject SI Clo...\n",
              "10      cmptrc.lonestar.org Irwin Arnstein Subject Re ...\n",
              "100     Tsung-Kun Chen Subject ** Software lots Nntp-P...\n",
              "1000    Don A.B Lindbergh Subject Diamond SS24X Win Mo...\n",
              "Name: content, dtype: object"
            ]
          },
          "metadata": {
            "tags": []
          },
          "execution_count": 66
        }
      ]
    },
    {
      "metadata": {
        "id": "wN6W7mErStL9",
        "colab_type": "code",
        "colab": {}
      },
      "cell_type": "code",
      "source": [
        "'''\n",
        "filename = '20ns_clean_withstop.pkl' ## crating a file\n",
        "pickle.dump(noun_text,open(filename,'wb'))## writnig the model to the file\n",
        "run only when you want to pickle this file\n",
        "''"
      ],
      "execution_count": 0,
      "outputs": []
    },
    {
      "metadata": {
        "id": "80irBmDATeKD",
        "colab_type": "code",
        "colab": {
          "base_uri": "https://localhost:8080/",
          "height": 34
        },
        "outputId": "a261d3c7-d38a-4d41-d522-bd2ed996b457"
      },
      "cell_type": "code",
      "source": [
        "os.getcwd()"
      ],
      "execution_count": 28,
      "outputs": [
        {
          "output_type": "execute_result",
          "data": {
            "text/plain": [
              "'/content'"
            ]
          },
          "metadata": {
            "tags": []
          },
          "execution_count": 28
        }
      ]
    },
    {
      "metadata": {
        "id": "epQ5LPHGTnVZ",
        "colab_type": "code",
        "colab": {
          "base_uri": "https://localhost:8080/",
          "height": 102
        },
        "outputId": "7a1594a9-f87e-4c89-a19d-1468b0772beb"
      },
      "cell_type": "code",
      "source": [
        "os.listdir()"
      ],
      "execution_count": 91,
      "outputs": [
        {
          "output_type": "execute_result",
          "data": {
            "text/plain": [
              "['sample_data',\n",
              " '.config',\n",
              " '20nsLDAmodel.pkl',\n",
              " 'ran_for_iris.sav',\n",
              " '20ns_clean_withstop.pkl']"
            ]
          },
          "metadata": {
            "tags": []
          },
          "execution_count": 91
        }
      ]
    },
    {
      "metadata": {
        "id": "1TCPb2V6Urkf",
        "colab_type": "code",
        "colab": {}
      },
      "cell_type": "code",
      "source": [
        "##from google.colab import files\n",
        "##files.download('20ns_clean_withstop.pkl')\n",
        "## run only when you want to down it to local drive"
      ],
      "execution_count": 0,
      "outputs": []
    },
    {
      "metadata": {
        "id": "MbQoLdk0bjKl",
        "colab_type": "code",
        "colab": {}
      },
      "cell_type": "code",
      "source": [
        "cnt_vect = CountVectorizer(stop_words='english')\n",
        "text_vect = cnt_vect.fit_transform(noun_text)"
      ],
      "execution_count": 0,
      "outputs": []
    },
    {
      "metadata": {
        "id": "6sgRl3NvndX6",
        "colab_type": "code",
        "colab": {
          "base_uri": "https://localhost:8080/",
          "height": 357
        },
        "outputId": "28af451d-a3a1-4369-d1ba-1a24828e97fa"
      },
      "cell_type": "code",
      "source": [
        "cnt_vect.get_feature_names()[10000:10020]"
      ],
      "execution_count": 78,
      "outputs": [
        {
          "output_type": "execute_result",
          "data": {
            "text/plain": [
              "['annihiliation',\n",
              " 'annimation',\n",
              " 'anniston',\n",
              " 'anniv',\n",
              " 'anniversaries',\n",
              " 'anniversary',\n",
              " 'anniversery',\n",
              " 'anno',\n",
              " 'annointed',\n",
              " 'annoncement',\n",
              " 'annotation',\n",
              " 'annotations',\n",
              " 'annother',\n",
              " 'announce',\n",
              " 'announced',\n",
              " 'announcement',\n",
              " 'announcementof',\n",
              " 'announcements',\n",
              " 'announcer',\n",
              " 'announcers']"
            ]
          },
          "metadata": {
            "tags": []
          },
          "execution_count": 78
        }
      ]
    },
    {
      "metadata": {
        "id": "BHdaMJtznwn3",
        "colab_type": "code",
        "colab": {}
      },
      "cell_type": "code",
      "source": [
        "DTM = pd.DataFrame(text_vect.toarray(),columns=cnt_vect.get_feature_names())"
      ],
      "execution_count": 0,
      "outputs": []
    },
    {
      "metadata": {
        "id": "RUL6h4qfoQGf",
        "colab_type": "code",
        "colab": {
          "base_uri": "https://localhost:8080/",
          "height": 233
        },
        "outputId": "a2603734-c1b5-495b-8060-3fcc72c1c53f"
      },
      "cell_type": "code",
      "source": [
        "DTM.head()"
      ],
      "execution_count": 80,
      "outputs": [
        {
          "output_type": "execute_result",
          "data": {
            "text/html": [
              "<div>\n",
              "<style scoped>\n",
              "    .dataframe tbody tr th:only-of-type {\n",
              "        vertical-align: middle;\n",
              "    }\n",
              "\n",
              "    .dataframe tbody tr th {\n",
              "        vertical-align: top;\n",
              "    }\n",
              "\n",
              "    .dataframe thead th {\n",
              "        text-align: right;\n",
              "    }\n",
              "</style>\n",
              "<table border=\"1\" class=\"dataframe\">\n",
              "  <thead>\n",
              "    <tr style=\"text-align: right;\">\n",
              "      <th></th>\n",
              "      <th>00</th>\n",
              "      <th>000</th>\n",
              "      <th>00000315</th>\n",
              "      <th>00010001b</th>\n",
              "      <th>00014</th>\n",
              "      <th>0005111312na1em</th>\n",
              "      <th>000710</th>\n",
              "      <th>000956</th>\n",
              "      <th>001</th>\n",
              "      <th>00100010b</th>\n",
              "      <th>...</th>\n",
              "      <th>zzzzzzt</th>\n",
              "      <th>ªl</th>\n",
              "      <th>³ation</th>\n",
              "      <th>çait</th>\n",
              "      <th>çon</th>\n",
              "      <th>ère</th>\n",
              "      <th>égligent</th>\n",
              "      <th>élangea</th>\n",
              "      <th>íålittin</th>\n",
              "      <th>ýé</th>\n",
              "    </tr>\n",
              "  </thead>\n",
              "  <tbody>\n",
              "    <tr>\n",
              "      <th>0</th>\n",
              "      <td>0</td>\n",
              "      <td>0</td>\n",
              "      <td>0</td>\n",
              "      <td>0</td>\n",
              "      <td>0</td>\n",
              "      <td>0</td>\n",
              "      <td>0</td>\n",
              "      <td>0</td>\n",
              "      <td>0</td>\n",
              "      <td>0</td>\n",
              "      <td>...</td>\n",
              "      <td>0</td>\n",
              "      <td>0</td>\n",
              "      <td>0</td>\n",
              "      <td>0</td>\n",
              "      <td>0</td>\n",
              "      <td>0</td>\n",
              "      <td>0</td>\n",
              "      <td>0</td>\n",
              "      <td>0</td>\n",
              "      <td>0</td>\n",
              "    </tr>\n",
              "    <tr>\n",
              "      <th>1</th>\n",
              "      <td>0</td>\n",
              "      <td>0</td>\n",
              "      <td>0</td>\n",
              "      <td>0</td>\n",
              "      <td>0</td>\n",
              "      <td>0</td>\n",
              "      <td>0</td>\n",
              "      <td>0</td>\n",
              "      <td>0</td>\n",
              "      <td>0</td>\n",
              "      <td>...</td>\n",
              "      <td>0</td>\n",
              "      <td>0</td>\n",
              "      <td>0</td>\n",
              "      <td>0</td>\n",
              "      <td>0</td>\n",
              "      <td>0</td>\n",
              "      <td>0</td>\n",
              "      <td>0</td>\n",
              "      <td>0</td>\n",
              "      <td>0</td>\n",
              "    </tr>\n",
              "    <tr>\n",
              "      <th>2</th>\n",
              "      <td>0</td>\n",
              "      <td>0</td>\n",
              "      <td>0</td>\n",
              "      <td>0</td>\n",
              "      <td>0</td>\n",
              "      <td>0</td>\n",
              "      <td>0</td>\n",
              "      <td>0</td>\n",
              "      <td>0</td>\n",
              "      <td>0</td>\n",
              "      <td>...</td>\n",
              "      <td>0</td>\n",
              "      <td>0</td>\n",
              "      <td>0</td>\n",
              "      <td>0</td>\n",
              "      <td>0</td>\n",
              "      <td>0</td>\n",
              "      <td>0</td>\n",
              "      <td>0</td>\n",
              "      <td>0</td>\n",
              "      <td>0</td>\n",
              "    </tr>\n",
              "    <tr>\n",
              "      <th>3</th>\n",
              "      <td>0</td>\n",
              "      <td>0</td>\n",
              "      <td>0</td>\n",
              "      <td>0</td>\n",
              "      <td>0</td>\n",
              "      <td>0</td>\n",
              "      <td>0</td>\n",
              "      <td>0</td>\n",
              "      <td>0</td>\n",
              "      <td>0</td>\n",
              "      <td>...</td>\n",
              "      <td>0</td>\n",
              "      <td>0</td>\n",
              "      <td>0</td>\n",
              "      <td>0</td>\n",
              "      <td>0</td>\n",
              "      <td>0</td>\n",
              "      <td>0</td>\n",
              "      <td>0</td>\n",
              "      <td>0</td>\n",
              "      <td>0</td>\n",
              "    </tr>\n",
              "    <tr>\n",
              "      <th>4</th>\n",
              "      <td>0</td>\n",
              "      <td>0</td>\n",
              "      <td>0</td>\n",
              "      <td>0</td>\n",
              "      <td>0</td>\n",
              "      <td>0</td>\n",
              "      <td>0</td>\n",
              "      <td>0</td>\n",
              "      <td>0</td>\n",
              "      <td>0</td>\n",
              "      <td>...</td>\n",
              "      <td>0</td>\n",
              "      <td>0</td>\n",
              "      <td>0</td>\n",
              "      <td>0</td>\n",
              "      <td>0</td>\n",
              "      <td>0</td>\n",
              "      <td>0</td>\n",
              "      <td>0</td>\n",
              "      <td>0</td>\n",
              "      <td>0</td>\n",
              "    </tr>\n",
              "  </tbody>\n",
              "</table>\n",
              "<p>5 rows × 94524 columns</p>\n",
              "</div>"
            ],
            "text/plain": [
              "   00  000  00000315  00010001b  00014  0005111312na1em  000710  000956  001  \\\n",
              "0   0    0         0          0      0                0       0       0    0   \n",
              "1   0    0         0          0      0                0       0       0    0   \n",
              "2   0    0         0          0      0                0       0       0    0   \n",
              "3   0    0         0          0      0                0       0       0    0   \n",
              "4   0    0         0          0      0                0       0       0    0   \n",
              "\n",
              "   00100010b ...  zzzzzzt  ªl  ³ation  çait  çon  ère  égligent  élangea  \\\n",
              "0          0 ...        0   0       0     0    0    0         0        0   \n",
              "1          0 ...        0   0       0     0    0    0         0        0   \n",
              "2          0 ...        0   0       0     0    0    0         0        0   \n",
              "3          0 ...        0   0       0     0    0    0         0        0   \n",
              "4          0 ...        0   0       0     0    0    0         0        0   \n",
              "\n",
              "   íålittin  ýé  \n",
              "0         0   0  \n",
              "1         0   0  \n",
              "2         0   0  \n",
              "3         0   0  \n",
              "4         0   0  \n",
              "\n",
              "[5 rows x 94524 columns]"
            ]
          },
          "metadata": {
            "tags": []
          },
          "execution_count": 80
        }
      ]
    },
    {
      "metadata": {
        "id": "ZGBi7evVoTBx",
        "colab_type": "code",
        "colab": {}
      },
      "cell_type": "code",
      "source": [
        "TDM = DTM.transpose()"
      ],
      "execution_count": 0,
      "outputs": []
    },
    {
      "metadata": {
        "id": "dZ53SEhlolt0",
        "colab_type": "code",
        "colab": {}
      },
      "cell_type": "code",
      "source": [
        "sparse_tex = scipy.sparse.csr_matrix(TDM)\n",
        "corpus = matutils.Sparse2Corpus(sparse_tex)"
      ],
      "execution_count": 0,
      "outputs": []
    },
    {
      "metadata": {
        "id": "mw-12HPWpPeR",
        "colab_type": "code",
        "colab": {}
      },
      "cell_type": "code",
      "source": [
        "id2word = dict((v,k) for k,v in cnt_vect.vocabulary_.items())"
      ],
      "execution_count": 0,
      "outputs": []
    },
    {
      "metadata": {
        "id": "REJmHxDFbjPs",
        "colab_type": "code",
        "colab": {}
      },
      "cell_type": "code",
      "source": [
        "lda_model = models.LdaModel(corpus = corpus,id2word=id2word,num_topics=20,passes=20)\n",
        "\n"
      ],
      "execution_count": 0,
      "outputs": []
    },
    {
      "metadata": {
        "id": "Html7mNYtn-J",
        "colab_type": "code",
        "colab": {
          "base_uri": "https://localhost:8080/",
          "height": 697
        },
        "outputId": "455377aa-c280-4ec8-9ef4-6bb40006f404"
      },
      "cell_type": "code",
      "source": [
        "lda_model.print_topics()"
      ],
      "execution_count": 87,
      "outputs": [
        {
          "output_type": "execute_result",
          "data": {
            "text/plain": [
              "[(0,\n",
              "  '0.036*\"god\" + 0.018*\"jesus\" + 0.013*\"people\" + 0.008*\"christians\" + 0.008*\"church\" + 0.007*\"life\" + 0.007*\"christ\" + 0.007*\"edu\" + 0.007*\"subject\" + 0.006*\"bible\"'),\n",
              " (1,\n",
              "  '0.010*\"chi\" + 0.009*\"bos\" + 0.008*\"det\" + 0.008*\"min\" + 0.008*\"tor\" + 0.007*\"van\" + 0.007*\"que\" + 0.007*\"radar\" + 0.007*\"nyr\" + 0.006*\"sj\"'),\n",
              " (2,\n",
              "  '0.053*\"edu\" + 0.019*\"organization\" + 0.019*\"subject\" + 0.013*\"com\" + 0.011*\"article\" + 0.010*\"lines\" + 0.010*\"cmu\" + 0.010*\"host\" + 0.009*\"andrew\" + 0.009*\"posting\"'),\n",
              " (3,\n",
              "  '0.007*\"cx\" + 0.005*\"_o\" + 0.004*\"w7\" + 0.004*\"mv\" + 0.004*\"hz\" + 0.003*\"c_\" + 0.003*\"uw\" + 0.003*\"ck\" + 0.003*\"t7\" + 0.003*\"dartmouth\"'),\n",
              " (4,\n",
              "  '0.015*\"gun\" + 0.013*\"com\" + 0.012*\"people\" + 0.010*\"government\" + 0.009*\"guns\" + 0.007*\"law\" + 0.007*\"article\" + 0.007*\"state\" + 0.007*\"police\" + 0.007*\"subject\"'),\n",
              " (5,\n",
              "  '0.014*\"chip\" + 0.012*\"com\" + 0.012*\"encryption\" + 0.012*\"key\" + 0.010*\"clipper\" + 0.008*\"keys\" + 0.008*\"subject\" + 0.007*\"government\" + 0.007*\"organization\" + 0.007*\"information\"'),\n",
              " (6,\n",
              "  '0.104*\"max\" + 0.034*\"g9v\" + 0.021*\"b8f\" + 0.019*\"a86\" + 0.015*\"pl\" + 0.010*\"ax\" + 0.009*\"bhj\" + 0.008*\"3t\" + 0.008*\"giz\" + 0.006*\"2di\"'),\n",
              " (7,\n",
              "  '0.030*\"space\" + 0.020*\"nasa\" + 0.014*\"gov\" + 0.006*\"data\" + 0.005*\"center\" + 0.005*\"moon\" + 0.005*\"research\" + 0.005*\"orbit\" + 0.005*\"earth\" + 0.004*\"technology\"'),\n",
              " (8,\n",
              "  '0.012*\"people\" + 0.008*\"article\" + 0.008*\"edu\" + 0.007*\"science\" + 0.007*\"evidence\" + 0.006*\"time\" + 0.006*\"subject\" + 0.006*\"example\" + 0.006*\"book\" + 0.005*\"university\"'),\n",
              " (9,\n",
              "  '0.033*\"edu\" + 0.029*\"com\" + 0.020*\"organization\" + 0.019*\"subject\" + 0.018*\"article\" + 0.010*\"lines\" + 0.008*\"posting\" + 0.008*\"host\" + 0.008*\"nntp\" + 0.008*\"car\"'),\n",
              " (10,\n",
              "  '0.010*\"subject\" + 0.010*\"organization\" + 0.010*\"windows\" + 0.009*\"com\" + 0.007*\"edu\" + 0.007*\"software\" + 0.007*\"lines\" + 0.007*\"drive\" + 0.006*\"file\" + 0.006*\"problem\"'),\n",
              " (11,\n",
              "  '0.013*\"team\" + 0.013*\"edu\" + 0.012*\"game\" + 0.011*\"year\" + 0.010*\"organization\" + 0.010*\"subject\" + 0.008*\"games\" + 0.008*\"ca\" + 0.007*\"players\" + 0.007*\"article\"'),\n",
              " (12,\n",
              "  '0.007*\"disease\" + 0.007*\"health\" + 0.007*\"duke\" + 0.007*\"doctor\" + 0.007*\"patients\" + 0.005*\"organization\" + 0.005*\"subject\" + 0.005*\"aids\" + 0.005*\"cancer\" + 0.005*\"dyer\"'),\n",
              " (13,\n",
              "  '0.061*\"edu\" + 0.026*\"organization\" + 0.026*\"university\" + 0.025*\"subject\" + 0.017*\"lines\" + 0.013*\"article\" + 0.013*\"posting\" + 0.012*\"host\" + 0.012*\"nntp\" + 0.008*\"cwru\"'),\n",
              " (14,\n",
              "  '0.015*\"people\" + 0.014*\"armenians\" + 0.008*\"armenia\" + 0.007*\"turkey\" + 0.007*\"turks\" + 0.006*\"argic\" + 0.006*\"serdar\" + 0.006*\"henry\" + 0.005*\"genocide\" + 0.005*\"time\"'),\n",
              " (15,\n",
              "  '0.009*\"san\" + 0.008*\"la\" + 0.008*\"pts\" + 0.007*\"new\" + 0.007*\"period\" + 0.005*\"los\" + 0.005*\"points\" + 0.005*\"angeles\" + 0.005*\"chicago\" + 0.005*\"pt\"'),\n",
              " (16,\n",
              "  '0.011*\"water\" + 0.006*\"fnal\" + 0.005*\"david\" + 0.005*\"organization\" + 0.005*\"subject\" + 0.005*\"speed\" + 0.005*\"higgins\" + 0.004*\"russell\" + 0.003*\"oz\" + 0.003*\"nubus\"'),\n",
              " (17,\n",
              "  '0.021*\"edu\" + 0.012*\"university\" + 0.010*\"organization\" + 0.009*\"subject\" + 0.007*\"new\" + 0.007*\"sale\" + 0.006*\"berkeley\" + 0.005*\"distribution\" + 0.004*\"harvard\" + 0.004*\"cs\"'),\n",
              " (18,\n",
              "  '0.020*\"__\" + 0.016*\"___\" + 0.016*\"access\" + 0.015*\"file\" + 0.013*\"digex\" + 0.012*\"entry\" + 0.011*\"output\" + 0.010*\"jpeg\" + 0.007*\"program\" + 0.007*\"_____\"'),\n",
              " (19,\n",
              "  '0.013*\"people\" + 0.010*\"mr\" + 0.009*\"israel\" + 0.008*\"president\" + 0.006*\"article\" + 0.006*\"stephanopoulos\" + 0.005*\"jews\" + 0.005*\"subject\" + 0.005*\"time\" + 0.005*\"years\"')]"
            ]
          },
          "metadata": {
            "tags": []
          },
          "execution_count": 87
        }
      ]
    },
    {
      "metadata": {
        "id": "Tbv73Aeky2AV",
        "colab_type": "code",
        "colab": {}
      },
      "cell_type": "code",
      "source": [
        "'''\n",
        "filename = '20nsLDAmodel.pkl' ## crating a file\n",
        "pickle.dump(lda_model,open(filename,'wb'))## writnig the model to the file\n",
        "run only hwen you want to pcikle the lDA model\n",
        "'''"
      ],
      "execution_count": 0,
      "outputs": []
    },
    {
      "metadata": {
        "id": "CF6-zIsIzKKm",
        "colab_type": "code",
        "colab": {}
      },
      "cell_type": "code",
      "source": [
        "'''\n",
        "files.download('20nsLDAmodel.pkl')\n",
        "run only when you want to download the LDA model to yolu local drive\n",
        "'''"
      ],
      "execution_count": 0,
      "outputs": []
    },
    {
      "metadata": {
        "id": "DH1yd5Gz0Mle",
        "colab_type": "code",
        "colab": {}
      },
      "cell_type": "code",
      "source": [
        "#### LDA modeling for 20NS group finished ######"
      ],
      "execution_count": 0,
      "outputs": []
    }
  ]
}