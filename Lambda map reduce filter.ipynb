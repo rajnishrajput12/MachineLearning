{
 "cells": [
  {
   "cell_type": "code",
   "execution_count": null,
   "metadata": {
    "collapsed": true
   },
   "outputs": [],
   "source": [
    "## lambda:- we use this function when we have to perform some operation on a sequence (list,tuple...) or things given to it\n",
    "\n",
    "\n",
    "var = lambda x,y:x+y ## will return sum of two things passed to it\n",
    "## note lambda returns a function"
   ]
  },
  {
   "cell_type": "code",
   "execution_count": 2,
   "metadata": {},
   "outputs": [
    {
     "name": "stdout",
     "output_type": "stream",
     "text": [
      "<function <lambda> at 0x0000026FE4F4AEA0>\n"
     ]
    }
   ],
   "source": [
    "a =[2,3]\n",
    "print(lambda x: x+y) ## note as lambda is anonymous function it will not do anything untill you store it somewhere in variable\n",
    "gg = lambda x,y: x+y"
   ]
  },
  {
   "cell_type": "code",
   "execution_count": 7,
   "metadata": {},
   "outputs": [
    {
     "name": "stdout",
     "output_type": "stream",
     "text": [
      "5\n",
      "7\n",
      "[1, 2, 2, 3]\n"
     ]
    }
   ],
   "source": [
    "print(gg(2,3))\n",
    "print(gg(2,5))\n",
    "##print(gg(2,3,4)) ## will give error becasuse it only accepts two as defined\n",
    "print(gg([1,2],[2,3]))"
   ]
  },
  {
   "cell_type": "code",
   "execution_count": null,
   "metadata": {
    "collapsed": true
   },
   "outputs": [],
   "source": [
    "## map with lambda\n",
    "## map is used to apply a function ro a sequencemsu\n",
    "syntax = map(fn,arg)"
   ]
  },
  {
   "cell_type": "code",
   "execution_count": 15,
   "metadata": {},
   "outputs": [
    {
     "name": "stdout",
     "output_type": "stream",
     "text": [
      "[4, 9, 16]\n"
     ]
    }
   ],
   "source": [
    "##lets create a funcion which weill give you suare of its element\n",
    "def squar(x):\n",
    "    return x*x\n",
    "## now we will give a list to this function \n",
    "a = [2,3,4]\n",
    "b=[10,10,10]\n",
    "print(list(map(squar,a))) ## map will iterate and apply that fucntion to each elemnt of a\n",
    "## we need to convert the result into list or tuple .... becasue in python 3 and above it is needed to concver the map result"
   ]
  },
  {
   "cell_type": "code",
   "execution_count": 14,
   "metadata": {},
   "outputs": [
    {
     "name": "stdout",
     "output_type": "stream",
     "text": [
      "[4, 9, 16]\n"
     ]
    }
   ],
   "source": [
    "## now we will use lambda instead of creating a funtion\n",
    "print(list(map(lambda x : x*x,a)))\n",
    "## see how short and beutiful it is"
   ]
  },
  {
   "cell_type": "code",
   "execution_count": 16,
   "metadata": {},
   "outputs": [
    {
     "name": "stdout",
     "output_type": "stream",
     "text": [
      "[12, 13, 14]\n"
     ]
    }
   ],
   "source": [
    "## lets add two array element with each other\n",
    "print(list(map(lambda x,y:x+y,a,b)))"
   ]
  },
  {
   "cell_type": "code",
   "execution_count": 21,
   "metadata": {},
   "outputs": [
    {
     "name": "stdout",
     "output_type": "stream",
     "text": [
      "[2, None, 4]\n"
     ]
    }
   ],
   "source": [
    "print(list(map(lambda x:x if x%2==0 else None,a))) ## note we can't do any 2 line argument or filte in the list\n",
    "## so we use FILTER "
   ]
  },
  {
   "cell_type": "code",
   "execution_count": 22,
   "metadata": {},
   "outputs": [
    {
     "name": "stdout",
     "output_type": "stream",
     "text": [
      "[2, 4]\n"
     ]
    }
   ],
   "source": [
    "print(list(filter(lambda x: x%2==0,a)))"
   ]
  },
  {
   "cell_type": "code",
   "execution_count": 23,
   "metadata": {},
   "outputs": [
    {
     "name": "stdout",
     "output_type": "stream",
     "text": [
      "[4, 6, 8]\n"
     ]
    }
   ],
   "source": [
    "print(list(map(lambda x: x+x,a)))"
   ]
  }
 ],
 "metadata": {
  "kernelspec": {
   "display_name": "Python 3",
   "language": "python",
   "name": "python3"
  },
  "language_info": {
   "codemirror_mode": {
    "name": "ipython",
    "version": 3
   },
   "file_extension": ".py",
   "mimetype": "text/x-python",
   "name": "python",
   "nbconvert_exporter": "python",
   "pygments_lexer": "ipython3",
   "version": "3.6.3"
  }
 },
 "nbformat": 4,
 "nbformat_minor": 2
}
